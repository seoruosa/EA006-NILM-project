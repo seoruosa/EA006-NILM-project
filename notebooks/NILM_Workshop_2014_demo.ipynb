{
 "metadata": {
  "name": "",
  "signature": "sha256:93ccb626902c716a4e8059bd114076383edb41135d13a83f1745cd7844173fd7"
 },
 "nbformat": 3,
 "nbformat_minor": 0,
 "worksheets": [
  {
   "cells": [
    {
     "cell_type": "code",
     "collapsed": false,
     "input": [
      "from __future__ import print_function \n",
      "import seaborn as sns\n",
      "from IPython.core.display import HTML\n",
      "from IPython.display import Image\n",
      "import pandas as pd\n",
      "import calendar\n",
      "\n",
      "from nilmtk.disaggregate.co_1d import CO_1d\n",
      "from nilmtk.cross_validation import train_test_split\n",
      "import nilmtk.preprocessing.electricity.building as prepb\n",
      "import nilmtk.stats.electricity.building as bstats\n",
      "import nilmtk.stats.electricity.single as sstats\n",
      "from nilmtk.dataset import DataSet\n",
      "from nilmtk.dataset import REDD\n",
      "from nilmtk.plots import plot_series\n",
      "from nilmtk.sensors.electricity import Measurement\n",
      "from nilmtk.metrics import (mean_normalized_error_power, \n",
      "                            fraction_energy_assigned_correctly, \n",
      "                            f_score,\n",
      "                            rms_error_power)\n",
      "\n",
      "import warnings\n",
      "warnings.filterwarnings(\"ignore\")\n",
      "\n",
      "sns.set(font=\"serif\")\n",
      "\n",
      "def pretty_print_dict(dictionary):\n",
      "    html = '<ul>'\n",
      "    for key, value in dictionary.iteritems():\n",
      "        html += '<li><strong>{}</strong>: '.format(key)\n",
      "        if isinstance(value, list):\n",
      "            html += '<ul>'\n",
      "            for item in value:\n",
      "                html += '<li>{}</li>'.format(item)\n",
      "            html += '</ul></li>'\n",
      "        else:\n",
      "            html += '{}</li>'.format(value)\n",
      "    html += '</ul>'\n",
      "    display(HTML(html))"
     ],
     "language": "python",
     "metadata": {},
     "outputs": [],
     "prompt_number": 1
    },
    {
     "cell_type": "heading",
     "level": 1,
     "metadata": {},
     "source": [
      "Demo of NILMTK v0.1 for NILM Workshop 2014 "
     ]
    },
    {
     "cell_type": "heading",
     "level": 2,
     "metadata": {},
     "source": [
      "Loading Data"
     ]
    },
    {
     "cell_type": "heading",
     "level": 3,
     "metadata": {},
     "source": [
      "Load raw REDD .dat data"
     ]
    },
    {
     "cell_type": "code",
     "collapsed": false,
     "input": [
      "from nilmtk.dataset import REDD\n",
      "\n",
      "redd = REDD()\n",
      "redd.load('/data/REDD/low_freq/')\n",
      "\n",
      "# Note increase in system memory usage.\n",
      "# NILMTK v0.2 does not eagerly load data like v0.1 does."
     ],
     "language": "python",
     "metadata": {},
     "outputs": [
      {
       "output_type": "stream",
       "stream": "stdout",
       "text": [
        "Loading building 1:\n",
        "  chans: "
       ]
      },
      {
       "output_type": "stream",
       "stream": "stdout",
       "text": [
        " 1"
       ]
      },
      {
       "output_type": "stream",
       "stream": "stdout",
       "text": [
        " 2"
       ]
      },
      {
       "output_type": "stream",
       "stream": "stdout",
       "text": [
        " 3"
       ]
      },
      {
       "output_type": "stream",
       "stream": "stdout",
       "text": [
        " 4"
       ]
      },
      {
       "output_type": "stream",
       "stream": "stdout",
       "text": [
        " 5"
       ]
      },
      {
       "output_type": "stream",
       "stream": "stdout",
       "text": [
        " 6"
       ]
      },
      {
       "output_type": "stream",
       "stream": "stdout",
       "text": [
        " 7"
       ]
      },
      {
       "output_type": "stream",
       "stream": "stdout",
       "text": [
        " 8"
       ]
      },
      {
       "output_type": "stream",
       "stream": "stdout",
       "text": [
        " 9"
       ]
      },
      {
       "output_type": "stream",
       "stream": "stdout",
       "text": [
        " 10"
       ]
      },
      {
       "output_type": "stream",
       "stream": "stdout",
       "text": [
        " 11"
       ]
      },
      {
       "output_type": "stream",
       "stream": "stdout",
       "text": [
        " 12"
       ]
      },
      {
       "output_type": "stream",
       "stream": "stdout",
       "text": [
        " 13"
       ]
      },
      {
       "output_type": "stream",
       "stream": "stdout",
       "text": [
        " 14"
       ]
      },
      {
       "output_type": "stream",
       "stream": "stdout",
       "text": [
        " 15"
       ]
      },
      {
       "output_type": "stream",
       "stream": "stdout",
       "text": [
        " 16"
       ]
      },
      {
       "output_type": "stream",
       "stream": "stdout",
       "text": [
        " 17"
       ]
      },
      {
       "output_type": "stream",
       "stream": "stdout",
       "text": [
        " 18"
       ]
      },
      {
       "output_type": "stream",
       "stream": "stdout",
       "text": [
        " 20"
       ]
      },
      {
       "output_type": "stream",
       "stream": "stdout",
       "text": [
        "\n",
        "Loading building 2:\n",
        "  chans: "
       ]
      },
      {
       "output_type": "stream",
       "stream": "stdout",
       "text": [
        " 1"
       ]
      },
      {
       "output_type": "stream",
       "stream": "stdout",
       "text": [
        " 2"
       ]
      },
      {
       "output_type": "stream",
       "stream": "stdout",
       "text": [
        " 3"
       ]
      },
      {
       "output_type": "stream",
       "stream": "stdout",
       "text": [
        " 4"
       ]
      },
      {
       "output_type": "stream",
       "stream": "stdout",
       "text": [
        " 5"
       ]
      },
      {
       "output_type": "stream",
       "stream": "stdout",
       "text": [
        " 6"
       ]
      },
      {
       "output_type": "stream",
       "stream": "stdout",
       "text": [
        " 7"
       ]
      },
      {
       "output_type": "stream",
       "stream": "stdout",
       "text": [
        " 8"
       ]
      },
      {
       "output_type": "stream",
       "stream": "stdout",
       "text": [
        " 9"
       ]
      },
      {
       "output_type": "stream",
       "stream": "stdout",
       "text": [
        " 10"
       ]
      },
      {
       "output_type": "stream",
       "stream": "stdout",
       "text": [
        " 11"
       ]
      },
      {
       "output_type": "stream",
       "stream": "stdout",
       "text": [
        "\n",
        "Loading building 3:\n",
        "  chans: "
       ]
      },
      {
       "output_type": "stream",
       "stream": "stdout",
       "text": [
        " 1"
       ]
      },
      {
       "output_type": "stream",
       "stream": "stdout",
       "text": [
        " 2"
       ]
      },
      {
       "output_type": "stream",
       "stream": "stdout",
       "text": [
        " 3"
       ]
      },
      {
       "output_type": "stream",
       "stream": "stdout",
       "text": [
        " 4"
       ]
      },
      {
       "output_type": "stream",
       "stream": "stdout",
       "text": [
        " 5"
       ]
      },
      {
       "output_type": "stream",
       "stream": "stdout",
       "text": [
        " 6"
       ]
      },
      {
       "output_type": "stream",
       "stream": "stdout",
       "text": [
        " 7"
       ]
      },
      {
       "output_type": "stream",
       "stream": "stdout",
       "text": [
        " 8"
       ]
      },
      {
       "output_type": "stream",
       "stream": "stdout",
       "text": [
        " 9"
       ]
      },
      {
       "output_type": "stream",
       "stream": "stdout",
       "text": [
        " 10"
       ]
      },
      {
       "output_type": "stream",
       "stream": "stdout",
       "text": [
        " 11"
       ]
      },
      {
       "output_type": "stream",
       "stream": "stdout",
       "text": [
        " 12"
       ]
      },
      {
       "output_type": "stream",
       "stream": "stdout",
       "text": [
        " 13"
       ]
      },
      {
       "output_type": "stream",
       "stream": "stdout",
       "text": [
        " 14"
       ]
      },
      {
       "output_type": "stream",
       "stream": "stdout",
       "text": [
        " 15"
       ]
      },
      {
       "output_type": "stream",
       "stream": "stdout",
       "text": [
        " 16"
       ]
      },
      {
       "output_type": "stream",
       "stream": "stdout",
       "text": [
        " 17"
       ]
      },
      {
       "output_type": "stream",
       "stream": "stdout",
       "text": [
        " 18"
       ]
      },
      {
       "output_type": "stream",
       "stream": "stdout",
       "text": [
        " 19"
       ]
      },
      {
       "output_type": "stream",
       "stream": "stdout",
       "text": [
        " 20"
       ]
      },
      {
       "output_type": "stream",
       "stream": "stdout",
       "text": [
        " 21"
       ]
      },
      {
       "output_type": "stream",
       "stream": "stdout",
       "text": [
        " 22"
       ]
      },
      {
       "output_type": "stream",
       "stream": "stdout",
       "text": [
        "\n",
        "Loading building 4:\n",
        "  chans: "
       ]
      },
      {
       "output_type": "stream",
       "stream": "stdout",
       "text": [
        " 1"
       ]
      },
      {
       "output_type": "stream",
       "stream": "stdout",
       "text": [
        " 2"
       ]
      },
      {
       "output_type": "stream",
       "stream": "stdout",
       "text": [
        " 3"
       ]
      },
      {
       "output_type": "stream",
       "stream": "stdout",
       "text": [
        " 4"
       ]
      },
      {
       "output_type": "stream",
       "stream": "stdout",
       "text": [
        " 5"
       ]
      },
      {
       "output_type": "stream",
       "stream": "stdout",
       "text": [
        " 6"
       ]
      },
      {
       "output_type": "stream",
       "stream": "stdout",
       "text": [
        " 7"
       ]
      },
      {
       "output_type": "stream",
       "stream": "stdout",
       "text": [
        " 8"
       ]
      },
      {
       "output_type": "stream",
       "stream": "stdout",
       "text": [
        " 9"
       ]
      },
      {
       "output_type": "stream",
       "stream": "stdout",
       "text": [
        " 10"
       ]
      },
      {
       "output_type": "stream",
       "stream": "stdout",
       "text": [
        " 11"
       ]
      },
      {
       "output_type": "stream",
       "stream": "stdout",
       "text": [
        " 12"
       ]
      },
      {
       "output_type": "stream",
       "stream": "stdout",
       "text": [
        " 13"
       ]
      },
      {
       "output_type": "stream",
       "stream": "stdout",
       "text": [
        " 14"
       ]
      },
      {
       "output_type": "stream",
       "stream": "stdout",
       "text": [
        " 15"
       ]
      },
      {
       "output_type": "stream",
       "stream": "stdout",
       "text": [
        " 16"
       ]
      },
      {
       "output_type": "stream",
       "stream": "stdout",
       "text": [
        " 17"
       ]
      },
      {
       "output_type": "stream",
       "stream": "stdout",
       "text": [
        " 18"
       ]
      },
      {
       "output_type": "stream",
       "stream": "stdout",
       "text": [
        " 19"
       ]
      },
      {
       "output_type": "stream",
       "stream": "stdout",
       "text": [
        " 20"
       ]
      },
      {
       "output_type": "stream",
       "stream": "stdout",
       "text": [
        "\n",
        "Loading building 5:\n",
        "  chans: "
       ]
      },
      {
       "output_type": "stream",
       "stream": "stdout",
       "text": [
        " 1"
       ]
      },
      {
       "output_type": "stream",
       "stream": "stdout",
       "text": [
        " 2"
       ]
      },
      {
       "output_type": "stream",
       "stream": "stdout",
       "text": [
        " 3"
       ]
      },
      {
       "output_type": "stream",
       "stream": "stdout",
       "text": [
        " 4"
       ]
      },
      {
       "output_type": "stream",
       "stream": "stdout",
       "text": [
        " 5"
       ]
      },
      {
       "output_type": "stream",
       "stream": "stdout",
       "text": [
        " 6"
       ]
      },
      {
       "output_type": "stream",
       "stream": "stdout",
       "text": [
        " 7"
       ]
      },
      {
       "output_type": "stream",
       "stream": "stdout",
       "text": [
        " 8"
       ]
      },
      {
       "output_type": "stream",
       "stream": "stdout",
       "text": [
        " 9"
       ]
      },
      {
       "output_type": "stream",
       "stream": "stdout",
       "text": [
        " 10"
       ]
      },
      {
       "output_type": "stream",
       "stream": "stdout",
       "text": [
        " 11"
       ]
      },
      {
       "output_type": "stream",
       "stream": "stdout",
       "text": [
        " 12"
       ]
      },
      {
       "output_type": "stream",
       "stream": "stdout",
       "text": [
        " 13"
       ]
      },
      {
       "output_type": "stream",
       "stream": "stdout",
       "text": [
        " 14"
       ]
      },
      {
       "output_type": "stream",
       "stream": "stdout",
       "text": [
        " 15"
       ]
      },
      {
       "output_type": "stream",
       "stream": "stdout",
       "text": [
        " 16"
       ]
      },
      {
       "output_type": "stream",
       "stream": "stdout",
       "text": [
        " 17"
       ]
      },
      {
       "output_type": "stream",
       "stream": "stdout",
       "text": [
        " 18"
       ]
      },
      {
       "output_type": "stream",
       "stream": "stdout",
       "text": [
        " 19"
       ]
      },
      {
       "output_type": "stream",
       "stream": "stdout",
       "text": [
        " 20"
       ]
      },
      {
       "output_type": "stream",
       "stream": "stdout",
       "text": [
        " 21"
       ]
      },
      {
       "output_type": "stream",
       "stream": "stdout",
       "text": [
        " 22"
       ]
      },
      {
       "output_type": "stream",
       "stream": "stdout",
       "text": [
        " 23"
       ]
      },
      {
       "output_type": "stream",
       "stream": "stdout",
       "text": [
        " 24"
       ]
      },
      {
       "output_type": "stream",
       "stream": "stdout",
       "text": [
        " 25"
       ]
      },
      {
       "output_type": "stream",
       "stream": "stdout",
       "text": [
        " 26"
       ]
      },
      {
       "output_type": "stream",
       "stream": "stdout",
       "text": [
        "\n",
        "Loading building 6:\n",
        "  chans: "
       ]
      },
      {
       "output_type": "stream",
       "stream": "stdout",
       "text": [
        " 1"
       ]
      },
      {
       "output_type": "stream",
       "stream": "stdout",
       "text": [
        " 2"
       ]
      },
      {
       "output_type": "stream",
       "stream": "stdout",
       "text": [
        " 3"
       ]
      },
      {
       "output_type": "stream",
       "stream": "stdout",
       "text": [
        " 4"
       ]
      },
      {
       "output_type": "stream",
       "stream": "stdout",
       "text": [
        " 5"
       ]
      },
      {
       "output_type": "stream",
       "stream": "stdout",
       "text": [
        " 6"
       ]
      },
      {
       "output_type": "stream",
       "stream": "stdout",
       "text": [
        " 7"
       ]
      },
      {
       "output_type": "stream",
       "stream": "stdout",
       "text": [
        " 8"
       ]
      },
      {
       "output_type": "stream",
       "stream": "stdout",
       "text": [
        " 9"
       ]
      },
      {
       "output_type": "stream",
       "stream": "stdout",
       "text": [
        " 10"
       ]
      },
      {
       "output_type": "stream",
       "stream": "stdout",
       "text": [
        " 11"
       ]
      },
      {
       "output_type": "stream",
       "stream": "stdout",
       "text": [
        " 12"
       ]
      },
      {
       "output_type": "stream",
       "stream": "stdout",
       "text": [
        " 13"
       ]
      },
      {
       "output_type": "stream",
       "stream": "stdout",
       "text": [
        " 14"
       ]
      },
      {
       "output_type": "stream",
       "stream": "stdout",
       "text": [
        " 15"
       ]
      },
      {
       "output_type": "stream",
       "stream": "stdout",
       "text": [
        " 16"
       ]
      },
      {
       "output_type": "stream",
       "stream": "stdout",
       "text": [
        " 17"
       ]
      },
      {
       "output_type": "stream",
       "stream": "stdout",
       "text": [
        "\n"
       ]
      }
     ],
     "prompt_number": 2
    },
    {
     "cell_type": "heading",
     "level": 4,
     "metadata": {},
     "source": [
      "Examine dataset metadata"
     ]
    },
    {
     "cell_type": "code",
     "collapsed": false,
     "input": [
      "pretty_print_dict(redd.metadata)"
     ],
     "language": "python",
     "metadata": {},
     "outputs": [
      {
       "html": [
        "<ul><li><strong>name</strong>: REDD</li><li><strong>full_name</strong>: Reference Energy Disaggregation Data Set</li><li><strong>citations</strong>: <ul><li>J. Zico Kolter and Matthew J. Johnson. REDD: A public data set for energy disaggregation research. In proceedings of the SustKDD workshop on Data Mining Applications in Sustainability, 2011.</li></ul></li><li><strong>urls</strong>: <ul><li>http://redd.csail.mit.edu</li></ul></li><li><strong>timezone</strong>: US/Eastern</li><li><strong>geographic_coordinates</strong>: (42.360091, -71.09416)</li></ul>"
       ],
       "metadata": {},
       "output_type": "display_data",
       "text": [
        "<IPython.core.display.HTML at 0x7f21b32c7590>"
       ]
      }
     ],
     "prompt_number": 3
    },
    {
     "cell_type": "heading",
     "level": 4,
     "metadata": {},
     "source": [
      "Appliance names are converted to use the NILMTK controlled vocabulary"
     ]
    },
    {
     "cell_type": "heading",
     "level": 5,
     "metadata": {},
     "source": [
      "Raw REDD appliance names:"
     ]
    },
    {
     "cell_type": "code",
     "collapsed": false,
     "input": [
      "!cat '/data/REDD/low_freq/house_1/labels.dat'"
     ],
     "language": "python",
     "metadata": {},
     "outputs": [
      {
       "output_type": "stream",
       "stream": "stdout",
       "text": [
        "1 mains\r\n",
        "2 mains\r\n",
        "3 oven\r\n",
        "4 oven\r\n",
        "5 refrigerator\r\n",
        "6 dishwaser\r\n",
        "7 kitchen_outlets\r\n",
        "8 kitchen_outlets\r\n",
        "9 lighting\r\n",
        "10 washer_dryer\r\n",
        "11 microwave\r\n",
        "12 bathroom_gfi\r\n",
        "13 electric_heat\r\n",
        "14 stove\r\n",
        "15 kitchen_outlets\r\n",
        "16 kitchen_outlets\r\n",
        "17 lighting\r\n",
        "18 lighting\r\n",
        "19 washer_dryer\r\n",
        "20 washer_dryer\r\n"
       ]
      }
     ],
     "prompt_number": 4
    },
    {
     "cell_type": "heading",
     "level": 5,
     "metadata": {},
     "source": [
      "NILMTK appliance names"
     ]
    },
    {
     "cell_type": "code",
     "collapsed": false,
     "input": [
      "electric = redd.buildings[1].utility.electric\n",
      "electric.appliances.keys()\n",
      "\n",
      "# Note that the washer dryer has been converted to a single DualSupply appliance"
     ],
     "language": "python",
     "metadata": {},
     "outputs": [
      {
       "metadata": {},
       "output_type": "pyout",
       "prompt_number": 5,
       "text": [
        "[ApplianceName(name='fridge', instance=1),\n",
        " ApplianceName(name='washer dryer', instance=1),\n",
        " ApplianceName(name='kitchen outlets', instance=2),\n",
        " ApplianceName(name='lighting', instance=3),\n",
        " ApplianceName(name='kitchen outlets', instance=1),\n",
        " ApplianceName(name='space heater', instance=1),\n",
        " ApplianceName(name='kitchen outlets', instance=4),\n",
        " ApplianceName(name='kitchen outlets', instance=3),\n",
        " ApplianceName(name='lighting', instance=1),\n",
        " ApplianceName(name='dishwasher', instance=1),\n",
        " ApplianceName(name='microwave', instance=1),\n",
        " ApplianceName(name='bathroom misc', instance=1),\n",
        " ApplianceName(name='lighting', instance=2),\n",
        " ApplianceName(name='oven', instance=1),\n",
        " ApplianceName(name='hob', instance=1)]"
       ]
      }
     ],
     "prompt_number": 5
    },
    {
     "cell_type": "heading",
     "level": 4,
     "metadata": {},
     "source": [
      "Get data for a particular appliance"
     ]
    },
    {
     "cell_type": "code",
     "collapsed": false,
     "input": [
      "fridge = electric.appliances['fridge', 1]\n",
      "\n",
      "# fridge is a 2-column matrix (a Python Pandas DataFrame object)\n",
      "\n",
      "fridge.head()"
     ],
     "language": "python",
     "metadata": {},
     "outputs": [
      {
       "html": [
        "<div style=\"max-height:1000px;max-width:1500px;overflow:auto;\">\n",
        "<table border=\"1\" class=\"dataframe\">\n",
        "  <thead>\n",
        "    <tr style=\"text-align: right;\">\n",
        "      <th></th>\n",
        "      <th>(power, active)</th>\n",
        "    </tr>\n",
        "  </thead>\n",
        "  <tbody>\n",
        "    <tr>\n",
        "      <th>2011-04-18 09:22:13-04:00</th>\n",
        "      <td> 6</td>\n",
        "    </tr>\n",
        "    <tr>\n",
        "      <th>2011-04-18 09:22:16-04:00</th>\n",
        "      <td> 6</td>\n",
        "    </tr>\n",
        "    <tr>\n",
        "      <th>2011-04-18 09:22:20-04:00</th>\n",
        "      <td> 6</td>\n",
        "    </tr>\n",
        "    <tr>\n",
        "      <th>2011-04-18 09:22:23-04:00</th>\n",
        "      <td> 6</td>\n",
        "    </tr>\n",
        "    <tr>\n",
        "      <th>2011-04-18 09:22:26-04:00</th>\n",
        "      <td> 6</td>\n",
        "    </tr>\n",
        "  </tbody>\n",
        "</table>\n",
        "<p>5 rows \u00d7 1 columns</p>\n",
        "</div>"
       ],
       "metadata": {},
       "output_type": "pyout",
       "prompt_number": 6,
       "text": [
        "                           (power, active)\n",
        "2011-04-18 09:22:13-04:00                6\n",
        "2011-04-18 09:22:16-04:00                6\n",
        "2011-04-18 09:22:20-04:00                6\n",
        "2011-04-18 09:22:23-04:00                6\n",
        "2011-04-18 09:22:26-04:00                6\n",
        "\n",
        "[5 rows x 1 columns]"
       ]
      }
     ],
     "prompt_number": 6
    },
    {
     "cell_type": "code",
     "collapsed": false,
     "input": [
      "fridge[\"2011-04-18\":\"2011-04-19\"].plot()"
     ],
     "language": "python",
     "metadata": {},
     "outputs": [
      {
       "metadata": {},
       "output_type": "pyout",
       "prompt_number": 7,
       "text": [
        "<matplotlib.axes.AxesSubplot at 0x7f2194c37690>"
       ]
      },
      {
       "metadata": {},
       "output_type": "display_data",
       "png": "[encoded data removed]",
       "text": [
        "<matplotlib.figure.Figure at 0x7f2194c372d0>"
       ]
      }
     ],
     "prompt_number": 7
    },
    {
     "cell_type": "markdown",
     "metadata": {},
     "source": [
      "### HDF5 file format\n",
      "\n",
      "#### Export to HDF5\n",
      "\n",
      "```python\n",
      "DATA_DIRECTORY = '/path/to/hdf5/'\n",
      "redd.export(DATA_DIRECTORY)\n",
      "```\n",
      "\n",
      "#### Load from HDF5\n",
      "\n",
      "Note that we use the generic `DataSet` class to load HDF5...\n",
      "\n",
      "```python\n",
      "from nilmtk.dataset import DataSet\n",
      "dataset = DataSet()\n",
      "dataset.load_hdf5(DATA_DIRECTORY)\n",
      "```"
     ]
    },
    {
     "cell_type": "heading",
     "level": 2,
     "metadata": {},
     "source": [
      "Dataset Diagnostics and Statistics"
     ]
    },
    {
     "cell_type": "markdown",
     "metadata": {},
     "source": [
      "![](static/img/IAM.jpg)\n",
      "\n",
      "All datasets have imperfections. We need to understand the imperfections of each dataset before proceeding with data analysis.  We'll continue working with REDD but please note that we're not picking on REDD! All datasets have issues!"
     ]
    },
    {
     "cell_type": "markdown",
     "metadata": {},
     "source": [
      "```python\n",
      "import nilmtk.stats.electricity.building as bstats\n",
      "```"
     ]
    },
    {
     "cell_type": "heading",
     "level": 3,
     "metadata": {},
     "source": [
      "Gaps"
     ]
    },
    {
     "cell_type": "markdown",
     "metadata": {},
     "source": [
      "There are two reasons why data might not be recorded:\n",
      "\n",
      "1. The appliance and meter were unplugged from the mains\n",
      "   (hence the appliance is off when the appliance monitor is off).\n",
      "2. The appliance monitor is broken (hence we have no reliable\n",
      "   information about the state of the appliance).\n",
      "\n",
      "In the plots below, a dark rectangle shows the presence of a gap. A gap is defined as any pair of consecutive samples further apart than 4 times the  sample period for that meter.\n",
      "\n",
      "#### Plot gaps using rectangles"
     ]
    },
    {
     "cell_type": "code",
     "collapsed": false,
     "input": [
      "bstats.plot_missing_samples_using_rectangles(electric)"
     ],
     "language": "python",
     "metadata": {},
     "outputs": [
      {
       "metadata": {},
       "output_type": "display_data",
       "png": "[encoded data removed]",
       "text": [
        "<matplotlib.figure.Figure at 0x7f2194cee3d0>"
       ]
      }
     ],
     "prompt_number": 8
    },
    {
     "cell_type": "markdown",
     "metadata": {},
     "source": [
      "The advantages of `plot_missing_samples_using_rectangles` are:\n",
      "\n",
      "* clearly shows large gaps\n",
      "* shows all data so can be zoomed in to your heart's content\n",
      "\n",
      "The disadvantages are:\n",
      "\n",
      "* The choice of `max_sample_period` is somewhat subjective\n",
      "* Because it plots lots of rectangles, it can be slow to plot.\n",
      "\n",
      "To overcome both of these disadvantages, we have a sister function:\n",
      "\n",
      "#### Plot gaps using bitmap"
     ]
    },
    {
     "cell_type": "code",
     "collapsed": false,
     "input": [
      "bstats.plot_missing_samples_using_bitmap(electric)"
     ],
     "language": "python",
     "metadata": {},
     "outputs": [
      {
       "output_type": "stream",
       "stream": "stdout",
       "text": [
        "Seconds per pixel = 3917.6\n"
       ]
      },
      {
       "metadata": {},
       "output_type": "pyout",
       "prompt_number": 9,
       "text": [
        "<matplotlib.axes.AxesSubplot at 0x7f2191f84550>"
       ]
      },
      {
       "metadata": {},
       "output_type": "display_data",
       "png": "[encoded data removed]",
       "text": [
        "<matplotlib.figure.Figure at 0x7f2194ca5410>"
       ]
      }
     ],
     "prompt_number": 9
    },
    {
     "cell_type": "heading",
     "level": 3,
     "metadata": {},
     "source": [
      "Proportion of energy submetered for house 1"
     ]
    },
    {
     "cell_type": "code",
     "collapsed": false,
     "input": [
      "bstats.proportion_of_energy_submetered(electric)"
     ],
     "language": "python",
     "metadata": {},
     "outputs": [
      {
       "output_type": "stream",
       "stream": "stdout",
       "text": [
        "Calculating proportion of energy submetered...\n",
        "Masking appliances with mains... may take a little while..."
       ]
      },
      {
       "output_type": "stream",
       "stream": "stdout",
       "text": [
        "Mains sample period = 1.0, max_sample_period = 20.0\n",
        "Getting gap starts and ends...\n",
        "Found 27 gap starts and 27 gap ends."
       ]
      },
      {
       "output_type": "stream",
       "stream": "stdout",
       "text": [
        "\n",
        "."
       ]
      },
      {
       "output_type": "stream",
       "stream": "stdout",
       "text": [
        "."
       ]
      },
      {
       "output_type": "stream",
       "stream": "stdout",
       "text": [
        "."
       ]
      },
      {
       "output_type": "stream",
       "stream": "stdout",
       "text": [
        "."
       ]
      },
      {
       "output_type": "stream",
       "stream": "stdout",
       "text": [
        "."
       ]
      },
      {
       "output_type": "stream",
       "stream": "stdout",
       "text": [
        "."
       ]
      },
      {
       "output_type": "stream",
       "stream": "stdout",
       "text": [
        "."
       ]
      },
      {
       "output_type": "stream",
       "stream": "stdout",
       "text": [
        "."
       ]
      },
      {
       "output_type": "stream",
       "stream": "stdout",
       "text": [
        "."
       ]
      },
      {
       "output_type": "stream",
       "stream": "stdout",
       "text": [
        "."
       ]
      },
      {
       "output_type": "stream",
       "stream": "stdout",
       "text": [
        "."
       ]
      },
      {
       "output_type": "stream",
       "stream": "stdout",
       "text": [
        "."
       ]
      },
      {
       "output_type": "stream",
       "stream": "stdout",
       "text": [
        "."
       ]
      },
      {
       "output_type": "stream",
       "stream": "stdout",
       "text": [
        "."
       ]
      },
      {
       "output_type": "stream",
       "stream": "stdout",
       "text": [
        "."
       ]
      },
      {
       "output_type": "stream",
       "stream": "stdout",
       "text": [
        "done\n",
        "Inserting zeros... may take a little while..."
       ]
      },
      {
       "output_type": "stream",
       "stream": "stdout",
       "text": [
        "done inserting zeros\n"
       ]
      },
      {
       "metadata": {},
       "output_type": "pyout",
       "prompt_number": 10,
       "text": [
        "0.76004797563554483"
       ]
      }
     ],
     "prompt_number": 10
    },
    {
     "cell_type": "heading",
     "level": 3,
     "metadata": {},
     "source": [
      "Proportion of energy per appliance"
     ]
    },
    {
     "cell_type": "code",
     "collapsed": false,
     "input": [
      "bstats.proportion_per_appliance(electric)"
     ],
     "language": "python",
     "metadata": {},
     "outputs": [
      {
       "output_type": "stream",
       "stream": "stdout",
       "text": [
        "Masking appliances with mains... may take a little while..."
       ]
      },
      {
       "output_type": "stream",
       "stream": "stdout",
       "text": [
        "Mains sample period = 1.0, max_sample_period = 20.0\n",
        "Getting gap starts and ends...\n",
        "Found 27 gap starts and 27 gap ends."
       ]
      },
      {
       "output_type": "stream",
       "stream": "stdout",
       "text": [
        "\n",
        "."
       ]
      },
      {
       "output_type": "stream",
       "stream": "stdout",
       "text": [
        "."
       ]
      },
      {
       "output_type": "stream",
       "stream": "stdout",
       "text": [
        "."
       ]
      },
      {
       "output_type": "stream",
       "stream": "stdout",
       "text": [
        "."
       ]
      },
      {
       "output_type": "stream",
       "stream": "stdout",
       "text": [
        "."
       ]
      },
      {
       "output_type": "stream",
       "stream": "stdout",
       "text": [
        "."
       ]
      },
      {
       "output_type": "stream",
       "stream": "stdout",
       "text": [
        "."
       ]
      },
      {
       "output_type": "stream",
       "stream": "stdout",
       "text": [
        "."
       ]
      },
      {
       "output_type": "stream",
       "stream": "stdout",
       "text": [
        "."
       ]
      },
      {
       "output_type": "stream",
       "stream": "stdout",
       "text": [
        "."
       ]
      },
      {
       "output_type": "stream",
       "stream": "stdout",
       "text": [
        "."
       ]
      },
      {
       "output_type": "stream",
       "stream": "stdout",
       "text": [
        "."
       ]
      },
      {
       "output_type": "stream",
       "stream": "stdout",
       "text": [
        "."
       ]
      },
      {
       "output_type": "stream",
       "stream": "stdout",
       "text": [
        "."
       ]
      },
      {
       "output_type": "stream",
       "stream": "stdout",
       "text": [
        "."
       ]
      },
      {
       "output_type": "stream",
       "stream": "stdout",
       "text": [
        "done\n",
        "Inserting zeros... may take a little while..."
       ]
      },
      {
       "output_type": "stream",
       "stream": "stdout",
       "text": [
        "done inserting zeros\n"
       ]
      },
      {
       "metadata": {},
       "output_type": "pyout",
       "prompt_number": 11,
       "text": [
        "(fridge, 1)             0.143596\n",
        "(lighting, 1)           0.112564\n",
        "(washer dryer, 1)       0.093916\n",
        "(kitchen outlets, 2)    0.073981\n",
        "(dishwasher, 1)         0.066409\n",
        "(microwave, 1)          0.058262\n",
        "(kitchen outlets, 1)    0.055435\n",
        "(lighting, 2)           0.046542\n",
        "(oven, 1)               0.036079\n",
        "(lighting, 3)           0.034429\n",
        "(bathroom misc, 1)      0.018303\n",
        "(kitchen outlets, 3)    0.014565\n",
        "(kitchen outlets, 4)    0.005331\n",
        "(space heater, 1)       0.000334\n",
        "(hob, 1)                0.000302\n",
        "dtype: float64"
       ]
      }
     ],
     "prompt_number": 11
    },
    {
     "cell_type": "heading",
     "level": 3,
     "metadata": {},
     "source": [
      "Statistics for a single appliance"
     ]
    },
    {
     "cell_type": "markdown",
     "metadata": {},
     "source": [
      "```python\n",
      "import nilmtk.stats.electricity.single as sstats\n",
      "```"
     ]
    },
    {
     "cell_type": "code",
     "collapsed": false,
     "input": [
      "APPLIANCE_TYPE = 'oven'\n",
      "appliance = electric.appliances[(APPLIANCE_TYPE, 1)]"
     ],
     "language": "python",
     "metadata": {},
     "outputs": [],
     "prompt_number": 12
    },
    {
     "cell_type": "heading",
     "level": 4,
     "metadata": {},
     "source": [
      "Sample period"
     ]
    },
    {
     "cell_type": "code",
     "collapsed": false,
     "input": [
      "sample_period = sstats.get_sample_period(appliance)\n",
      "\n",
      "print('average sample period = {:.1f} seconds'.format(sample_period))"
     ],
     "language": "python",
     "metadata": {},
     "outputs": [
      {
       "output_type": "stream",
       "stream": "stdout",
       "text": [
        "average sample period = 3.6 seconds\n"
       ]
      }
     ],
     "prompt_number": 13
    },
    {
     "cell_type": "heading",
     "level": 4,
     "metadata": {},
     "source": [
      "Dropout rate over entire timeseries"
     ]
    },
    {
     "cell_type": "code",
     "collapsed": false,
     "input": [
      "dropout_rate = sstats.get_dropout_rate(data=appliance)\n",
      "\n",
      "print('average dropout rate = {:.1%}'.format(dropout_rate))"
     ],
     "language": "python",
     "metadata": {},
     "outputs": [
      {
       "output_type": "stream",
       "stream": "stdout",
       "text": [
        "average dropout rate = 13.5%\n"
       ]
      }
     ],
     "prompt_number": 14
    },
    {
     "cell_type": "heading",
     "level": 4,
     "metadata": {},
     "source": [
      "Dropout rate per period"
     ]
    },
    {
     "cell_type": "code",
     "collapsed": false,
     "input": [
      "sstats.dropout_rate_per_period(data=appliance, rule='D').plot()\n",
      "\n",
      "ylabel('dropout rate')\n",
      "title('Dropout rate per day for ' + APPLIANCE_TYPE)"
     ],
     "language": "python",
     "metadata": {},
     "outputs": [
      {
       "metadata": {},
       "output_type": "pyout",
       "prompt_number": 15,
       "text": [
        "<matplotlib.text.Text at 0x7f2192029850>"
       ]
      },
      {
       "metadata": {},
       "output_type": "display_data",
       "png": "[encoded data removed]",
       "text": [
        "<matplotlib.figure.Figure at 0x7f21943d3ed0>"
       ]
      }
     ],
     "prompt_number": 15
    },
    {
     "cell_type": "heading",
     "level": 4,
     "metadata": {},
     "source": [
      "Histogram of power consumption"
     ]
    },
    {
     "cell_type": "code",
     "collapsed": false,
     "input": [
      "THRESHOLD = 1\n",
      "appliance_filtered = (appliance[appliance > THRESHOLD]).icol(0).dropna()\n",
      "\n",
      "xlabel('power (watts)')\n",
      "ylabel('frequency')\n",
      "h = hist(appliance_filtered.values, bins=100)"
     ],
     "language": "python",
     "metadata": {},
     "outputs": [
      {
       "metadata": {},
       "output_type": "display_data",
       "png": "[encoded data removed]",
       "text": [
        "<matplotlib.figure.Figure at 0x7f21943d3710>"
       ]
      }
     ],
     "prompt_number": 16
    },
    {
     "cell_type": "markdown",
     "metadata": {},
     "source": [
      "##### Conclusions from the histogram:\n",
      "\n",
      "* oven spends a lot of its time consuming about 2-50 Watts\n",
      "* appears to be properly 'on' when it's consuming over 1600 watts\n",
      "* So let's use 1000 watts as the on power threshold."
     ]
    },
    {
     "cell_type": "code",
     "collapsed": false,
     "input": [
      "ON_POWER_THRESHOLD = 1000"
     ],
     "language": "python",
     "metadata": {},
     "outputs": [],
     "prompt_number": 17
    },
    {
     "cell_type": "markdown",
     "metadata": {},
     "source": [
      "In NILMTK v0.2, on_power_threshold is stored as metadata per appliance.\n",
      "\n",
      "#### Number of hours the oven was switched on for"
     ]
    },
    {
     "cell_type": "code",
     "collapsed": false,
     "input": [
      "hours_on = sstats.hours_on(appliance, on_power_threshold=ON_POWER_THRESHOLD)\n",
      "\n",
      "print(APPLIANCE_TYPE + ' was on for {:.1f} hours.'.format(hours_on))"
     ],
     "language": "python",
     "metadata": {},
     "outputs": [
      {
       "output_type": "stream",
       "stream": "stdout",
       "text": [
        "oven was on for 4.5 hours.\n"
       ]
      }
     ],
     "prompt_number": 18
    },
    {
     "cell_type": "heading",
     "level": 4,
     "metadata": {},
     "source": [
      "Total energy consumed by the oven"
     ]
    },
    {
     "cell_type": "code",
     "collapsed": false,
     "input": [
      "kwh = sstats.energy(appliance)\n",
      "\n",
      "print(APPLIANCE_TYPE + ' consumed {:.1f} kWh.'.format(kwh))"
     ],
     "language": "python",
     "metadata": {},
     "outputs": [
      {
       "output_type": "stream",
       "stream": "stdout",
       "text": [
        "oven consumed 3.8 kWh.\n"
       ]
      }
     ],
     "prompt_number": 19
    },
    {
     "cell_type": "heading",
     "level": 3,
     "metadata": {},
     "source": [
      "Explore usage behaviour of an appliance"
     ]
    },
    {
     "cell_type": "heading",
     "level": 4,
     "metadata": {},
     "source": [
      "Usage (hours on and energy used) per period"
     ]
    },
    {
     "cell_type": "code",
     "collapsed": false,
     "input": [
      "usage = sstats.usage_per_period(appliance,\n",
      "                                freq='D', \n",
      "                                on_power_threshold=ON_POWER_THRESHOLD)\n",
      "usage.head(n=7)"
     ],
     "language": "python",
     "metadata": {},
     "outputs": [
      {
       "html": [
        "<div style=\"max-height:1000px;max-width:1500px;overflow:auto;\">\n",
        "<table border=\"1\" class=\"dataframe\">\n",
        "  <thead>\n",
        "    <tr style=\"text-align: right;\">\n",
        "      <th></th>\n",
        "      <th>hours_on</th>\n",
        "      <th>kwh</th>\n",
        "    </tr>\n",
        "  </thead>\n",
        "  <tbody>\n",
        "    <tr>\n",
        "      <th>2011-04-18</th>\n",
        "      <td>      NaN</td>\n",
        "      <td>      NaN</td>\n",
        "    </tr>\n",
        "    <tr>\n",
        "      <th>2011-04-19</th>\n",
        "      <td> 0.000000</td>\n",
        "      <td> 0.000063</td>\n",
        "    </tr>\n",
        "    <tr>\n",
        "      <th>2011-04-20</th>\n",
        "      <td> 0.000000</td>\n",
        "      <td> 0.000010</td>\n",
        "    </tr>\n",
        "    <tr>\n",
        "      <th>2011-04-21</th>\n",
        "      <td> 0.000000</td>\n",
        "      <td> 0.000014</td>\n",
        "    </tr>\n",
        "    <tr>\n",
        "      <th>2011-04-22</th>\n",
        "      <td> 0.000000</td>\n",
        "      <td> 0.000004</td>\n",
        "    </tr>\n",
        "    <tr>\n",
        "      <th>2011-04-23</th>\n",
        "      <td> 0.000000</td>\n",
        "      <td> 0.007393</td>\n",
        "    </tr>\n",
        "    <tr>\n",
        "      <th>2011-04-24</th>\n",
        "      <td> 0.308056</td>\n",
        "      <td> 0.510096</td>\n",
        "    </tr>\n",
        "  </tbody>\n",
        "</table>\n",
        "<p>7 rows \u00d7 2 columns</p>\n",
        "</div>"
       ],
       "metadata": {},
       "output_type": "pyout",
       "prompt_number": 20,
       "text": [
        "            hours_on       kwh\n",
        "2011-04-18       NaN       NaN\n",
        "2011-04-19  0.000000  0.000063\n",
        "2011-04-20  0.000000  0.000010\n",
        "2011-04-21  0.000000  0.000014\n",
        "2011-04-22  0.000000  0.000004\n",
        "2011-04-23  0.000000  0.007393\n",
        "2011-04-24  0.308056  0.510096\n",
        "\n",
        "[7 rows x 2 columns]"
       ]
      }
     ],
     "prompt_number": 20
    },
    {
     "cell_type": "heading",
     "level": 5,
     "metadata": {},
     "source": [
      "Sanity-check by looking at power data "
     ]
    },
    {
     "cell_type": "code",
     "collapsed": false,
     "input": [
      "plot_series(appliance[:\"2011-04-24\"], \n",
      "            date_format='%Y-%m-%d', \n",
      "            tz_localize=False)\n",
      "title(APPLIANCE_TYPE + ' power demand')"
     ],
     "language": "python",
     "metadata": {},
     "outputs": [
      {
       "metadata": {},
       "output_type": "pyout",
       "prompt_number": 21,
       "text": [
        "<matplotlib.text.Text at 0x7f2191b51390>"
       ]
      },
      {
       "metadata": {},
       "output_type": "display_data",
       "png": "[encoded data removed]",
       "text": [
        "<matplotlib.figure.Figure at 0x7f2191f9d810>"
       ]
      }
     ],
     "prompt_number": 21
    },
    {
     "cell_type": "heading",
     "level": 4,
     "metadata": {},
     "source": [
      "Usage of the oven, hour-by-hour, over an average day"
     ]
    },
    {
     "cell_type": "code",
     "collapsed": false,
     "input": [
      "dist = sstats.activity_distribution(appliance, \n",
      "                                    bin_size='H', \n",
      "                                    timespan='D', \n",
      "                                    on_power_threshold=ON_POWER_THRESHOLD)\n",
      "\n",
      "# Graph formatting\n",
      "x = np.arange(dist.size)\n",
      "ylabel('frequency')\n",
      "xlabel('hour of day')\n",
      "title('Usage of the oven, hour-by-hour, over an average day')\n",
      "xlim([0, 24])\n",
      "xticks(range(0, 25, 6))\n",
      "bar(x, dist.values)"
     ],
     "language": "python",
     "metadata": {},
     "outputs": [
      {
       "metadata": {},
       "output_type": "pyout",
       "prompt_number": 22,
       "text": [
        "<Container object of 24 artists>"
       ]
      },
      {
       "metadata": {},
       "output_type": "display_data",
       "png": "[encoded data removed]",
       "text": [
        "<matplotlib.figure.Figure at 0x7f2191aa8650>"
       ]
      }
     ],
     "prompt_number": 22
    },
    {
     "cell_type": "heading",
     "level": 4,
     "metadata": {},
     "source": [
      "Usage of the oven, day-by-day, over an average week"
     ]
    },
    {
     "cell_type": "code",
     "collapsed": false,
     "input": [
      "dist = sstats.activity_distribution(appliance, \n",
      "                                    bin_size='D', \n",
      "                                    timespan='W', \n",
      "                                    on_power_threshold=ON_POWER_THRESHOLD)\n",
      "x = np.arange(dist.size)\n",
      "ylabel('frequency')\n",
      "xlabel('day of week')\n",
      "title('')\n",
      "xticks(np.arange(7)+0.5, calendar.day_name[0:7])\n",
      "bar(x, dist.values)\n"
     ],
     "language": "python",
     "metadata": {},
     "outputs": [
      {
       "metadata": {},
       "output_type": "pyout",
       "prompt_number": 23,
       "text": [
        "<Container object of 7 artists>"
       ]
      },
      {
       "metadata": {},
       "output_type": "display_data",
       "png": "[encoded data removed]",
       "text": [
        "<matplotlib.figure.Figure at 0x7f2191f07c90>"
       ]
      }
     ],
     "prompt_number": 23
    },
    {
     "cell_type": "heading",
     "level": 4,
     "metadata": {},
     "source": [
      "Histogram of on-durations"
     ]
    },
    {
     "cell_type": "code",
     "collapsed": false,
     "input": [
      "# Get a Series of booleans indicating when the oven is on:\n",
      "on_series = sstats.on(appliance, on_power_threshold=ON_POWER_THRESHOLD)\n",
      "\n",
      "# Now get the length of every on-duration\n",
      "on_durations = sstats.durations(on_series, \n",
      "                                on_or_off='on',\n",
      "                                ignore_n_off_samples=10)\n",
      "xlabel('minutes on')\n",
      "ylabel('frequency')\n",
      "title('Distribution of on-durations for oven')\n",
      "h = hist(on_durations/60, bins=10)\n"
     ],
     "language": "python",
     "metadata": {},
     "outputs": [
      {
       "metadata": {},
       "output_type": "display_data",
       "png": "[encoded data removed]",
       "text": [
        "<matplotlib.figure.Figure at 0x7f2191e46ad0>"
       ]
      }
     ],
     "prompt_number": 24
    },
    {
     "cell_type": "markdown",
     "metadata": {},
     "source": [
      "### Descriptive stats of whole dataset\n",
      "\n",
      "```python\n",
      "redd.describe()\n",
      "```\n",
      "```\n",
      "NUMBER OF BUILDINGS: 6\n",
      "\n",
      "NUMBER OF APPLIANCES PER BUILDING:\n",
      "  min  =  9.00\n",
      "  mean = 16.50\n",
      "  mode = 15.00\n",
      "  max  = 23.00\n",
      "  std  =  4.31\n",
      "PROPORTION OF ENERGY SUBMETERED PER BUILDLING:\n",
      "  min  =  0.58\n",
      "  mean =  0.70\n",
      "  mode =  0.58\n",
      "  max  =  0.89\n",
      "  std  =  0.11\n",
      "DROPOUT RATE PER CHANNEL, INCLUDING LARGE GAPS:\n",
      "  min  =  0.13\n",
      "  mean =  0.58\n",
      "  mode =  0.92\n",
      "  max  =  0.92\n",
      "  std  =  0.24\n",
      "DROPOUT RATE PER CHANNEL, IGNORING LARGE GAPS:\n",
      "  min  =  0.00\n",
      "  mean =  0.10\n",
      "  mode =  0.09\n",
      "  max  =  0.17\n",
      "  std  =  0.04\n",
      "MAINS UPTIME PER BUILDING (DAYS):\n",
      "  min  =  3.60\n",
      "  mean = 15.12\n",
      "  mode =  3.60\n",
      "  max  = 19.44\n",
      "  std  =  5.43\n",
      "PROPORTION OF TIME SLICES WHERE > 70% ENERGY IS SUBMETERED:\n",
      "  min  =  0.23\n",
      "  mean =  0.64\n",
      "  mode =  0.23\n",
      "  max  =  0.98\n",
      "  std  =  0.26\n",
      "  ```"
     ]
    },
    {
     "cell_type": "heading",
     "level": 2,
     "metadata": {},
     "source": [
      "Preprocessing"
     ]
    },
    {
     "cell_type": "markdown",
     "metadata": {},
     "source": [
      "First, for reference, here's the plot from above showing missing samples:"
     ]
    },
    {
     "cell_type": "code",
     "collapsed": false,
     "input": [
      "building = redd.buildings[1]\n",
      "bstats.plot_missing_samples_using_rectangles(building.utility.electric)"
     ],
     "language": "python",
     "metadata": {},
     "outputs": [
      {
       "metadata": {},
       "output_type": "display_data",
       "png": "[encoded data removed]",
       "text": [
        "<matplotlib.figure.Figure at 0x7f21917ff4d0>"
       ]
      }
     ],
     "prompt_number": 25
    },
    {
     "cell_type": "markdown",
     "metadata": {},
     "source": [
      "```python\n",
      "import nilmtk.preprocessing.electricity.building as prepb\n",
      "```"
     ]
    },
    {
     "cell_type": "markdown",
     "metadata": {},
     "source": [
      "### Select data for a specific time period\n",
      "\n",
      "```python\n",
      "building = prepb.filter_datetime(building, '7-13-2013', '8-4-2013')\n",
      "```"
     ]
    },
    {
     "cell_type": "heading",
     "level": 3,
     "metadata": {},
     "source": [
      "Resampling"
     ]
    },
    {
     "cell_type": "code",
     "collapsed": false,
     "input": [
      "building = prepb.downsample(building, rule='1T')\n",
      "electric = building.utility.electric\n",
      "bstats.plot_missing_samples_using_rectangles(electric)"
     ],
     "language": "python",
     "metadata": {},
     "outputs": [
      {
       "metadata": {},
       "output_type": "display_data",
       "png": "[encoded data removed]",
       "text": [
        "<matplotlib.figure.Figure at 0x7f2191ee1a90>"
       ]
      }
     ],
     "prompt_number": 26
    },
    {
     "cell_type": "heading",
     "level": 3,
     "metadata": {},
     "source": [
      "Fill large gaps in appliance data with zeros and forward-fill small gaps"
     ]
    },
    {
     "cell_type": "code",
     "collapsed": false,
     "input": [
      "building = prepb.fill_appliance_gaps(building)\n",
      "\n",
      "# Now plot missing samples again:\n",
      "electric = building.utility.electric\n",
      "bstats.plot_missing_samples_using_rectangles(electric)"
     ],
     "language": "python",
     "metadata": {},
     "outputs": [
      {
       "metadata": {},
       "output_type": "display_data",
       "png": "[encoded data removed]",
       "text": [
        "<matplotlib.figure.Figure at 0x7f21908491d0>"
       ]
      }
     ],
     "prompt_number": 27
    },
    {
     "cell_type": "heading",
     "level": 3,
     "metadata": {},
     "source": [
      "Detect gaps in mains and mask these out from appliance data"
     ]
    },
    {
     "cell_type": "code",
     "collapsed": false,
     "input": [
      "building = prepb.drop_missing_mains(building)\n",
      "building = prepb.make_common_index(building)\n",
      "electric = building.utility.electric\n",
      "bstats.plot_missing_samples_using_rectangles(electric)"
     ],
     "language": "python",
     "metadata": {},
     "outputs": [
      {
       "metadata": {},
       "output_type": "display_data",
       "png": "[encoded data removed]",
       "text": [
        "<matplotlib.figure.Figure at 0x7f2191a9c790>"
       ]
      }
     ],
     "prompt_number": 28
    },
    {
     "cell_type": "heading",
     "level": 3,
     "metadata": {},
     "source": [
      "Sum the split-phase supply in REDD"
     ]
    },
    {
     "cell_type": "code",
     "collapsed": false,
     "input": [
      "building.utility.electric = building.utility.electric.sum_split_supplies()"
     ],
     "language": "python",
     "metadata": {},
     "outputs": [],
     "prompt_number": 29
    },
    {
     "cell_type": "heading",
     "level": 3,
     "metadata": {},
     "source": [
      "Remove appliances which contribute less than 5% energy"
     ]
    },
    {
     "cell_type": "code",
     "collapsed": false,
     "input": [
      "# Hack to trick NILMTK into thinking that REDD mains measures\n",
      "# active power not apparent. This will be handled much better\n",
      "# in NILMTK v0.2\n",
      "mains = building.utility.electric.mains[(1,1)]\n",
      "mains.rename(columns={Measurement('power','apparent'): \n",
      "                      Measurement('power','active')}, \n",
      "             inplace=True)\n",
      "\n",
      "building = prepb.filter_contribution_less_than_x(building, x=5)"
     ],
     "language": "python",
     "metadata": {},
     "outputs": [
      {
       "output_type": "stream",
       "stream": "stdout",
       "text": [
        "Common Measurement:  Measurement(physical_quantity='power', type='active')\n"
       ]
      }
     ],
     "prompt_number": 30
    },
    {
     "cell_type": "code",
     "collapsed": false,
     "input": [
      "electric = building.utility.electric\n",
      "bstats.plot_missing_samples_using_rectangles(electric)"
     ],
     "language": "python",
     "metadata": {},
     "outputs": [
      {
       "metadata": {},
       "output_type": "display_data",
       "png": "[encoded data removed]",
       "text": [
        "<matplotlib.figure.Figure at 0x7f2194c37410>"
       ]
      }
     ],
     "prompt_number": 31
    },
    {
     "cell_type": "heading",
     "level": 2,
     "metadata": {},
     "source": [
      "Disaggregation"
     ]
    },
    {
     "cell_type": "heading",
     "level": 3,
     "metadata": {},
     "source": [
      "Split a building into training and test sets"
     ]
    },
    {
     "cell_type": "markdown",
     "metadata": {},
     "source": [
      "```python\n",
      "from nilmtk.cross_validation import train_test_split\n",
      "```"
     ]
    },
    {
     "cell_type": "code",
     "collapsed": false,
     "input": [
      "train, test = train_test_split(building, train_size = 0.5)\n",
      "# train and test are now both Building objects"
     ],
     "language": "python",
     "metadata": {},
     "outputs": [],
     "prompt_number": 32
    },
    {
     "cell_type": "heading",
     "level": 3,
     "metadata": {},
     "source": [
      "Training"
     ]
    },
    {
     "cell_type": "markdown",
     "metadata": {},
     "source": [
      "```python\n",
      "from nilmtk.disaggregate.co_1d import CO_1d\n",
      "```"
     ]
    },
    {
     "cell_type": "code",
     "collapsed": false,
     "input": [
      "DISAGG_FEATURE = Measurement('power', 'active')\n",
      "\n",
      "disaggregator = CO_1d()\n",
      "disaggregator.train(train, disagg_features=[DISAGG_FEATURE])\n",
      "# Below is the learnt model"
     ],
     "language": "python",
     "metadata": {},
     "outputs": [
      {
       "metadata": {},
       "output_type": "pyout",
       "prompt_number": 33,
       "text": [
        "{ApplianceName(name='dishwasher', instance=1): [0, 589],\n",
        " ApplianceName(name='fridge', instance=1): [0, 185],\n",
        " ApplianceName(name='kitchen outlets', instance=1): [0, 21],\n",
        " ApplianceName(name='kitchen outlets', instance=2): [0, 28],\n",
        " ApplianceName(name='lighting', instance=1): [0, 86],\n",
        " ApplianceName(name='microwave', instance=1): [0, 947],\n",
        " ApplianceName(name='washer dryer', instance=1): [0, 1957]}"
       ]
      }
     ],
     "prompt_number": 33
    },
    {
     "cell_type": "heading",
     "level": 4,
     "metadata": {},
     "source": [
      "Export appliance models to JSON"
     ]
    },
    {
     "cell_type": "code",
     "collapsed": false,
     "input": [
      "disaggregator.export_model('model.json')\n",
      "!cat model.json"
     ],
     "language": "python",
     "metadata": {},
     "outputs": [
      {
       "output_type": "stream",
       "stream": "stdout",
       "text": [
        "{\"fridge_1\": [0, 185], \"washer dryer_1\": [0, 1957], \"kitchen outlets_2\": [0, 28], \"kitchen outlets_1\": [0, 21], \"dishwasher_1\": [0, 589], \"microwave_1\": [0, 947], \"lighting_1\": [0, 86]}"
       ]
      }
     ],
     "prompt_number": 34
    },
    {
     "cell_type": "heading",
     "level": 4,
     "metadata": {},
     "source": [
      "Import appliance models from JSON"
     ]
    },
    {
     "cell_type": "code",
     "collapsed": false,
     "input": [
      "disaggregator.import_model('model.json')\n",
      "!rm model.json\n",
      "disaggregator.model"
     ],
     "language": "python",
     "metadata": {},
     "outputs": [
      {
       "metadata": {},
       "output_type": "pyout",
       "prompt_number": 35,
       "text": [
        "{ApplianceName(name='dishwasher', instance=1): [0, 589],\n",
        " ApplianceName(name='fridge', instance=1): [0, 185],\n",
        " ApplianceName(name='kitchen outlets', instance=1): [0, 21],\n",
        " ApplianceName(name='kitchen outlets', instance=2): [0, 28],\n",
        " ApplianceName(name='lighting', instance=1): [0, 86],\n",
        " ApplianceName(name='microwave', instance=1): [0, 947],\n",
        " ApplianceName(name='washer dryer', instance=1): [0, 1957]}"
       ]
      }
     ],
     "prompt_number": 35
    },
    {
     "cell_type": "heading",
     "level": 3,
     "metadata": {},
     "source": [
      "Disaggregation"
     ]
    },
    {
     "cell_type": "code",
     "collapsed": false,
     "input": [
      "disaggregator.disaggregate(test)\n",
      "predicted_power = disaggregator.predictions"
     ],
     "language": "python",
     "metadata": {},
     "outputs": [
      {
       "output_type": "stream",
       "stream": "stdout",
       "text": [
        "128\n",
        "{ApplianceName(name='fridge', instance=1): [0, 185], ApplianceName(name='washer dryer', instance=1): [0, 1957], ApplianceName(name='kitchen outlets', instance=2): [0, 28], ApplianceName(name='kitchen outlets', instance=1): [0, 21], ApplianceName(name='lighting', instance=1): [0, 86], ApplianceName(name='dishwasher', instance=1): [0, 589], ApplianceName(name='microwave', instance=1): [0, 947]}\n"
       ]
      }
     ],
     "prompt_number": 36
    },
    {
     "cell_type": "code",
     "collapsed": false,
     "input": [
      "predicted_power.head()"
     ],
     "language": "python",
     "metadata": {},
     "outputs": [
      {
       "html": [
        "<div style=\"max-height:1000px;max-width:1500px;overflow:auto;\">\n",
        "<table border=\"1\" class=\"dataframe\">\n",
        "  <thead>\n",
        "    <tr style=\"text-align: right;\">\n",
        "      <th></th>\n",
        "      <th>(dishwasher, 1)</th>\n",
        "      <th>(fridge, 1)</th>\n",
        "      <th>(kitchen outlets, 1)</th>\n",
        "      <th>(kitchen outlets, 2)</th>\n",
        "      <th>(lighting, 1)</th>\n",
        "      <th>(microwave, 1)</th>\n",
        "      <th>(washer dryer, 1)</th>\n",
        "    </tr>\n",
        "  </thead>\n",
        "  <tbody>\n",
        "    <tr>\n",
        "      <th>2011-04-27 19:10:00-04:00</th>\n",
        "      <td> 0</td>\n",
        "      <td> 185</td>\n",
        "      <td> 21</td>\n",
        "      <td> 28</td>\n",
        "      <td> 0</td>\n",
        "      <td> 0</td>\n",
        "      <td> 0</td>\n",
        "    </tr>\n",
        "    <tr>\n",
        "      <th>2011-04-27 19:11:00-04:00</th>\n",
        "      <td> 0</td>\n",
        "      <td> 185</td>\n",
        "      <td> 21</td>\n",
        "      <td> 28</td>\n",
        "      <td> 0</td>\n",
        "      <td> 0</td>\n",
        "      <td> 0</td>\n",
        "    </tr>\n",
        "    <tr>\n",
        "      <th>2011-04-27 19:12:00-04:00</th>\n",
        "      <td> 0</td>\n",
        "      <td> 185</td>\n",
        "      <td> 21</td>\n",
        "      <td> 28</td>\n",
        "      <td> 0</td>\n",
        "      <td> 0</td>\n",
        "      <td> 0</td>\n",
        "    </tr>\n",
        "    <tr>\n",
        "      <th>2011-04-27 19:13:00-04:00</th>\n",
        "      <td> 0</td>\n",
        "      <td> 185</td>\n",
        "      <td> 21</td>\n",
        "      <td> 28</td>\n",
        "      <td> 0</td>\n",
        "      <td> 0</td>\n",
        "      <td> 0</td>\n",
        "    </tr>\n",
        "    <tr>\n",
        "      <th>2011-04-27 19:14:00-04:00</th>\n",
        "      <td> 0</td>\n",
        "      <td> 185</td>\n",
        "      <td> 21</td>\n",
        "      <td> 28</td>\n",
        "      <td> 0</td>\n",
        "      <td> 0</td>\n",
        "      <td> 0</td>\n",
        "    </tr>\n",
        "  </tbody>\n",
        "</table>\n",
        "<p>5 rows \u00d7 7 columns</p>\n",
        "</div>"
       ],
       "metadata": {},
       "output_type": "pyout",
       "prompt_number": 37,
       "text": [
        "                           (dishwasher, 1)  (fridge, 1)  (kitchen outlets, 1)  \\\n",
        "2011-04-27 19:10:00-04:00                0          185                    21   \n",
        "2011-04-27 19:11:00-04:00                0          185                    21   \n",
        "2011-04-27 19:12:00-04:00                0          185                    21   \n",
        "2011-04-27 19:13:00-04:00                0          185                    21   \n",
        "2011-04-27 19:14:00-04:00                0          185                    21   \n",
        "\n",
        "                           (kitchen outlets, 2)  (lighting, 1)  \\\n",
        "2011-04-27 19:10:00-04:00                    28              0   \n",
        "2011-04-27 19:11:00-04:00                    28              0   \n",
        "2011-04-27 19:12:00-04:00                    28              0   \n",
        "2011-04-27 19:13:00-04:00                    28              0   \n",
        "2011-04-27 19:14:00-04:00                    28              0   \n",
        "\n",
        "                           (microwave, 1)  (washer dryer, 1)  \n",
        "2011-04-27 19:10:00-04:00               0                  0  \n",
        "2011-04-27 19:11:00-04:00               0                  0  \n",
        "2011-04-27 19:12:00-04:00               0                  0  \n",
        "2011-04-27 19:13:00-04:00               0                  0  \n",
        "2011-04-27 19:14:00-04:00               0                  0  \n",
        "\n",
        "[5 rows x 7 columns]"
       ]
      }
     ],
     "prompt_number": 37
    },
    {
     "cell_type": "code",
     "collapsed": false,
     "input": [
      "ax = test.utility.electric.mains[1,1][\"2011-04-27 20:00\":\"2011-04-27 23:00:00\"].plot()\n",
      "ax.set_ylim([150,450])\n",
      "title('aggregate power demand')"
     ],
     "language": "python",
     "metadata": {},
     "outputs": [
      {
       "metadata": {},
       "output_type": "pyout",
       "prompt_number": 38,
       "text": [
        "<matplotlib.text.Text at 0x7f2191e39850>"
       ]
      },
      {
       "metadata": {},
       "output_type": "display_data",
       "png": "[encoded data removed]",
       "text": [
        "<matplotlib.figure.Figure at 0x7f2191d2cf50>"
       ]
      }
     ],
     "prompt_number": 38
    },
    {
     "cell_type": "code",
     "collapsed": false,
     "input": [
      "ax = predicted_power[\"2011-04-27 20:00\":\"2011-04-27 23:00:00\"].plot()\n",
      "ax.set_ylim([0,200])\n",
      "title('predicted appliance power demand')"
     ],
     "language": "python",
     "metadata": {},
     "outputs": [
      {
       "metadata": {},
       "output_type": "pyout",
       "prompt_number": 39,
       "text": [
        "<matplotlib.text.Text at 0x7f219110e390>"
       ]
      },
      {
       "metadata": {},
       "output_type": "display_data",
       "png": "[encoded data removed]",
       "text": [
        "<matplotlib.figure.Figure at 0x7f21943d3cd0>"
       ]
      }
     ],
     "prompt_number": 39
    },
    {
     "cell_type": "code",
     "collapsed": false,
     "input": [
      "app_ground = test.utility.electric.appliances\n",
      "ground_truth_power = pd.DataFrame(\n",
      "    {appliance: app_ground[appliance][DISAGG_FEATURE] \n",
      "     for appliance in app_ground})\n",
      "\n",
      "ax = ground_truth_power[\"2011-04-27 20:00\":\"2011-04-27 23:00:00\"].plot()\n",
      "ax.set_ylim([0,250])\n",
      "title('ground truth appliance power demand')"
     ],
     "language": "python",
     "metadata": {},
     "outputs": [
      {
       "metadata": {},
       "output_type": "pyout",
       "prompt_number": 40,
       "text": [
        "<matplotlib.text.Text at 0x7f2191cd37d0>"
       ]
      },
      {
       "metadata": {},
       "output_type": "display_data",
       "png": "[encoded data removed]",
       "text": [
        "<matplotlib.figure.Figure at 0x7f2191c05510>"
       ]
      }
     ],
     "prompt_number": 40
    },
    {
     "cell_type": "heading",
     "level": 2,
     "metadata": {},
     "source": [
      "Metrics"
     ]
    },
    {
     "cell_type": "markdown",
     "metadata": {},
     "source": [
      "```python\n",
      "from nilmtk.metrics import (mean_normalized_error_power, \n",
      "                            fraction_energy_assigned_correctly, \n",
      "                            f_score,\n",
      "                            rms_error_power)\n",
      "```"
     ]
    },
    {
     "cell_type": "code",
     "collapsed": false,
     "input": [
      "metrics = {\n",
      "    'mean normalized error power':\n",
      "          mean_normalized_error_power,\n",
      "    'fraction energy assigned correctly': \n",
      "          fraction_energy_assigned_correctly,\n",
      "    'f score': f_score,\n",
      "    'RMS Error Power': rms_error_power\n",
      "}"
     ],
     "language": "python",
     "metadata": {},
     "outputs": [],
     "prompt_number": 41
    },
    {
     "cell_type": "code",
     "collapsed": false,
     "input": [
      "for metric_name, metric_func in metrics.iteritems():\n",
      "    result = metric_func(predicted_power, ground_truth_power)\n",
      "    display(HTML('<h5>' + metric_name + '</h5>'))\n",
      "    if isinstance(result, dict):\n",
      "        pretty_print_dict(result)\n",
      "    else:\n",
      "        print(result)\n",
      "    print()"
     ],
     "language": "python",
     "metadata": {},
     "outputs": [
      {
       "html": [
        "<h5>RMS Error Power</h5>"
       ],
       "metadata": {},
       "output_type": "display_data",
       "text": [
        "<IPython.core.display.HTML at 0x7f2191b6af90>"
       ]
      },
      {
       "html": [
        "<ul><li><strong>ApplianceName(name='fridge', instance=1)</strong>: 110.208348899</li><li><strong>ApplianceName(name='washer dryer', instance=1)</strong>: 216.400642527</li><li><strong>ApplianceName(name='kitchen outlets', instance=2)</strong>: 18.8756186696</li><li><strong>ApplianceName(name='kitchen outlets', instance=1)</strong>: 10.5264942354</li><li><strong>ApplianceName(name='lighting', instance=1)</strong>: 69.2372594931</li><li><strong>ApplianceName(name='dishwasher', instance=1)</strong>: 221.145976367</li><li><strong>ApplianceName(name='microwave', instance=1)</strong>: 223.294611141</li></ul>"
       ],
       "metadata": {},
       "output_type": "display_data",
       "text": [
        "<IPython.core.display.HTML at 0x7f2191b6a210>"
       ]
      },
      {
       "output_type": "stream",
       "stream": "stdout",
       "text": [
        "\n"
       ]
      },
      {
       "html": [
        "<h5>f score</h5>"
       ],
       "metadata": {},
       "output_type": "display_data",
       "text": [
        "<IPython.core.display.HTML at 0x7f2191b6a6d0>"
       ]
      },
      {
       "html": [
        "<ul><li><strong>ApplianceName(name='fridge', instance=1)</strong>: 0.486390231493</li><li><strong>ApplianceName(name='washer dryer', instance=1)</strong>: 0.692607003891</li><li><strong>ApplianceName(name='kitchen outlets', instance=2)</strong>: 0.0</li><li><strong>ApplianceName(name='kitchen outlets', instance=1)</strong>: 0.0</li><li><strong>ApplianceName(name='lighting', instance=1)</strong>: 0.517505876531</li><li><strong>ApplianceName(name='dishwasher', instance=1)</strong>: 0.236493374108</li><li><strong>ApplianceName(name='microwave', instance=1)</strong>: 0.25</li></ul>"
       ],
       "metadata": {},
       "output_type": "display_data",
       "text": [
        "<IPython.core.display.HTML at 0x7f2191b6a690>"
       ]
      },
      {
       "output_type": "stream",
       "stream": "stdout",
       "text": [
        "\n"
       ]
      },
      {
       "html": [
        "<h5>fraction energy assigned correctly</h5>"
       ],
       "metadata": {},
       "output_type": "display_data",
       "text": [
        "<IPython.core.display.HTML at 0x7f21dc1cc6d0>"
       ]
      },
      {
       "output_type": "stream",
       "stream": "stdout",
       "text": [
        "0.771400439401\n",
        "\n"
       ]
      },
      {
       "html": [
        "<h5>mean normalized error power</h5>"
       ],
       "metadata": {},
       "output_type": "display_data",
       "text": [
        "<IPython.core.display.HTML at 0x7f2191ca0b50>"
       ]
      },
      {
       "html": [
        "<ul><li><strong>ApplianceName(name='fridge', instance=1)</strong>: 1.60618649799</li><li><strong>ApplianceName(name='washer dryer', instance=1)</strong>: 0.703450115919</li><li><strong>ApplianceName(name='kitchen outlets', instance=2)</strong>: 0.714609954031</li><li><strong>ApplianceName(name='kitchen outlets', instance=1)</strong>: 0.516469554455</li><li><strong>ApplianceName(name='lighting', instance=1)</strong>: 1.36871998661</li><li><strong>ApplianceName(name='dishwasher', instance=1)</strong>: 2.85568760678</li><li><strong>ApplianceName(name='microwave', instance=1)</strong>: 3.57270358602</li></ul>"
       ],
       "metadata": {},
       "output_type": "display_data",
       "text": [
        "<IPython.core.display.HTML at 0x7f2191ca00d0>"
       ]
      },
      {
       "output_type": "stream",
       "stream": "stdout",
       "text": [
        "\n"
       ]
      }
     ],
     "prompt_number": 42
    },
    {
     "cell_type": "markdown",
     "metadata": {},
     "source": [
      "![](static/img/metrics.png)"
     ]
    },
    {
     "cell_type": "markdown",
     "metadata": {},
     "source": [
      "![](static/img/fscore.png)"
     ]
    },
    {
     "cell_type": "heading",
     "level": 1,
     "metadata": {},
     "source": [
      "End"
     ]
    },
    {
     "cell_type": "markdown",
     "metadata": {},
     "source": [
      "nilmtk website: nilmtk.github.io\n",
      "\n",
      "Contact: jack.kelly@imperial.ac.uk\n"
     ]
    },
    {
     "cell_type": "code",
     "collapsed": false,
     "input": [
      "# CSS styling\n",
      "from IPython.core.display import display, HTML\n",
      "display(HTML(open('static/styles.css', 'r').read()));"
     ],
     "language": "python",
     "metadata": {},
     "outputs": [
      {
       "html": [
        "<style>\n",
        "\n",
        "@font-face{\n",
        "    font-family:\"AvenirNext-UltraLight\";\n",
        "    src:url(\"styles/fonts/17c55b27-e9ab-43cd-b948-d49f97480d68.eot?#iefix\");\n",
        "    src:url(\"styles/fonts/17c55b27-e9ab-43cd-b948-d49f97480d68.eot?#iefix\") format(\"eot\"),url(\"styles/fonts/fa19948e-5e38-4909-b31e-41acd170d6f2.woff\") format(\"woff\"),url(\"styles/fonts/6de0ce4d-9278-467b-b96f-c1f5f0a4c375.ttf\") format(\"truetype\"),url(\"styles/fonts/9fd4ea0c-b19a-4b21-9fdf-37045707dd78.svg#9fd4ea0c-b19a-4b21-9fdf-37045707dd78\") format(\"svg\");\n",
        "}\n",
        "\n",
        "@font-face{\n",
        "    font-family:\"AvenirNext\";\n",
        "    src:url(\"styles/fonts/e9167238-3b3f-4813-a04a-a384394eed42.eot?#iefix\");\n",
        "    src:url(\"styles/fonts/e9167238-3b3f-4813-a04a-a384394eed42.eot?#iefix\") format(\"eot\"),url(\"styles/fonts/1e9892c0-6927-4412-9874-1b82801ba47a.woff\") format(\"woff\"),url(\"styles/fonts/46cf1067-688d-4aab-b0f7-bd942af6efd8.ttf\") format(\"truetype\"),url(\"styles/fonts/52a192b1-bea5-4b48-879f-107f009b666f.svg#52a192b1-bea5-4b48-879f-107f009b666f\") format(\"svg\");\n",
        "}\n",
        "\n",
        "body, p {\n",
        "  color: #2d3c48;\n",
        "  font-family: 'AvenirNext', sans-serif;\n",
        "  font-weight: normal;\n",
        "  -webkit-font-smoothing: antialiased;\n",
        "}\n",
        "\n",
        ".thumbnail {\n",
        "\tfloat: left;\n",
        "\twidth: 100%;\n",
        "\theight: 100%;\n",
        "\tmargin-right: 10px;\n",
        "\tmargin-bottom: 10px;\n",
        "\t-web-kit-shadow: None !important;\n",
        "\tbox-shadow: None !important;\n",
        "}\n",
        "\n",
        ".test {\n",
        "    float: left;\n",
        "    position: relative;\n",
        "    width:28%;\n",
        "    height:100%;\n",
        "    margin-right: 20px;\n",
        "}\n",
        ".test img {\n",
        "    float: left;\n",
        "    width:100%;\n",
        "    height:100%;\n",
        "}\n",
        ".test:after {\n",
        "    font-size: 40px;\n",
        "    text-align: center;\n",
        "    content: attr(data-content);\n",
        "    color:#fff;\n",
        "    position: absolute;\n",
        "    width:100%; height:66%;\n",
        "    top:0px; left:0px;\n",
        "    background:rgba(0,0,0,0.6);\n",
        "    opacity:0;\n",
        "    transition: all 0.5s;\n",
        "    -webkit-transition: all 0.5s;\n",
        "    padding-left: 5px;\n",
        "    padding-right: 5px;\n",
        "    padding-top: 20%;\n",
        "    border-radius: 4px;\n",
        "    margin-right: 10px;\n",
        "}\n",
        ".test:hover:after {\n",
        "    opacity:0.8;\n",
        "}\n",
        "\n",
        "h1,\n",
        "h2,\n",
        "h3,\n",
        "h4,\n",
        "h5,\n",
        "h6 {\n",
        "    font-family: 'AvenirNext-UltraLight', sans-serif;\n",
        "    font-weight: bold;\n",
        "    color: #545E6B;\n",
        "}\n",
        "\n",
        "p {\n",
        "    color: #222;\n",
        "}\n",
        "\n",
        "a {\n",
        "    text-decoration: none !important;\n",
        "    color: #8F7BD9;\n",
        "    line-height: 19px;\n",
        "    transition: all .25s; \n",
        "    -moz-transition: all .25s; \n",
        "    -webkit-transition: all .25s;\n",
        "}\n",
        "\n",
        "a:hover {\n",
        "\tcolor: #A997EB;\n",
        "\ttext-decoration: none !important;\n",
        "}\n",
        "\n",
        "a:active {\n",
        "\tcolor: #59A2E6;\n",
        "\ttext-decoration: none !important;\n",
        "}\n",
        "\n",
        ".button {\n",
        "  padding-left: 40px;\n",
        "  padding-right: 40px;\n",
        "  padding-top: 10px;\n",
        "  padding-bottom: 10px;\n",
        "  margin-right: 20px;\n",
        "  border: 1px solid #9175f0;\n",
        "  box-shadow: inset 0px 1px 0px 0px rgba(255,255,255,0.30);\n",
        "  border-radius: 3px;\n",
        "  font-size: 24px;\n",
        "  color: #9175f0;\n",
        "  line-height: 26px;\n",
        "}\n",
        "\n",
        ".button:hover {\n",
        "  color: #A997EB;\n",
        "  background-color: rgb(240,240,240);\n",
        "\n",
        "}\n"
       ],
       "metadata": {},
       "output_type": "display_data",
       "text": [
        "<IPython.core.display.HTML at 0x10449abd0>"
       ]
      }
     ],
     "prompt_number": 1
    }
   ],
   "metadata": {}
  }
 ]
}