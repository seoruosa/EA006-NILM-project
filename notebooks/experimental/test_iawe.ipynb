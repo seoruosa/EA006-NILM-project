{
 "metadata": {
  "name": "",
  "signature": "sha256:5aebaa8fb449a419e62c4c373864fcd3d1a4786df1920c409888606d59f51194"
 },
 "nbformat": 3,
 "nbformat_minor": 0,
 "worksheets": [
  {
   "cells": [
    {
     "cell_type": "markdown",
     "metadata": {},
     "source": [
      "Creating the dataset in nilmtk format"
     ]
    },
    {
     "cell_type": "code",
     "collapsed": false,
     "input": [
      "from nilmtk.dataset_converters.iawe.convert_iawe import  convert_iawe \n",
      "convert_iawe(\"/home/nipun/Copy/Dataset/\", \"/home/nipun/Desktop/iawe.h5\")"
     ],
     "language": "python",
     "metadata": {},
     "outputs": [
      {
       "output_type": "stream",
       "stream": "stdout",
       "text": [
        "Loading  1\n",
        "Loading "
       ]
      },
      {
       "output_type": "stream",
       "stream": "stdout",
       "text": [
        " 2\n",
        "Loading "
       ]
      },
      {
       "output_type": "stream",
       "stream": "stdout",
       "text": [
        " 3\n",
        "Loading "
       ]
      },
      {
       "output_type": "stream",
       "stream": "stdout",
       "text": [
        " 4\n",
        "Loading "
       ]
      },
      {
       "output_type": "stream",
       "stream": "stdout",
       "text": [
        " 5\n",
        "Loading "
       ]
      },
      {
       "output_type": "stream",
       "stream": "stdout",
       "text": [
        " 6\n",
        "Loading "
       ]
      },
      {
       "output_type": "stream",
       "stream": "stdout",
       "text": [
        " 7\n",
        "Loading "
       ]
      },
      {
       "output_type": "stream",
       "stream": "stdout",
       "text": [
        " 8\n",
        "Loading "
       ]
      },
      {
       "output_type": "stream",
       "stream": "stdout",
       "text": [
        " 9\n",
        "Loading "
       ]
      },
      {
       "output_type": "stream",
       "stream": "stdout",
       "text": [
        " 10\n",
        "Loading "
       ]
      },
      {
       "output_type": "stream",
       "stream": "stdout",
       "text": [
        " 11\n",
        "Loading "
       ]
      },
      {
       "output_type": "stream",
       "stream": "stdout",
       "text": [
        " 12\n",
        "Done converting YAML metadata to HDF5!"
       ]
      },
      {
       "output_type": "stream",
       "stream": "stdout",
       "text": [
        "\n",
        "Done converting iAWE to HDF5!\n"
       ]
      },
      {
       "output_type": "stream",
       "stream": "stderr",
       "text": [
        "/home/nipun/anaconda/lib/python2.7/site-packages/pandas/io/parsers.py:1139: DtypeWarning: Columns (1,2,3,4,5,6,7) have mixed types. Specify dtype option on import or set low_memory=False.\n",
        "  data = self._reader.read(nrows)\n"
       ]
      }
     ],
     "prompt_number": 1
    },
    {
     "cell_type": "code",
     "collapsed": false,
     "input": [
      "from nilmtk import DataSet"
     ],
     "language": "python",
     "metadata": {},
     "outputs": [],
     "prompt_number": 1
    },
    {
     "cell_type": "code",
     "collapsed": false,
     "input": [
      "iawe = DataSet(\"/home/nipun/Copy/Dataset/iawe.h5\")"
     ],
     "language": "python",
     "metadata": {},
     "outputs": [],
     "prompt_number": 2
    },
    {
     "cell_type": "code",
     "collapsed": false,
     "input": [
      "iawe.buildings[1].elec"
     ],
     "language": "python",
     "metadata": {},
     "outputs": [
      {
       "metadata": {},
       "output_type": "pyout",
       "prompt_number": 3,
       "text": [
        "MeterGroup(meters=\n",
        "  ElecMeter(instance=1, building=1, dataset='iAWE', site_meter, appliances=[])\n",
        "  ElecMeter(instance=2, building=1, dataset='iAWE', site_meter, appliances=[])\n",
        "  ElecMeter(instance=3, building=1, dataset='iAWE', appliances=[Appliance(type='fridge', instance=1)])\n",
        "  ElecMeter(instance=4, building=1, dataset='iAWE', appliances=[Appliance(type='air conditioner', instance=1)])\n",
        "  ElecMeter(instance=5, building=1, dataset='iAWE', appliances=[Appliance(type='air conditioner', instance=2)])\n",
        "  ElecMeter(instance=6, building=1, dataset='iAWE', appliances=[Appliance(type='washing machine', instance=1)])\n",
        "  ElecMeter(instance=7, building=1, dataset='iAWE', appliances=[Appliance(type='computer', instance=1)])\n",
        "  ElecMeter(instance=8, building=1, dataset='iAWE', appliances=[Appliance(type='clothes iron', instance=1)])\n",
        "  ElecMeter(instance=9, building=1, dataset='iAWE', appliances=[Appliance(type='unknown', instance=1)])\n",
        "  ElecMeter(instance=10, building=1, dataset='iAWE', appliances=[Appliance(type='television', instance=1)])\n",
        "  ElecMeter(instance=11, building=1, dataset='iAWE', appliances=[Appliance(type='wet appliance', instance=1)])\n",
        "  ElecMeter(instance=12, building=1, dataset='iAWE', appliances=[Appliance(type='motor', instance=1)])\n",
        ")"
       ]
      }
     ],
     "prompt_number": 3
    },
    {
     "cell_type": "code",
     "collapsed": false,
     "input": [
      "%matplotlib inline"
     ],
     "language": "python",
     "metadata": {},
     "outputs": [],
     "prompt_number": 4
    },
    {
     "cell_type": "code",
     "collapsed": false,
     "input": [
      "iawe.buildings[1].elec.draw_wiring_graph()\n"
     ],
     "language": "python",
     "metadata": {},
     "outputs": [
      {
       "metadata": {},
       "output_type": "display_data",
       "png": "[encoded data removed]",
       "text": [
        "<matplotlib.figure.Figure at 0x7f3ef1687450>"
       ]
      }
     ],
     "prompt_number": 5
    },
    {
     "cell_type": "code",
     "collapsed": false,
     "input": [
      "elec = iawe.buildings[1].elec"
     ],
     "language": "python",
     "metadata": {},
     "outputs": [],
     "prompt_number": 6
    },
    {
     "cell_type": "code",
     "collapsed": false,
     "input": [
      "elec.mains().good_sections()"
     ],
     "language": "python",
     "metadata": {},
     "outputs": [
      {
       "output_type": "stream",
       "stream": "stderr",
       "text": [
        "/home/nipun/git/nilmtk/nilmtk/metergroup.py:730: UserWarning: As a quick implementation we only get Good Sections from the first meter in the meter group.  We should really return the intersection of the good sections for all meters.  This will be fixed...\n",
        "  warn(\"As a quick implementation we only get Good Sections from\"\n"
       ]
      },
      {
       "metadata": {},
       "output_type": "pyout",
       "prompt_number": 7,
       "text": [
        "[TimeFrame(start='2013-05-24 05:30:00+05:30', end='2013-05-24 07:13:35+05:30', empty=False),\n",
        " TimeFrame(start='2013-05-24 09:07:19+05:30', end='2013-05-25 12:07:19+05:30', empty=False),\n",
        " TimeFrame(start='2013-05-25 13:38:35+05:30', end='2013-05-25 14:08:06+05:30', empty=False),\n",
        " TimeFrame(start='2013-05-25 14:36:51+05:30', end='2013-05-25 18:06:43+05:30', empty=False),\n",
        " TimeFrame(start='2013-05-25 19:07:08+05:30', end='2013-05-26 00:56:38+05:30', empty=False),\n",
        " TimeFrame(start='2013-05-26 01:50:55+05:30', end='2013-05-26 15:55:34+05:30', empty=False),\n",
        " TimeFrame(start='2013-05-26 16:18:08+05:30', end='2013-05-26 23:37:08+05:30', empty=False),\n",
        " TimeFrame(start='2013-05-27 00:12:16+05:30', end='2013-05-27 11:02:20+05:30', empty=False),\n",
        " TimeFrame(start='2013-05-27 11:25:28+05:30', end='2013-05-27 18:13:53+05:30', empty=False),\n",
        " TimeFrame(start='2013-05-27 18:26:24+05:30', end='2013-05-27 18:45:21+05:30', empty=False),\n",
        " TimeFrame(start='2013-05-27 19:25:30+05:30', end='2013-05-28 00:21:33+05:30', empty=False),\n",
        " TimeFrame(start='2013-05-28 00:39:35+05:30', end='2013-05-28 07:58:23+05:30', empty=False),\n",
        " TimeFrame(start='2013-05-28 08:47:21+05:30', end='2013-05-28 08:47:24+05:30', empty=False),\n",
        " TimeFrame(start='2013-05-28 08:52:49+05:30', end='2013-05-28 16:11:30+05:30', empty=False),\n",
        " TimeFrame(start='2013-05-28 16:25:35+05:30', end='2013-05-28 16:55:35+05:30', empty=False),\n",
        " TimeFrame(start='2013-05-28 17:10:37+05:30', end='2013-05-28 17:28:32+05:30', empty=False),\n",
        " TimeFrame(start='2013-05-28 18:21:51+05:30', end='2013-05-29 06:08:37+05:30', empty=False),\n",
        " TimeFrame(start='2013-05-29 06:32:54+05:30', end='2013-05-30 01:08:55+05:30', empty=False),\n",
        " TimeFrame(start='2013-05-30 02:38:09+05:30', end='2013-05-30 22:36:55+05:30', empty=False),\n",
        " TimeFrame(start='2013-05-30 23:22:40+05:30', end='2013-05-31 09:55:55+05:30', empty=False),\n",
        " TimeFrame(start='2013-05-31 11:53:57+05:30', end='2013-05-31 17:49:39+05:30', empty=False),\n",
        " TimeFrame(start='2013-05-31 18:11:54+05:30', end='2013-06-01 07:55:15+05:30', empty=False),\n",
        " TimeFrame(start='2013-06-01 08:11:46+05:30', end='2013-06-01 08:21:47+05:30', empty=False),\n",
        " TimeFrame(start='2013-06-01 10:25:35+05:30', end='2013-06-01 11:41:46+05:30', empty=False),\n",
        " TimeFrame(start='2013-06-01 11:52:40+05:30', end='2013-06-01 12:05:10+05:30', empty=False),\n",
        " TimeFrame(start='2013-06-01 12:16:04+05:30', end='2013-06-01 22:09:20+05:30', empty=False),\n",
        " TimeFrame(start='2013-06-02 06:49:00+05:30', end='2013-06-03 09:04:50+05:30', empty=False),\n",
        " TimeFrame(start='2013-06-03 09:47:22+05:30', end='2013-06-03 09:47:45+05:30', empty=False),\n",
        " TimeFrame(start='2013-06-03 10:10:47+05:30', end='2013-06-04 10:02:26+05:30', empty=False),\n",
        " TimeFrame(start='2013-06-04 12:03:12+05:30', end='2013-06-04 13:03:15+05:30', empty=False),\n",
        " TimeFrame(start='2013-06-04 13:18:17+05:30', end='2013-06-04 13:46:25+05:30', empty=False),\n",
        " TimeFrame(start='2013-06-04 14:43:57+05:30', end='2013-06-04 17:31:41+05:30', empty=False),\n",
        " TimeFrame(start='2013-06-04 18:16:09+05:30', end='2013-06-05 01:23:05+05:30', empty=False),\n",
        " TimeFrame(start='2013-06-05 02:46:30+05:30', end='2013-06-05 23:23:05+05:30', empty=False),\n",
        " TimeFrame(start='2013-06-06 04:43:05+05:30', end='2013-06-06 06:41:39+05:30', empty=False),\n",
        " TimeFrame(start='2013-06-06 08:13:12+05:30', end='2013-06-06 13:31:45+05:30', empty=False),\n",
        " TimeFrame(start='2013-06-06 15:12:30+05:30', end='2013-06-06 19:24:42+05:30', empty=False),\n",
        " TimeFrame(start='2013-06-06 23:23:51+05:30', end='2013-06-07 06:02:33+05:30', empty=False),\n",
        " TimeFrame(start='2013-06-07 07:00:03+05:30', end='2013-06-07 08:32:44+05:30', empty=False),\n",
        " TimeFrame(start='2013-06-07 08:41:28+05:30', end='2013-06-08 12:35:47+05:30', empty=False),\n",
        " TimeFrame(start='2013-06-08 13:19:04+05:30', end='2013-06-08 13:41:49+05:30', empty=False),\n",
        " TimeFrame(start='2013-06-08 15:02:19+05:30', end='2013-06-08 16:26:21+05:30', empty=False),\n",
        " TimeFrame(start='2013-06-08 16:46:14+05:30', end='2013-06-08 20:37:18+05:30', empty=False),\n",
        " TimeFrame(start='2013-06-08 22:27:43+05:30', end='2013-06-08 23:39:15+05:30', empty=False),\n",
        " TimeFrame(start='2013-06-09 00:16:27+05:30', end='2013-06-09 08:07:47+05:30', empty=False),\n",
        " TimeFrame(start='2013-06-09 08:46:02+05:30', end='2013-06-09 10:13:52+05:30', empty=False),\n",
        " TimeFrame(start='2013-06-09 11:10:56+05:30', end='2013-06-09 17:05:41+05:30', empty=False),\n",
        " TimeFrame(start='2013-06-09 17:27:56+05:30', end='2013-06-09 18:17:50+05:30', empty=False),\n",
        " TimeFrame(start='2013-06-09 18:37:24+05:30', end='2013-06-09 22:28:20+05:30', empty=False),\n",
        " TimeFrame(start='2013-06-10 00:22:41+05:30', end='2013-06-10 17:32:23+05:30', empty=False),\n",
        " TimeFrame(start='2013-06-10 18:03:17+05:30', end='2013-06-10 18:21:17+05:30', empty=False),\n",
        " TimeFrame(start='2013-06-10 18:57:56+05:30', end='2013-06-11 00:15:39+05:30', empty=False),\n",
        " TimeFrame(start='2013-06-11 02:42:00+05:30', end='2013-06-11 07:04:25+05:30', empty=False),\n",
        " TimeFrame(start='2013-06-11 07:34:03+05:30', end='2013-06-11 18:13:21+05:30', empty=False),\n",
        " TimeFrame(start='2013-06-11 18:48:46+05:30', end='2013-06-12 13:31:31+05:30', empty=False),\n",
        " TimeFrame(start='2013-06-12 13:43:09+05:30', end='2013-06-12 14:18:30+05:30', empty=False),\n",
        " TimeFrame(start='2013-06-12 16:13:30+05:30', end='2013-06-12 20:07:40+05:30', empty=False),\n",
        " TimeFrame(start='2013-06-12 20:39:26+05:30', end='2013-06-14 14:43:50+05:30', empty=False),\n",
        " TimeFrame(start='2013-06-14 15:04:10+05:30', end='2013-06-16 13:38:05+05:30', empty=False),\n",
        " TimeFrame(start='2013-06-16 16:28:22+05:30', end='2013-06-16 17:35:15+05:30', empty=False),\n",
        " TimeFrame(start='2013-06-16 20:52:08+05:30', end='2013-06-16 22:19:17+05:30', empty=False),\n",
        " TimeFrame(start='2013-06-16 22:41:03+05:30', end='2013-06-19 10:57:51+05:30', empty=False),\n",
        " TimeFrame(start='2013-06-19 14:29:42+05:30', end='2013-06-19 20:28:10+05:30', empty=False),\n",
        " TimeFrame(start='2013-06-19 20:59:48+05:30', end='2013-06-20 14:18:00+05:30', empty=False),\n",
        " TimeFrame(start='2013-06-20 14:37:49+05:30', end='2013-06-22 00:22:18+05:30', empty=False),\n",
        " TimeFrame(start='2013-06-22 01:25:27+05:30', end='2013-06-22 22:39:14+05:30', empty=False),\n",
        " TimeFrame(start='2013-06-23 00:09:59+05:30', end='2013-06-23 00:14:19+05:30', empty=False),\n",
        " TimeFrame(start='2013-06-23 00:36:38+05:30', end='2013-06-25 10:33:56+05:30', empty=False),\n",
        " TimeFrame(start='2013-06-25 11:36:00+05:30', end='2013-06-26 10:45:34+05:30', empty=False),\n",
        " TimeFrame(start='2013-06-26 13:20:26+05:30', end='2013-06-26 17:23:01+05:30', empty=False),\n",
        " TimeFrame(start='2013-06-26 17:36:39+05:30', end='2013-06-26 19:29:57+05:30', empty=False),\n",
        " TimeFrame(start='2013-06-26 19:36:37+05:30', end='2013-06-26 19:55:02+05:30', empty=False),\n",
        " TimeFrame(start='2013-06-26 20:03:42+05:30', end='2013-06-28 09:40:24+05:30', empty=False),\n",
        " TimeFrame(start='2013-06-28 10:14:31+05:30', end='2013-07-01 14:28:57+05:30', empty=False),\n",
        " TimeFrame(start='2013-07-01 15:22:33+05:30', end='2013-07-02 04:31:28+05:30', empty=False),\n",
        " TimeFrame(start='2013-07-02 05:29:38+05:30', end='2013-07-03 08:42:38+05:30', empty=False),\n",
        " TimeFrame(start='2013-07-03 08:55:51+05:30', end='2013-07-04 10:12:17+05:30', empty=False),\n",
        " TimeFrame(start='2013-07-04 10:20:22+05:30', end='2013-07-05 14:28:12+05:30', empty=False),\n",
        " TimeFrame(start='2013-07-05 14:38:59+05:30', end='2013-07-05 18:40:26+05:30', empty=False),\n",
        " TimeFrame(start='2013-07-05 19:31:50+05:30', end='2013-07-06 06:23:01+05:30', empty=False),\n",
        " TimeFrame(start='2013-07-06 07:15:25+05:30', end='2013-07-06 10:59:03+05:30', empty=False),\n",
        " TimeFrame(start='2013-07-06 11:05:37+05:30', end='2013-07-06 12:05:39+05:30', empty=False),\n",
        " TimeFrame(start='2013-07-06 12:20:56+05:30', end='2013-07-06 12:35:56+05:30', empty=False),\n",
        " TimeFrame(start='2013-07-06 12:47:21+05:30', end='2013-07-06 13:17:57+05:30', empty=False),\n",
        " TimeFrame(start='2013-07-06 13:48:48+05:30', end='2013-07-06 15:16:06+05:30', empty=False),\n",
        " TimeFrame(start='2013-07-06 15:37:15+05:30', end='2013-07-06 17:56:26+05:30', empty=False),\n",
        " TimeFrame(start='2013-07-06 18:15:37+05:30', end='2013-07-09 11:45:03+05:30', empty=False),\n",
        " TimeFrame(start='2013-07-09 13:22:46+05:30', end='2013-07-11 23:00:06+05:30', empty=False),\n",
        " TimeFrame(start='2013-07-12 01:01:55+05:30', end='2013-07-12 10:41:01+05:30', empty=False),\n",
        " TimeFrame(start='2013-07-12 17:40:31+05:30', end='2013-07-13 05:00:34+05:30', empty=False),\n",
        " TimeFrame(start='2013-07-13 06:31:29+05:30', end='2013-07-14 11:56:17+05:30', empty=False),\n",
        " TimeFrame(start='2013-07-14 12:48:08+05:30', end='2013-07-17 00:36:02+05:30', empty=False),\n",
        " TimeFrame(start='2013-07-17 00:46:40+05:30', end='2013-07-18 10:20:31+05:30', empty=False),\n",
        " TimeFrame(start='2013-07-18 10:31:10+05:30', end='2013-07-20 09:50:07+05:30', empty=False),\n",
        " TimeFrame(start='2013-07-20 09:56:46+05:30', end='2013-07-20 11:12:13+05:30', empty=False),\n",
        " TimeFrame(start='2013-07-20 11:25:10+05:30', end='2013-07-22 01:15:18+05:30', empty=False),\n",
        " TimeFrame(start='2013-07-22 02:01:45+05:30', end='2013-07-24 23:22:40+05:30', empty=False),\n",
        " TimeFrame(start='2013-07-24 23:39:26+05:30', end='2013-07-25 10:28:30+05:30', empty=False),\n",
        " TimeFrame(start='2013-07-25 11:08:23+05:30', end='2013-07-27 10:35:55+05:30', empty=False),\n",
        " TimeFrame(start='2013-07-27 11:14:34+05:30', end='2013-07-29 01:37:31+05:30', empty=False),\n",
        " TimeFrame(start='2013-07-29 03:24:09+05:30', end='2013-07-30 14:27:06+05:30', empty=False),\n",
        " TimeFrame(start='2013-07-30 14:46:54+05:30', end='2013-08-03 03:49:56+05:30', empty=False),\n",
        " TimeFrame(start='2013-08-03 06:08:35+05:30', end='2013-08-04 00:29:13+05:30', empty=False),\n",
        " TimeFrame(start='2013-08-04 01:47:45+05:30', end='2013-08-04 11:33:47+05:30', empty=False),\n",
        " TimeFrame(start='2013-08-04 12:20:03+05:30', end='2013-08-05 21:03:16+05:30', empty=False)]"
       ]
      }
     ],
     "prompt_number": 7
    },
    {
     "cell_type": "code",
     "collapsed": false,
     "input": [
      "import time"
     ],
     "language": "python",
     "metadata": {},
     "outputs": [],
     "prompt_number": 7
    },
    {
     "cell_type": "code",
     "collapsed": false,
     "input": [
      "from pycallgraph import PyCallGraph\n",
      "from pycallgraph.output import GraphvizOutput\n",
      "\n",
      "graphviz = GraphvizOutput(output_file='filter_none.png')"
     ],
     "language": "python",
     "metadata": {},
     "outputs": [],
     "prompt_number": 13
    },
    {
     "cell_type": "code",
     "collapsed": false,
     "input": [
      "with PyCallGraph(output=graphviz):\n",
      "    elec.mains().power_series_all_data().head()"
     ],
     "language": "python",
     "metadata": {},
     "outputs": [],
     "prompt_number": 15
    },
    {
     "cell_type": "code",
     "collapsed": false,
     "input": [
      "from IPython.display import Image\n",
      "Image('filter_none.png')"
     ],
     "language": "python",
     "metadata": {},
     "outputs": [
      {
       "metadata": {},
       "output_type": "pyout",
       "png": "[encoded data removed]",
       "prompt_number": 16,
       "text": [
        "<IPython.core.display.Image at 0x7ff2307ade50>"
       ]
      }
     ],
     "prompt_number": 16
    },
    {
     "cell_type": "code",
     "collapsed": false,
     "input": [
      " mains = elec.mains()"
     ],
     "language": "python",
     "metadata": {},
     "outputs": [],
     "prompt_number": 8
    },
    {
     "cell_type": "code",
     "collapsed": false,
     "input": [
      "mains_good_sections = mains.good_sections()"
     ],
     "language": "python",
     "metadata": {},
     "outputs": [],
     "prompt_number": 9
    },
    {
     "cell_type": "code",
     "collapsed": false,
     "input": [
      "mains_energy = mains.total_energy(sections=mains_good_sections)"
     ],
     "language": "python",
     "metadata": {},
     "outputs": [
      {
       "output_type": "stream",
       "stream": "stderr",
       "text": [
        "/home/nipun/git/nilmtk/nilmtk/preprocessing/clip.py:50: RuntimeWarning: No measurement limits for ('frequency', '').\n",
        "  warn('No measurement limits for {}.'.format(measurement), RuntimeWarning)\n",
        "/home/nipun/git/nilmtk/nilmtk/preprocessing/clip.py:50: RuntimeWarning: No measurement limits for ('voltage', '').\n",
        "  warn('No measurement limits for {}.'.format(measurement), RuntimeWarning)\n",
        "/home/nipun/git/nilmtk/nilmtk/preprocessing/clip.py:50: RuntimeWarning: No measurement limits for ('pf', '').\n",
        "  warn('No measurement limits for {}.'.format(measurement), RuntimeWarning)\n",
        "/home/nipun/git/nilmtk/nilmtk/preprocessing/clip.py:50: RuntimeWarning: No measurement limits for ('current', '').\n",
        "  warn('No measurement limits for {}.'.format(measurement), RuntimeWarning)\n"
       ]
      }
     ],
     "prompt_number": 10
    },
    {
     "cell_type": "code",
     "collapsed": false,
     "input": [
      "mains.dataframe_of_meters()"
     ],
     "language": "python",
     "metadata": {},
     "outputs": [
      {
       "ename": "ValueError",
       "evalue": "Periods overlap: TimeFrame(start='2013-06-25 15:54:30+05:30', end='2013-06-26 10:45:34+05:30', empty=False) TimeFrame(start='2013-06-25 15:54:42+05:30', end='2013-06-26 10:45:34+05:30', empty=False)",
       "output_type": "pyerr",
       "traceback": [
        "\u001b[1;31m---------------------------------------------------------------------------\u001b[0m\n\u001b[1;31mValueError\u001b[0m                                Traceback (most recent call last)",
        "\u001b[1;32m<ipython-input-11-737041b3fe7e>\u001b[0m in \u001b[0;36m<module>\u001b[1;34m()\u001b[0m\n\u001b[1;32m----> 1\u001b[1;33m \u001b[0mmains\u001b[0m\u001b[1;33m.\u001b[0m\u001b[0mdataframe_of_meters\u001b[0m\u001b[1;33m(\u001b[0m\u001b[1;33m)\u001b[0m\u001b[1;33m\u001b[0m\u001b[0m\n\u001b[0m",
        "\u001b[1;32m/home/nipun/git/nilmtk/nilmtk/metergroup.pyc\u001b[0m in \u001b[0;36mdataframe_of_meters\u001b[1;34m(self, rule)\u001b[0m\n\u001b[0;32m    648\u001b[0m         \u001b[0mmains\u001b[0m \u001b[1;33m=\u001b[0m \u001b[0mself\u001b[0m\u001b[1;33m.\u001b[0m\u001b[0mmains\u001b[0m\u001b[1;33m(\u001b[0m\u001b[1;33m)\u001b[0m\u001b[1;33m\u001b[0m\u001b[0m\n\u001b[0;32m    649\u001b[0m         \u001b[0mmains_good_sections\u001b[0m \u001b[1;33m=\u001b[0m \u001b[0mmains\u001b[0m\u001b[1;33m.\u001b[0m\u001b[0mgood_sections\u001b[0m\u001b[1;33m(\u001b[0m\u001b[1;33m)\u001b[0m\u001b[1;33m\u001b[0m\u001b[0m\n\u001b[1;32m--> 650\u001b[1;33m         \u001b[0mmains_energy\u001b[0m \u001b[1;33m=\u001b[0m \u001b[0mmains\u001b[0m\u001b[1;33m.\u001b[0m\u001b[0mtotal_energy\u001b[0m\u001b[1;33m(\u001b[0m\u001b[0msections\u001b[0m\u001b[1;33m=\u001b[0m\u001b[0mmains_good_sections\u001b[0m\u001b[1;33m)\u001b[0m\u001b[1;33m\u001b[0m\u001b[0m\n\u001b[0m\u001b[0;32m    651\u001b[0m         \u001b[0menergy_ac_type\u001b[0m \u001b[1;33m=\u001b[0m \u001b[0mselect_best_ac_type\u001b[0m\u001b[1;33m(\u001b[0m\u001b[0mmains_energy\u001b[0m\u001b[1;33m.\u001b[0m\u001b[0mkeys\u001b[0m\u001b[1;33m(\u001b[0m\u001b[1;33m)\u001b[0m\u001b[1;33m)\u001b[0m\u001b[1;33m\u001b[0m\u001b[0m\n\u001b[0;32m    652\u001b[0m         \u001b[0menergy_threshold\u001b[0m \u001b[1;33m=\u001b[0m \u001b[0mmains_energy\u001b[0m\u001b[1;33m[\u001b[0m\u001b[0menergy_ac_type\u001b[0m\u001b[1;33m]\u001b[0m \u001b[1;33m*\u001b[0m \u001b[1;36m0.05\u001b[0m\u001b[1;33m\u001b[0m\u001b[0m\n",
        "\u001b[1;32m/home/nipun/git/nilmtk/nilmtk/metergroup.pyc\u001b[0m in \u001b[0;36mtotal_energy\u001b[1;34m(self, **load_kwargs)\u001b[0m\n\u001b[0;32m    547\u001b[0m \u001b[1;33m\u001b[0m\u001b[0m\n\u001b[0;32m    548\u001b[0m         meter_energies = self._collect_stats_on_all_meters(\n\u001b[1;32m--> 549\u001b[1;33m             load_kwargs, 'total_energy', full_results)\n\u001b[0m\u001b[0;32m    550\u001b[0m \u001b[1;33m\u001b[0m\u001b[0m\n\u001b[0;32m    551\u001b[0m         \u001b[1;32mif\u001b[0m \u001b[0mmeter_energies\u001b[0m\u001b[1;33m:\u001b[0m\u001b[1;33m\u001b[0m\u001b[0m\n",
        "\u001b[1;32m/home/nipun/git/nilmtk/nilmtk/metergroup.pyc\u001b[0m in \u001b[0;36m_collect_stats_on_all_meters\u001b[1;34m(self, load_kwargs, func, full_results)\u001b[0m\n\u001b[0;32m    562\u001b[0m         \u001b[1;32mfor\u001b[0m \u001b[0mmeter\u001b[0m \u001b[1;32min\u001b[0m \u001b[0mself\u001b[0m\u001b[1;33m.\u001b[0m\u001b[0mmeters\u001b[0m\u001b[1;33m:\u001b[0m\u001b[1;33m\u001b[0m\u001b[0m\n\u001b[0;32m    563\u001b[0m             single_stat = getattr(meter, func)(full_results=full_results,\n\u001b[1;32m--> 564\u001b[1;33m                                                **load_kwargs)\n\u001b[0m\u001b[0;32m    565\u001b[0m             \u001b[0mcollected_stats\u001b[0m\u001b[1;33m.\u001b[0m\u001b[0mappend\u001b[0m\u001b[1;33m(\u001b[0m\u001b[0msingle_stat\u001b[0m\u001b[1;33m)\u001b[0m\u001b[1;33m\u001b[0m\u001b[0m\n\u001b[0;32m    566\u001b[0m             if (full_results and len(self.meters) > 1 and\n",
        "\u001b[1;32m/home/nipun/git/nilmtk/nilmtk/elecmeter.pyc\u001b[0m in \u001b[0;36mtotal_energy\u001b[1;34m(self, **loader_kwargs)\u001b[0m\n\u001b[0;32m    345\u001b[0m         \u001b[0mclipped\u001b[0m \u001b[1;33m=\u001b[0m \u001b[0mClip\u001b[0m\u001b[1;33m(\u001b[0m\u001b[0msource_node\u001b[0m\u001b[1;33m)\u001b[0m\u001b[1;33m\u001b[0m\u001b[0m\n\u001b[0;32m    346\u001b[0m         \u001b[0mtotal_energy\u001b[0m \u001b[1;33m=\u001b[0m \u001b[0mTotalEnergy\u001b[0m\u001b[1;33m(\u001b[0m\u001b[0mclipped\u001b[0m\u001b[1;33m)\u001b[0m\u001b[1;33m\u001b[0m\u001b[0m\n\u001b[1;32m--> 347\u001b[1;33m         \u001b[0mtotal_energy\u001b[0m\u001b[1;33m.\u001b[0m\u001b[0mrun\u001b[0m\u001b[1;33m(\u001b[0m\u001b[1;33m)\u001b[0m\u001b[1;33m\u001b[0m\u001b[0m\n\u001b[0m\u001b[0;32m    348\u001b[0m         \u001b[1;32mif\u001b[0m \u001b[0mfull_results\u001b[0m\u001b[1;33m:\u001b[0m\u001b[1;33m\u001b[0m\u001b[0m\n\u001b[0;32m    349\u001b[0m             \u001b[1;32mreturn\u001b[0m \u001b[0mtotal_energy\u001b[0m\u001b[1;33m.\u001b[0m\u001b[0mresults\u001b[0m\u001b[1;33m\u001b[0m\u001b[0m\n",
        "\u001b[1;32m/home/nipun/git/nilmtk/nilmtk/node.pyc\u001b[0m in \u001b[0;36mrun\u001b[1;34m(self)\u001b[0m\n\u001b[0;32m     38\u001b[0m         \"\"\"Pulls data through the pipeline.  Useful if we just want to calculate \n\u001b[0;32m     39\u001b[0m         some stats.\"\"\"\n\u001b[1;32m---> 40\u001b[1;33m         \u001b[1;32mfor\u001b[0m \u001b[0m_\u001b[0m \u001b[1;32min\u001b[0m \u001b[0mself\u001b[0m\u001b[1;33m.\u001b[0m\u001b[0mprocess\u001b[0m\u001b[1;33m(\u001b[0m\u001b[1;33m)\u001b[0m\u001b[1;33m:\u001b[0m\u001b[1;33m\u001b[0m\u001b[0m\n\u001b[0m\u001b[0;32m     41\u001b[0m             \u001b[1;32mpass\u001b[0m\u001b[1;33m\u001b[0m\u001b[0m\n\u001b[0;32m     42\u001b[0m \u001b[1;33m\u001b[0m\u001b[0m\n",
        "\u001b[1;32m/home/nipun/git/nilmtk/nilmtk/stats/totalenergy.pyc\u001b[0m in \u001b[0;36mprocess\u001b[1;34m(self)\u001b[0m\n\u001b[0;32m     27\u001b[0m         \u001b[1;32mfor\u001b[0m \u001b[0mchunk\u001b[0m \u001b[1;32min\u001b[0m \u001b[0mself\u001b[0m\u001b[1;33m.\u001b[0m\u001b[0mupstream\u001b[0m\u001b[1;33m.\u001b[0m\u001b[0mprocess\u001b[0m\u001b[1;33m(\u001b[0m\u001b[1;33m)\u001b[0m\u001b[1;33m:\u001b[0m\u001b[1;33m\u001b[0m\u001b[0m\n\u001b[0;32m     28\u001b[0m             \u001b[0menergy\u001b[0m \u001b[1;33m=\u001b[0m \u001b[0mget_total_energy\u001b[0m\u001b[1;33m(\u001b[0m\u001b[0mchunk\u001b[0m\u001b[1;33m,\u001b[0m \u001b[0mmax_sample_period\u001b[0m\u001b[1;33m)\u001b[0m\u001b[1;33m\u001b[0m\u001b[0m\n\u001b[1;32m---> 29\u001b[1;33m             \u001b[0mself\u001b[0m\u001b[1;33m.\u001b[0m\u001b[0mresults\u001b[0m\u001b[1;33m.\u001b[0m\u001b[0mappend\u001b[0m\u001b[1;33m(\u001b[0m\u001b[0mchunk\u001b[0m\u001b[1;33m.\u001b[0m\u001b[0mtimeframe\u001b[0m\u001b[1;33m,\u001b[0m \u001b[0menergy\u001b[0m\u001b[1;33m)\u001b[0m\u001b[1;33m\u001b[0m\u001b[0m\n\u001b[0m\u001b[0;32m     30\u001b[0m             \u001b[1;32myield\u001b[0m \u001b[0mchunk\u001b[0m\u001b[1;33m\u001b[0m\u001b[0m\n\u001b[0;32m     31\u001b[0m \u001b[1;33m\u001b[0m\u001b[0m\n",
        "\u001b[1;32m/home/nipun/git/nilmtk/nilmtk/stats/totalenergyresults.pyc\u001b[0m in \u001b[0;36mappend\u001b[1;34m(self, timeframe, new_results)\u001b[0m\n\u001b[0;32m     21\u001b[0m             raise KeyError('new_results must be a combination of ' +\n\u001b[0;32m     22\u001b[0m                            str(AC_TYPES))\n\u001b[1;32m---> 23\u001b[1;33m         \u001b[0msuper\u001b[0m\u001b[1;33m(\u001b[0m\u001b[0mTotalEnergyResults\u001b[0m\u001b[1;33m,\u001b[0m \u001b[0mself\u001b[0m\u001b[1;33m)\u001b[0m\u001b[1;33m.\u001b[0m\u001b[0mappend\u001b[0m\u001b[1;33m(\u001b[0m\u001b[0mtimeframe\u001b[0m\u001b[1;33m,\u001b[0m \u001b[0mnew_results\u001b[0m\u001b[1;33m)\u001b[0m\u001b[1;33m\u001b[0m\u001b[0m\n\u001b[0m\u001b[0;32m     24\u001b[0m \u001b[1;33m\u001b[0m\u001b[0m\n\u001b[0;32m     25\u001b[0m     \u001b[1;32mdef\u001b[0m \u001b[0munify\u001b[0m\u001b[1;33m(\u001b[0m\u001b[0mself\u001b[0m\u001b[1;33m,\u001b[0m \u001b[0mother\u001b[0m\u001b[1;33m)\u001b[0m\u001b[1;33m:\u001b[0m\u001b[1;33m\u001b[0m\u001b[0m\n",
        "\u001b[1;32m/home/nipun/git/nilmtk/nilmtk/results.pyc\u001b[0m in \u001b[0;36mappend\u001b[1;34m(self, timeframe, new_results)\u001b[0m\n\u001b[0;32m     61\u001b[0m             \u001b[1;32mif\u001b[0m \u001b[1;32mnot\u001b[0m \u001b[0mintersect\u001b[0m\u001b[1;33m.\u001b[0m\u001b[0mempty\u001b[0m\u001b[1;33m:\u001b[0m\u001b[1;33m\u001b[0m\u001b[0m\n\u001b[0;32m     62\u001b[0m                 raise ValueError(\"Periods overlap: \" + str(tf) + \n\u001b[1;32m---> 63\u001b[1;33m                                  \" \" + str(timeframe))\n\u001b[0m\u001b[0;32m     64\u001b[0m \u001b[1;33m\u001b[0m\u001b[0m\n\u001b[0;32m     65\u001b[0m         row = pd.DataFrame(index=[timeframe.start],\n",
        "\u001b[1;31mValueError\u001b[0m: Periods overlap: TimeFrame(start='2013-06-25 15:54:30+05:30', end='2013-06-26 10:45:34+05:30', empty=False) TimeFrame(start='2013-06-25 15:54:42+05:30', end='2013-06-26 10:45:34+05:30', empty=False)"
       ]
      },
      {
       "output_type": "stream",
       "stream": "stdout",
       "text": [
        "> \u001b[1;32m/home/nipun/git/nilmtk/nilmtk/results.py\u001b[0m(63)\u001b[0;36mappend\u001b[1;34m()\u001b[0m\n",
        "\u001b[1;32m     62 \u001b[1;33m                raise ValueError(\"Periods overlap: \" + str(tf) + \n",
        "\u001b[0m\u001b[1;32m---> 63 \u001b[1;33m                                 \" \" + str(timeframe))\n",
        "\u001b[0m\u001b[1;32m     64 \u001b[1;33m\u001b[1;33m\u001b[0m\u001b[0m\n",
        "\u001b[0m\n"
       ]
      },
      {
       "name": "stdout",
       "output_type": "stream",
       "stream": "stdout",
       "text": [
        "ipdb> ?\n"
       ]
      },
      {
       "output_type": "stream",
       "stream": "stdout",
       "text": [
        "\n",
        "Documented commands (type help <topic>):\n",
        "========================================\n",
        "EOF    bt         cont      enable  jump  pdef    psource  run      unt   \n",
        "a      c          continue  exit    l     pdoc    q        s        until \n",
        "alias  cl         d         h       list  pfile   quit     step     up    \n",
        "args   clear      debug     help    n     pinfo   r        tbreak   w     \n",
        "b      commands   disable   ignore  next  pinfo2  restart  u        whatis\n",
        "break  condition  down      j       p     pp      return   unalias  where \n",
        "\n",
        "Miscellaneous help topics:\n",
        "==========================\n",
        "exec  pdb\n",
        "\n",
        "Undocumented commands:\n",
        "======================\n",
        "retval  rv\n",
        "\n"
       ]
      },
      {
       "name": "stdout",
       "output_type": "stream",
       "stream": "stdout",
       "text": [
        "ipdb> p mains_good_sections\n"
       ]
      },
      {
       "output_type": "stream",
       "stream": "stdout",
       "text": [
        "*** NameError: NameError(\"name 'mains_good_sections' is not defined\",)\n"
       ]
      },
      {
       "name": "stdout",
       "output_type": "stream",
       "stream": "stdout",
       "text": [
        "ipdb> q\n"
       ]
      }
     ],
     "prompt_number": 11
    },
    {
     "cell_type": "code",
     "collapsed": false,
     "input": [],
     "language": "python",
     "metadata": {},
     "outputs": []
    },
    {
     "cell_type": "code",
     "collapsed": false,
     "input": [
      "import time\n",
      "start = time.time()\n",
      "print elec.proportion_of_energy_submetered()\n",
      "end = time.time()\n",
      "print end - start, \"s\""
     ],
     "language": "python",
     "metadata": {},
     "outputs": [
      {
       "output_type": "stream",
       "stream": "stdout",
       "text": [
        "Getting total energy for ('fridge', 1)\n",
        "  total energy ="
       ]
      },
      {
       "output_type": "stream",
       "stream": "stdout",
       "text": [
        " active      80.463459\n",
        "reactive    52.435464\n",
        "apparent    97.008218\n",
        "dtype: float64\n",
        "Getting total energy for ('television', 1)\n",
        "  total energy ="
       ]
      },
      {
       "output_type": "stream",
       "stream": "stdout",
       "text": [
        " active      10.926226\n",
        "reactive     0.000116\n",
        "apparent    11.651691\n",
        "dtype: float64\n",
        "Getting total energy for ('wet appliance', 1)\n",
        "  total energy ="
       ]
      },
      {
       "output_type": "stream",
       "stream": "stdout",
       "text": [
        " active      0.543758\n",
        "reactive    2.040104\n",
        "apparent    2.249115\n",
        "dtype: float64\n",
        "Getting total energy for ('washing machine', 1)\n",
        "  total energy ="
       ]
      },
      {
       "output_type": "stream",
       "stream": "stdout",
       "text": [
        " active      1.842086\n",
        "reactive    0.008720\n",
        "apparent    1.860645\n",
        "dtype: float64\n",
        "Getting total energy for ('air conditioner', 1)\n",
        "  total energy ="
       ]
      },
      {
       "output_type": "stream",
       "stream": "stdout",
       "text": [
        " active      191.952256\n",
        "reactive     39.911030\n",
        "apparent    196.658907\n",
        "dtype: float64\n",
        "Getting total energy for ('clothes iron', 1)\n",
        "  total energy ="
       ]
      },
      {
       "output_type": "stream",
       "stream": "stdout",
       "text": [
        " active      0.786596\n",
        "reactive    0.000328\n",
        "apparent    0.806191\n",
        "dtype: float64\n",
        "Getting total energy for ('computer', 1)\n",
        "  total energy ="
       ]
      },
      {
       "output_type": "stream",
       "stream": "stdout",
       "text": [
        " active      23.358390\n",
        "reactive     0.001638\n",
        "apparent    41.373663\n",
        "dtype: float64\n",
        "Getting total energy for ('air conditioner', 2)\n",
        "  total energy ="
       ]
      },
      {
       "output_type": "stream",
       "stream": "stdout",
       "text": [
        " active      194.012510\n",
        "reactive     33.438748\n",
        "apparent    197.279263\n",
        "dtype: float64\n",
        "Getting total energy for ('motor', 1)\n",
        "  total energy ="
       ]
      },
      {
       "output_type": "stream",
       "stream": "stdout",
       "text": [
        " active    1.047471\n",
        "dtype: float64\n",
        "Getting total energy for ('unknown', 1)\n",
        "  total energy ="
       ]
      },
      {
       "output_type": "stream",
       "stream": "stdout",
       "text": [
        " active      0.556922\n",
        "reactive    0.208699\n",
        "apparent    0.635201\n",
        "dtype: float64\n",
        "Using AC type 'active' from mains."
       ]
      },
      {
       "output_type": "stream",
       "stream": "stdout",
       "text": [
        "\n",
        "0.370032075004\n",
        "163.649049997 s\n"
       ]
      }
     ],
     "prompt_number": 11
    },
    {
     "cell_type": "code",
     "collapsed": false,
     "input": [
      "start = time.time()\n",
      "elec.total_energy()\n",
      "end  = time.time()"
     ],
     "language": "python",
     "metadata": {},
     "outputs": [],
     "prompt_number": 12
    },
    {
     "cell_type": "code",
     "collapsed": false,
     "input": [
      "print elec.total_energy()"
     ],
     "language": "python",
     "metadata": {},
     "outputs": [
      {
       "output_type": "stream",
       "stream": "stdout",
       "text": [
        "active      1897.730371\n",
        "reactive     262.570156\n",
        "apparent    2009.394436\n",
        "dtype: float64\n"
       ]
      }
     ],
     "prompt_number": 9
    },
    {
     "cell_type": "code",
     "collapsed": false,
     "input": [
      "print end - start"
     ],
     "language": "python",
     "metadata": {},
     "outputs": [
      {
       "output_type": "stream",
       "stream": "stdout",
       "text": [
        "7.19227719307\n"
       ]
      }
     ],
     "prompt_number": 13
    },
    {
     "cell_type": "code",
     "collapsed": false,
     "input": [
      "mains = elec.mains()"
     ],
     "language": "python",
     "metadata": {},
     "outputs": [],
     "prompt_number": 17
    },
    {
     "cell_type": "code",
     "collapsed": false,
     "input": [
      "m = mains.meters[1]"
     ],
     "language": "python",
     "metadata": {},
     "outputs": [],
     "prompt_number": 20
    },
    {
     "cell_type": "code",
     "collapsed": false,
     "input": [
      "m.power_series_all_data()"
     ],
     "language": "python",
     "metadata": {},
     "outputs": [
      {
       "metadata": {},
       "output_type": "pyout",
       "prompt_number": 22,
       "text": [
        "2013-05-24 05:30:00+05:30    282.744995\n",
        "2013-05-24 05:30:01+05:30    288.757996\n",
        "2013-05-24 05:30:02+05:30    288.757996\n",
        "2013-05-24 05:30:03+05:30    297.394012\n",
        "2013-05-24 05:30:04+05:30    303.722992\n",
        "2013-05-24 05:30:05+05:30    297.273987\n",
        "2013-05-24 05:30:06+05:30    297.330994\n",
        "2013-05-24 05:30:07+05:30    297.330994\n",
        "2013-05-24 05:30:08+05:30    282.475006\n",
        "2013-05-24 05:30:09+05:30    282.580994\n",
        "2013-05-24 05:30:10+05:30    282.899994\n",
        "2013-05-24 05:30:11+05:30    282.915985\n",
        "2013-05-24 05:30:12+05:30    283.238007\n",
        "2013-05-24 05:30:13+05:30    283.238007\n",
        "2013-05-24 05:30:14+05:30    283.174011\n",
        "...\n",
        "2013-08-05 21:02:46+05:30    696.109985\n",
        "2013-08-05 21:02:49+05:30    696.047974\n",
        "2013-08-05 21:02:50+05:30    695.791992\n",
        "2013-08-05 21:02:53+05:30    695.333008\n",
        "2013-08-05 21:02:54+05:30    695.291992\n",
        "2013-08-05 21:02:57+05:30    695.656982\n",
        "2013-08-05 21:02:58+05:30    695.742004\n",
        "2013-08-05 21:03:01+05:30    696.257019\n",
        "2013-08-05 21:03:04+05:30    696.877991\n",
        "2013-08-05 21:03:07+05:30    696.685974\n",
        "2013-08-05 21:03:09+05:30    696.762024\n",
        "2013-08-05 21:03:10+05:30    696.864990\n",
        "2013-08-05 21:03:11+05:30    696.864990\n",
        "2013-08-05 21:03:12+05:30    697.007996\n",
        "2013-08-05 21:03:15+05:30    697.237976\n",
        "Name: (power, active), Length: 4391004"
       ]
      }
     ],
     "prompt_number": 22
    },
    {
     "cell_type": "code",
     "collapsed": false,
     "input": [
      "m.total_energy()"
     ],
     "language": "python",
     "metadata": {},
     "outputs": [
      {
       "metadata": {},
       "output_type": "pyout",
       "prompt_number": 23,
       "text": [
        "active      1005.572193\n",
        "reactive      96.815441\n",
        "apparent    1043.941205\n",
        "dtype: float64"
       ]
      }
     ],
     "prompt_number": 23
    },
    {
     "cell_type": "code",
     "collapsed": false,
     "input": [
      "import time\n",
      "start  =  time.time()\n",
      "elec.fraction_per_meter()\n",
      "end  =  time.time()"
     ],
     "language": "python",
     "metadata": {},
     "outputs": [
      {
       "output_type": "stream",
       "stream": "stderr",
       "text": [
        "/home/nipun/git/nilmtk/nilmtk/preprocessing/clip.py:50: RuntimeWarning: No measurement limits for ('frequency', '').\n",
        "  warn('No measurement limits for {}.'.format(measurement), RuntimeWarning)\n",
        "/home/nipun/git/nilmtk/nilmtk/preprocessing/clip.py:50: RuntimeWarning: No measurement limits for ('voltage', '').\n",
        "  warn('No measurement limits for {}.'.format(measurement), RuntimeWarning)\n",
        "/home/nipun/git/nilmtk/nilmtk/preprocessing/clip.py:50: RuntimeWarning: No measurement limits for ('pf', '').\n",
        "  warn('No measurement limits for {}.'.format(measurement), RuntimeWarning)\n",
        "/home/nipun/git/nilmtk/nilmtk/preprocessing/clip.py:50: RuntimeWarning: No measurement limits for ('current', '').\n",
        "  warn('No measurement limits for {}.'.format(measurement), RuntimeWarning)\n"
       ]
      }
     ],
     "prompt_number": 10
    },
    {
     "cell_type": "code",
     "collapsed": false,
     "input": [
      "print elec.fraction_per_meter()"
     ],
     "language": "python",
     "metadata": {},
     "outputs": [
      {
       "output_type": "stream",
       "stream": "stdout",
       "text": [
        "\r",
        "1/12 ElecMeter(instance=1, building=1, dataset='iAWE', site_meter, appliances=[])"
       ]
      },
      {
       "output_type": "stream",
       "stream": "stdout",
       "text": [
        "\r",
        "2/12 ElecMeter(instance=2, building=1, dataset='iAWE', site_meter, appliances=[])"
       ]
      },
      {
       "output_type": "stream",
       "stream": "stdout",
       "text": [
        "\r",
        "3/12 ElecMeter(instance=3, building=1, dataset='iAWE', appliances=[Appliance(type='fridge', instance=1)])"
       ]
      },
      {
       "output_type": "stream",
       "stream": "stdout",
       "text": [
        "\r",
        "4/12 ElecMeter(instance=4, building=1, dataset='iAWE', appliances=[Appliance(type='air conditioner', instance=1)])"
       ]
      },
      {
       "output_type": "stream",
       "stream": "stdout",
       "text": [
        "\r",
        "5/12 ElecMeter(instance=5, building=1, dataset='iAWE', appliances=[Appliance(type='air conditioner', instance=2)])"
       ]
      },
      {
       "output_type": "stream",
       "stream": "stdout",
       "text": [
        "\r",
        "6/12 ElecMeter(instance=6, building=1, dataset='iAWE', appliances=[Appliance(type='washing machine', instance=1)])"
       ]
      },
      {
       "output_type": "stream",
       "stream": "stdout",
       "text": [
        "\r",
        "7/12 ElecMeter(instance=7, building=1, dataset='iAWE', appliances=[Appliance(type='computer', instance=1)])"
       ]
      },
      {
       "output_type": "stream",
       "stream": "stdout",
       "text": [
        "\r",
        "8/12 ElecMeter(instance=8, building=1, dataset='iAWE', appliances=[Appliance(type='clothes iron', instance=1)])"
       ]
      },
      {
       "output_type": "stream",
       "stream": "stdout",
       "text": [
        "\r",
        "9/12 ElecMeter(instance=9, building=1, dataset='iAWE', appliances=[Appliance(type='unknown', instance=1)])"
       ]
      },
      {
       "output_type": "stream",
       "stream": "stdout",
       "text": [
        "\r",
        "10/12 ElecMeter(instance=10, building=1, dataset='iAWE', appliances=[Appliance(type='television', instance=1)])"
       ]
      },
      {
       "output_type": "stream",
       "stream": "stdout",
       "text": [
        "\r",
        "11/12 ElecMeter(instance=11, building=1, dataset='iAWE', appliances=[Appliance(type='wet appliance', instance=1)])"
       ]
      },
      {
       "output_type": "stream",
       "stream": "stdout",
       "text": [
        "\r",
        "12/12 ElecMeter(instance=12, building=1, dataset='iAWE', appliances=[Appliance(type='motor', instance=1)])"
       ]
      },
      {
       "output_type": "stream",
       "stream": "stdout",
       "text": [
        "1                     NaN\n",
        "2                     NaN\n",
        "3                     NaN\n",
        "4                     NaN\n",
        "5                     NaN\n",
        "6                     NaN\n",
        "7                     NaN\n",
        "8                     NaN\n",
        "9                     NaN\n",
        "10                    NaN\n",
        "11                    NaN\n",
        "12                    NaN\n",
        "(1, 1, iAWE)     0.192552\n",
        "(2, 1, iAWE)     0.519530\n",
        "(3, 1, iAWE)     0.049750\n",
        "(4, 1, iAWE)     0.103877\n",
        "(5, 1, iAWE)     0.103186\n",
        "(6, 1, iAWE)     0.001082\n",
        "(7, 1, iAWE)     0.021384\n",
        "(8, 1, iAWE)     0.000453\n",
        "(9, 1, iAWE)     0.000403\n",
        "(10, 1, iAWE)    0.006101\n",
        "(11, 1, iAWE)    0.001146\n",
        "(12, 1, iAWE)    0.000536\n",
        "dtype: float64\n"
       ]
      }
     ],
     "prompt_number": 14
    },
    {
     "cell_type": "code",
     "collapsed": false,
     "input": [
      "print end - start"
     ],
     "language": "python",
     "metadata": {},
     "outputs": [
      {
       "output_type": "stream",
       "stream": "stdout",
       "text": [
        "7.8085038662\n"
       ]
      }
     ],
     "prompt_number": 12
    },
    {
     "cell_type": "code",
     "collapsed": false,
     "input": [
      "elec.select_top_k(k=4)"
     ],
     "language": "python",
     "metadata": {},
     "outputs": [
      {
       "html": [
        "<div style=\"max-height:1000px;max-width:1500px;overflow:auto;\">\n",
        "<table border=\"1\" class=\"dataframe\">\n",
        "  <thead>\n",
        "    <tr style=\"text-align: right;\">\n",
        "      <th></th>\n",
        "      <th>1</th>\n",
        "      <th>2</th>\n",
        "      <th>3</th>\n",
        "      <th>4</th>\n",
        "      <th>5</th>\n",
        "      <th>6</th>\n",
        "      <th>7</th>\n",
        "      <th>8</th>\n",
        "      <th>9</th>\n",
        "      <th>10</th>\n",
        "      <th>11</th>\n",
        "      <th>12</th>\n",
        "    </tr>\n",
        "  </thead>\n",
        "  <tbody>\n",
        "    <tr>\n",
        "      <th>active</th>\n",
        "      <td> 360.496060</td>\n",
        "      <td> 1005.572193</td>\n",
        "      <td> 82.958314</td>\n",
        "      <td> 203.569523</td>\n",
        "      <td> 203.889213</td>\n",
        "      <td> 2.152638</td>\n",
        "      <td> 24.351495</td>\n",
        "      <td> 0.885766</td>\n",
        "      <td> 0.722616</td>\n",
        "      <td> 11.495919</td>\n",
        "      <td> 0.558716</td>\n",
        "      <td> 1.077918</td>\n",
        "    </tr>\n",
        "    <tr>\n",
        "      <th>apparent</th>\n",
        "      <td> 386.911386</td>\n",
        "      <td> 1043.941205</td>\n",
        "      <td> 99.966983</td>\n",
        "      <td> 208.730314</td>\n",
        "      <td> 207.341398</td>\n",
        "      <td> 2.173996</td>\n",
        "      <td> 42.969043</td>\n",
        "      <td> 0.911080</td>\n",
        "      <td> 0.810098</td>\n",
        "      <td> 12.258396</td>\n",
        "      <td> 2.302620</td>\n",
        "      <td>      NaN</td>\n",
        "    </tr>\n",
        "    <tr>\n",
        "      <th>reactive</th>\n",
        "      <td>  30.660539</td>\n",
        "      <td>   96.815441</td>\n",
        "      <td> 53.965398</td>\n",
        "      <td>  42.482991</td>\n",
        "      <td>  35.209142</td>\n",
        "      <td> 0.018759</td>\n",
        "      <td>  0.002313</td>\n",
        "      <td> 0.000528</td>\n",
        "      <td> 0.249570</td>\n",
        "      <td>  0.000176</td>\n",
        "      <td> 2.087380</td>\n",
        "      <td>      NaN</td>\n",
        "    </tr>\n",
        "  </tbody>\n",
        "</table>\n",
        "</div>"
       ],
       "metadata": {},
       "output_type": "pyout",
       "prompt_number": 13,
       "text": [
        "                  1            2          3           4           5   \\\n",
        "active    360.496060  1005.572193  82.958314  203.569523  203.889213   \n",
        "apparent  386.911386  1043.941205  99.966983  208.730314  207.341398   \n",
        "reactive   30.660539    96.815441  53.965398   42.482991   35.209142   \n",
        "\n",
        "                6          7         8         9          10        11  \\\n",
        "active    2.152638  24.351495  0.885766  0.722616  11.495919  0.558716   \n",
        "apparent  2.173996  42.969043  0.911080  0.810098  12.258396  2.302620   \n",
        "reactive  0.018759   0.002313  0.000528  0.249570   0.000176  2.087380   \n",
        "\n",
        "                12  \n",
        "active    1.077918  \n",
        "apparent       NaN  \n",
        "reactive       NaN  "
       ]
      }
     ],
     "prompt_number": 13
    },
    {
     "cell_type": "code",
     "collapsed": false,
     "input": [
      "elec.energy_per_meter()"
     ],
     "language": "python",
     "metadata": {},
     "outputs": [
      {
       "html": [
        "<div style=\"max-height:1000px;max-width:1500px;overflow:auto;\">\n",
        "<table border=\"1\" class=\"dataframe\">\n",
        "  <thead>\n",
        "    <tr style=\"text-align: right;\">\n",
        "      <th></th>\n",
        "      <th>1</th>\n",
        "      <th>2</th>\n",
        "      <th>3</th>\n",
        "      <th>4</th>\n",
        "      <th>5</th>\n",
        "      <th>6</th>\n",
        "      <th>7</th>\n",
        "      <th>8</th>\n",
        "      <th>9</th>\n",
        "      <th>10</th>\n",
        "      <th>11</th>\n",
        "      <th>12</th>\n",
        "    </tr>\n",
        "  </thead>\n",
        "  <tbody>\n",
        "    <tr>\n",
        "      <th>active</th>\n",
        "      <td> 360.496060</td>\n",
        "      <td> 1005.572193</td>\n",
        "      <td> 82.958314</td>\n",
        "      <td> 203.569523</td>\n",
        "      <td> 203.889213</td>\n",
        "      <td> 2.152638</td>\n",
        "      <td> 24.351495</td>\n",
        "      <td> 0.885766</td>\n",
        "      <td> 0.722616</td>\n",
        "      <td> 11.495919</td>\n",
        "      <td> 0.558716</td>\n",
        "      <td> 1.077918</td>\n",
        "    </tr>\n",
        "    <tr>\n",
        "      <th>apparent</th>\n",
        "      <td> 386.911386</td>\n",
        "      <td> 1043.941205</td>\n",
        "      <td> 99.966983</td>\n",
        "      <td> 208.730314</td>\n",
        "      <td> 207.341398</td>\n",
        "      <td> 2.173996</td>\n",
        "      <td> 42.969043</td>\n",
        "      <td> 0.911080</td>\n",
        "      <td> 0.810098</td>\n",
        "      <td> 12.258396</td>\n",
        "      <td> 2.302620</td>\n",
        "      <td>      NaN</td>\n",
        "    </tr>\n",
        "    <tr>\n",
        "      <th>reactive</th>\n",
        "      <td>  30.660539</td>\n",
        "      <td>   96.815441</td>\n",
        "      <td> 53.965398</td>\n",
        "      <td>  42.482991</td>\n",
        "      <td>  35.209142</td>\n",
        "      <td> 0.018759</td>\n",
        "      <td>  0.002313</td>\n",
        "      <td> 0.000528</td>\n",
        "      <td> 0.249570</td>\n",
        "      <td>  0.000176</td>\n",
        "      <td> 2.087380</td>\n",
        "      <td>      NaN</td>\n",
        "    </tr>\n",
        "  </tbody>\n",
        "</table>\n",
        "</div>"
       ],
       "metadata": {},
       "output_type": "pyout",
       "prompt_number": 14,
       "text": [
        "                  1            2          3           4           5   \\\n",
        "active    360.496060  1005.572193  82.958314  203.569523  203.889213   \n",
        "apparent  386.911386  1043.941205  99.966983  208.730314  207.341398   \n",
        "reactive   30.660539    96.815441  53.965398   42.482991   35.209142   \n",
        "\n",
        "                6          7         8         9          10        11  \\\n",
        "active    2.152638  24.351495  0.885766  0.722616  11.495919  0.558716   \n",
        "apparent  2.173996  42.969043  0.911080  0.810098  12.258396  2.302620   \n",
        "reactive  0.018759   0.002313  0.000528  0.249570   0.000176  2.087380   \n",
        "\n",
        "                12  \n",
        "active    1.077918  \n",
        "apparent       NaN  \n",
        "reactive       NaN  "
       ]
      }
     ],
     "prompt_number": 14
    },
    {
     "cell_type": "code",
     "collapsed": false,
     "input": [
      "elec.total_energy()"
     ],
     "language": "python",
     "metadata": {},
     "outputs": [
      {
       "metadata": {},
       "output_type": "pyout",
       "prompt_number": 15,
       "text": [
        "active      1897.730371\n",
        "reactive     262.570156\n",
        "apparent    2009.394436\n",
        "dtype: float64"
       ]
      }
     ],
     "prompt_number": 15
    },
    {
     "cell_type": "code",
     "collapsed": false,
     "input": [
      "elec.total_energy?\n"
     ],
     "language": "python",
     "metadata": {},
     "outputs": [],
     "prompt_number": 16
    },
    {
     "cell_type": "code",
     "collapsed": false,
     "input": [
      "elec.dropout_rate()"
     ],
     "language": "python",
     "metadata": {},
     "outputs": [
      {
       "metadata": {},
       "output_type": "pyout",
       "prompt_number": 17,
       "text": [
        "0.61103563473527689"
       ]
      }
     ],
     "prompt_number": 17
    },
    {
     "cell_type": "code",
     "collapsed": false,
     "input": [],
     "language": "python",
     "metadata": {},
     "outputs": []
    }
   ],
   "metadata": {}
  }
 ]
}