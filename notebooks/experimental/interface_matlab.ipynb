{
 "cells": [
  {
   "cell_type": "code",
   "execution_count": 1,
   "metadata": {
    "collapsed": false
   },
   "outputs": [
    {
     "name": "stderr",
     "output_type": "stream",
     "text": [
      "Vendor:  Continuum Analytics, Inc.\n",
      "Package: mkl\n",
      "Message: trial mode EXPIRED 2 days ago\n",
      "\n",
      "    Your usage of mkl is now out of compliance with the license agreement.\n",
      "    A license for mkl can be purchased at: http://continuum.io\n",
      "    \n"
     ]
    }
   ],
   "source": [
    "import pandas as pd\n",
    "import nilmtk\n",
    "from nilmtk import *"
   ]
  },
  {
   "cell_type": "code",
   "execution_count": 7,
   "metadata": {
    "collapsed": false
   },
   "outputs": [
    {
     "name": "stderr",
     "output_type": "stream",
     "text": [
      "/Users/nipunbatra/git/nilmtk/nilmtk/metergroup.py:76: RuntimeWarning: Building 119 has an empty 'appliances' list.\n",
      "  .format(building_id.instance), RuntimeWarning)\n",
      "/Users/nipunbatra/git/nilmtk/nilmtk/metergroup.py:76: RuntimeWarning: Building 151 has an empty 'appliances' list.\n",
      "  .format(building_id.instance), RuntimeWarning)\n",
      "/Users/nipunbatra/git/nilmtk/nilmtk/metergroup.py:76: RuntimeWarning: Building 17 has an empty 'appliances' list.\n",
      "  .format(building_id.instance), RuntimeWarning)\n",
      "/Users/nipunbatra/git/nilmtk/nilmtk/metergroup.py:76: RuntimeWarning: Building 196 has an empty 'appliances' list.\n",
      "  .format(building_id.instance), RuntimeWarning)\n",
      "/Users/nipunbatra/git/nilmtk/nilmtk/metergroup.py:76: RuntimeWarning: Building 30 has an empty 'appliances' list.\n",
      "  .format(building_id.instance), RuntimeWarning)\n",
      "/Users/nipunbatra/git/nilmtk/nilmtk/metergroup.py:76: RuntimeWarning: Building 48 has an empty 'appliances' list.\n",
      "  .format(building_id.instance), RuntimeWarning)\n",
      "/Users/nipunbatra/git/nilmtk/nilmtk/metergroup.py:76: RuntimeWarning: Building 59 has an empty 'appliances' list.\n",
      "  .format(building_id.instance), RuntimeWarning)\n",
      "/Users/nipunbatra/git/nilmtk/nilmtk/metergroup.py:76: RuntimeWarning: Building 62 has an empty 'appliances' list.\n",
      "  .format(building_id.instance), RuntimeWarning)\n",
      "/Users/nipunbatra/git/nilmtk/nilmtk/metergroup.py:76: RuntimeWarning: Building 65 has an empty 'appliances' list.\n",
      "  .format(building_id.instance), RuntimeWarning)\n",
      "/Users/nipunbatra/git/nilmtk/nilmtk/metergroup.py:76: RuntimeWarning: Building 7 has an empty 'appliances' list.\n",
      "  .format(building_id.instance), RuntimeWarning)\n",
      "/Users/nipunbatra/git/nilmtk/nilmtk/metergroup.py:76: RuntimeWarning: Building 95 has an empty 'appliances' list.\n",
      "  .format(building_id.instance), RuntimeWarning)\n"
     ]
    }
   ],
   "source": [
    "ds = DataSet(\"/Users/nipunbatra/Downloads/wikienergy-2.h5\")"
   ]
  },
  {
   "cell_type": "code",
   "execution_count": 8,
   "metadata": {
    "collapsed": true
   },
   "outputs": [],
   "source": [
    "elec = ds.buildings[10].elec"
   ]
  },
  {
   "cell_type": "code",
   "execution_count": 9,
   "metadata": {
    "collapsed": false
   },
   "outputs": [
    {
     "data": {
      "text/plain": [
       "MeterGroup(meters=\n",
       "  ElecMeter(instance=1, building=10, dataset='WikiEnergy', site_meter, appliances=[])\n",
       "  ElecMeter(instance=2, building=10, dataset='WikiEnergy', appliances=[Appliance(type='air conditioner', instance=1)])\n",
       "  ElecMeter(instance=3, building=10, dataset='WikiEnergy', appliances=[Appliance(type='sockets', instance=1)])\n",
       "  ElecMeter(instance=4, building=10, dataset='WikiEnergy', appliances=[Appliance(type='spin dryer', instance=1)])\n",
       "  ElecMeter(instance=5, building=10, dataset='WikiEnergy', appliances=[Appliance(type='electric furnace', instance=1)])\n",
       "  ElecMeter(instance=6, building=10, dataset='WikiEnergy', appliances=[Appliance(type='sockets', instance=2)])\n",
       "  ElecMeter(instance=7, building=10, dataset='WikiEnergy', appliances=[Appliance(type='fridge', instance=1)])\n",
       ")"
      ]
     },
     "execution_count": 9,
     "metadata": {},
     "output_type": "execute_result"
    }
   ],
   "source": [
    "elec"
   ]
  },
  {
   "cell_type": "code",
   "execution_count": 10,
   "metadata": {
    "collapsed": true
   },
   "outputs": [],
   "source": [
    "df = elec.dataframe_of_meters()"
   ]
  },
  {
   "cell_type": "code",
   "execution_count": 11,
   "metadata": {
    "collapsed": false
   },
   "outputs": [
    {
     "data": {
      "text/html": [
       "<div>\n",
       "<table border=\"1\" class=\"dataframe\">\n",
       "  <thead>\n",
       "    <tr style=\"text-align: right;\">\n",
       "      <th></th>\n",
       "      <th>(1, 10, WikiEnergy)</th>\n",
       "      <th>(2, 10, WikiEnergy)</th>\n",
       "      <th>(3, 10, WikiEnergy)</th>\n",
       "      <th>(4, 10, WikiEnergy)</th>\n",
       "      <th>(5, 10, WikiEnergy)</th>\n",
       "      <th>(6, 10, WikiEnergy)</th>\n",
       "      <th>(7, 10, WikiEnergy)</th>\n",
       "    </tr>\n",
       "    <tr>\n",
       "      <th>localminute</th>\n",
       "      <th></th>\n",
       "      <th></th>\n",
       "      <th></th>\n",
       "      <th></th>\n",
       "      <th></th>\n",
       "      <th></th>\n",
       "      <th></th>\n",
       "    </tr>\n",
       "  </thead>\n",
       "  <tbody>\n",
       "    <tr>\n",
       "      <th>2014-01-01 00:00:00-06:00</th>\n",
       "      <td>197</td>\n",
       "      <td>0</td>\n",
       "      <td>0</td>\n",
       "      <td>0</td>\n",
       "      <td>4</td>\n",
       "      <td>18</td>\n",
       "      <td>3</td>\n",
       "    </tr>\n",
       "    <tr>\n",
       "      <th>2014-01-01 00:01:00-06:00</th>\n",
       "      <td>199</td>\n",
       "      <td>0</td>\n",
       "      <td>0</td>\n",
       "      <td>0</td>\n",
       "      <td>4</td>\n",
       "      <td>18</td>\n",
       "      <td>3</td>\n",
       "    </tr>\n",
       "    <tr>\n",
       "      <th>2014-01-01 00:02:00-06:00</th>\n",
       "      <td>112</td>\n",
       "      <td>0</td>\n",
       "      <td>0</td>\n",
       "      <td>0</td>\n",
       "      <td>4</td>\n",
       "      <td>18</td>\n",
       "      <td>3</td>\n",
       "    </tr>\n",
       "    <tr>\n",
       "      <th>2014-01-01 00:03:00-06:00</th>\n",
       "      <td>104</td>\n",
       "      <td>0</td>\n",
       "      <td>0</td>\n",
       "      <td>0</td>\n",
       "      <td>4</td>\n",
       "      <td>18</td>\n",
       "      <td>3</td>\n",
       "    </tr>\n",
       "    <tr>\n",
       "      <th>2014-01-01 00:04:00-06:00</th>\n",
       "      <td>104</td>\n",
       "      <td>0</td>\n",
       "      <td>0</td>\n",
       "      <td>0</td>\n",
       "      <td>4</td>\n",
       "      <td>18</td>\n",
       "      <td>3</td>\n",
       "    </tr>\n",
       "  </tbody>\n",
       "</table>\n",
       "</div>"
      ],
      "text/plain": [
       "                           (1, 10, WikiEnergy)  (2, 10, WikiEnergy)  \\\n",
       "localminute                                                           \n",
       "2014-01-01 00:00:00-06:00                  197                    0   \n",
       "2014-01-01 00:01:00-06:00                  199                    0   \n",
       "2014-01-01 00:02:00-06:00                  112                    0   \n",
       "2014-01-01 00:03:00-06:00                  104                    0   \n",
       "2014-01-01 00:04:00-06:00                  104                    0   \n",
       "\n",
       "                           (3, 10, WikiEnergy)  (4, 10, WikiEnergy)  \\\n",
       "localminute                                                           \n",
       "2014-01-01 00:00:00-06:00                    0                    0   \n",
       "2014-01-01 00:01:00-06:00                    0                    0   \n",
       "2014-01-01 00:02:00-06:00                    0                    0   \n",
       "2014-01-01 00:03:00-06:00                    0                    0   \n",
       "2014-01-01 00:04:00-06:00                    0                    0   \n",
       "\n",
       "                           (5, 10, WikiEnergy)  (6, 10, WikiEnergy)  \\\n",
       "localminute                                                           \n",
       "2014-01-01 00:00:00-06:00                    4                   18   \n",
       "2014-01-01 00:01:00-06:00                    4                   18   \n",
       "2014-01-01 00:02:00-06:00                    4                   18   \n",
       "2014-01-01 00:03:00-06:00                    4                   18   \n",
       "2014-01-01 00:04:00-06:00                    4                   18   \n",
       "\n",
       "                           (7, 10, WikiEnergy)  \n",
       "localminute                                     \n",
       "2014-01-01 00:00:00-06:00                    3  \n",
       "2014-01-01 00:01:00-06:00                    3  \n",
       "2014-01-01 00:02:00-06:00                    3  \n",
       "2014-01-01 00:03:00-06:00                    3  \n",
       "2014-01-01 00:04:00-06:00                    3  "
      ]
     },
     "execution_count": 11,
     "metadata": {},
     "output_type": "execute_result"
    }
   ],
   "source": [
    "df.head()"
   ]
  },
  {
   "cell_type": "code",
   "execution_count": 12,
   "metadata": {
    "collapsed": true
   },
   "outputs": [],
   "source": [
    "%matplotlib inline"
   ]
  },
  {
   "cell_type": "code",
   "execution_count": 13,
   "metadata": {
    "collapsed": false
   },
   "outputs": [
    {
     "data": {
      "text/plain": [
       "<matplotlib.axes._subplots.AxesSubplot at 0x11366f510>"
      ]
     },
     "execution_count": 13,
     "metadata": {},
     "output_type": "execute_result"
    },
    {
     "data": {
      "image/png": "[encoded data removed]",
      "text/plain": [
       "<matplotlib.figure.Figure at 0x111e751d0>"
      ]
     },
     "metadata": {},
     "output_type": "display_data"
    }
   ],
   "source": [
    "df.plot()"
   ]
  },
  {
   "cell_type": "code",
   "execution_count": 15,
   "metadata": {
    "collapsed": true
   },
   "outputs": [],
   "source": [
    "import numpy as np\n",
    "import pandas as pd"
   ]
  },
  {
   "cell_type": "code",
   "execution_count": 16,
   "metadata": {
    "collapsed": false
   },
   "outputs": [],
   "source": [
    "array1 = np.array([1,2,3])\n",
    "array2 = np.array(['a','b','c'])\n",
    "array3 = np.array([1.01,2.02,3.03])\n",
    "df = pd.DataFrame({1:array1, 2:array2,3:array3}, index=('array1','array2','array3'))"
   ]
  },
  {
   "cell_type": "code",
   "execution_count": 17,
   "metadata": {
    "collapsed": false
   },
   "outputs": [
    {
     "data": {
      "text/html": [
       "<div>\n",
       "<table border=\"1\" class=\"dataframe\">\n",
       "  <thead>\n",
       "    <tr style=\"text-align: right;\">\n",
       "      <th></th>\n",
       "      <th>1</th>\n",
       "      <th>2</th>\n",
       "      <th>3</th>\n",
       "    </tr>\n",
       "  </thead>\n",
       "  <tbody>\n",
       "    <tr>\n",
       "      <th>array1</th>\n",
       "      <td>1</td>\n",
       "      <td>a</td>\n",
       "      <td>1.01</td>\n",
       "    </tr>\n",
       "    <tr>\n",
       "      <th>array2</th>\n",
       "      <td>2</td>\n",
       "      <td>b</td>\n",
       "      <td>2.02</td>\n",
       "    </tr>\n",
       "    <tr>\n",
       "      <th>array3</th>\n",
       "      <td>3</td>\n",
       "      <td>c</td>\n",
       "      <td>3.03</td>\n",
       "    </tr>\n",
       "  </tbody>\n",
       "</table>\n",
       "</div>"
      ],
      "text/plain": [
       "        1  2     3\n",
       "array1  1  a  1.01\n",
       "array2  2  b  2.02\n",
       "array3  3  c  3.03"
      ]
     },
     "execution_count": 17,
     "metadata": {},
     "output_type": "execute_result"
    }
   ],
   "source": [
    "df"
   ]
  },
  {
   "cell_type": "code",
   "execution_count": 20,
   "metadata": {
    "collapsed": true
   },
   "outputs": [],
   "source": [
    "import scipy.io as sio"
   ]
  },
  {
   "cell_type": "code",
   "execution_count": 21,
   "metadata": {
    "collapsed": false
   },
   "outputs": [],
   "source": [
    "sio.savemat('/Users/nipunbatra/Desktop/abc.mat', {'struct':df.to_dict()})"
   ]
  },
  {
   "cell_type": "code",
   "execution_count": null,
   "metadata": {
    "collapsed": true
   },
   "outputs": [],
   "source": [
    "scipy.io."
   ]
  }
 ],
 "metadata": {
  "kernelspec": {
   "display_name": "Python 2",
   "language": "python",
   "name": "python2"
  },
  "language_info": {
   "codemirror_mode": {
    "name": "ipython",
    "version": 2
   },
   "file_extension": ".py",
   "mimetype": "text/x-python",
   "name": "python",
   "nbconvert_exporter": "python",
   "pygments_lexer": "ipython2",
   "version": "2.7.11"
  }
 },
 "nbformat": 4,
 "nbformat_minor": 0
}
