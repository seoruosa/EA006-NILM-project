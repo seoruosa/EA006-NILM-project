{
 "metadata": {
  "name": "",
  "signature": "sha256:bb0971b20f837027053bcaf037b8833ee9ccd1211380d42dc8dd1663baba2fcf"
 },
 "nbformat": 3,
 "nbformat_minor": 0,
 "worksheets": [
  {
   "cells": [
    {
     "cell_type": "code",
     "collapsed": false,
     "input": [
      "from __future__ import print_function, division\n",
      "import pandas as pd\n",
      "import multiprocessing as mp\n",
      "from numpy.random import randn\n",
      "import numpy as np\n",
      "from nilmtk import DataSet"
     ],
     "language": "python",
     "metadata": {},
     "outputs": [],
     "prompt_number": 8
    },
    {
     "cell_type": "code",
     "collapsed": false,
     "input": [
      "ukdale = DataSet('/data/mine/vadeec/merged/ukdale.h5')\n",
      "# ukdale.set_window(\"2014-01-01\", \"2014-01-02\")\n",
      "\n",
      "elec = ukdale.buildings[1].elec\n",
      "elec.use_alternative_mains()"
     ],
     "language": "python",
     "metadata": {},
     "outputs": [],
     "prompt_number": 9
    },
    {
     "cell_type": "code",
     "collapsed": false,
     "input": [
      "def f(gen):\n",
      "    df = gen.next()\n",
      "    print(len(df))\n",
      "    #filename = 'test{}.h5'.format(i)\n",
      "    #store = pd.HDFStore(filename, mode='w', complib='blosc', complevel=5)\n",
      "    #store.put('df', df)\n",
      "    #store.close()\n",
      "    \n",
      "for elecmeter in elec.meters:\n",
      "    try:\n",
      "        p = mp.Process(target=f, args=[(x for x in range(0))])\n",
      "        p.start()\n",
      "        p.join()\n",
      "    except StopIteration:\n",
      "        pass\n",
      "    "
     ],
     "language": "python",
     "metadata": {},
     "outputs": [
      {
       "output_type": "stream",
       "stream": "stderr",
       "text": [
        "Process Process-224:\n",
        "Traceback (most recent call last):\n",
        "  File \"/usr/lib/python2.7/multiprocessing/process.py\", line 258, in _bootstrap\n",
        "    self.run()\n",
        "  File \"/usr/lib/python2.7/multiprocessing/process.py\", line 114, in run\n",
        "    self._target(*self._args, **self._kwargs)\n",
        "  File \"<ipython-input-18-2df4670944ff>\", line 2, in f\n",
        "    df = gen.next()\n",
        "StopIteration\n"
       ]
      },
      {
       "output_type": "stream",
       "stream": "stderr",
       "text": [
        "Process Process-225:\n",
        "Traceback (most recent call last):\n",
        "  File \"/usr/lib/python2.7/multiprocessing/process.py\", line 258, in _bootstrap\n",
        "    self.run()\n",
        "  File \"/usr/lib/python2.7/multiprocessing/process.py\", line 114, in run\n",
        "    self._target(*self._args, **self._kwargs)\n",
        "  File \"<ipython-input-18-2df4670944ff>\", line 2, in f\n",
        "    df = gen.next()\n",
        "StopIteration\n"
       ]
      },
      {
       "output_type": "stream",
       "stream": "stderr",
       "text": [
        "Process Process-226:\n",
        "Traceback (most recent call last):\n",
        "  File \"/usr/lib/python2.7/multiprocessing/process.py\", line 258, in _bootstrap\n",
        "    self.run()\n",
        "  File \"/usr/lib/python2.7/multiprocessing/process.py\", line 114, in run\n",
        "    self._target(*self._args, **self._kwargs)\n",
        "  File \"<ipython-input-18-2df4670944ff>\", line 2, in f\n",
        "    df = gen.next()\n",
        "StopIteration\n"
       ]
      },
      {
       "output_type": "stream",
       "stream": "stderr",
       "text": [
        "Process Process-227:\n",
        "Traceback (most recent call last):\n",
        "  File \"/usr/lib/python2.7/multiprocessing/process.py\", line 258, in _bootstrap\n",
        "    self.run()\n",
        "  File \"/usr/lib/python2.7/multiprocessing/process.py\", line 114, in run\n",
        "    self._target(*self._args, **self._kwargs)\n",
        "  File \"<ipython-input-18-2df4670944ff>\", line 2, in f\n",
        "    df = gen.next()\n",
        "StopIteration\n"
       ]
      },
      {
       "output_type": "stream",
       "stream": "stderr",
       "text": [
        "Process Process-228:\n",
        "Traceback (most recent call last):\n",
        "  File \"/usr/lib/python2.7/multiprocessing/process.py\", line 258, in _bootstrap\n",
        "    self.run()\n",
        "  File \"/usr/lib/python2.7/multiprocessing/process.py\", line 114, in run\n",
        "    self._target(*self._args, **self._kwargs)\n",
        "  File \"<ipython-input-18-2df4670944ff>\", line 2, in f\n",
        "    df = gen.next()\n",
        "StopIteration\n"
       ]
      },
      {
       "output_type": "stream",
       "stream": "stderr",
       "text": [
        "Process Process-229:\n",
        "Traceback (most recent call last):\n",
        "  File \"/usr/lib/python2.7/multiprocessing/process.py\", line 258, in _bootstrap\n",
        "    self.run()\n",
        "  File \"/usr/lib/python2.7/multiprocessing/process.py\", line 114, in run\n",
        "    self._target(*self._args, **self._kwargs)\n",
        "  File \"<ipython-input-18-2df4670944ff>\", line 2, in f\n",
        "    df = gen.next()\n",
        "StopIteration\n"
       ]
      },
      {
       "output_type": "stream",
       "stream": "stderr",
       "text": [
        "Process Process-230:\n",
        "Traceback (most recent call last):\n",
        "  File \"/usr/lib/python2.7/multiprocessing/process.py\", line 258, in _bootstrap\n",
        "    self.run()\n",
        "  File \"/usr/lib/python2.7/multiprocessing/process.py\", line 114, in run\n",
        "    self._target(*self._args, **self._kwargs)\n",
        "  File \"<ipython-input-18-2df4670944ff>\", line 2, in f\n",
        "    df = gen.next()\n",
        "StopIteration\n"
       ]
      },
      {
       "output_type": "stream",
       "stream": "stderr",
       "text": [
        "Process Process-231:\n",
        "Traceback (most recent call last):\n",
        "  File \"/usr/lib/python2.7/multiprocessing/process.py\", line 258, in _bootstrap\n",
        "    self.run()\n",
        "  File \"/usr/lib/python2.7/multiprocessing/process.py\", line 114, in run\n",
        "    self._target(*self._args, **self._kwargs)\n",
        "  File \"<ipython-input-18-2df4670944ff>\", line 2, in f\n",
        "    df = gen.next()\n",
        "StopIteration\n"
       ]
      },
      {
       "output_type": "stream",
       "stream": "stderr",
       "text": [
        "Process Process-232:\n",
        "Traceback (most recent call last):\n",
        "  File \"/usr/lib/python2.7/multiprocessing/process.py\", line 258, in _bootstrap\n",
        "    self.run()\n",
        "  File \"/usr/lib/python2.7/multiprocessing/process.py\", line 114, in run\n",
        "    self._target(*self._args, **self._kwargs)\n",
        "  File \"<ipython-input-18-2df4670944ff>\", line 2, in f\n",
        "    df = gen.next()\n",
        "StopIteration\n"
       ]
      },
      {
       "output_type": "stream",
       "stream": "stderr",
       "text": [
        "Process Process-233:\n",
        "Traceback (most recent call last):\n",
        "  File \"/usr/lib/python2.7/multiprocessing/process.py\", line 258, in _bootstrap\n",
        "    self.run()\n",
        "  File \"/usr/lib/python2.7/multiprocessing/process.py\", line 114, in run\n",
        "    self._target(*self._args, **self._kwargs)\n",
        "  File \"<ipython-input-18-2df4670944ff>\", line 2, in f\n",
        "    df = gen.next()\n",
        "StopIteration\n"
       ]
      },
      {
       "output_type": "stream",
       "stream": "stderr",
       "text": [
        "Process Process-234:\n",
        "Traceback (most recent call last):\n",
        "  File \"/usr/lib/python2.7/multiprocessing/process.py\", line 258, in _bootstrap\n",
        "    self.run()\n",
        "  File \"/usr/lib/python2.7/multiprocessing/process.py\", line 114, in run\n",
        "    self._target(*self._args, **self._kwargs)\n",
        "  File \"<ipython-input-18-2df4670944ff>\", line 2, in f\n",
        "    df = gen.next()\n",
        "StopIteration\n"
       ]
      },
      {
       "output_type": "stream",
       "stream": "stderr",
       "text": [
        "Process Process-235:\n",
        "Traceback (most recent call last):\n",
        "  File \"/usr/lib/python2.7/multiprocessing/process.py\", line 258, in _bootstrap\n",
        "    self.run()\n",
        "  File \"/usr/lib/python2.7/multiprocessing/process.py\", line 114, in run\n",
        "    self._target(*self._args, **self._kwargs)\n",
        "  File \"<ipython-input-18-2df4670944ff>\", line 2, in f\n",
        "    df = gen.next()\n",
        "StopIteration\n"
       ]
      },
      {
       "output_type": "stream",
       "stream": "stderr",
       "text": [
        "Process Process-236:\n",
        "Traceback (most recent call last):\n",
        "  File \"/usr/lib/python2.7/multiprocessing/process.py\", line 258, in _bootstrap\n",
        "    self.run()\n",
        "  File \"/usr/lib/python2.7/multiprocessing/process.py\", line 114, in run\n",
        "    self._target(*self._args, **self._kwargs)\n",
        "  File \"<ipython-input-18-2df4670944ff>\", line 2, in f\n",
        "    df = gen.next()\n",
        "StopIteration\n"
       ]
      },
      {
       "output_type": "stream",
       "stream": "stderr",
       "text": [
        "Process Process-237:\n",
        "Traceback (most recent call last):\n",
        "  File \"/usr/lib/python2.7/multiprocessing/process.py\", line 258, in _bootstrap\n",
        "    self.run()\n",
        "  File \"/usr/lib/python2.7/multiprocessing/process.py\", line 114, in run\n",
        "    self._target(*self._args, **self._kwargs)\n",
        "  File \"<ipython-input-18-2df4670944ff>\", line 2, in f\n",
        "    df = gen.next()\n",
        "StopIteration\n"
       ]
      },
      {
       "output_type": "stream",
       "stream": "stderr",
       "text": [
        "Process Process-238:\n",
        "Traceback (most recent call last):\n",
        "  File \"/usr/lib/python2.7/multiprocessing/process.py\", line 258, in _bootstrap\n",
        "    self.run()\n",
        "  File \"/usr/lib/python2.7/multiprocessing/process.py\", line 114, in run\n",
        "    self._target(*self._args, **self._kwargs)\n",
        "  File \"<ipython-input-18-2df4670944ff>\", line 2, in f\n",
        "    df = gen.next()\n",
        "StopIteration\n"
       ]
      },
      {
       "output_type": "stream",
       "stream": "stderr",
       "text": [
        "Process Process-239:\n",
        "Traceback (most recent call last):\n",
        "  File \"/usr/lib/python2.7/multiprocessing/process.py\", line 258, in _bootstrap\n",
        "    self.run()\n",
        "  File \"/usr/lib/python2.7/multiprocessing/process.py\", line 114, in run\n",
        "    self._target(*self._args, **self._kwargs)\n",
        "  File \"<ipython-input-18-2df4670944ff>\", line 2, in f\n",
        "    df = gen.next()\n",
        "StopIteration\n"
       ]
      },
      {
       "output_type": "stream",
       "stream": "stderr",
       "text": [
        "Process Process-240:\n",
        "Traceback (most recent call last):\n",
        "  File \"/usr/lib/python2.7/multiprocessing/process.py\", line 258, in _bootstrap\n",
        "    self.run()\n",
        "  File \"/usr/lib/python2.7/multiprocessing/process.py\", line 114, in run\n",
        "    self._target(*self._args, **self._kwargs)\n",
        "  File \"<ipython-input-18-2df4670944ff>\", line 2, in f\n",
        "    df = gen.next()\n",
        "StopIteration\n"
       ]
      },
      {
       "output_type": "stream",
       "stream": "stderr",
       "text": [
        "Process Process-241:\n",
        "Traceback (most recent call last):\n",
        "  File \"/usr/lib/python2.7/multiprocessing/process.py\", line 258, in _bootstrap\n",
        "    self.run()\n",
        "  File \"/usr/lib/python2.7/multiprocessing/process.py\", line 114, in run\n",
        "    self._target(*self._args, **self._kwargs)\n",
        "  File \"<ipython-input-18-2df4670944ff>\", line 2, in f\n",
        "    df = gen.next()\n",
        "StopIteration\n"
       ]
      },
      {
       "output_type": "stream",
       "stream": "stderr",
       "text": [
        "Process Process-242:\n",
        "Traceback (most recent call last):\n",
        "  File \"/usr/lib/python2.7/multiprocessing/process.py\", line 258, in _bootstrap\n",
        "    self.run()\n",
        "  File \"/usr/lib/python2.7/multiprocessing/process.py\", line 114, in run\n",
        "    self._target(*self._args, **self._kwargs)\n",
        "  File \"<ipython-input-18-2df4670944ff>\", line 2, in f\n",
        "    df = gen.next()\n",
        "StopIteration\n"
       ]
      },
      {
       "output_type": "stream",
       "stream": "stderr",
       "text": [
        "Process Process-243:\n",
        "Traceback (most recent call last):\n",
        "  File \"/usr/lib/python2.7/multiprocessing/process.py\", line 258, in _bootstrap\n",
        "    self.run()\n",
        "  File \"/usr/lib/python2.7/multiprocessing/process.py\", line 114, in run\n",
        "    self._target(*self._args, **self._kwargs)\n",
        "  File \"<ipython-input-18-2df4670944ff>\", line 2, in f\n",
        "    df = gen.next()\n",
        "StopIteration\n"
       ]
      },
      {
       "output_type": "stream",
       "stream": "stderr",
       "text": [
        "Process Process-244:\n",
        "Traceback (most recent call last):\n",
        "  File \"/usr/lib/python2.7/multiprocessing/process.py\", line 258, in _bootstrap\n",
        "    self.run()\n",
        "  File \"/usr/lib/python2.7/multiprocessing/process.py\", line 114, in run\n",
        "    self._target(*self._args, **self._kwargs)\n",
        "  File \"<ipython-input-18-2df4670944ff>\", line 2, in f\n",
        "    df = gen.next()\n",
        "StopIteration\n"
       ]
      },
      {
       "output_type": "stream",
       "stream": "stderr",
       "text": [
        "Process Process-245:\n",
        "Traceback (most recent call last):\n",
        "  File \"/usr/lib/python2.7/multiprocessing/process.py\", line 258, in _bootstrap\n",
        "    self.run()\n",
        "  File \"/usr/lib/python2.7/multiprocessing/process.py\", line 114, in run\n",
        "    self._target(*self._args, **self._kwargs)\n",
        "  File \"<ipython-input-18-2df4670944ff>\", line 2, in f\n",
        "    df = gen.next()\n",
        "StopIteration\n"
       ]
      },
      {
       "output_type": "stream",
       "stream": "stderr",
       "text": [
        "Process Process-246:\n",
        "Traceback (most recent call last):\n",
        "  File \"/usr/lib/python2.7/multiprocessing/process.py\", line 258, in _bootstrap\n",
        "    self.run()\n",
        "  File \"/usr/lib/python2.7/multiprocessing/process.py\", line 114, in run\n",
        "    self._target(*self._args, **self._kwargs)\n",
        "  File \"<ipython-input-18-2df4670944ff>\", line 2, in f\n",
        "    df = gen.next()\n",
        "StopIteration\n"
       ]
      },
      {
       "output_type": "stream",
       "stream": "stderr",
       "text": [
        "Process Process-247:\n",
        "Traceback (most recent call last):\n",
        "  File \"/usr/lib/python2.7/multiprocessing/process.py\", line 258, in _bootstrap\n",
        "    self.run()\n",
        "  File \"/usr/lib/python2.7/multiprocessing/process.py\", line 114, in run\n",
        "    self._target(*self._args, **self._kwargs)\n",
        "  File \"<ipython-input-18-2df4670944ff>\", line 2, in f\n",
        "    df = gen.next()\n",
        "StopIteration\n"
       ]
      },
      {
       "output_type": "stream",
       "stream": "stderr",
       "text": [
        "Process Process-248:\n",
        "Traceback (most recent call last):\n",
        "  File \"/usr/lib/python2.7/multiprocessing/process.py\", line 258, in _bootstrap\n",
        "    self.run()\n",
        "  File \"/usr/lib/python2.7/multiprocessing/process.py\", line 114, in run\n",
        "    self._target(*self._args, **self._kwargs)\n",
        "  File \"<ipython-input-18-2df4670944ff>\", line 2, in f\n",
        "    df = gen.next()\n",
        "StopIteration\n"
       ]
      },
      {
       "output_type": "stream",
       "stream": "stderr",
       "text": [
        "Process Process-249:\n",
        "Traceback (most recent call last):\n",
        "  File \"/usr/lib/python2.7/multiprocessing/process.py\", line 258, in _bootstrap\n",
        "    self.run()\n",
        "  File \"/usr/lib/python2.7/multiprocessing/process.py\", line 114, in run\n",
        "    self._target(*self._args, **self._kwargs)\n",
        "  File \"<ipython-input-18-2df4670944ff>\", line 2, in f\n",
        "    df = gen.next()\n",
        "StopIteration\n"
       ]
      },
      {
       "output_type": "stream",
       "stream": "stderr",
       "text": [
        "Process Process-250:\n",
        "Traceback (most recent call last):\n",
        "  File \"/usr/lib/python2.7/multiprocessing/process.py\", line 258, in _bootstrap\n",
        "    self.run()\n",
        "  File \"/usr/lib/python2.7/multiprocessing/process.py\", line 114, in run\n",
        "    self._target(*self._args, **self._kwargs)\n",
        "  File \"<ipython-input-18-2df4670944ff>\", line 2, in f\n",
        "    df = gen.next()\n",
        "StopIteration\n"
       ]
      },
      {
       "output_type": "stream",
       "stream": "stderr",
       "text": [
        "Process Process-251:\n",
        "Traceback (most recent call last):\n",
        "  File \"/usr/lib/python2.7/multiprocessing/process.py\", line 258, in _bootstrap\n",
        "    self.run()\n",
        "  File \"/usr/lib/python2.7/multiprocessing/process.py\", line 114, in run\n",
        "    self._target(*self._args, **self._kwargs)\n",
        "  File \"<ipython-input-18-2df4670944ff>\", line 2, in f\n",
        "    df = gen.next()\n",
        "StopIteration\n"
       ]
      },
      {
       "output_type": "stream",
       "stream": "stderr",
       "text": [
        "Process Process-252:\n",
        "Traceback (most recent call last):\n",
        "  File \"/usr/lib/python2.7/multiprocessing/process.py\", line 258, in _bootstrap\n",
        "    self.run()\n",
        "  File \"/usr/lib/python2.7/multiprocessing/process.py\", line 114, in run\n",
        "    self._target(*self._args, **self._kwargs)\n",
        "  File \"<ipython-input-18-2df4670944ff>\", line 2, in f\n",
        "    df = gen.next()\n",
        "StopIteration\n"
       ]
      },
      {
       "output_type": "stream",
       "stream": "stderr",
       "text": [
        "Process Process-253:\n",
        "Traceback (most recent call last):\n",
        "  File \"/usr/lib/python2.7/multiprocessing/process.py\", line 258, in _bootstrap\n",
        "    self.run()\n",
        "  File \"/usr/lib/python2.7/multiprocessing/process.py\", line 114, in run\n",
        "    self._target(*self._args, **self._kwargs)\n",
        "  File \"<ipython-input-18-2df4670944ff>\", line 2, in f\n",
        "    df = gen.next()\n",
        "StopIteration\n"
       ]
      },
      {
       "output_type": "stream",
       "stream": "stderr",
       "text": [
        "Process Process-254:\n",
        "Traceback (most recent call last):\n",
        "  File \"/usr/lib/python2.7/multiprocessing/process.py\", line 258, in _bootstrap\n",
        "    self.run()\n",
        "  File \"/usr/lib/python2.7/multiprocessing/process.py\", line 114, in run\n",
        "    self._target(*self._args, **self._kwargs)\n",
        "  File \"<ipython-input-18-2df4670944ff>\", line 2, in f\n",
        "    df = gen.next()\n",
        "StopIteration\n"
       ]
      },
      {
       "output_type": "stream",
       "stream": "stderr",
       "text": [
        "Process Process-255:\n",
        "Traceback (most recent call last):\n",
        "  File \"/usr/lib/python2.7/multiprocessing/process.py\", line 258, in _bootstrap\n",
        "    self.run()\n",
        "  File \"/usr/lib/python2.7/multiprocessing/process.py\", line 114, in run\n",
        "    self._target(*self._args, **self._kwargs)\n",
        "  File \"<ipython-input-18-2df4670944ff>\", line 2, in f\n",
        "    df = gen.next()\n",
        "StopIteration\n"
       ]
      },
      {
       "output_type": "stream",
       "stream": "stderr",
       "text": [
        "Process Process-256:\n",
        "Traceback (most recent call last):\n",
        "  File \"/usr/lib/python2.7/multiprocessing/process.py\", line 258, in _bootstrap\n",
        "    self.run()\n",
        "  File \"/usr/lib/python2.7/multiprocessing/process.py\", line 114, in run\n",
        "    self._target(*self._args, **self._kwargs)\n",
        "  File \"<ipython-input-18-2df4670944ff>\", line 2, in f\n",
        "    df = gen.next()\n",
        "StopIteration\n"
       ]
      },
      {
       "output_type": "stream",
       "stream": "stderr",
       "text": [
        "Process Process-257:\n",
        "Traceback (most recent call last):\n",
        "  File \"/usr/lib/python2.7/multiprocessing/process.py\", line 258, in _bootstrap\n",
        "    self.run()\n",
        "  File \"/usr/lib/python2.7/multiprocessing/process.py\", line 114, in run\n",
        "    self._target(*self._args, **self._kwargs)\n",
        "  File \"<ipython-input-18-2df4670944ff>\", line 2, in f\n",
        "    df = gen.next()\n",
        "StopIteration\n"
       ]
      },
      {
       "output_type": "stream",
       "stream": "stderr",
       "text": [
        "Process Process-258:\n",
        "Traceback (most recent call last):\n",
        "  File \"/usr/lib/python2.7/multiprocessing/process.py\", line 258, in _bootstrap\n",
        "    self.run()\n",
        "  File \"/usr/lib/python2.7/multiprocessing/process.py\", line 114, in run\n",
        "    self._target(*self._args, **self._kwargs)\n",
        "  File \"<ipython-input-18-2df4670944ff>\", line 2, in f\n",
        "    df = gen.next()\n",
        "StopIteration\n"
       ]
      },
      {
       "output_type": "stream",
       "stream": "stderr",
       "text": [
        "Process Process-259:\n",
        "Traceback (most recent call last):\n",
        "  File \"/usr/lib/python2.7/multiprocessing/process.py\", line 258, in _bootstrap\n",
        "    self.run()\n",
        "  File \"/usr/lib/python2.7/multiprocessing/process.py\", line 114, in run\n",
        "    self._target(*self._args, **self._kwargs)\n",
        "  File \"<ipython-input-18-2df4670944ff>\", line 2, in f\n",
        "    df = gen.next()\n",
        "StopIteration\n"
       ]
      },
      {
       "output_type": "stream",
       "stream": "stderr",
       "text": [
        "Process Process-260:\n",
        "Traceback (most recent call last):\n",
        "  File \"/usr/lib/python2.7/multiprocessing/process.py\", line 258, in _bootstrap\n",
        "    self.run()\n",
        "  File \"/usr/lib/python2.7/multiprocessing/process.py\", line 114, in run\n",
        "    self._target(*self._args, **self._kwargs)\n",
        "  File \"<ipython-input-18-2df4670944ff>\", line 2, in f\n",
        "    df = gen.next()\n",
        "StopIteration\n"
       ]
      },
      {
       "output_type": "stream",
       "stream": "stderr",
       "text": [
        "Process Process-261:\n",
        "Traceback (most recent call last):\n",
        "  File \"/usr/lib/python2.7/multiprocessing/process.py\", line 258, in _bootstrap\n",
        "    self.run()\n",
        "  File \"/usr/lib/python2.7/multiprocessing/process.py\", line 114, in run\n",
        "    self._target(*self._args, **self._kwargs)\n",
        "  File \"<ipython-input-18-2df4670944ff>\", line 2, in f\n",
        "    df = gen.next()\n",
        "StopIteration\n"
       ]
      },
      {
       "output_type": "stream",
       "stream": "stderr",
       "text": [
        "Process Process-262:\n",
        "Traceback (most recent call last):\n",
        "  File \"/usr/lib/python2.7/multiprocessing/process.py\", line 258, in _bootstrap\n",
        "    self.run()\n",
        "  File \"/usr/lib/python2.7/multiprocessing/process.py\", line 114, in run\n",
        "    self._target(*self._args, **self._kwargs)\n",
        "  File \"<ipython-input-18-2df4670944ff>\", line 2, in f\n",
        "    df = gen.next()\n",
        "StopIteration\n"
       ]
      },
      {
       "output_type": "stream",
       "stream": "stderr",
       "text": [
        "Process Process-263:\n",
        "Traceback (most recent call last):\n",
        "  File \"/usr/lib/python2.7/multiprocessing/process.py\", line 258, in _bootstrap\n",
        "    self.run()\n",
        "  File \"/usr/lib/python2.7/multiprocessing/process.py\", line 114, in run\n",
        "    self._target(*self._args, **self._kwargs)\n",
        "  File \"<ipython-input-18-2df4670944ff>\", line 2, in f\n",
        "    df = gen.next()\n",
        "StopIteration\n"
       ]
      },
      {
       "output_type": "stream",
       "stream": "stderr",
       "text": [
        "Process Process-264:\n",
        "Traceback (most recent call last):\n",
        "  File \"/usr/lib/python2.7/multiprocessing/process.py\", line 258, in _bootstrap\n",
        "    self.run()\n",
        "  File \"/usr/lib/python2.7/multiprocessing/process.py\", line 114, in run\n",
        "    self._target(*self._args, **self._kwargs)\n",
        "  File \"<ipython-input-18-2df4670944ff>\", line 2, in f\n",
        "    df = gen.next()\n",
        "StopIteration\n"
       ]
      },
      {
       "output_type": "stream",
       "stream": "stderr",
       "text": [
        "Process Process-265:\n",
        "Traceback (most recent call last):\n",
        "  File \"/usr/lib/python2.7/multiprocessing/process.py\", line 258, in _bootstrap\n",
        "    self.run()\n",
        "  File \"/usr/lib/python2.7/multiprocessing/process.py\", line 114, in run\n",
        "    self._target(*self._args, **self._kwargs)\n",
        "  File \"<ipython-input-18-2df4670944ff>\", line 2, in f\n",
        "    df = gen.next()\n",
        "StopIteration\n"
       ]
      },
      {
       "output_type": "stream",
       "stream": "stderr",
       "text": [
        "Process Process-266:\n",
        "Traceback (most recent call last):\n",
        "  File \"/usr/lib/python2.7/multiprocessing/process.py\", line 258, in _bootstrap\n",
        "    self.run()\n",
        "  File \"/usr/lib/python2.7/multiprocessing/process.py\", line 114, in run\n",
        "    self._target(*self._args, **self._kwargs)\n",
        "  File \"<ipython-input-18-2df4670944ff>\", line 2, in f\n",
        "    df = gen.next()\n",
        "StopIteration\n"
       ]
      },
      {
       "output_type": "stream",
       "stream": "stderr",
       "text": [
        "Process Process-267:\n",
        "Traceback (most recent call last):\n",
        "  File \"/usr/lib/python2.7/multiprocessing/process.py\", line 258, in _bootstrap\n",
        "    self.run()\n",
        "  File \"/usr/lib/python2.7/multiprocessing/process.py\", line 114, in run\n",
        "    self._target(*self._args, **self._kwargs)\n",
        "  File \"<ipython-input-18-2df4670944ff>\", line 2, in f\n",
        "    df = gen.next()\n",
        "StopIteration\n"
       ]
      },
      {
       "output_type": "stream",
       "stream": "stderr",
       "text": [
        "Process Process-268:\n",
        "Traceback (most recent call last):\n",
        "  File \"/usr/lib/python2.7/multiprocessing/process.py\", line 258, in _bootstrap\n",
        "    self.run()\n",
        "  File \"/usr/lib/python2.7/multiprocessing/process.py\", line 114, in run\n",
        "    self._target(*self._args, **self._kwargs)\n",
        "  File \"<ipython-input-18-2df4670944ff>\", line 2, in f\n",
        "    df = gen.next()\n",
        "StopIteration\n"
       ]
      },
      {
       "output_type": "stream",
       "stream": "stderr",
       "text": [
        "Process Process-269:\n",
        "Traceback (most recent call last):\n",
        "  File \"/usr/lib/python2.7/multiprocessing/process.py\", line 258, in _bootstrap\n",
        "    self.run()\n",
        "  File \"/usr/lib/python2.7/multiprocessing/process.py\", line 114, in run\n",
        "    self._target(*self._args, **self._kwargs)\n",
        "  File \"<ipython-input-18-2df4670944ff>\", line 2, in f\n",
        "    df = gen.next()\n",
        "StopIteration\n"
       ]
      },
      {
       "output_type": "stream",
       "stream": "stderr",
       "text": [
        "Process Process-270:\n",
        "Traceback (most recent call last):\n",
        "  File \"/usr/lib/python2.7/multiprocessing/process.py\", line 258, in _bootstrap\n",
        "    self.run()\n",
        "  File \"/usr/lib/python2.7/multiprocessing/process.py\", line 114, in run\n",
        "    self._target(*self._args, **self._kwargs)\n",
        "  File \"<ipython-input-18-2df4670944ff>\", line 2, in f\n",
        "    df = gen.next()\n",
        "StopIteration\n"
       ]
      },
      {
       "output_type": "stream",
       "stream": "stderr",
       "text": [
        "Process Process-271:\n",
        "Traceback (most recent call last):\n",
        "  File \"/usr/lib/python2.7/multiprocessing/process.py\", line 258, in _bootstrap\n",
        "    self.run()\n",
        "  File \"/usr/lib/python2.7/multiprocessing/process.py\", line 114, in run\n",
        "    self._target(*self._args, **self._kwargs)\n",
        "  File \"<ipython-input-18-2df4670944ff>\", line 2, in f\n",
        "    df = gen.next()\n",
        "StopIteration\n"
       ]
      },
      {
       "output_type": "stream",
       "stream": "stderr",
       "text": [
        "Process Process-272:\n",
        "Traceback (most recent call last):\n",
        "  File \"/usr/lib/python2.7/multiprocessing/process.py\", line 258, in _bootstrap\n",
        "    self.run()\n",
        "  File \"/usr/lib/python2.7/multiprocessing/process.py\", line 114, in run\n",
        "    self._target(*self._args, **self._kwargs)\n",
        "  File \"<ipython-input-18-2df4670944ff>\", line 2, in f\n",
        "    df = gen.next()\n",
        "StopIteration\n"
       ]
      },
      {
       "output_type": "stream",
       "stream": "stderr",
       "text": [
        "Process Process-273:\n",
        "Traceback (most recent call last):\n",
        "  File \"/usr/lib/python2.7/multiprocessing/process.py\", line 258, in _bootstrap\n",
        "    self.run()\n",
        "  File \"/usr/lib/python2.7/multiprocessing/process.py\", line 114, in run\n",
        "    self._target(*self._args, **self._kwargs)\n",
        "  File \"<ipython-input-18-2df4670944ff>\", line 2, in f\n",
        "    df = gen.next()\n",
        "StopIteration\n"
       ]
      },
      {
       "output_type": "stream",
       "stream": "stderr",
       "text": [
        "Process Process-274:\n",
        "Traceback (most recent call last):\n",
        "  File \"/usr/lib/python2.7/multiprocessing/process.py\", line 258, in _bootstrap\n",
        "    self.run()\n",
        "  File \"/usr/lib/python2.7/multiprocessing/process.py\", line 114, in run\n",
        "    self._target(*self._args, **self._kwargs)\n",
        "  File \"<ipython-input-18-2df4670944ff>\", line 2, in f\n",
        "    df = gen.next()\n",
        "StopIteration\n"
       ]
      },
      {
       "output_type": "stream",
       "stream": "stderr",
       "text": [
        "Process Process-275:\n",
        "Traceback (most recent call last):\n",
        "  File \"/usr/lib/python2.7/multiprocessing/process.py\", line 258, in _bootstrap\n",
        "    self.run()\n",
        "  File \"/usr/lib/python2.7/multiprocessing/process.py\", line 114, in run\n",
        "    self._target(*self._args, **self._kwargs)\n",
        "  File \"<ipython-input-18-2df4670944ff>\", line 2, in f\n",
        "    df = gen.next()\n",
        "StopIteration\n"
       ]
      },
      {
       "output_type": "stream",
       "stream": "stderr",
       "text": [
        "Process Process-276:\n",
        "Traceback (most recent call last):\n",
        "  File \"/usr/lib/python2.7/multiprocessing/process.py\", line 258, in _bootstrap\n",
        "    self.run()\n",
        "  File \"/usr/lib/python2.7/multiprocessing/process.py\", line 114, in run\n",
        "    self._target(*self._args, **self._kwargs)\n",
        "  File \"<ipython-input-18-2df4670944ff>\", line 2, in f\n",
        "    df = gen.next()\n",
        "StopIteration\n"
       ]
      }
     ],
     "prompt_number": 18
    },
    {
     "cell_type": "code",
     "collapsed": false,
     "input": [
      "pd.HDFStore?"
     ],
     "language": "python",
     "metadata": {},
     "outputs": [],
     "prompt_number": 6
    },
    {
     "cell_type": "code",
     "collapsed": false,
     "input": [],
     "language": "python",
     "metadata": {},
     "outputs": []
    }
   ],
   "metadata": {}
  }
 ]
}