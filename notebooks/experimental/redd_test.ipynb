{
 "metadata": {
  "name": "",
  "signature": "sha256:e893318b0b19c851f2be76b70e7549a644e169436ae807fc16dcfc2b07f77aa2"
 },
 "nbformat": 3,
 "nbformat_minor": 0,
 "worksheets": [
  {
   "cells": [
    {
     "cell_type": "code",
     "collapsed": false,
     "input": [
      "from __future__ import print_function, division\n",
      "import pandas as pd\n",
      "import numpy as np\n",
      "from copy import deepcopy\n",
      "from os.path import join, isdir, isfile, dirname, abspath\n",
      "from os import listdir, getcwd\n",
      "import re\n",
      "from sys import stdout, getfilesystemencoding\n",
      "from nilmtk.datastore import Key\n",
      "from nilmtk.timeframe import TimeFrame\n",
      "from nilmtk.measurement import LEVEL_NAMES\n",
      "from nilm_metadata import convert_yaml_to_hdf5\n",
      "from inspect import currentframe, getfile, getsourcefile\n",
      "from copy import copy"
     ],
     "language": "python",
     "metadata": {},
     "outputs": [],
     "prompt_number": 1
    },
    {
     "cell_type": "code",
     "collapsed": false,
     "input": [
      "import matplotlib.pyplot as plt"
     ],
     "language": "python",
     "metadata": {},
     "outputs": [],
     "prompt_number": 2
    },
    {
     "cell_type": "code",
     "collapsed": false,
     "input": [
      "from nilmtk import DataSet, TimeFrame\n",
      "from nilmtk.disaggregate import CombinatorialOptimisation"
     ],
     "language": "python",
     "metadata": {},
     "outputs": [],
     "prompt_number": 3
    },
    {
     "cell_type": "code",
     "collapsed": false,
     "input": [
      "train = DataSet(\"/home/nipun/Desktop/redd.h5\")\n",
      "test = copy(train)"
     ],
     "language": "python",
     "metadata": {},
     "outputs": [],
     "prompt_number": 4
    },
    {
     "cell_type": "code",
     "collapsed": false,
     "input": [
      "elec = train.buildings[2].elec"
     ],
     "language": "python",
     "metadata": {},
     "outputs": [],
     "prompt_number": 5
    },
    {
     "cell_type": "code",
     "collapsed": false,
     "input": [
      "building_2 = train.buildings[2]"
     ],
     "language": "python",
     "metadata": {},
     "outputs": [],
     "prompt_number": 6
    },
    {
     "cell_type": "code",
     "collapsed": false,
     "input": [
      "elec.map_meter_instances_to_appliance_ids()"
     ],
     "language": "python",
     "metadata": {},
     "outputs": [
      {
       "metadata": {},
       "output_type": "pyout",
       "prompt_number": 7,
       "text": [
        "{1: [],\n",
        " 2: [],\n",
        " 3: [Appliance(type='sockets', instance=1)],\n",
        " 4: [Appliance(type='light', instance=1)],\n",
        " 5: [Appliance(type='electric stove', instance=1)],\n",
        " 6: [Appliance(type='microwave', instance=1)],\n",
        " 7: [Appliance(type='washer dryer', instance=1)],\n",
        " 8: [Appliance(type='sockets', instance=2)],\n",
        " 9: [Appliance(type='fridge', instance=1)],\n",
        " 10: [Appliance(type='dish washer', instance=1)],\n",
        " 11: [Appliance(type='waste disposal unit', instance=1)]}"
       ]
      }
     ],
     "prompt_number": 7
    },
    {
     "cell_type": "markdown",
     "metadata": {},
     "source": [
      "Finding top-k appliances for training"
     ]
    },
    {
     "cell_type": "code",
     "collapsed": false,
     "input": [
      "top_k = elec.select_top_k(k=6)"
     ],
     "language": "python",
     "metadata": {},
     "outputs": [],
     "prompt_number": 25
    },
    {
     "cell_type": "code",
     "collapsed": false,
     "input": [
      "top_k"
     ],
     "language": "python",
     "metadata": {},
     "outputs": [
      {
       "metadata": {},
       "output_type": "pyout",
       "prompt_number": 26,
       "text": [
        "MeterGroup(meters=\n",
        "  ElecMeter(instance=3, building=2, dataset='REDD', appliances=[Appliance(type='sockets', instance=1)])\n",
        "  ElecMeter(instance=4, building=2, dataset='REDD', appliances=[Appliance(type='light', instance=1)])\n",
        "  ElecMeter(instance=6, building=2, dataset='REDD', appliances=[Appliance(type='microwave', instance=1)])\n",
        "  ElecMeter(instance=8, building=2, dataset='REDD', appliances=[Appliance(type='sockets', instance=2)])\n",
        "  ElecMeter(instance=9, building=2, dataset='REDD', appliances=[Appliance(type='fridge', instance=1)])\n",
        "  ElecMeter(instance=10, building=2, dataset='REDD', appliances=[Appliance(type='dish washer', instance=1)])\n",
        ")"
       ]
      }
     ],
     "prompt_number": 26
    },
    {
     "cell_type": "code",
     "collapsed": false,
     "input": [
      "elec.energy_per_meter().T"
     ],
     "language": "python",
     "metadata": {},
     "outputs": [
      {
       "html": [
        "<div style=\"max-height:1000px;max-width:1500px;overflow:auto;\">\n",
        "<table border=\"1\" class=\"dataframe\">\n",
        "  <thead>\n",
        "    <tr style=\"text-align: right;\">\n",
        "      <th></th>\n",
        "      <th>active</th>\n",
        "      <th>apparent</th>\n",
        "    </tr>\n",
        "  </thead>\n",
        "  <tbody>\n",
        "    <tr>\n",
        "      <th>1 </th>\n",
        "      <td>       NaN</td>\n",
        "      <td> 14.358204</td>\n",
        "    </tr>\n",
        "    <tr>\n",
        "      <th>2 </th>\n",
        "      <td>       NaN</td>\n",
        "      <td> 62.864776</td>\n",
        "    </tr>\n",
        "    <tr>\n",
        "      <th>3 </th>\n",
        "      <td>  2.066441</td>\n",
        "      <td>       NaN</td>\n",
        "    </tr>\n",
        "    <tr>\n",
        "      <th>4 </th>\n",
        "      <td>  8.886603</td>\n",
        "      <td>       NaN</td>\n",
        "    </tr>\n",
        "    <tr>\n",
        "      <th>5 </th>\n",
        "      <td>  0.483484</td>\n",
        "      <td>       NaN</td>\n",
        "    </tr>\n",
        "    <tr>\n",
        "      <th>6 </th>\n",
        "      <td>  5.141312</td>\n",
        "      <td>       NaN</td>\n",
        "    </tr>\n",
        "    <tr>\n",
        "      <th>7 </th>\n",
        "      <td>  0.714265</td>\n",
        "      <td>       NaN</td>\n",
        "    </tr>\n",
        "    <tr>\n",
        "      <th>8 </th>\n",
        "      <td>  3.431987</td>\n",
        "      <td>       NaN</td>\n",
        "    </tr>\n",
        "    <tr>\n",
        "      <th>9 </th>\n",
        "      <td> 26.634318</td>\n",
        "      <td>       NaN</td>\n",
        "    </tr>\n",
        "    <tr>\n",
        "      <th>10</th>\n",
        "      <td>  2.992981</td>\n",
        "      <td>       NaN</td>\n",
        "    </tr>\n",
        "    <tr>\n",
        "      <th>11</th>\n",
        "      <td>  0.026742</td>\n",
        "      <td>       NaN</td>\n",
        "    </tr>\n",
        "  </tbody>\n",
        "</table>\n",
        "</div>"
       ],
       "metadata": {},
       "output_type": "pyout",
       "prompt_number": 27,
       "text": [
        "       active   apparent\n",
        "1         NaN  14.358204\n",
        "2         NaN  62.864776\n",
        "3    2.066441        NaN\n",
        "4    8.886603        NaN\n",
        "5    0.483484        NaN\n",
        "6    5.141312        NaN\n",
        "7    0.714265        NaN\n",
        "8    3.431987        NaN\n",
        "9   26.634318        NaN\n",
        "10   2.992981        NaN\n",
        "11   0.026742        NaN"
       ]
      }
     ],
     "prompt_number": 27
    },
    {
     "cell_type": "code",
     "collapsed": false,
     "input": [
      "split_point = elec.train_test_split(0.5)"
     ],
     "language": "python",
     "metadata": {},
     "outputs": [],
     "prompt_number": 28
    },
    {
     "cell_type": "code",
     "collapsed": false,
     "input": [
      "split_point"
     ],
     "language": "python",
     "metadata": {},
     "outputs": [
      {
       "metadata": {},
       "output_type": "pyout",
       "prompt_number": 29,
       "text": [
        "Timestamp('2011-04-25 03:22:04-0400', tz='US/Eastern')"
       ]
      }
     ],
     "prompt_number": 29
    },
    {
     "cell_type": "code",
     "collapsed": false,
     "input": [
      "elec.good_sections()"
     ],
     "language": "python",
     "metadata": {},
     "outputs": [
      {
       "metadata": {},
       "output_type": "pyout",
       "prompt_number": 30,
       "text": [
        "[TimeFrame(start='2011-04-17 19:18:27-04:00', end='2011-04-17 19:22:04-04:00', empty=False),\n",
        " TimeFrame(start='2011-04-17 19:25:09-04:00', end='2011-04-17 19:26:14-04:00', empty=False),\n",
        " TimeFrame(start='2011-04-17 21:45:01-04:00', end='2011-04-17 21:45:25-04:00', empty=False),\n",
        " TimeFrame(start='2011-04-17 22:18:13-04:00', end='2011-04-17 22:18:26-04:00', empty=False),\n",
        " TimeFrame(start='2011-04-17 23:09:35-04:00', end='2011-04-17 23:09:43-04:00', empty=False),\n",
        " TimeFrame(start='2011-04-17 23:15:29-04:00', end='2011-04-17 23:15:37-04:00', empty=False),\n",
        " TimeFrame(start='2011-04-17 23:30:57-04:00', end='2011-04-17 23:31:21-04:00', empty=False),\n",
        " TimeFrame(start='2011-04-17 23:42:54-04:00', end='2011-04-17 23:43:03-04:00', empty=False),\n",
        " TimeFrame(start='2011-04-18 00:00:53-04:00', end='2011-04-18 00:01:02-04:00', empty=False),\n",
        " TimeFrame(start='2011-04-18 00:09:34-04:00', end='2011-04-18 01:21:53-04:00', empty=False),\n",
        " TimeFrame(start='2011-04-18 01:22:41-04:00', end='2011-04-18 01:29:10-04:00', empty=False),\n",
        " TimeFrame(start='2011-04-18 01:31:36-04:00', end='2011-04-19 12:13:37-04:00', empty=False),\n",
        " TimeFrame(start='2011-04-19 12:14:16-04:00', end='2011-04-19 18:45:17-04:00', empty=False),\n",
        " TimeFrame(start='2011-04-19 20:20:07-04:00', end='2011-04-21 17:45:11-04:00', empty=False),\n",
        " TimeFrame(start='2011-04-21 19:41:34-04:00', end='2011-04-22 02:08:11-04:00', empty=False),\n",
        " TimeFrame(start='2011-04-22 02:11:36-04:00', end='2011-04-22 22:47:03-04:00', empty=False),\n",
        " TimeFrame(start='2011-04-22 22:48:39-04:00', end='2011-04-23 12:23:17-04:00', empty=False),\n",
        " TimeFrame(start='2011-04-23 12:24:06-04:00', end='2011-04-23 13:36:09-04:00', empty=False),\n",
        " TimeFrame(start='2011-04-23 13:36:50-04:00', end='2011-04-23 17:02:16-04:00', empty=False),\n",
        " TimeFrame(start='2011-04-23 17:04:59-04:00', end='2011-04-24 20:46:50-04:00', empty=False),\n",
        " TimeFrame(start='2011-04-24 20:47:30-04:00', end='2011-04-25 19:27:17-04:00', empty=False),\n",
        " TimeFrame(start='2011-04-25 19:32:14-04:00', end='2011-04-27 03:17:55-04:00', empty=False),\n",
        " TimeFrame(start='2011-04-27 03:21:47-04:00', end='2011-04-29 17:48:41-04:00', empty=False),\n",
        " TimeFrame(start='2011-04-29 17:48:42-04:00', end='2011-05-01 01:03:59-04:00', empty=False),\n",
        " TimeFrame(start='2011-05-01 01:06:15-04:00', end='2011-05-01 23:04:44-04:00', empty=False),\n",
        " TimeFrame(start='2011-05-22 15:57:03-04:00', end='2011-05-22 19:59:16-04:00', empty=False)]"
       ]
      }
     ],
     "prompt_number": 30
    },
    {
     "cell_type": "code",
     "collapsed": false,
     "input": [
      "train.store.window = TimeFrame(start=None, end = split_point)\n",
      "test.store.window = TimeFrame(start=split_point, end=None)"
     ],
     "language": "python",
     "metadata": {},
     "outputs": [],
     "prompt_number": 31
    },
    {
     "cell_type": "code",
     "collapsed": false,
     "input": [
      "from nilmtk import DataSet, TimeFrame\n",
      "from nilmtk.disaggregate import CombinatorialOptimisation"
     ],
     "language": "python",
     "metadata": {},
     "outputs": [],
     "prompt_number": 32
    },
    {
     "cell_type": "code",
     "collapsed": false,
     "input": [
      "co = CombinatorialOptimisation()"
     ],
     "language": "python",
     "metadata": {},
     "outputs": [],
     "prompt_number": 33
    },
    {
     "cell_type": "code",
     "collapsed": false,
     "input": [
      "co.train(top_k)"
     ],
     "language": "python",
     "metadata": {},
     "outputs": [],
     "prompt_number": 34
    },
    {
     "cell_type": "code",
     "collapsed": false,
     "input": [
      "co.model"
     ],
     "language": "python",
     "metadata": {},
     "outputs": [
      {
       "metadata": {},
       "output_type": "pyout",
       "prompt_number": 35,
       "text": [
        "{3: array([  0,  14, 777], dtype=int32),\n",
        " 4: array([  0,  20, 155], dtype=int32),\n",
        " 6: array([   0,   49, 1826], dtype=int32),\n",
        " 8: array([   0,  191, 1054], dtype=int32),\n",
        " 9: array([  0, 163, 410], dtype=int32),\n",
        " 10: array([   0,  208, 1199], dtype=int32)}"
       ]
      }
     ],
     "prompt_number": 35
    },
    {
     "cell_type": "code",
     "collapsed": false,
     "input": [
      "from nilmtk import HDFDataStore\n",
      "output = HDFDataStore('output.h5', 'w')\n",
      "test_mains = test.buildings[2].elec.mains()\n",
      "co.disaggregate(test_mains, output)"
     ],
     "language": "python",
     "metadata": {},
     "outputs": [],
     "prompt_number": 36
    },
    {
     "cell_type": "code",
     "collapsed": false,
     "input": [
      "output.store.keys()"
     ],
     "language": "python",
     "metadata": {},
     "outputs": [
      {
       "metadata": {},
       "output_type": "pyout",
       "prompt_number": 37,
       "text": [
        "['/building2/elec/meter10',\n",
        " '/building2/elec/meter1_2',\n",
        " '/building2/elec/meter3',\n",
        " '/building2/elec/meter4',\n",
        " '/building2/elec/meter6',\n",
        " '/building2/elec/meter8',\n",
        " '/building2/elec/meter9']"
       ]
      }
     ],
     "prompt_number": 37
    },
    {
     "cell_type": "code",
     "collapsed": false,
     "input": [
      "%matplotlib inline"
     ],
     "language": "python",
     "metadata": {},
     "outputs": [],
     "prompt_number": 38
    },
    {
     "cell_type": "code",
     "collapsed": false,
     "input": [
      "fig, ax = plt.subplots(nrows=2, sharex=True)\n",
      "output.store['/building2/elec/meter9'][:'May 3 2011'].plot(label='Predicted', ax=ax[0])\n",
      "train.buildings[2].elec['fridge'].power_series_all_data()[:'May 3 2011'].plot(ax=ax[1])\n",
      "plt.legend()"
     ],
     "language": "python",
     "metadata": {},
     "outputs": [
      {
       "metadata": {},
       "output_type": "pyout",
       "prompt_number": 39,
       "text": [
        "<matplotlib.legend.Legend at 0x7f7c6e114a90>"
       ]
      },
      {
       "metadata": {},
       "output_type": "display_data",
       "png": "[encoded data removed]",
       "text": [
        "<matplotlib.figure.Figure at 0x7f7c499eddd0>"
       ]
      }
     ],
     "prompt_number": 39
    },
    {
     "cell_type": "code",
     "collapsed": false,
     "input": [
      "output.store['fridge']"
     ],
     "language": "python",
     "metadata": {},
     "outputs": [
      {
       "ename": "KeyError",
       "evalue": "'No object named fridge in the file'",
       "output_type": "pyerr",
       "traceback": [
        "\u001b[1;31m---------------------------------------------------------------------------\u001b[0m\n\u001b[1;31mKeyError\u001b[0m                                  Traceback (most recent call last)",
        "\u001b[1;32m<ipython-input-41-2aad1e896a87>\u001b[0m in \u001b[0;36m<module>\u001b[1;34m()\u001b[0m\n\u001b[1;32m----> 1\u001b[1;33m \u001b[0moutput\u001b[0m\u001b[1;33m.\u001b[0m\u001b[0mstore\u001b[0m\u001b[1;33m[\u001b[0m\u001b[1;34m'fridge'\u001b[0m\u001b[1;33m]\u001b[0m\u001b[1;33m\u001b[0m\u001b[0m\n\u001b[0m",
        "\u001b[1;32m/home/nipun/anaconda/lib/python2.7/site-packages/pandas/io/pytables.pyc\u001b[0m in \u001b[0;36m__getitem__\u001b[1;34m(self, key)\u001b[0m\n\u001b[0;32m    414\u001b[0m \u001b[1;33m\u001b[0m\u001b[0m\n\u001b[0;32m    415\u001b[0m     \u001b[1;32mdef\u001b[0m \u001b[0m__getitem__\u001b[0m\u001b[1;33m(\u001b[0m\u001b[0mself\u001b[0m\u001b[1;33m,\u001b[0m \u001b[0mkey\u001b[0m\u001b[1;33m)\u001b[0m\u001b[1;33m:\u001b[0m\u001b[1;33m\u001b[0m\u001b[0m\n\u001b[1;32m--> 416\u001b[1;33m         \u001b[1;32mreturn\u001b[0m \u001b[0mself\u001b[0m\u001b[1;33m.\u001b[0m\u001b[0mget\u001b[0m\u001b[1;33m(\u001b[0m\u001b[0mkey\u001b[0m\u001b[1;33m)\u001b[0m\u001b[1;33m\u001b[0m\u001b[0m\n\u001b[0m\u001b[0;32m    417\u001b[0m \u001b[1;33m\u001b[0m\u001b[0m\n\u001b[0;32m    418\u001b[0m     \u001b[1;32mdef\u001b[0m \u001b[0m__setitem__\u001b[0m\u001b[1;33m(\u001b[0m\u001b[0mself\u001b[0m\u001b[1;33m,\u001b[0m \u001b[0mkey\u001b[0m\u001b[1;33m,\u001b[0m \u001b[0mvalue\u001b[0m\u001b[1;33m)\u001b[0m\u001b[1;33m:\u001b[0m\u001b[1;33m\u001b[0m\u001b[0m\n",
        "\u001b[1;32m/home/nipun/anaconda/lib/python2.7/site-packages/pandas/io/pytables.pyc\u001b[0m in \u001b[0;36mget\u001b[1;34m(self, key)\u001b[0m\n\u001b[0;32m    617\u001b[0m         \u001b[0mgroup\u001b[0m \u001b[1;33m=\u001b[0m \u001b[0mself\u001b[0m\u001b[1;33m.\u001b[0m\u001b[0mget_node\u001b[0m\u001b[1;33m(\u001b[0m\u001b[0mkey\u001b[0m\u001b[1;33m)\u001b[0m\u001b[1;33m\u001b[0m\u001b[0m\n\u001b[0;32m    618\u001b[0m         \u001b[1;32mif\u001b[0m \u001b[0mgroup\u001b[0m \u001b[1;32mis\u001b[0m \u001b[0mNone\u001b[0m\u001b[1;33m:\u001b[0m\u001b[1;33m\u001b[0m\u001b[0m\n\u001b[1;32m--> 619\u001b[1;33m             \u001b[1;32mraise\u001b[0m \u001b[0mKeyError\u001b[0m\u001b[1;33m(\u001b[0m\u001b[1;34m'No object named %s in the file'\u001b[0m \u001b[1;33m%\u001b[0m \u001b[0mkey\u001b[0m\u001b[1;33m)\u001b[0m\u001b[1;33m\u001b[0m\u001b[0m\n\u001b[0m\u001b[0;32m    620\u001b[0m         \u001b[1;32mreturn\u001b[0m \u001b[0mself\u001b[0m\u001b[1;33m.\u001b[0m\u001b[0m_read_group\u001b[0m\u001b[1;33m(\u001b[0m\u001b[0mgroup\u001b[0m\u001b[1;33m)\u001b[0m\u001b[1;33m\u001b[0m\u001b[0m\n\u001b[0;32m    621\u001b[0m \u001b[1;33m\u001b[0m\u001b[0m\n",
        "\u001b[1;31mKeyError\u001b[0m: 'No object named fridge in the file'"
       ]
      }
     ],
     "prompt_number": 41
    },
    {
     "cell_type": "code",
     "collapsed": false,
     "input": [],
     "language": "python",
     "metadata": {},
     "outputs": []
    }
   ],
   "metadata": {}
  }
 ]
}