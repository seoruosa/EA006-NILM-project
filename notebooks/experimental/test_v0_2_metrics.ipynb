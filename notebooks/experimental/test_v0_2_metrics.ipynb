{
 "metadata": {
  "name": "",
  "signature": "sha256:852ebaf45e159645d8a680f5890082b85d68b2d457f7d038e4f90e3883455a4c"
 },
 "nbformat": 3,
 "nbformat_minor": 0,
 "worksheets": [
  {
   "cells": [
    {
     "cell_type": "code",
     "collapsed": false,
     "input": [
      "from nilmtk import DataSet, MeterGroup\n",
      "from nilmtk import metrics\n",
      "\n",
      "predictions_dataset = DataSet('output.h5')\n",
      "ground_truth_dataset = DataSet('redd.h5')"
     ],
     "language": "python",
     "metadata": {},
     "outputs": [
      {
       "output_type": "stream",
       "stream": "stderr",
       "text": [
        "/home/jack/workspace/python/nilmtk/nilmtk/metergroup.py:45: RuntimeWarning: Building 1 has an empty 'appliances' list.\n",
        "  .format(building_id.instance), RuntimeWarning)\n"
       ]
      }
     ],
     "prompt_number": 1
    },
    {
     "cell_type": "code",
     "collapsed": false,
     "input": [
      "predictions_metergroup = predictions_dataset.buildings[1].elec\n",
      "ground_truth_metergroup = MeterGroup.from_other_metergroup(predictions_metergroup, 'REDD')"
     ],
     "language": "python",
     "metadata": {},
     "outputs": [],
     "prompt_number": 2
    },
    {
     "cell_type": "code",
     "collapsed": false,
     "input": [
      "predictions_metergroup"
     ],
     "language": "python",
     "metadata": {},
     "outputs": [
      {
       "metadata": {},
       "output_type": "pyout",
       "prompt_number": 3,
       "text": [
        "MeterGroup(meters=\n",
        "  ElecMeter(instance=(1, 2), building=1, dataset='NILMTK_CO_2014-07-10T16:30:56', site_meter, appliances=[])\n",
        "  ElecMeter(instance=5, building=1, dataset='NILMTK_CO_2014-07-10T16:30:56', appliances=[])\n",
        "  ElecMeter(instance=6, building=1, dataset='NILMTK_CO_2014-07-10T16:30:56', appliances=[])\n",
        "  ElecMeter(instance=7, building=1, dataset='NILMTK_CO_2014-07-10T16:30:56', appliances=[])\n",
        "  ElecMeter(instance=8, building=1, dataset='NILMTK_CO_2014-07-10T16:30:56', appliances=[])\n",
        "  ElecMeter(instance=9, building=1, dataset='NILMTK_CO_2014-07-10T16:30:56', appliances=[])\n",
        "  ElecMeter(instance=11, building=1, dataset='NILMTK_CO_2014-07-10T16:30:56', appliances=[])\n",
        "  ElecMeter(instance=12, building=1, dataset='NILMTK_CO_2014-07-10T16:30:56', appliances=[])\n",
        "  ElecMeter(instance=13, building=1, dataset='NILMTK_CO_2014-07-10T16:30:56', appliances=[])\n",
        "  ElecMeter(instance=14, building=1, dataset='NILMTK_CO_2014-07-10T16:30:56', appliances=[])\n",
        "  ElecMeter(instance=15, building=1, dataset='NILMTK_CO_2014-07-10T16:30:56', appliances=[])\n",
        "  ElecMeter(instance=16, building=1, dataset='NILMTK_CO_2014-07-10T16:30:56', appliances=[])\n",
        "  ElecMeter(instance=17, building=1, dataset='NILMTK_CO_2014-07-10T16:30:56', appliances=[])\n",
        "  ElecMeter(instance=18, building=1, dataset='NILMTK_CO_2014-07-10T16:30:56', appliances=[])\n",
        "  ElecMeter(instance=19, building=1, dataset='NILMTK_CO_2014-07-10T16:30:56', appliances=[])\n",
        "  ElecMeter(instance=(10, 20), building=1, dataset='NILMTK_CO_2014-07-10T16:30:56', appliances=[])\n",
        "  ElecMeter(instance=(3, 4), building=1, dataset='NILMTK_CO_2014-07-10T16:30:56', appliances=[])\n",
        ")"
       ]
      }
     ],
     "prompt_number": 3
    },
    {
     "cell_type": "code",
     "collapsed": false,
     "input": [
      "ground_truth_metergroup"
     ],
     "language": "python",
     "metadata": {},
     "outputs": [
      {
       "metadata": {},
       "output_type": "pyout",
       "prompt_number": 4,
       "text": [
        "MeterGroup(meters=\n",
        "  ElecMeter(instance=18, building=1, dataset='REDD', appliances=[Appliance(type='light', instance=3)])\n",
        "  ElecMeter(instance=11, building=1, dataset='REDD', appliances=[Appliance(type='microwave', instance=1)])\n",
        "  ElecMeter(instance=17, building=1, dataset='REDD', appliances=[Appliance(type='light', instance=2)])\n",
        "  ElecMeter(instance=13, building=1, dataset='REDD', appliances=[Appliance(type='electric space heater', instance=1)])\n",
        "  ElecMeter(instance=16, building=1, dataset='REDD', appliances=[Appliance(type='sockets', instance=4)])\n",
        "  ElecMeter(instance=9, building=1, dataset='REDD', appliances=[Appliance(type='light', instance=1)])\n",
        "  ElecMeter(instance=15, building=1, dataset='REDD', appliances=[Appliance(type='sockets', instance=3)])\n",
        "  ElecMeter(instance=12, building=1, dataset='REDD', appliances=[Appliance(type='unknown', instance=1)])\n",
        "  ElecMeter(instance=5, building=1, dataset='REDD', appliances=[Appliance(type='fridge', instance=1)])\n",
        "  ElecMeter(instance=8, building=1, dataset='REDD', appliances=[Appliance(type='sockets', instance=2)])\n",
        "  ElecMeter(instance=14, building=1, dataset='REDD', appliances=[Appliance(type='electric stove', instance=1)])\n",
        "  ElecMeter(instance=7, building=1, dataset='REDD', appliances=[Appliance(type='sockets', instance=1)])\n",
        "  MeterGroup(meters=\n",
        "    ElecMeter(instance=3, building=1, dataset='REDD', appliances=[Appliance(type='electric oven', instance=1)])\n",
        "    ElecMeter(instance=4, building=1, dataset='REDD', appliances=[Appliance(type='electric oven', instance=1)])\n",
        "  )\n",
        "  ElecMeter(instance=19, building=1, dataset='REDD', appliances=[Appliance(type='unknown', instance=2)])\n",
        "  MeterGroup(meters=\n",
        "    ElecMeter(instance=2, building=1, dataset='REDD', site_meter, appliances=[])\n",
        "    ElecMeter(instance=1, building=1, dataset='REDD', site_meter, appliances=[])\n",
        "  )\n",
        "  ElecMeter(instance=6, building=1, dataset='REDD', appliances=[Appliance(type='dish washer', instance=1)])\n",
        "  MeterGroup(meters=\n",
        "    ElecMeter(instance=10, building=1, dataset='REDD', appliances=[Appliance(type='washer dryer', instance=1)])\n",
        "    ElecMeter(instance=20, building=1, dataset='REDD', appliances=[Appliance(type='washer dryer', instance=1)])\n",
        "  )\n",
        ")"
       ]
      }
     ],
     "prompt_number": 4
    },
    {
     "cell_type": "code",
     "collapsed": false,
     "input": [
      "ground_truth_metergroup.mains()"
     ],
     "language": "python",
     "metadata": {},
     "outputs": [
      {
       "metadata": {},
       "output_type": "pyout",
       "prompt_number": 5,
       "text": [
        "MeterGroup(meters=\n",
        "  ElecMeter(instance=2, building=1, dataset='REDD', site_meter, appliances=[])\n",
        "  ElecMeter(instance=1, building=1, dataset='REDD', site_meter, appliances=[])\n",
        ")"
       ]
      }
     ],
     "prompt_number": 5
    },
    {
     "cell_type": "code",
     "collapsed": false,
     "input": [
      "predictions_metergroup.mains()"
     ],
     "language": "python",
     "metadata": {},
     "outputs": [
      {
       "metadata": {},
       "output_type": "pyout",
       "prompt_number": 6,
       "text": [
        "ElecMeter(instance=(1, 2), building=1, dataset='NILMTK_CO_2014-07-10T16:30:56', site_meter, appliances=[])"
       ]
      }
     ],
     "prompt_number": 6
    },
    {
     "cell_type": "code",
     "collapsed": false,
     "input": [
      "errors = metrics.error_in_assigned_energy(predictions_metergroup, ground_truth_metergroup)"
     ],
     "language": "python",
     "metadata": {},
     "outputs": [
      {
       "output_type": "stream",
       "stream": "stdout",
       "text": [
        "TimeFrame(start='2011-04-18 09:22:13-04:00', end='2011-04-18 09:22:16-04:00', empty=False)\n",
        "TimeFrame(start='2011-04-18 14:03:11-04:00', end='2011-04-18 14:03:30-04:00', empty=False)"
       ]
      },
      {
       "output_type": "stream",
       "stream": "stdout",
       "text": [
        "\n",
        "TimeFrame(start='2011-04-19 20:20:09-04:00', end='2011-04-19 20:20:18-04:00', empty=False)"
       ]
      },
      {
       "output_type": "stream",
       "stream": "stdout",
       "text": [
        "\n",
        "TimeFrame(start='2011-04-20 01:55:37-04:00', end='2011-04-20 01:55:40-04:00', empty=False)"
       ]
      },
      {
       "output_type": "stream",
       "stream": "stdout",
       "text": [
        "\n",
        "TimeFrame(start='2011-04-21 06:17:22-04:00', end='2011-04-21 06:17:40-04:00', empty=False)"
       ]
      },
      {
       "output_type": "stream",
       "stream": "stdout",
       "text": [
        "\n",
        "TimeFrame(start='2011-04-21 19:41:30-04:00', end='2011-04-21 19:41:39-04:00', empty=False)"
       ]
      },
      {
       "output_type": "stream",
       "stream": "stdout",
       "text": [
        "\n",
        "TimeFrame(start='2011-04-22 22:48:34-04:00', end='2011-04-22 22:48:43-04:00', empty=False)"
       ]
      },
      {
       "output_type": "stream",
       "stream": "stdout",
       "text": [
        "\n",
        "TimeFrame(start='2011-04-24 03:52:28-04:00', end='2011-04-24 03:52:54-04:00', empty=False)"
       ]
      },
      {
       "output_type": "stream",
       "stream": "stdout",
       "text": [
        "\n",
        "TimeFrame(start='2011-04-27 02:51:25-04:00', end='2011-04-27 02:51:28-04:00', empty=False)"
       ]
      },
      {
       "output_type": "stream",
       "stream": "stdout",
       "text": [
        "\n",
        "TimeFrame(start='2011-04-27 03:21:19-04:00', end='2011-04-27 03:21:23-04:00', empty=False)"
       ]
      },
      {
       "output_type": "stream",
       "stream": "stdout",
       "text": [
        "\n",
        "TimeFrame(start='2011-04-29 23:10:38-04:00', end='2011-04-29 23:10:57-04:00', empty=False)"
       ]
      },
      {
       "output_type": "stream",
       "stream": "stdout",
       "text": [
        "\n",
        "TimeFrame(start='2011-05-01 09:47:22-04:00', end='2011-05-01 09:47:25-04:00', empty=False)"
       ]
      },
      {
       "output_type": "stream",
       "stream": "stdout",
       "text": [
        "\n",
        "TimeFrame(start='2011-05-02 17:07:31-04:00', end='2011-05-02 17:07:34-04:00', empty=False)"
       ]
      },
      {
       "output_type": "stream",
       "stream": "stdout",
       "text": [
        "\n",
        "TimeFrame(start='2011-05-06 10:51:50-04:00', end='2011-05-06 10:52:31-04:00', empty=False)"
       ]
      },
      {
       "output_type": "stream",
       "stream": "stdout",
       "text": [
        "\n",
        "TimeFrame(start='2011-05-07 02:40:47-04:00', end='2011-05-07 02:40:51-04:00', empty=False)"
       ]
      },
      {
       "output_type": "stream",
       "stream": "stdout",
       "text": [
        "\n",
        "TimeFrame(start='2011-05-11 03:19:47-04:00', end='2011-05-11 03:20:08-04:00', empty=False)"
       ]
      },
      {
       "output_type": "stream",
       "stream": "stdout",
       "text": [
        "\n",
        "TimeFrame(start='2011-05-12 20:14:31-04:00', end='2011-05-12 20:14:34-04:00', empty=False)"
       ]
      },
      {
       "output_type": "stream",
       "stream": "stdout",
       "text": [
        "\n",
        "TimeFrame(start='2011-05-22 16:04:50-04:00', end='2011-05-22 16:04:54-04:00', empty=False)"
       ]
      },
      {
       "output_type": "stream",
       "stream": "stdout",
       "text": [
        "\n",
        "TimeFrame(start='2011-05-22 23:41:39-04:00', end='2011-05-22 23:42:01-04:00', empty=False)"
       ]
      },
      {
       "output_type": "stream",
       "stream": "stdout",
       "text": [
        "\n",
        "TimeFrame(start='2011-05-23 10:31:34-04:00', end='2011-05-23 10:31:38-04:00', empty=False)"
       ]
      },
      {
       "output_type": "stream",
       "stream": "stdout",
       "text": [
        "\n",
        "TimeFrame(start='2011-04-18 09:23:00-04:00', end='2011-04-18 09:24:00-04:00', empty=False)"
       ]
      },
      {
       "output_type": "stream",
       "stream": "stdout",
       "text": [
        "\n",
        "TimeFrame(start='2011-04-18 14:04:00-04:00', end='2011-04-18 14:05:00-04:00', empty=False)\n",
        "TimeFrame(start='2011-04-19 20:21:00-04:00', end='2011-04-19 20:22:00-04:00', empty=False)"
       ]
      },
      {
       "output_type": "stream",
       "stream": "stdout",
       "text": [
        "\n",
        "TimeFrame(start='2011-04-20 02:28:00-04:00', end='2011-04-20 02:29:00-04:00', empty=False)\n",
        "TimeFrame(start='2011-04-21 06:18:00-04:00', end='2011-04-21 06:19:00-04:00', empty=False)"
       ]
      },
      {
       "output_type": "stream",
       "stream": "stdout",
       "text": [
        "\n",
        "TimeFrame(start='2011-04-21 19:42:00-04:00', end='2011-04-21 19:43:00-04:00', empty=False)\n",
        "TimeFrame(start='2011-04-22 22:49:00-04:00', end='2011-04-22 22:50:00-04:00', empty=False)"
       ]
      },
      {
       "output_type": "stream",
       "stream": "stdout",
       "text": [
        "\n",
        "TimeFrame(start='2011-04-24 03:53:00-04:00', end='2011-04-24 03:54:00-04:00', empty=False)\n",
        "TimeFrame(start='2011-04-27 03:22:00-04:00', end='2011-04-27 03:23:00-04:00', empty=False)"
       ]
      },
      {
       "output_type": "stream",
       "stream": "stdout",
       "text": [
        "\n",
        "TimeFrame(start='2011-04-29 23:11:00-04:00', end='2011-04-29 23:12:00-04:00', empty=False)\n",
        "TimeFrame(start='2011-05-01 09:48:00-04:00', end='2011-05-01 09:49:00-04:00', empty=False)"
       ]
      },
      {
       "output_type": "stream",
       "stream": "stdout",
       "text": [
        "\n",
        "TimeFrame(start='2011-05-02 17:08:00-04:00', end='2011-05-02 17:09:00-04:00', empty=False)\n",
        "TimeFrame(start='2011-05-06 10:52:00-04:00', end='2011-05-06 10:53:00-04:00', empty=False)\n",
        "TimeFrame(start='2011-05-07 02:41:00-04:00', end='2011-05-07 02:42:00-04:00', empty=False)"
       ]
      },
      {
       "output_type": "stream",
       "stream": "stdout",
       "text": [
        "\n",
        "TimeFrame(start='2011-05-11 03:20:00-04:00', end='2011-05-11 03:21:00-04:00', empty=False)\n",
        "TimeFrame(start='2011-05-12 20:15:00-04:00', end='2011-05-12 20:16:00-04:00', empty=False)"
       ]
      },
      {
       "output_type": "stream",
       "stream": "stdout",
       "text": [
        "\n",
        "TimeFrame(start='2011-05-22 16:05:00-04:00', end='2011-05-22 16:06:00-04:00', empty=False)\n",
        "TimeFrame(start='2011-05-22 23:42:00-04:00', end='2011-05-22 23:43:00-04:00', empty=False)\n",
        "TimeFrame(start='2011-05-23 10:32:00-04:00', end='2011-05-23 10:33:00-04:00', empty=False)"
       ]
      },
      {
       "output_type": "stream",
       "stream": "stdout",
       "text": [
        "\n",
        "TimeFrame(start='2011-04-18 09:22:13-04:00', end='2011-04-18 09:22:16-04:00', empty=False)"
       ]
      },
      {
       "output_type": "stream",
       "stream": "stdout",
       "text": [
        "\n",
        "TimeFrame(start='2011-04-18 14:03:11-04:00', end='2011-04-18 14:03:30-04:00', empty=False)"
       ]
      },
      {
       "output_type": "stream",
       "stream": "stdout",
       "text": [
        "\n",
        "TimeFrame(start='2011-04-19 20:20:09-04:00', end='2011-04-19 20:20:18-04:00', empty=False)"
       ]
      },
      {
       "output_type": "stream",
       "stream": "stdout",
       "text": [
        "\n",
        "TimeFrame(start='2011-04-20 01:55:37-04:00', end='2011-04-20 01:55:40-04:00', empty=False)"
       ]
      },
      {
       "output_type": "stream",
       "stream": "stdout",
       "text": [
        "\n",
        "TimeFrame(start='2011-04-21 06:17:22-04:00', end='2011-04-21 06:17:40-04:00', empty=False)"
       ]
      },
      {
       "output_type": "stream",
       "stream": "stdout",
       "text": [
        "\n",
        "TimeFrame(start='2011-04-21 19:41:30-04:00', end='2011-04-21 19:41:39-04:00', empty=False)"
       ]
      },
      {
       "output_type": "stream",
       "stream": "stdout",
       "text": [
        "\n",
        "TimeFrame(start='2011-04-22 22:48:34-04:00', end='2011-04-22 22:48:43-04:00', empty=False)"
       ]
      },
      {
       "output_type": "stream",
       "stream": "stdout",
       "text": [
        "\n",
        "TimeFrame(start='2011-04-24 03:52:28-04:00', end='2011-04-24 03:52:54-04:00', empty=False)"
       ]
      },
      {
       "output_type": "stream",
       "stream": "stdout",
       "text": [
        "\n",
        "TimeFrame(start='2011-04-27 02:51:25-04:00', end='2011-04-27 02:51:28-04:00', empty=False)"
       ]
      },
      {
       "output_type": "stream",
       "stream": "stdout",
       "text": [
        "\n",
        "TimeFrame(start='2011-04-27 03:21:19-04:00', end='2011-04-27 03:21:23-04:00', empty=False)"
       ]
      },
      {
       "output_type": "stream",
       "stream": "stdout",
       "text": [
        "\n",
        "TimeFrame(start='2011-04-29 23:10:38-04:00', end='2011-04-29 23:10:57-04:00', empty=False)"
       ]
      },
      {
       "output_type": "stream",
       "stream": "stdout",
       "text": [
        "\n",
        "TimeFrame(start='2011-05-01 09:47:22-04:00', end='2011-05-01 09:47:25-04:00', empty=False)"
       ]
      },
      {
       "output_type": "stream",
       "stream": "stdout",
       "text": [
        "\n",
        "TimeFrame(start='2011-05-02 17:07:31-04:00', end='2011-05-02 17:07:34-04:00', empty=False)"
       ]
      },
      {
       "output_type": "stream",
       "stream": "stdout",
       "text": [
        "\n",
        "TimeFrame(start='2011-05-06 10:51:50-04:00', end='2011-05-06 10:52:31-04:00', empty=False)"
       ]
      },
      {
       "output_type": "stream",
       "stream": "stdout",
       "text": [
        "\n",
        "TimeFrame(start='2011-05-07 02:40:47-04:00', end='2011-05-07 02:40:51-04:00', empty=False)"
       ]
      },
      {
       "output_type": "stream",
       "stream": "stdout",
       "text": [
        "\n",
        "TimeFrame(start='2011-05-11 03:19:47-04:00', end='2011-05-11 03:20:08-04:00', empty=False)"
       ]
      },
      {
       "output_type": "stream",
       "stream": "stdout",
       "text": [
        "\n",
        "TimeFrame(start='2011-05-12 20:14:31-04:00', end='2011-05-12 20:14:34-04:00', empty=False)"
       ]
      },
      {
       "output_type": "stream",
       "stream": "stdout",
       "text": [
        "\n",
        "TimeFrame(start='2011-05-22 16:04:50-04:00', end='2011-05-22 16:04:54-04:00', empty=False)"
       ]
      },
      {
       "output_type": "stream",
       "stream": "stdout",
       "text": [
        "\n",
        "TimeFrame(start='2011-05-22 23:41:39-04:00', end='2011-05-22 23:42:01-04:00', empty=False)\n",
        "TimeFrame(start='2011-05-23 10:31:34-04:00', end='2011-05-23 10:31:38-04:00', empty=False)"
       ]
      },
      {
       "output_type": "stream",
       "stream": "stdout",
       "text": [
        "\n",
        "TimeFrame(start='2011-04-18 09:23:00-04:00', end='2011-04-18 09:24:00-04:00', empty=False)\n",
        "TimeFrame(start='2011-04-18 14:04:00-04:00', end='2011-04-18 14:05:00-04:00', empty=False)"
       ]
      },
      {
       "output_type": "stream",
       "stream": "stdout",
       "text": [
        "\n",
        "TimeFrame(start='2011-04-19 20:21:00-04:00', end='2011-04-19 20:22:00-04:00', empty=False)\n",
        "TimeFrame(start='2011-04-20 02:28:00-04:00', end='2011-04-20 02:29:00-04:00', empty=False)"
       ]
      },
      {
       "output_type": "stream",
       "stream": "stdout",
       "text": [
        "\n",
        "TimeFrame(start='2011-04-21 06:18:00-04:00', end='2011-04-21 06:19:00-04:00', empty=False)\n",
        "TimeFrame(start='2011-04-21 19:42:00-04:00', end='2011-04-21 19:43:00-04:00', empty=False)"
       ]
      },
      {
       "output_type": "stream",
       "stream": "stdout",
       "text": [
        "\n",
        "TimeFrame(start='2011-04-22 22:49:00-04:00', end='2011-04-22 22:50:00-04:00', empty=False)\n",
        "TimeFrame(start='2011-04-24 03:53:00-04:00', end='2011-04-24 03:54:00-04:00', empty=False)"
       ]
      },
      {
       "output_type": "stream",
       "stream": "stdout",
       "text": [
        "\n",
        "TimeFrame(start='2011-04-27 03:22:00-04:00', end='2011-04-27 03:23:00-04:00', empty=False)\n",
        "TimeFrame(start='2011-04-29 23:11:00-04:00', end='2011-04-29 23:12:00-04:00', empty=False)"
       ]
      },
      {
       "output_type": "stream",
       "stream": "stdout",
       "text": [
        "\n",
        "TimeFrame(start='2011-05-01 09:48:00-04:00', end='2011-05-01 09:49:00-04:00', empty=False)\n",
        "TimeFrame(start='2011-05-02 17:08:00-04:00', end='2011-05-02 17:09:00-04:00', empty=False)"
       ]
      },
      {
       "output_type": "stream",
       "stream": "stdout",
       "text": [
        "\n",
        "TimeFrame(start='2011-05-06 10:52:00-04:00', end='2011-05-06 10:53:00-04:00', empty=False)\n",
        "TimeFrame(start='2011-05-07 02:41:00-04:00', end='2011-05-07 02:42:00-04:00', empty=False)\n",
        "TimeFrame(start='2011-05-11 03:20:00-04:00', end='2011-05-11 03:21:00-04:00', empty=False)"
       ]
      },
      {
       "output_type": "stream",
       "stream": "stdout",
       "text": [
        "\n",
        "TimeFrame(start='2011-05-12 20:15:00-04:00', end='2011-05-12 20:16:00-04:00', empty=False)\n",
        "TimeFrame(start='2011-05-22 16:05:00-04:00', end='2011-05-22 16:06:00-04:00', empty=False)\n",
        "TimeFrame(start='2011-05-22 23:42:00-04:00', end='2011-05-22 23:43:00-04:00', empty=False)"
       ]
      },
      {
       "output_type": "stream",
       "stream": "stdout",
       "text": [
        "\n",
        "TimeFrame(start='2011-05-23 10:32:00-04:00', end='2011-05-23 10:33:00-04:00', empty=False)\n",
        "TimeFrame(start='2011-04-18 09:22:13-04:00', end='2011-04-18 09:22:16-04:00', empty=False)"
       ]
      },
      {
       "output_type": "stream",
       "stream": "stdout",
       "text": [
        "\n",
        "TimeFrame(start='2011-04-18 14:03:11-04:00', end='2011-04-18 14:03:30-04:00', empty=False)"
       ]
      },
      {
       "output_type": "stream",
       "stream": "stdout",
       "text": [
        "\n",
        "TimeFrame(start='2011-04-19 20:20:09-04:00', end='2011-04-19 20:20:18-04:00', empty=False)"
       ]
      },
      {
       "output_type": "stream",
       "stream": "stdout",
       "text": [
        "\n",
        "TimeFrame(start='2011-04-20 01:55:37-04:00', end='2011-04-20 01:55:40-04:00', empty=False)"
       ]
      },
      {
       "output_type": "stream",
       "stream": "stdout",
       "text": [
        "\n",
        "TimeFrame(start='2011-04-21 06:17:22-04:00', end='2011-04-21 06:17:40-04:00', empty=False)"
       ]
      },
      {
       "output_type": "stream",
       "stream": "stdout",
       "text": [
        "\n",
        "TimeFrame(start='2011-04-21 19:41:30-04:00', end='2011-04-21 19:41:39-04:00', empty=False)"
       ]
      },
      {
       "output_type": "stream",
       "stream": "stdout",
       "text": [
        "\n",
        "TimeFrame(start='2011-04-22 22:48:34-04:00', end='2011-04-22 22:48:43-04:00', empty=False)"
       ]
      },
      {
       "output_type": "stream",
       "stream": "stdout",
       "text": [
        "\n",
        "TimeFrame(start='2011-04-24 03:52:28-04:00', end='2011-04-24 03:52:54-04:00', empty=False)"
       ]
      },
      {
       "output_type": "stream",
       "stream": "stdout",
       "text": [
        "\n",
        "TimeFrame(start='2011-04-27 02:51:25-04:00', end='2011-04-27 02:51:28-04:00', empty=False)"
       ]
      },
      {
       "output_type": "stream",
       "stream": "stdout",
       "text": [
        "\n",
        "TimeFrame(start='2011-04-27 03:21:19-04:00', end='2011-04-27 03:21:23-04:00', empty=False)"
       ]
      },
      {
       "output_type": "stream",
       "stream": "stdout",
       "text": [
        "\n",
        "TimeFrame(start='2011-04-29 23:10:38-04:00', end='2011-04-29 23:10:57-04:00', empty=False)"
       ]
      },
      {
       "output_type": "stream",
       "stream": "stdout",
       "text": [
        "\n",
        "TimeFrame(start='2011-05-01 09:47:22-04:00', end='2011-05-01 09:47:25-04:00', empty=False)"
       ]
      },
      {
       "output_type": "stream",
       "stream": "stdout",
       "text": [
        "\n",
        "TimeFrame(start='2011-05-02 17:07:31-04:00', end='2011-05-02 17:07:34-04:00', empty=False)"
       ]
      },
      {
       "output_type": "stream",
       "stream": "stdout",
       "text": [
        "\n",
        "TimeFrame(start='2011-05-06 10:51:50-04:00', end='2011-05-06 10:52:31-04:00', empty=False)"
       ]
      },
      {
       "output_type": "stream",
       "stream": "stdout",
       "text": [
        "\n",
        "TimeFrame(start='2011-05-07 02:40:47-04:00', end='2011-05-07 02:40:51-04:00', empty=False)"
       ]
      },
      {
       "output_type": "stream",
       "stream": "stdout",
       "text": [
        "\n",
        "TimeFrame(start='2011-05-11 03:19:47-04:00', end='2011-05-11 03:20:08-04:00', empty=False)"
       ]
      },
      {
       "output_type": "stream",
       "stream": "stdout",
       "text": [
        "\n",
        "TimeFrame(start='2011-05-12 20:14:31-04:00', end='2011-05-12 20:14:34-04:00', empty=False)"
       ]
      },
      {
       "output_type": "stream",
       "stream": "stdout",
       "text": [
        "\n",
        "TimeFrame(start='2011-05-22 16:04:50-04:00', end='2011-05-22 16:04:54-04:00', empty=False)"
       ]
      },
      {
       "output_type": "stream",
       "stream": "stdout",
       "text": [
        "\n",
        "TimeFrame(start='2011-05-22 23:41:39-04:00', end='2011-05-22 23:42:01-04:00', empty=False)\n",
        "TimeFrame(start='2011-05-23 10:31:34-04:00', end='2011-05-23 10:31:38-04:00', empty=False)"
       ]
      },
      {
       "output_type": "stream",
       "stream": "stdout",
       "text": [
        "\n",
        "TimeFrame(start='2011-04-18 09:23:00-04:00', end='2011-04-18 09:24:00-04:00', empty=False)\n",
        "TimeFrame(start='2011-04-18 14:04:00-04:00', end='2011-04-18 14:05:00-04:00', empty=False)"
       ]
      },
      {
       "output_type": "stream",
       "stream": "stdout",
       "text": [
        "\n",
        "TimeFrame(start='2011-04-19 20:21:00-04:00', end='2011-04-19 20:22:00-04:00', empty=False)\n",
        "TimeFrame(start='2011-04-20 02:28:00-04:00', end='2011-04-20 02:29:00-04:00', empty=False)"
       ]
      },
      {
       "output_type": "stream",
       "stream": "stdout",
       "text": [
        "\n",
        "TimeFrame(start='2011-04-21 06:18:00-04:00', end='2011-04-21 06:19:00-04:00', empty=False)\n",
        "TimeFrame(start='2011-04-21 19:42:00-04:00', end='2011-04-21 19:43:00-04:00', empty=False)"
       ]
      },
      {
       "output_type": "stream",
       "stream": "stdout",
       "text": [
        "\n",
        "TimeFrame(start='2011-04-22 22:49:00-04:00', end='2011-04-22 22:50:00-04:00', empty=False)\n",
        "TimeFrame(start='2011-04-24 03:53:00-04:00', end='2011-04-24 03:54:00-04:00', empty=False)"
       ]
      },
      {
       "output_type": "stream",
       "stream": "stdout",
       "text": [
        "\n",
        "TimeFrame(start='2011-04-27 03:22:00-04:00', end='2011-04-27 03:23:00-04:00', empty=False)\n",
        "TimeFrame(start='2011-04-29 23:11:00-04:00', end='2011-04-29 23:12:00-04:00', empty=False)"
       ]
      },
      {
       "output_type": "stream",
       "stream": "stdout",
       "text": [
        "\n",
        "TimeFrame(start='2011-05-01 09:48:00-04:00', end='2011-05-01 09:49:00-04:00', empty=False)\n",
        "TimeFrame(start='2011-05-02 17:08:00-04:00', end='2011-05-02 17:09:00-04:00', empty=False)\n",
        "TimeFrame(start='2011-05-06 10:52:00-04:00', end='2011-05-06 10:53:00-04:00', empty=False)"
       ]
      },
      {
       "output_type": "stream",
       "stream": "stdout",
       "text": [
        "\n",
        "TimeFrame(start='2011-05-07 02:41:00-04:00', end='2011-05-07 02:42:00-04:00', empty=False)\n",
        "TimeFrame(start='2011-05-11 03:20:00-04:00', end='2011-05-11 03:21:00-04:00', empty=False)\n",
        "TimeFrame(start='2011-05-12 20:15:00-04:00', end='2011-05-12 20:16:00-04:00', empty=False)"
       ]
      },
      {
       "output_type": "stream",
       "stream": "stdout",
       "text": [
        "\n",
        "TimeFrame(start='2011-05-22 16:05:00-04:00', end='2011-05-22 16:06:00-04:00', empty=False)\n",
        "TimeFrame(start='2011-05-22 23:42:00-04:00', end='2011-05-22 23:43:00-04:00', empty=False)"
       ]
      },
      {
       "output_type": "stream",
       "stream": "stdout",
       "text": [
        "\n",
        "TimeFrame(start='2011-05-23 10:32:00-04:00', end='2011-05-23 10:33:00-04:00', empty=False)\n",
        "TimeFrame(start='2011-04-18 09:22:13-04:00', end='2011-04-18 09:22:16-04:00', empty=False)"
       ]
      },
      {
       "output_type": "stream",
       "stream": "stdout",
       "text": [
        "\n",
        "TimeFrame(start='2011-04-18 14:03:11-04:00', end='2011-04-18 14:03:30-04:00', empty=False)"
       ]
      },
      {
       "output_type": "stream",
       "stream": "stdout",
       "text": [
        "\n",
        "TimeFrame(start='2011-04-19 20:20:09-04:00', end='2011-04-19 20:20:18-04:00', empty=False)"
       ]
      },
      {
       "output_type": "stream",
       "stream": "stdout",
       "text": [
        "\n",
        "TimeFrame(start='2011-04-20 01:55:37-04:00', end='2011-04-20 01:55:40-04:00', empty=False)"
       ]
      },
      {
       "output_type": "stream",
       "stream": "stdout",
       "text": [
        "\n",
        "TimeFrame(start='2011-04-21 06:17:22-04:00', end='2011-04-21 06:17:40-04:00', empty=False)"
       ]
      },
      {
       "output_type": "stream",
       "stream": "stdout",
       "text": [
        "\n",
        "TimeFrame(start='2011-04-21 19:41:30-04:00', end='2011-04-21 19:41:39-04:00', empty=False)"
       ]
      },
      {
       "output_type": "stream",
       "stream": "stdout",
       "text": [
        "\n",
        "TimeFrame(start='2011-04-22 22:48:34-04:00', end='2011-04-22 22:48:43-04:00', empty=False)"
       ]
      },
      {
       "output_type": "stream",
       "stream": "stdout",
       "text": [
        "\n",
        "TimeFrame(start='2011-04-24 03:52:28-04:00', end='2011-04-24 03:52:54-04:00', empty=False)"
       ]
      },
      {
       "output_type": "stream",
       "stream": "stdout",
       "text": [
        "\n",
        "TimeFrame(start='2011-04-27 02:51:25-04:00', end='2011-04-27 02:51:28-04:00', empty=False)"
       ]
      },
      {
       "output_type": "stream",
       "stream": "stdout",
       "text": [
        "\n",
        "TimeFrame(start='2011-04-27 03:21:19-04:00', end='2011-04-27 03:21:23-04:00', empty=False)"
       ]
      },
      {
       "output_type": "stream",
       "stream": "stdout",
       "text": [
        "\n",
        "TimeFrame(start='2011-04-29 23:10:38-04:00', end='2011-04-29 23:10:57-04:00', empty=False)"
       ]
      },
      {
       "output_type": "stream",
       "stream": "stdout",
       "text": [
        "\n",
        "TimeFrame(start='2011-05-01 09:47:22-04:00', end='2011-05-01 09:47:25-04:00', empty=False)"
       ]
      },
      {
       "output_type": "stream",
       "stream": "stdout",
       "text": [
        "\n",
        "TimeFrame(start='2011-05-02 17:07:31-04:00', end='2011-05-02 17:07:34-04:00', empty=False)"
       ]
      },
      {
       "output_type": "stream",
       "stream": "stdout",
       "text": [
        "\n",
        "TimeFrame(start='2011-05-06 10:51:50-04:00', end='2011-05-06 10:52:31-04:00', empty=False)"
       ]
      },
      {
       "output_type": "stream",
       "stream": "stdout",
       "text": [
        "\n",
        "TimeFrame(start='2011-05-07 02:40:47-04:00', end='2011-05-07 02:40:51-04:00', empty=False)"
       ]
      },
      {
       "output_type": "stream",
       "stream": "stdout",
       "text": [
        "\n",
        "TimeFrame(start='2011-05-11 03:19:47-04:00', end='2011-05-11 03:20:08-04:00', empty=False)"
       ]
      },
      {
       "output_type": "stream",
       "stream": "stdout",
       "text": [
        "\n",
        "TimeFrame(start='2011-05-12 20:14:31-04:00', end='2011-05-12 20:14:34-04:00', empty=False)"
       ]
      },
      {
       "output_type": "stream",
       "stream": "stdout",
       "text": [
        "\n",
        "TimeFrame(start='2011-05-22 16:04:50-04:00', end='2011-05-22 16:04:54-04:00', empty=False)\n",
        "TimeFrame(start='2011-05-22 23:41:39-04:00', end='2011-05-22 23:42:01-04:00', empty=False)"
       ]
      },
      {
       "output_type": "stream",
       "stream": "stdout",
       "text": [
        "\n",
        "TimeFrame(start='2011-05-23 10:31:34-04:00', end='2011-05-23 10:31:38-04:00', empty=False)\n",
        "TimeFrame(start='2011-04-18 09:23:00-04:00', end='2011-04-18 09:24:00-04:00', empty=False)"
       ]
      },
      {
       "output_type": "stream",
       "stream": "stdout",
       "text": [
        "\n",
        "TimeFrame(start='2011-04-18 14:04:00-04:00', end='2011-04-18 14:05:00-04:00', empty=False)\n",
        "TimeFrame(start='2011-04-19 20:21:00-04:00', end='2011-04-19 20:22:00-04:00', empty=False)"
       ]
      },
      {
       "output_type": "stream",
       "stream": "stdout",
       "text": [
        "\n",
        "TimeFrame(start='2011-04-20 02:28:00-04:00', end='2011-04-20 02:29:00-04:00', empty=False)\n",
        "TimeFrame(start='2011-04-21 06:18:00-04:00', end='2011-04-21 06:19:00-04:00', empty=False)"
       ]
      },
      {
       "output_type": "stream",
       "stream": "stdout",
       "text": [
        "\n",
        "TimeFrame(start='2011-04-21 19:42:00-04:00', end='2011-04-21 19:43:00-04:00', empty=False)\n",
        "TimeFrame(start='2011-04-22 22:49:00-04:00', end='2011-04-22 22:50:00-04:00', empty=False)"
       ]
      },
      {
       "output_type": "stream",
       "stream": "stdout",
       "text": [
        "\n",
        "TimeFrame(start='2011-04-24 03:53:00-04:00', end='2011-04-24 03:54:00-04:00', empty=False)\n",
        "TimeFrame(start='2011-04-27 03:22:00-04:00', end='2011-04-27 03:23:00-04:00', empty=False)"
       ]
      },
      {
       "output_type": "stream",
       "stream": "stdout",
       "text": [
        "\n",
        "TimeFrame(start='2011-04-29 23:11:00-04:00', end='2011-04-29 23:12:00-04:00', empty=False)\n",
        "TimeFrame(start='2011-05-01 09:48:00-04:00', end='2011-05-01 09:49:00-04:00', empty=False)"
       ]
      },
      {
       "output_type": "stream",
       "stream": "stdout",
       "text": [
        "\n",
        "TimeFrame(start='2011-05-02 17:08:00-04:00', end='2011-05-02 17:09:00-04:00', empty=False)\n",
        "TimeFrame(start='2011-05-06 10:52:00-04:00', end='2011-05-06 10:53:00-04:00', empty=False)"
       ]
      },
      {
       "output_type": "stream",
       "stream": "stdout",
       "text": [
        "\n",
        "TimeFrame(start='2011-05-07 02:41:00-04:00', end='2011-05-07 02:42:00-04:00', empty=False)\n",
        "TimeFrame(start='2011-05-11 03:20:00-04:00', end='2011-05-11 03:21:00-04:00', empty=False)\n",
        "TimeFrame(start='2011-05-12 20:15:00-04:00', end='2011-05-12 20:16:00-04:00', empty=False)"
       ]
      },
      {
       "output_type": "stream",
       "stream": "stdout",
       "text": [
        "\n",
        "TimeFrame(start='2011-05-22 16:05:00-04:00', end='2011-05-22 16:06:00-04:00', empty=False)\n",
        "TimeFrame(start='2011-05-22 23:42:00-04:00', end='2011-05-22 23:43:00-04:00', empty=False)"
       ]
      },
      {
       "output_type": "stream",
       "stream": "stdout",
       "text": [
        "\n",
        "TimeFrame(start='2011-05-23 10:32:00-04:00', end='2011-05-23 10:33:00-04:00', empty=False)\n",
        "TimeFrame(start='2011-04-18 09:22:13-04:00', end='2011-04-18 09:22:16-04:00', empty=False)"
       ]
      },
      {
       "output_type": "stream",
       "stream": "stdout",
       "text": [
        "\n",
        "TimeFrame(start='2011-04-18 14:03:11-04:00', end='2011-04-18 14:03:30-04:00', empty=False)"
       ]
      },
      {
       "output_type": "stream",
       "stream": "stdout",
       "text": [
        "\n",
        "TimeFrame(start='2011-04-19 20:20:09-04:00', end='2011-04-19 20:20:18-04:00', empty=False)"
       ]
      },
      {
       "output_type": "stream",
       "stream": "stdout",
       "text": [
        "\n",
        "TimeFrame(start='2011-04-20 01:55:37-04:00', end='2011-04-20 01:55:40-04:00', empty=False)"
       ]
      },
      {
       "output_type": "stream",
       "stream": "stdout",
       "text": [
        "\n",
        "TimeFrame(start='2011-04-21 06:17:22-04:00', end='2011-04-21 06:17:40-04:00', empty=False)"
       ]
      },
      {
       "output_type": "stream",
       "stream": "stdout",
       "text": [
        "\n",
        "TimeFrame(start='2011-04-21 19:41:30-04:00', end='2011-04-21 19:41:39-04:00', empty=False)"
       ]
      },
      {
       "output_type": "stream",
       "stream": "stdout",
       "text": [
        "\n",
        "TimeFrame(start='2011-04-22 22:48:34-04:00', end='2011-04-22 22:48:43-04:00', empty=False)"
       ]
      },
      {
       "output_type": "stream",
       "stream": "stdout",
       "text": [
        "\n",
        "TimeFrame(start='2011-04-24 03:52:28-04:00', end='2011-04-24 03:52:54-04:00', empty=False)"
       ]
      },
      {
       "output_type": "stream",
       "stream": "stdout",
       "text": [
        "\n",
        "TimeFrame(start='2011-04-27 02:51:25-04:00', end='2011-04-27 02:51:28-04:00', empty=False)"
       ]
      },
      {
       "output_type": "stream",
       "stream": "stdout",
       "text": [
        "\n",
        "TimeFrame(start='2011-04-27 03:21:19-04:00', end='2011-04-27 03:21:23-04:00', empty=False)"
       ]
      },
      {
       "output_type": "stream",
       "stream": "stdout",
       "text": [
        "\n",
        "TimeFrame(start='2011-04-29 23:10:38-04:00', end='2011-04-29 23:10:57-04:00', empty=False)"
       ]
      },
      {
       "output_type": "stream",
       "stream": "stdout",
       "text": [
        "\n",
        "TimeFrame(start='2011-05-01 09:47:22-04:00', end='2011-05-01 09:47:25-04:00', empty=False)"
       ]
      },
      {
       "output_type": "stream",
       "stream": "stdout",
       "text": [
        "\n",
        "TimeFrame(start='2011-05-02 17:07:31-04:00', end='2011-05-02 17:07:34-04:00', empty=False)"
       ]
      },
      {
       "output_type": "stream",
       "stream": "stdout",
       "text": [
        "\n",
        "TimeFrame(start='2011-05-06 10:51:50-04:00', end='2011-05-06 10:52:31-04:00', empty=False)"
       ]
      },
      {
       "output_type": "stream",
       "stream": "stdout",
       "text": [
        "\n",
        "TimeFrame(start='2011-05-07 02:40:47-04:00', end='2011-05-07 02:40:51-04:00', empty=False)"
       ]
      },
      {
       "output_type": "stream",
       "stream": "stdout",
       "text": [
        "\n",
        "TimeFrame(start='2011-05-11 03:19:47-04:00', end='2011-05-11 03:20:08-04:00', empty=False)"
       ]
      },
      {
       "output_type": "stream",
       "stream": "stdout",
       "text": [
        "\n",
        "TimeFrame(start='2011-05-12 20:14:31-04:00', end='2011-05-12 20:14:34-04:00', empty=False)"
       ]
      },
      {
       "output_type": "stream",
       "stream": "stdout",
       "text": [
        "\n",
        "TimeFrame(start='2011-05-22 16:04:50-04:00', end='2011-05-22 16:04:54-04:00', empty=False)\n",
        "TimeFrame(start='2011-05-22 23:41:39-04:00', end='2011-05-22 23:42:01-04:00', empty=False)"
       ]
      },
      {
       "output_type": "stream",
       "stream": "stdout",
       "text": [
        "\n",
        "TimeFrame(start='2011-05-23 10:31:34-04:00', end='2011-05-23 10:31:38-04:00', empty=False)\n",
        "TimeFrame(start='2011-04-18 09:23:00-04:00', end='2011-04-18 09:24:00-04:00', empty=False)"
       ]
      },
      {
       "output_type": "stream",
       "stream": "stdout",
       "text": [
        "\n",
        "TimeFrame(start='2011-04-18 14:04:00-04:00', end='2011-04-18 14:05:00-04:00', empty=False)\n",
        "TimeFrame(start='2011-04-19 20:21:00-04:00', end='2011-04-19 20:22:00-04:00', empty=False)"
       ]
      },
      {
       "output_type": "stream",
       "stream": "stdout",
       "text": [
        "\n",
        "TimeFrame(start='2011-04-20 02:28:00-04:00', end='2011-04-20 02:29:00-04:00', empty=False)\n",
        "TimeFrame(start='2011-04-21 06:18:00-04:00', end='2011-04-21 06:19:00-04:00', empty=False)"
       ]
      },
      {
       "output_type": "stream",
       "stream": "stdout",
       "text": [
        "\n",
        "TimeFrame(start='2011-04-21 19:42:00-04:00', end='2011-04-21 19:43:00-04:00', empty=False)\n",
        "TimeFrame(start='2011-04-22 22:49:00-04:00', end='2011-04-22 22:50:00-04:00', empty=False)"
       ]
      },
      {
       "output_type": "stream",
       "stream": "stdout",
       "text": [
        "\n",
        "TimeFrame(start='2011-04-24 03:53:00-04:00', end='2011-04-24 03:54:00-04:00', empty=False)\n",
        "TimeFrame(start='2011-04-27 03:22:00-04:00', end='2011-04-27 03:23:00-04:00', empty=False)"
       ]
      },
      {
       "output_type": "stream",
       "stream": "stdout",
       "text": [
        "\n",
        "TimeFrame(start='2011-04-29 23:11:00-04:00', end='2011-04-29 23:12:00-04:00', empty=False)\n",
        "TimeFrame(start='2011-05-01 09:48:00-04:00', end='2011-05-01 09:49:00-04:00', empty=False)"
       ]
      },
      {
       "output_type": "stream",
       "stream": "stdout",
       "text": [
        "\n",
        "TimeFrame(start='2011-05-02 17:08:00-04:00', end='2011-05-02 17:09:00-04:00', empty=False)\n",
        "TimeFrame(start='2011-05-06 10:52:00-04:00', end='2011-05-06 10:53:00-04:00', empty=False)\n",
        "TimeFrame(start='2011-05-07 02:41:00-04:00', end='2011-05-07 02:42:00-04:00', empty=False)"
       ]
      },
      {
       "output_type": "stream",
       "stream": "stdout",
       "text": [
        "\n",
        "TimeFrame(start='2011-05-11 03:20:00-04:00', end='2011-05-11 03:21:00-04:00', empty=False)\n",
        "TimeFrame(start='2011-05-12 20:15:00-04:00', end='2011-05-12 20:16:00-04:00', empty=False)\n",
        "TimeFrame(start='2011-05-22 16:05:00-04:00', end='2011-05-22 16:06:00-04:00', empty=False)"
       ]
      },
      {
       "output_type": "stream",
       "stream": "stdout",
       "text": [
        "\n",
        "TimeFrame(start='2011-05-22 23:42:00-04:00', end='2011-05-22 23:43:00-04:00', empty=False)\n",
        "TimeFrame(start='2011-05-23 10:32:00-04:00', end='2011-05-23 10:33:00-04:00', empty=False)\n",
        "TimeFrame(start='2011-04-18 09:22:13-04:00', end='2011-04-18 09:22:16-04:00', empty=False)"
       ]
      },
      {
       "output_type": "stream",
       "stream": "stdout",
       "text": [
        "\n",
        "TimeFrame(start='2011-04-18 14:03:11-04:00', end='2011-04-18 14:03:30-04:00', empty=False)"
       ]
      },
      {
       "output_type": "stream",
       "stream": "stdout",
       "text": [
        "\n",
        "TimeFrame(start='2011-04-19 20:20:09-04:00', end='2011-04-19 20:20:18-04:00', empty=False)"
       ]
      },
      {
       "output_type": "stream",
       "stream": "stdout",
       "text": [
        "\n",
        "TimeFrame(start='2011-04-20 01:55:37-04:00', end='2011-04-20 01:55:40-04:00', empty=False)"
       ]
      },
      {
       "output_type": "stream",
       "stream": "stdout",
       "text": [
        "\n",
        "TimeFrame(start='2011-04-21 06:17:22-04:00', end='2011-04-21 06:17:40-04:00', empty=False)"
       ]
      },
      {
       "output_type": "stream",
       "stream": "stdout",
       "text": [
        "\n",
        "TimeFrame(start='2011-04-21 19:41:30-04:00', end='2011-04-21 19:41:39-04:00', empty=False)"
       ]
      },
      {
       "output_type": "stream",
       "stream": "stdout",
       "text": [
        "\n",
        "TimeFrame(start='2011-04-22 22:48:34-04:00', end='2011-04-22 22:48:43-04:00', empty=False)"
       ]
      },
      {
       "output_type": "stream",
       "stream": "stdout",
       "text": [
        "\n",
        "TimeFrame(start='2011-04-24 03:52:28-04:00', end='2011-04-24 03:52:54-04:00', empty=False)"
       ]
      },
      {
       "output_type": "stream",
       "stream": "stdout",
       "text": [
        "\n",
        "TimeFrame(start='2011-04-27 02:51:25-04:00', end='2011-04-27 02:51:28-04:00', empty=False)"
       ]
      },
      {
       "output_type": "stream",
       "stream": "stdout",
       "text": [
        "\n",
        "TimeFrame(start='2011-04-27 03:21:19-04:00', end='2011-04-27 03:21:23-04:00', empty=False)"
       ]
      },
      {
       "output_type": "stream",
       "stream": "stdout",
       "text": [
        "\n",
        "TimeFrame(start='2011-04-29 23:10:38-04:00', end='2011-04-29 23:10:57-04:00', empty=False)"
       ]
      },
      {
       "output_type": "stream",
       "stream": "stdout",
       "text": [
        "\n",
        "TimeFrame(start='2011-05-01 09:47:22-04:00', end='2011-05-01 09:47:25-04:00', empty=False)"
       ]
      },
      {
       "output_type": "stream",
       "stream": "stdout",
       "text": [
        "\n",
        "TimeFrame(start='2011-05-02 17:07:31-04:00', end='2011-05-02 17:07:34-04:00', empty=False)"
       ]
      },
      {
       "output_type": "stream",
       "stream": "stdout",
       "text": [
        "\n",
        "TimeFrame(start='2011-05-06 10:51:50-04:00', end='2011-05-06 10:52:31-04:00', empty=False)"
       ]
      },
      {
       "output_type": "stream",
       "stream": "stdout",
       "text": [
        "\n",
        "TimeFrame(start='2011-05-07 02:40:47-04:00', end='2011-05-07 02:40:51-04:00', empty=False)"
       ]
      },
      {
       "output_type": "stream",
       "stream": "stdout",
       "text": [
        "\n",
        "TimeFrame(start='2011-05-11 03:19:47-04:00', end='2011-05-11 03:20:08-04:00', empty=False)"
       ]
      },
      {
       "output_type": "stream",
       "stream": "stdout",
       "text": [
        "\n",
        "TimeFrame(start='2011-05-12 20:14:31-04:00', end='2011-05-12 20:14:34-04:00', empty=False)"
       ]
      },
      {
       "output_type": "stream",
       "stream": "stdout",
       "text": [
        "\n",
        "TimeFrame(start='2011-05-22 16:04:50-04:00', end='2011-05-22 16:04:54-04:00', empty=False)\n",
        "TimeFrame(start='2011-05-22 23:41:39-04:00', end='2011-05-22 23:42:01-04:00', empty=False)"
       ]
      },
      {
       "output_type": "stream",
       "stream": "stdout",
       "text": [
        "\n",
        "TimeFrame(start='2011-05-23 10:31:34-04:00', end='2011-05-23 10:31:38-04:00', empty=False)\n",
        "TimeFrame(start='2011-04-18 09:23:00-04:00', end='2011-04-18 09:24:00-04:00', empty=False)"
       ]
      },
      {
       "output_type": "stream",
       "stream": "stdout",
       "text": [
        "\n",
        "TimeFrame(start='2011-04-18 14:04:00-04:00', end='2011-04-18 14:05:00-04:00', empty=False)\n",
        "TimeFrame(start='2011-04-19 20:21:00-04:00', end='2011-04-19 20:22:00-04:00', empty=False)"
       ]
      },
      {
       "output_type": "stream",
       "stream": "stdout",
       "text": [
        "\n",
        "TimeFrame(start='2011-04-20 02:28:00-04:00', end='2011-04-20 02:29:00-04:00', empty=False)\n",
        "TimeFrame(start='2011-04-21 06:18:00-04:00', end='2011-04-21 06:19:00-04:00', empty=False)"
       ]
      },
      {
       "output_type": "stream",
       "stream": "stdout",
       "text": [
        "\n",
        "TimeFrame(start='2011-04-21 19:42:00-04:00', end='2011-04-21 19:43:00-04:00', empty=False)\n",
        "TimeFrame(start='2011-04-22 22:49:00-04:00', end='2011-04-22 22:50:00-04:00', empty=False)"
       ]
      },
      {
       "output_type": "stream",
       "stream": "stdout",
       "text": [
        "\n",
        "TimeFrame(start='2011-04-24 03:53:00-04:00', end='2011-04-24 03:54:00-04:00', empty=False)\n",
        "TimeFrame(start='2011-04-27 03:22:00-04:00', end='2011-04-27 03:23:00-04:00', empty=False)"
       ]
      },
      {
       "output_type": "stream",
       "stream": "stdout",
       "text": [
        "\n",
        "TimeFrame(start='2011-04-29 23:11:00-04:00', end='2011-04-29 23:12:00-04:00', empty=False)\n",
        "TimeFrame(start='2011-05-01 09:48:00-04:00', end='2011-05-01 09:49:00-04:00', empty=False)"
       ]
      },
      {
       "output_type": "stream",
       "stream": "stdout",
       "text": [
        "\n",
        "TimeFrame(start='2011-05-02 17:08:00-04:00', end='2011-05-02 17:09:00-04:00', empty=False)\n",
        "TimeFrame(start='2011-05-06 10:52:00-04:00', end='2011-05-06 10:53:00-04:00', empty=False)\n",
        "TimeFrame(start='2011-05-07 02:41:00-04:00', end='2011-05-07 02:42:00-04:00', empty=False)"
       ]
      },
      {
       "output_type": "stream",
       "stream": "stdout",
       "text": [
        "\n",
        "TimeFrame(start='2011-05-11 03:20:00-04:00', end='2011-05-11 03:21:00-04:00', empty=False)\n",
        "TimeFrame(start='2011-05-12 20:15:00-04:00', end='2011-05-12 20:16:00-04:00', empty=False)\n",
        "TimeFrame(start='2011-05-22 16:05:00-04:00', end='2011-05-22 16:06:00-04:00', empty=False)"
       ]
      },
      {
       "output_type": "stream",
       "stream": "stdout",
       "text": [
        "\n",
        "TimeFrame(start='2011-05-22 23:42:00-04:00', end='2011-05-22 23:43:00-04:00', empty=False)\n",
        "TimeFrame(start='2011-05-23 10:32:00-04:00', end='2011-05-23 10:33:00-04:00', empty=False)\n",
        "TimeFrame(start='2011-04-18 09:22:13-04:00', end='2011-04-18 09:22:16-04:00', empty=False)"
       ]
      },
      {
       "output_type": "stream",
       "stream": "stdout",
       "text": [
        "\n",
        "TimeFrame(start='2011-04-18 14:03:11-04:00', end='2011-04-18 14:03:30-04:00', empty=False)"
       ]
      },
      {
       "output_type": "stream",
       "stream": "stdout",
       "text": [
        "\n",
        "TimeFrame(start='2011-04-19 20:20:09-04:00', end='2011-04-19 20:20:18-04:00', empty=False)"
       ]
      },
      {
       "output_type": "stream",
       "stream": "stdout",
       "text": [
        "\n",
        "TimeFrame(start='2011-04-20 01:55:37-04:00', end='2011-04-20 01:55:40-04:00', empty=False)"
       ]
      },
      {
       "output_type": "stream",
       "stream": "stdout",
       "text": [
        "\n",
        "TimeFrame(start='2011-04-21 06:17:22-04:00', end='2011-04-21 06:17:40-04:00', empty=False)"
       ]
      },
      {
       "output_type": "stream",
       "stream": "stdout",
       "text": [
        "\n",
        "TimeFrame(start='2011-04-21 19:41:30-04:00', end='2011-04-21 19:41:39-04:00', empty=False)"
       ]
      },
      {
       "output_type": "stream",
       "stream": "stdout",
       "text": [
        "\n",
        "TimeFrame(start='2011-04-22 22:48:34-04:00', end='2011-04-22 22:48:43-04:00', empty=False)"
       ]
      },
      {
       "output_type": "stream",
       "stream": "stdout",
       "text": [
        "\n",
        "TimeFrame(start='2011-04-24 03:52:28-04:00', end='2011-04-24 03:52:54-04:00', empty=False)"
       ]
      },
      {
       "output_type": "stream",
       "stream": "stdout",
       "text": [
        "\n",
        "TimeFrame(start='2011-04-27 02:51:25-04:00', end='2011-04-27 02:51:28-04:00', empty=False)"
       ]
      },
      {
       "output_type": "stream",
       "stream": "stdout",
       "text": [
        "\n",
        "TimeFrame(start='2011-04-27 03:21:19-04:00', end='2011-04-27 03:21:23-04:00', empty=False)"
       ]
      },
      {
       "output_type": "stream",
       "stream": "stdout",
       "text": [
        "\n",
        "TimeFrame(start='2011-04-29 23:10:38-04:00', end='2011-04-29 23:10:57-04:00', empty=False)"
       ]
      },
      {
       "output_type": "stream",
       "stream": "stdout",
       "text": [
        "\n",
        "TimeFrame(start='2011-05-01 09:47:22-04:00', end='2011-05-01 09:47:25-04:00', empty=False)"
       ]
      },
      {
       "output_type": "stream",
       "stream": "stdout",
       "text": [
        "\n",
        "TimeFrame(start='2011-05-02 17:07:31-04:00', end='2011-05-02 17:07:34-04:00', empty=False)"
       ]
      },
      {
       "output_type": "stream",
       "stream": "stdout",
       "text": [
        "\n",
        "TimeFrame(start='2011-05-06 10:51:50-04:00', end='2011-05-06 10:52:31-04:00', empty=False)"
       ]
      },
      {
       "output_type": "stream",
       "stream": "stdout",
       "text": [
        "\n",
        "TimeFrame(start='2011-05-07 02:40:47-04:00', end='2011-05-07 02:40:51-04:00', empty=False)"
       ]
      },
      {
       "output_type": "stream",
       "stream": "stdout",
       "text": [
        "\n",
        "TimeFrame(start='2011-05-11 03:19:47-04:00', end='2011-05-11 03:20:08-04:00', empty=False)"
       ]
      },
      {
       "output_type": "stream",
       "stream": "stdout",
       "text": [
        "\n",
        "TimeFrame(start='2011-05-12 20:14:31-04:00', end='2011-05-12 20:14:34-04:00', empty=False)"
       ]
      },
      {
       "output_type": "stream",
       "stream": "stdout",
       "text": [
        "\n",
        "TimeFrame(start='2011-05-22 16:04:50-04:00', end='2011-05-22 16:04:54-04:00', empty=False)"
       ]
      },
      {
       "output_type": "stream",
       "stream": "stdout",
       "text": [
        "\n",
        "TimeFrame(start='2011-05-22 23:41:39-04:00', end='2011-05-22 23:42:01-04:00', empty=False)"
       ]
      },
      {
       "output_type": "stream",
       "stream": "stdout",
       "text": [
        "\n",
        "TimeFrame(start='2011-05-23 10:31:34-04:00', end='2011-05-23 10:31:38-04:00', empty=False)\n",
        "TimeFrame(start='2011-04-18 09:23:00-04:00', end='2011-04-18 09:24:00-04:00', empty=False)"
       ]
      },
      {
       "output_type": "stream",
       "stream": "stdout",
       "text": [
        "\n",
        "TimeFrame(start='2011-04-18 14:04:00-04:00', end='2011-04-18 14:05:00-04:00', empty=False)\n",
        "TimeFrame(start='2011-04-19 20:21:00-04:00', end='2011-04-19 20:22:00-04:00', empty=False)"
       ]
      },
      {
       "output_type": "stream",
       "stream": "stdout",
       "text": [
        "\n",
        "TimeFrame(start='2011-04-20 02:28:00-04:00', end='2011-04-20 02:29:00-04:00', empty=False)\n",
        "TimeFrame(start='2011-04-21 06:18:00-04:00', end='2011-04-21 06:19:00-04:00', empty=False)"
       ]
      },
      {
       "output_type": "stream",
       "stream": "stdout",
       "text": [
        "\n",
        "TimeFrame(start='2011-04-21 19:42:00-04:00', end='2011-04-21 19:43:00-04:00', empty=False)\n",
        "TimeFrame(start='2011-04-22 22:49:00-04:00', end='2011-04-22 22:50:00-04:00', empty=False)"
       ]
      },
      {
       "output_type": "stream",
       "stream": "stdout",
       "text": [
        "\n",
        "TimeFrame(start='2011-04-24 03:53:00-04:00', end='2011-04-24 03:54:00-04:00', empty=False)\n",
        "TimeFrame(start='2011-04-27 03:22:00-04:00', end='2011-04-27 03:23:00-04:00', empty=False)"
       ]
      },
      {
       "output_type": "stream",
       "stream": "stdout",
       "text": [
        "\n",
        "TimeFrame(start='2011-04-29 23:11:00-04:00', end='2011-04-29 23:12:00-04:00', empty=False)\n",
        "TimeFrame(start='2011-05-01 09:48:00-04:00', end='2011-05-01 09:49:00-04:00', empty=False)"
       ]
      },
      {
       "output_type": "stream",
       "stream": "stdout",
       "text": [
        "\n",
        "TimeFrame(start='2011-05-02 17:08:00-04:00', end='2011-05-02 17:09:00-04:00', empty=False)\n",
        "TimeFrame(start='2011-05-06 10:52:00-04:00', end='2011-05-06 10:53:00-04:00', empty=False)"
       ]
      },
      {
       "output_type": "stream",
       "stream": "stdout",
       "text": [
        "\n",
        "TimeFrame(start='2011-05-07 02:41:00-04:00', end='2011-05-07 02:42:00-04:00', empty=False)\n",
        "TimeFrame(start='2011-05-11 03:20:00-04:00', end='2011-05-11 03:21:00-04:00', empty=False)"
       ]
      },
      {
       "output_type": "stream",
       "stream": "stdout",
       "text": [
        "\n",
        "TimeFrame(start='2011-05-12 20:15:00-04:00', end='2011-05-12 20:16:00-04:00', empty=False)\n",
        "TimeFrame(start='2011-05-22 16:05:00-04:00', end='2011-05-22 16:06:00-04:00', empty=False)"
       ]
      },
      {
       "output_type": "stream",
       "stream": "stdout",
       "text": [
        "\n",
        "TimeFrame(start='2011-05-22 23:42:00-04:00', end='2011-05-22 23:43:00-04:00', empty=False)\n",
        "TimeFrame(start='2011-05-23 10:32:00-04:00', end='2011-05-23 10:33:00-04:00', empty=False)"
       ]
      },
      {
       "output_type": "stream",
       "stream": "stdout",
       "text": [
        "\n",
        "TimeFrame(start='2011-04-18 09:22:13-04:00', end='2011-04-18 09:22:16-04:00', empty=False)"
       ]
      },
      {
       "output_type": "stream",
       "stream": "stdout",
       "text": [
        "\n",
        "TimeFrame(start='2011-04-18 14:03:11-04:00', end='2011-04-18 14:03:30-04:00', empty=False)"
       ]
      },
      {
       "output_type": "stream",
       "stream": "stdout",
       "text": [
        "\n",
        "TimeFrame(start='2011-04-19 20:20:09-04:00', end='2011-04-19 20:20:18-04:00', empty=False)"
       ]
      },
      {
       "output_type": "stream",
       "stream": "stdout",
       "text": [
        "\n",
        "TimeFrame(start='2011-04-20 01:55:37-04:00', end='2011-04-20 01:55:40-04:00', empty=False)"
       ]
      },
      {
       "output_type": "stream",
       "stream": "stdout",
       "text": [
        "\n",
        "TimeFrame(start='2011-04-21 06:17:22-04:00', end='2011-04-21 06:17:40-04:00', empty=False)"
       ]
      },
      {
       "output_type": "stream",
       "stream": "stdout",
       "text": [
        "\n",
        "TimeFrame(start='2011-04-21 19:41:30-04:00', end='2011-04-21 19:41:39-04:00', empty=False)"
       ]
      },
      {
       "output_type": "stream",
       "stream": "stdout",
       "text": [
        "\n",
        "TimeFrame(start='2011-04-22 22:48:34-04:00', end='2011-04-22 22:48:43-04:00', empty=False)"
       ]
      },
      {
       "output_type": "stream",
       "stream": "stdout",
       "text": [
        "\n",
        "TimeFrame(start='2011-04-24 03:52:28-04:00', end='2011-04-24 03:52:54-04:00', empty=False)"
       ]
      },
      {
       "output_type": "stream",
       "stream": "stdout",
       "text": [
        "\n",
        "TimeFrame(start='2011-04-27 02:51:25-04:00', end='2011-04-27 02:51:28-04:00', empty=False)"
       ]
      },
      {
       "output_type": "stream",
       "stream": "stdout",
       "text": [
        "\n",
        "TimeFrame(start='2011-04-27 03:21:19-04:00', end='2011-04-27 03:21:23-04:00', empty=False)"
       ]
      },
      {
       "output_type": "stream",
       "stream": "stdout",
       "text": [
        "\n",
        "TimeFrame(start='2011-04-29 23:10:38-04:00', end='2011-04-29 23:10:57-04:00', empty=False)"
       ]
      },
      {
       "output_type": "stream",
       "stream": "stdout",
       "text": [
        "\n",
        "TimeFrame(start='2011-05-01 09:47:22-04:00', end='2011-05-01 09:47:25-04:00', empty=False)"
       ]
      },
      {
       "output_type": "stream",
       "stream": "stdout",
       "text": [
        "\n",
        "TimeFrame(start='2011-05-02 17:07:31-04:00', end='2011-05-02 17:07:34-04:00', empty=False)"
       ]
      },
      {
       "output_type": "stream",
       "stream": "stdout",
       "text": [
        "\n",
        "TimeFrame(start='2011-05-06 10:51:50-04:00', end='2011-05-06 10:52:31-04:00', empty=False)"
       ]
      },
      {
       "output_type": "stream",
       "stream": "stdout",
       "text": [
        "\n",
        "TimeFrame(start='2011-05-07 02:40:47-04:00', end='2011-05-07 02:40:51-04:00', empty=False)"
       ]
      },
      {
       "output_type": "stream",
       "stream": "stdout",
       "text": [
        "\n",
        "TimeFrame(start='2011-05-11 03:19:47-04:00', end='2011-05-11 03:20:08-04:00', empty=False)"
       ]
      },
      {
       "output_type": "stream",
       "stream": "stdout",
       "text": [
        "\n",
        "TimeFrame(start='2011-05-12 20:14:31-04:00', end='2011-05-12 20:14:34-04:00', empty=False)"
       ]
      },
      {
       "output_type": "stream",
       "stream": "stdout",
       "text": [
        "\n",
        "TimeFrame(start='2011-05-22 16:04:50-04:00', end='2011-05-22 16:04:54-04:00', empty=False)"
       ]
      },
      {
       "output_type": "stream",
       "stream": "stdout",
       "text": [
        "\n",
        "TimeFrame(start='2011-05-22 23:41:39-04:00', end='2011-05-22 23:42:01-04:00', empty=False)"
       ]
      },
      {
       "output_type": "stream",
       "stream": "stdout",
       "text": [
        "\n",
        "TimeFrame(start='2011-05-23 10:31:34-04:00', end='2011-05-23 10:31:38-04:00', empty=False)"
       ]
      },
      {
       "output_type": "stream",
       "stream": "stdout",
       "text": [
        "\n",
        "TimeFrame(start='2011-04-18 09:23:00-04:00', end='2011-04-18 09:24:00-04:00', empty=False)"
       ]
      },
      {
       "output_type": "stream",
       "stream": "stdout",
       "text": [
        "\n",
        "TimeFrame(start='2011-04-18 14:04:00-04:00', end='2011-04-18 14:05:00-04:00', empty=False)\n",
        "TimeFrame(start='2011-04-19 20:21:00-04:00', end='2011-04-19 20:22:00-04:00', empty=False)"
       ]
      },
      {
       "output_type": "stream",
       "stream": "stdout",
       "text": [
        "\n",
        "TimeFrame(start='2011-04-20 02:28:00-04:00', end='2011-04-20 02:29:00-04:00', empty=False)\n",
        "TimeFrame(start='2011-04-21 06:18:00-04:00', end='2011-04-21 06:19:00-04:00', empty=False)"
       ]
      },
      {
       "output_type": "stream",
       "stream": "stdout",
       "text": [
        "\n",
        "TimeFrame(start='2011-04-21 19:42:00-04:00', end='2011-04-21 19:43:00-04:00', empty=False)\n",
        "TimeFrame(start='2011-04-22 22:49:00-04:00', end='2011-04-22 22:50:00-04:00', empty=False)"
       ]
      },
      {
       "output_type": "stream",
       "stream": "stdout",
       "text": [
        "\n",
        "TimeFrame(start='2011-04-24 03:53:00-04:00', end='2011-04-24 03:54:00-04:00', empty=False)\n",
        "TimeFrame(start='2011-04-27 03:22:00-04:00', end='2011-04-27 03:23:00-04:00', empty=False)"
       ]
      },
      {
       "output_type": "stream",
       "stream": "stdout",
       "text": [
        "\n",
        "TimeFrame(start='2011-04-29 23:11:00-04:00', end='2011-04-29 23:12:00-04:00', empty=False)\n",
        "TimeFrame(start='2011-05-01 09:48:00-04:00', end='2011-05-01 09:49:00-04:00', empty=False)"
       ]
      },
      {
       "output_type": "stream",
       "stream": "stdout",
       "text": [
        "\n",
        "TimeFrame(start='2011-05-02 17:08:00-04:00', end='2011-05-02 17:09:00-04:00', empty=False)\n",
        "TimeFrame(start='2011-05-06 10:52:00-04:00', end='2011-05-06 10:53:00-04:00', empty=False)"
       ]
      },
      {
       "output_type": "stream",
       "stream": "stdout",
       "text": [
        "\n",
        "TimeFrame(start='2011-05-07 02:41:00-04:00', end='2011-05-07 02:42:00-04:00', empty=False)\n",
        "TimeFrame(start='2011-05-11 03:20:00-04:00', end='2011-05-11 03:21:00-04:00', empty=False)"
       ]
      },
      {
       "output_type": "stream",
       "stream": "stdout",
       "text": [
        "\n",
        "TimeFrame(start='2011-05-12 20:15:00-04:00', end='2011-05-12 20:16:00-04:00', empty=False)\n",
        "TimeFrame(start='2011-05-22 16:05:00-04:00', end='2011-05-22 16:06:00-04:00', empty=False)"
       ]
      },
      {
       "output_type": "stream",
       "stream": "stdout",
       "text": [
        "\n",
        "TimeFrame(start='2011-05-22 23:42:00-04:00', end='2011-05-22 23:43:00-04:00', empty=False)\n",
        "TimeFrame(start='2011-05-23 10:32:00-04:00', end='2011-05-23 10:33:00-04:00', empty=False)"
       ]
      },
      {
       "output_type": "stream",
       "stream": "stdout",
       "text": [
        "\n",
        "TimeFrame(start='2011-04-18 09:22:13-04:00', end='2011-04-18 09:22:16-04:00', empty=False)"
       ]
      },
      {
       "output_type": "stream",
       "stream": "stdout",
       "text": [
        "\n",
        "TimeFrame(start='2011-04-18 14:03:11-04:00', end='2011-04-18 14:03:30-04:00', empty=False)"
       ]
      },
      {
       "output_type": "stream",
       "stream": "stdout",
       "text": [
        "\n",
        "TimeFrame(start='2011-04-19 20:20:09-04:00', end='2011-04-19 20:20:18-04:00', empty=False)"
       ]
      },
      {
       "output_type": "stream",
       "stream": "stdout",
       "text": [
        "\n",
        "TimeFrame(start='2011-04-20 01:55:37-04:00', end='2011-04-20 01:55:40-04:00', empty=False)"
       ]
      },
      {
       "output_type": "stream",
       "stream": "stdout",
       "text": [
        "\n",
        "TimeFrame(start='2011-04-21 06:17:22-04:00', end='2011-04-21 06:17:40-04:00', empty=False)"
       ]
      },
      {
       "output_type": "stream",
       "stream": "stdout",
       "text": [
        "\n",
        "TimeFrame(start='2011-04-21 19:41:30-04:00', end='2011-04-21 19:41:39-04:00', empty=False)"
       ]
      },
      {
       "output_type": "stream",
       "stream": "stdout",
       "text": [
        "\n",
        "TimeFrame(start='2011-04-22 22:48:34-04:00', end='2011-04-22 22:48:43-04:00', empty=False)"
       ]
      },
      {
       "output_type": "stream",
       "stream": "stdout",
       "text": [
        "\n",
        "TimeFrame(start='2011-04-24 03:52:28-04:00', end='2011-04-24 03:52:54-04:00', empty=False)"
       ]
      },
      {
       "output_type": "stream",
       "stream": "stdout",
       "text": [
        "\n",
        "TimeFrame(start='2011-04-27 02:51:25-04:00', end='2011-04-27 02:51:28-04:00', empty=False)"
       ]
      },
      {
       "output_type": "stream",
       "stream": "stdout",
       "text": [
        "\n",
        "TimeFrame(start='2011-04-27 03:21:19-04:00', end='2011-04-27 03:21:23-04:00', empty=False)"
       ]
      },
      {
       "output_type": "stream",
       "stream": "stdout",
       "text": [
        "\n",
        "TimeFrame(start='2011-04-29 23:10:38-04:00', end='2011-04-29 23:10:57-04:00', empty=False)"
       ]
      },
      {
       "output_type": "stream",
       "stream": "stdout",
       "text": [
        "\n",
        "TimeFrame(start='2011-05-01 09:47:22-04:00', end='2011-05-01 09:47:25-04:00', empty=False)"
       ]
      },
      {
       "output_type": "stream",
       "stream": "stdout",
       "text": [
        "\n",
        "TimeFrame(start='2011-05-02 17:07:31-04:00', end='2011-05-02 17:07:34-04:00', empty=False)"
       ]
      },
      {
       "output_type": "stream",
       "stream": "stdout",
       "text": [
        "\n",
        "TimeFrame(start='2011-05-06 10:51:50-04:00', end='2011-05-06 10:52:31-04:00', empty=False)"
       ]
      },
      {
       "output_type": "stream",
       "stream": "stdout",
       "text": [
        "\n",
        "TimeFrame(start='2011-05-07 02:40:47-04:00', end='2011-05-07 02:40:51-04:00', empty=False)"
       ]
      },
      {
       "output_type": "stream",
       "stream": "stdout",
       "text": [
        "\n",
        "TimeFrame(start='2011-05-11 03:19:47-04:00', end='2011-05-11 03:20:08-04:00', empty=False)"
       ]
      },
      {
       "output_type": "stream",
       "stream": "stdout",
       "text": [
        "\n",
        "TimeFrame(start='2011-05-12 20:14:31-04:00', end='2011-05-12 20:14:34-04:00', empty=False)"
       ]
      },
      {
       "output_type": "stream",
       "stream": "stdout",
       "text": [
        "\n",
        "TimeFrame(start='2011-05-22 16:04:50-04:00', end='2011-05-22 16:04:54-04:00', empty=False)"
       ]
      },
      {
       "output_type": "stream",
       "stream": "stdout",
       "text": [
        "\n",
        "TimeFrame(start='2011-05-22 23:41:39-04:00', end='2011-05-22 23:42:01-04:00', empty=False)\n",
        "TimeFrame(start='2011-05-23 10:31:34-04:00', end='2011-05-23 10:31:38-04:00', empty=False)"
       ]
      },
      {
       "output_type": "stream",
       "stream": "stdout",
       "text": [
        "\n",
        "TimeFrame(start='2011-04-18 09:23:00-04:00', end='2011-04-18 09:24:00-04:00', empty=False)\n",
        "TimeFrame(start='2011-04-18 14:04:00-04:00', end='2011-04-18 14:05:00-04:00', empty=False)"
       ]
      },
      {
       "output_type": "stream",
       "stream": "stdout",
       "text": [
        "\n",
        "TimeFrame(start='2011-04-19 20:21:00-04:00', end='2011-04-19 20:22:00-04:00', empty=False)"
       ]
      },
      {
       "output_type": "stream",
       "stream": "stdout",
       "text": [
        "\n",
        "TimeFrame(start='2011-04-20 02:28:00-04:00', end='2011-04-20 02:29:00-04:00', empty=False)"
       ]
      },
      {
       "output_type": "stream",
       "stream": "stdout",
       "text": [
        "\n",
        "TimeFrame(start='2011-04-21 06:18:00-04:00', end='2011-04-21 06:19:00-04:00', empty=False)\n",
        "TimeFrame(start='2011-04-21 19:42:00-04:00', end='2011-04-21 19:43:00-04:00', empty=False)"
       ]
      },
      {
       "output_type": "stream",
       "stream": "stdout",
       "text": [
        "\n",
        "TimeFrame(start='2011-04-22 22:49:00-04:00', end='2011-04-22 22:50:00-04:00', empty=False)\n",
        "TimeFrame(start='2011-04-24 03:53:00-04:00', end='2011-04-24 03:54:00-04:00', empty=False)"
       ]
      },
      {
       "output_type": "stream",
       "stream": "stdout",
       "text": [
        "\n",
        "TimeFrame(start='2011-04-27 03:22:00-04:00', end='2011-04-27 03:23:00-04:00', empty=False)\n",
        "TimeFrame(start='2011-04-29 23:11:00-04:00', end='2011-04-29 23:12:00-04:00', empty=False)"
       ]
      },
      {
       "output_type": "stream",
       "stream": "stdout",
       "text": [
        "\n",
        "TimeFrame(start='2011-05-01 09:48:00-04:00', end='2011-05-01 09:49:00-04:00', empty=False)\n",
        "TimeFrame(start='2011-05-02 17:08:00-04:00', end='2011-05-02 17:09:00-04:00', empty=False)"
       ]
      },
      {
       "output_type": "stream",
       "stream": "stdout",
       "text": [
        "\n",
        "TimeFrame(start='2011-05-06 10:52:00-04:00', end='2011-05-06 10:53:00-04:00', empty=False)\n",
        "TimeFrame(start='2011-05-07 02:41:00-04:00', end='2011-05-07 02:42:00-04:00', empty=False)"
       ]
      },
      {
       "output_type": "stream",
       "stream": "stdout",
       "text": [
        "\n",
        "TimeFrame(start='2011-05-11 03:20:00-04:00', end='2011-05-11 03:21:00-04:00', empty=False)\n",
        "TimeFrame(start='2011-05-12 20:15:00-04:00', end='2011-05-12 20:16:00-04:00', empty=False)\n",
        "TimeFrame(start='2011-05-22 16:05:00-04:00', end='2011-05-22 16:06:00-04:00', empty=False)"
       ]
      },
      {
       "output_type": "stream",
       "stream": "stdout",
       "text": [
        "\n",
        "TimeFrame(start='2011-05-22 23:42:00-04:00', end='2011-05-22 23:43:00-04:00', empty=False)\n",
        "TimeFrame(start='2011-05-23 10:32:00-04:00', end='2011-05-23 10:33:00-04:00', empty=False)\n",
        "TimeFrame(start='2011-04-18 09:22:13-04:00', end='2011-04-18 09:22:16-04:00', empty=False)"
       ]
      },
      {
       "output_type": "stream",
       "stream": "stdout",
       "text": [
        "\n",
        "TimeFrame(start='2011-04-18 14:03:11-04:00', end='2011-04-18 14:03:30-04:00', empty=False)"
       ]
      },
      {
       "output_type": "stream",
       "stream": "stdout",
       "text": [
        "\n",
        "TimeFrame(start='2011-04-19 20:20:09-04:00', end='2011-04-19 20:20:18-04:00', empty=False)"
       ]
      },
      {
       "output_type": "stream",
       "stream": "stdout",
       "text": [
        "\n",
        "TimeFrame(start='2011-04-20 01:55:37-04:00', end='2011-04-20 01:55:40-04:00', empty=False)"
       ]
      },
      {
       "output_type": "stream",
       "stream": "stdout",
       "text": [
        "\n",
        "TimeFrame(start='2011-04-21 06:17:22-04:00', end='2011-04-21 06:17:40-04:00', empty=False)"
       ]
      },
      {
       "output_type": "stream",
       "stream": "stdout",
       "text": [
        "\n",
        "TimeFrame(start='2011-04-21 19:41:30-04:00', end='2011-04-21 19:41:39-04:00', empty=False)"
       ]
      },
      {
       "output_type": "stream",
       "stream": "stdout",
       "text": [
        "\n",
        "TimeFrame(start='2011-04-22 22:48:34-04:00', end='2011-04-22 22:48:43-04:00', empty=False)"
       ]
      },
      {
       "output_type": "stream",
       "stream": "stdout",
       "text": [
        "\n",
        "TimeFrame(start='2011-04-24 03:52:28-04:00', end='2011-04-24 03:52:54-04:00', empty=False)"
       ]
      },
      {
       "output_type": "stream",
       "stream": "stdout",
       "text": [
        "\n",
        "TimeFrame(start='2011-04-27 02:51:25-04:00', end='2011-04-27 02:51:28-04:00', empty=False)"
       ]
      },
      {
       "output_type": "stream",
       "stream": "stdout",
       "text": [
        "\n",
        "TimeFrame(start='2011-04-27 03:21:19-04:00', end='2011-04-27 03:21:23-04:00', empty=False)"
       ]
      },
      {
       "output_type": "stream",
       "stream": "stdout",
       "text": [
        "\n",
        "TimeFrame(start='2011-04-29 23:10:38-04:00', end='2011-04-29 23:10:57-04:00', empty=False)"
       ]
      },
      {
       "output_type": "stream",
       "stream": "stdout",
       "text": [
        "\n",
        "TimeFrame(start='2011-05-01 09:47:22-04:00', end='2011-05-01 09:47:25-04:00', empty=False)"
       ]
      },
      {
       "output_type": "stream",
       "stream": "stdout",
       "text": [
        "\n",
        "TimeFrame(start='2011-05-02 17:07:31-04:00', end='2011-05-02 17:07:34-04:00', empty=False)"
       ]
      },
      {
       "output_type": "stream",
       "stream": "stdout",
       "text": [
        "\n",
        "TimeFrame(start='2011-05-06 10:51:50-04:00', end='2011-05-06 10:52:31-04:00', empty=False)"
       ]
      },
      {
       "output_type": "stream",
       "stream": "stdout",
       "text": [
        "\n",
        "TimeFrame(start='2011-05-07 02:40:47-04:00', end='2011-05-07 02:40:51-04:00', empty=False)"
       ]
      },
      {
       "output_type": "stream",
       "stream": "stdout",
       "text": [
        "\n",
        "TimeFrame(start='2011-05-11 03:19:47-04:00', end='2011-05-11 03:20:08-04:00', empty=False)"
       ]
      },
      {
       "output_type": "stream",
       "stream": "stdout",
       "text": [
        "\n",
        "TimeFrame(start='2011-05-12 20:14:31-04:00', end='2011-05-12 20:14:34-04:00', empty=False)"
       ]
      },
      {
       "output_type": "stream",
       "stream": "stdout",
       "text": [
        "\n",
        "TimeFrame(start='2011-05-22 16:04:50-04:00', end='2011-05-22 16:04:54-04:00', empty=False)"
       ]
      },
      {
       "output_type": "stream",
       "stream": "stdout",
       "text": [
        "\n",
        "TimeFrame(start='2011-05-22 23:41:39-04:00', end='2011-05-22 23:42:01-04:00', empty=False)\n",
        "TimeFrame(start='2011-05-23 10:31:34-04:00', end='2011-05-23 10:31:38-04:00', empty=False)"
       ]
      },
      {
       "output_type": "stream",
       "stream": "stdout",
       "text": [
        "\n",
        "TimeFrame(start='2011-04-18 09:23:00-04:00', end='2011-04-18 09:24:00-04:00', empty=False)\n",
        "TimeFrame(start='2011-04-18 14:04:00-04:00', end='2011-04-18 14:05:00-04:00', empty=False)"
       ]
      },
      {
       "output_type": "stream",
       "stream": "stdout",
       "text": [
        "\n",
        "TimeFrame(start='2011-04-19 20:21:00-04:00', end='2011-04-19 20:22:00-04:00', empty=False)\n",
        "TimeFrame(start='2011-04-20 02:28:00-04:00', end='2011-04-20 02:29:00-04:00', empty=False)"
       ]
      },
      {
       "output_type": "stream",
       "stream": "stdout",
       "text": [
        "\n",
        "TimeFrame(start='2011-04-21 06:18:00-04:00', end='2011-04-21 06:19:00-04:00', empty=False)\n",
        "TimeFrame(start='2011-04-21 19:42:00-04:00', end='2011-04-21 19:43:00-04:00', empty=False)"
       ]
      },
      {
       "output_type": "stream",
       "stream": "stdout",
       "text": [
        "\n",
        "TimeFrame(start='2011-04-22 22:49:00-04:00', end='2011-04-22 22:50:00-04:00', empty=False)\n",
        "TimeFrame(start='2011-04-24 03:53:00-04:00', end='2011-04-24 03:54:00-04:00', empty=False)"
       ]
      },
      {
       "output_type": "stream",
       "stream": "stdout",
       "text": [
        "\n",
        "TimeFrame(start='2011-04-27 03:22:00-04:00', end='2011-04-27 03:23:00-04:00', empty=False)\n",
        "TimeFrame(start='2011-04-29 23:11:00-04:00', end='2011-04-29 23:12:00-04:00', empty=False)"
       ]
      },
      {
       "output_type": "stream",
       "stream": "stdout",
       "text": [
        "\n",
        "TimeFrame(start='2011-05-01 09:48:00-04:00', end='2011-05-01 09:49:00-04:00', empty=False)\n",
        "TimeFrame(start='2011-05-02 17:08:00-04:00', end='2011-05-02 17:09:00-04:00', empty=False)"
       ]
      },
      {
       "output_type": "stream",
       "stream": "stdout",
       "text": [
        "\n",
        "TimeFrame(start='2011-05-06 10:52:00-04:00', end='2011-05-06 10:53:00-04:00', empty=False)\n",
        "TimeFrame(start='2011-05-07 02:41:00-04:00', end='2011-05-07 02:42:00-04:00', empty=False)"
       ]
      },
      {
       "output_type": "stream",
       "stream": "stdout",
       "text": [
        "\n",
        "TimeFrame(start='2011-05-11 03:20:00-04:00', end='2011-05-11 03:21:00-04:00', empty=False)\n",
        "TimeFrame(start='2011-05-12 20:15:00-04:00', end='2011-05-12 20:16:00-04:00', empty=False)\n",
        "TimeFrame(start='2011-05-22 16:05:00-04:00', end='2011-05-22 16:06:00-04:00', empty=False)"
       ]
      },
      {
       "output_type": "stream",
       "stream": "stdout",
       "text": [
        "\n",
        "TimeFrame(start='2011-05-22 23:42:00-04:00', end='2011-05-22 23:43:00-04:00', empty=False)\n",
        "TimeFrame(start='2011-05-23 10:32:00-04:00', end='2011-05-23 10:33:00-04:00', empty=False)\n",
        "TimeFrame(start='2011-04-18 09:22:13-04:00', end='2011-04-18 09:22:16-04:00', empty=False)"
       ]
      },
      {
       "output_type": "stream",
       "stream": "stdout",
       "text": [
        "\n",
        "TimeFrame(start='2011-04-18 14:03:11-04:00', end='2011-04-18 14:03:30-04:00', empty=False)"
       ]
      },
      {
       "output_type": "stream",
       "stream": "stdout",
       "text": [
        "\n",
        "TimeFrame(start='2011-04-19 20:20:09-04:00', end='2011-04-19 20:20:18-04:00', empty=False)"
       ]
      },
      {
       "output_type": "stream",
       "stream": "stdout",
       "text": [
        "\n",
        "TimeFrame(start='2011-04-20 01:55:37-04:00', end='2011-04-20 01:55:40-04:00', empty=False)"
       ]
      },
      {
       "output_type": "stream",
       "stream": "stdout",
       "text": [
        "\n",
        "TimeFrame(start='2011-04-21 06:17:22-04:00', end='2011-04-21 06:17:40-04:00', empty=False)"
       ]
      },
      {
       "output_type": "stream",
       "stream": "stdout",
       "text": [
        "\n",
        "TimeFrame(start='2011-04-21 19:41:30-04:00', end='2011-04-21 19:41:39-04:00', empty=False)"
       ]
      },
      {
       "output_type": "stream",
       "stream": "stdout",
       "text": [
        "\n",
        "TimeFrame(start='2011-04-22 22:48:34-04:00', end='2011-04-22 22:48:43-04:00', empty=False)"
       ]
      },
      {
       "output_type": "stream",
       "stream": "stdout",
       "text": [
        "\n",
        "TimeFrame(start='2011-04-24 03:52:28-04:00', end='2011-04-24 03:52:54-04:00', empty=False)"
       ]
      },
      {
       "output_type": "stream",
       "stream": "stdout",
       "text": [
        "\n",
        "TimeFrame(start='2011-04-27 02:51:25-04:00', end='2011-04-27 02:51:28-04:00', empty=False)"
       ]
      },
      {
       "output_type": "stream",
       "stream": "stdout",
       "text": [
        "\n",
        "TimeFrame(start='2011-04-27 03:21:19-04:00', end='2011-04-27 03:21:23-04:00', empty=False)"
       ]
      },
      {
       "output_type": "stream",
       "stream": "stdout",
       "text": [
        "\n",
        "TimeFrame(start='2011-04-29 23:10:38-04:00', end='2011-04-29 23:10:57-04:00', empty=False)"
       ]
      },
      {
       "output_type": "stream",
       "stream": "stdout",
       "text": [
        "\n",
        "TimeFrame(start='2011-05-01 09:47:22-04:00', end='2011-05-01 09:47:25-04:00', empty=False)"
       ]
      },
      {
       "output_type": "stream",
       "stream": "stdout",
       "text": [
        "\n",
        "TimeFrame(start='2011-05-02 17:07:31-04:00', end='2011-05-02 17:07:34-04:00', empty=False)"
       ]
      },
      {
       "output_type": "stream",
       "stream": "stdout",
       "text": [
        "\n",
        "TimeFrame(start='2011-05-06 10:51:50-04:00', end='2011-05-06 10:52:31-04:00', empty=False)"
       ]
      },
      {
       "output_type": "stream",
       "stream": "stdout",
       "text": [
        "\n",
        "TimeFrame(start='2011-05-07 02:40:47-04:00', end='2011-05-07 02:40:51-04:00', empty=False)"
       ]
      },
      {
       "output_type": "stream",
       "stream": "stdout",
       "text": [
        "\n",
        "TimeFrame(start='2011-05-11 03:19:47-04:00', end='2011-05-11 03:20:08-04:00', empty=False)"
       ]
      },
      {
       "output_type": "stream",
       "stream": "stdout",
       "text": [
        "\n",
        "TimeFrame(start='2011-05-12 20:14:31-04:00', end='2011-05-12 20:14:34-04:00', empty=False)"
       ]
      },
      {
       "output_type": "stream",
       "stream": "stdout",
       "text": [
        "\n",
        "TimeFrame(start='2011-05-22 16:04:50-04:00', end='2011-05-22 16:04:54-04:00', empty=False)"
       ]
      },
      {
       "output_type": "stream",
       "stream": "stdout",
       "text": [
        "\n",
        "TimeFrame(start='2011-05-22 23:41:39-04:00', end='2011-05-22 23:42:01-04:00', empty=False)"
       ]
      },
      {
       "output_type": "stream",
       "stream": "stdout",
       "text": [
        "\n",
        "TimeFrame(start='2011-05-23 10:31:34-04:00', end='2011-05-23 10:31:38-04:00', empty=False)\n",
        "TimeFrame(start='2011-04-18 09:23:00-04:00', end='2011-04-18 09:24:00-04:00', empty=False)"
       ]
      },
      {
       "output_type": "stream",
       "stream": "stdout",
       "text": [
        "\n",
        "TimeFrame(start='2011-04-18 14:04:00-04:00', end='2011-04-18 14:05:00-04:00', empty=False)\n",
        "TimeFrame(start='2011-04-19 20:21:00-04:00', end='2011-04-19 20:22:00-04:00', empty=False)"
       ]
      },
      {
       "output_type": "stream",
       "stream": "stdout",
       "text": [
        "\n",
        "TimeFrame(start='2011-04-20 02:28:00-04:00', end='2011-04-20 02:29:00-04:00', empty=False)\n",
        "TimeFrame(start='2011-04-21 06:18:00-04:00', end='2011-04-21 06:19:00-04:00', empty=False)"
       ]
      },
      {
       "output_type": "stream",
       "stream": "stdout",
       "text": [
        "\n",
        "TimeFrame(start='2011-04-21 19:42:00-04:00', end='2011-04-21 19:43:00-04:00', empty=False)\n",
        "TimeFrame(start='2011-04-22 22:49:00-04:00', end='2011-04-22 22:50:00-04:00', empty=False)"
       ]
      },
      {
       "output_type": "stream",
       "stream": "stdout",
       "text": [
        "\n",
        "TimeFrame(start='2011-04-24 03:53:00-04:00', end='2011-04-24 03:54:00-04:00', empty=False)\n",
        "TimeFrame(start='2011-04-27 03:22:00-04:00', end='2011-04-27 03:23:00-04:00', empty=False)"
       ]
      },
      {
       "output_type": "stream",
       "stream": "stdout",
       "text": [
        "\n",
        "TimeFrame(start='2011-04-29 23:11:00-04:00', end='2011-04-29 23:12:00-04:00', empty=False)\n",
        "TimeFrame(start='2011-05-01 09:48:00-04:00', end='2011-05-01 09:49:00-04:00', empty=False)"
       ]
      },
      {
       "output_type": "stream",
       "stream": "stdout",
       "text": [
        "\n",
        "TimeFrame(start='2011-05-02 17:08:00-04:00', end='2011-05-02 17:09:00-04:00', empty=False)\n",
        "TimeFrame(start='2011-05-06 10:52:00-04:00', end='2011-05-06 10:53:00-04:00', empty=False)"
       ]
      },
      {
       "output_type": "stream",
       "stream": "stdout",
       "text": [
        "\n",
        "TimeFrame(start='2011-05-07 02:41:00-04:00', end='2011-05-07 02:42:00-04:00', empty=False)\n",
        "TimeFrame(start='2011-05-11 03:20:00-04:00', end='2011-05-11 03:21:00-04:00', empty=False)"
       ]
      },
      {
       "output_type": "stream",
       "stream": "stdout",
       "text": [
        "\n",
        "TimeFrame(start='2011-05-12 20:15:00-04:00', end='2011-05-12 20:16:00-04:00', empty=False)\n",
        "TimeFrame(start='2011-05-22 16:05:00-04:00', end='2011-05-22 16:06:00-04:00', empty=False)"
       ]
      },
      {
       "output_type": "stream",
       "stream": "stdout",
       "text": [
        "\n",
        "TimeFrame(start='2011-05-22 23:42:00-04:00', end='2011-05-22 23:43:00-04:00', empty=False)\n",
        "TimeFrame(start='2011-05-23 10:32:00-04:00', end='2011-05-23 10:33:00-04:00', empty=False)\n",
        "TimeFrame(start='2011-04-18 09:22:13-04:00', end='2011-04-18 09:22:16-04:00', empty=False)"
       ]
      },
      {
       "output_type": "stream",
       "stream": "stdout",
       "text": [
        "\n",
        "TimeFrame(start='2011-04-18 14:03:11-04:00', end='2011-04-18 14:03:30-04:00', empty=False)"
       ]
      },
      {
       "output_type": "stream",
       "stream": "stdout",
       "text": [
        "\n",
        "TimeFrame(start='2011-04-19 20:20:09-04:00', end='2011-04-19 20:20:18-04:00', empty=False)"
       ]
      },
      {
       "output_type": "stream",
       "stream": "stdout",
       "text": [
        "\n",
        "TimeFrame(start='2011-04-20 01:55:37-04:00', end='2011-04-20 01:55:40-04:00', empty=False)"
       ]
      },
      {
       "output_type": "stream",
       "stream": "stdout",
       "text": [
        "\n",
        "TimeFrame(start='2011-04-21 06:17:22-04:00', end='2011-04-21 06:17:40-04:00', empty=False)"
       ]
      },
      {
       "output_type": "stream",
       "stream": "stdout",
       "text": [
        "\n",
        "TimeFrame(start='2011-04-21 19:41:30-04:00', end='2011-04-21 19:41:39-04:00', empty=False)"
       ]
      },
      {
       "output_type": "stream",
       "stream": "stdout",
       "text": [
        "\n",
        "TimeFrame(start='2011-04-22 22:48:34-04:00', end='2011-04-22 22:48:43-04:00', empty=False)"
       ]
      },
      {
       "output_type": "stream",
       "stream": "stdout",
       "text": [
        "\n",
        "TimeFrame(start='2011-04-24 03:52:28-04:00', end='2011-04-24 03:52:54-04:00', empty=False)"
       ]
      },
      {
       "output_type": "stream",
       "stream": "stdout",
       "text": [
        "\n",
        "TimeFrame(start='2011-04-27 02:51:25-04:00', end='2011-04-27 02:51:28-04:00', empty=False)"
       ]
      },
      {
       "output_type": "stream",
       "stream": "stdout",
       "text": [
        "\n",
        "TimeFrame(start='2011-04-27 03:21:19-04:00', end='2011-04-27 03:21:23-04:00', empty=False)"
       ]
      },
      {
       "output_type": "stream",
       "stream": "stdout",
       "text": [
        "\n",
        "TimeFrame(start='2011-04-29 23:10:38-04:00', end='2011-04-29 23:10:57-04:00', empty=False)"
       ]
      },
      {
       "output_type": "stream",
       "stream": "stdout",
       "text": [
        "\n",
        "TimeFrame(start='2011-05-01 09:47:22-04:00', end='2011-05-01 09:47:25-04:00', empty=False)"
       ]
      },
      {
       "output_type": "stream",
       "stream": "stdout",
       "text": [
        "\n",
        "TimeFrame(start='2011-05-02 17:07:31-04:00', end='2011-05-02 17:07:34-04:00', empty=False)"
       ]
      },
      {
       "output_type": "stream",
       "stream": "stdout",
       "text": [
        "\n",
        "TimeFrame(start='2011-05-06 10:51:50-04:00', end='2011-05-06 10:52:31-04:00', empty=False)"
       ]
      },
      {
       "output_type": "stream",
       "stream": "stdout",
       "text": [
        "\n",
        "TimeFrame(start='2011-05-07 02:40:47-04:00', end='2011-05-07 02:40:51-04:00', empty=False)"
       ]
      },
      {
       "output_type": "stream",
       "stream": "stdout",
       "text": [
        "\n",
        "TimeFrame(start='2011-05-11 03:19:47-04:00', end='2011-05-11 03:20:08-04:00', empty=False)"
       ]
      },
      {
       "output_type": "stream",
       "stream": "stdout",
       "text": [
        "\n",
        "TimeFrame(start='2011-05-12 20:14:31-04:00', end='2011-05-12 20:14:34-04:00', empty=False)"
       ]
      },
      {
       "output_type": "stream",
       "stream": "stdout",
       "text": [
        "\n",
        "TimeFrame(start='2011-05-22 16:04:50-04:00', end='2011-05-22 16:04:54-04:00', empty=False)"
       ]
      },
      {
       "output_type": "stream",
       "stream": "stdout",
       "text": [
        "\n",
        "TimeFrame(start='2011-05-22 23:41:39-04:00', end='2011-05-22 23:42:01-04:00', empty=False)"
       ]
      },
      {
       "output_type": "stream",
       "stream": "stdout",
       "text": [
        "\n",
        "TimeFrame(start='2011-05-23 10:31:34-04:00', end='2011-05-23 10:31:38-04:00', empty=False)"
       ]
      },
      {
       "output_type": "stream",
       "stream": "stdout",
       "text": [
        "\n",
        "TimeFrame(start='2011-04-18 09:23:00-04:00', end='2011-04-18 09:24:00-04:00', empty=False)"
       ]
      },
      {
       "output_type": "stream",
       "stream": "stdout",
       "text": [
        "\n",
        "TimeFrame(start='2011-04-18 14:04:00-04:00', end='2011-04-18 14:05:00-04:00', empty=False)"
       ]
      },
      {
       "output_type": "stream",
       "stream": "stdout",
       "text": [
        "\n",
        "TimeFrame(start='2011-04-19 20:21:00-04:00', end='2011-04-19 20:22:00-04:00', empty=False)"
       ]
      },
      {
       "output_type": "stream",
       "stream": "stdout",
       "text": [
        "\n",
        "TimeFrame(start='2011-04-20 02:28:00-04:00', end='2011-04-20 02:29:00-04:00', empty=False)\n",
        "TimeFrame(start='2011-04-21 06:18:00-04:00', end='2011-04-21 06:19:00-04:00', empty=False)"
       ]
      },
      {
       "output_type": "stream",
       "stream": "stdout",
       "text": [
        "\n",
        "TimeFrame(start='2011-04-21 19:42:00-04:00', end='2011-04-21 19:43:00-04:00', empty=False)\n",
        "TimeFrame(start='2011-04-22 22:49:00-04:00', end='2011-04-22 22:50:00-04:00', empty=False)"
       ]
      },
      {
       "output_type": "stream",
       "stream": "stdout",
       "text": [
        "\n",
        "TimeFrame(start='2011-04-24 03:53:00-04:00', end='2011-04-24 03:54:00-04:00', empty=False)\n",
        "TimeFrame(start='2011-04-27 03:22:00-04:00', end='2011-04-27 03:23:00-04:00', empty=False)"
       ]
      },
      {
       "output_type": "stream",
       "stream": "stdout",
       "text": [
        "\n",
        "TimeFrame(start='2011-04-29 23:11:00-04:00', end='2011-04-29 23:12:00-04:00', empty=False)\n",
        "TimeFrame(start='2011-05-01 09:48:00-04:00', end='2011-05-01 09:49:00-04:00', empty=False)"
       ]
      },
      {
       "output_type": "stream",
       "stream": "stdout",
       "text": [
        "\n",
        "TimeFrame(start='2011-05-02 17:08:00-04:00', end='2011-05-02 17:09:00-04:00', empty=False)\n",
        "TimeFrame(start='2011-05-06 10:52:00-04:00', end='2011-05-06 10:53:00-04:00', empty=False)"
       ]
      },
      {
       "output_type": "stream",
       "stream": "stdout",
       "text": [
        "\n",
        "TimeFrame(start='2011-05-07 02:41:00-04:00', end='2011-05-07 02:42:00-04:00', empty=False)\n",
        "TimeFrame(start='2011-05-11 03:20:00-04:00', end='2011-05-11 03:21:00-04:00', empty=False)\n",
        "TimeFrame(start='2011-05-12 20:15:00-04:00', end='2011-05-12 20:16:00-04:00', empty=False)"
       ]
      },
      {
       "output_type": "stream",
       "stream": "stdout",
       "text": [
        "\n",
        "TimeFrame(start='2011-05-22 16:05:00-04:00', end='2011-05-22 16:06:00-04:00', empty=False)\n",
        "TimeFrame(start='2011-05-22 23:42:00-04:00', end='2011-05-22 23:43:00-04:00', empty=False)"
       ]
      },
      {
       "output_type": "stream",
       "stream": "stdout",
       "text": [
        "\n",
        "TimeFrame(start='2011-05-23 10:32:00-04:00', end='2011-05-23 10:33:00-04:00', empty=False)\n",
        "TimeFrame(start='2011-04-18 09:22:13-04:00', end='2011-04-18 09:22:16-04:00', empty=False)"
       ]
      },
      {
       "output_type": "stream",
       "stream": "stdout",
       "text": [
        "\n",
        "TimeFrame(start='2011-04-18 14:03:11-04:00', end='2011-04-18 14:03:30-04:00', empty=False)"
       ]
      },
      {
       "output_type": "stream",
       "stream": "stdout",
       "text": [
        "\n",
        "TimeFrame(start='2011-04-19 20:20:09-04:00', end='2011-04-19 20:20:18-04:00', empty=False)"
       ]
      },
      {
       "output_type": "stream",
       "stream": "stdout",
       "text": [
        "\n",
        "TimeFrame(start='2011-04-20 01:55:37-04:00', end='2011-04-20 01:55:40-04:00', empty=False)"
       ]
      },
      {
       "output_type": "stream",
       "stream": "stdout",
       "text": [
        "\n",
        "TimeFrame(start='2011-04-21 06:17:22-04:00', end='2011-04-21 06:17:40-04:00', empty=False)"
       ]
      },
      {
       "output_type": "stream",
       "stream": "stdout",
       "text": [
        "\n",
        "TimeFrame(start='2011-04-21 19:41:30-04:00', end='2011-04-21 19:41:39-04:00', empty=False)"
       ]
      },
      {
       "output_type": "stream",
       "stream": "stdout",
       "text": [
        "\n",
        "TimeFrame(start='2011-04-22 22:48:34-04:00', end='2011-04-22 22:48:43-04:00', empty=False)"
       ]
      },
      {
       "output_type": "stream",
       "stream": "stdout",
       "text": [
        "\n",
        "TimeFrame(start='2011-04-24 03:52:28-04:00', end='2011-04-24 03:52:54-04:00', empty=False)"
       ]
      },
      {
       "output_type": "stream",
       "stream": "stdout",
       "text": [
        "\n",
        "TimeFrame(start='2011-04-27 02:51:25-04:00', end='2011-04-27 02:51:28-04:00', empty=False)"
       ]
      },
      {
       "output_type": "stream",
       "stream": "stdout",
       "text": [
        "\n",
        "TimeFrame(start='2011-04-27 03:21:19-04:00', end='2011-04-27 03:21:23-04:00', empty=False)"
       ]
      },
      {
       "output_type": "stream",
       "stream": "stdout",
       "text": [
        "\n",
        "TimeFrame(start='2011-04-29 23:10:38-04:00', end='2011-04-29 23:10:57-04:00', empty=False)"
       ]
      },
      {
       "output_type": "stream",
       "stream": "stdout",
       "text": [
        "\n",
        "TimeFrame(start='2011-05-01 09:47:22-04:00', end='2011-05-01 09:47:25-04:00', empty=False)"
       ]
      },
      {
       "output_type": "stream",
       "stream": "stdout",
       "text": [
        "\n",
        "TimeFrame(start='2011-05-02 17:07:31-04:00', end='2011-05-02 17:07:34-04:00', empty=False)"
       ]
      },
      {
       "output_type": "stream",
       "stream": "stdout",
       "text": [
        "\n",
        "TimeFrame(start='2011-05-06 10:51:50-04:00', end='2011-05-06 10:52:31-04:00', empty=False)"
       ]
      },
      {
       "output_type": "stream",
       "stream": "stdout",
       "text": [
        "\n",
        "TimeFrame(start='2011-05-07 02:40:47-04:00', end='2011-05-07 02:40:51-04:00', empty=False)"
       ]
      },
      {
       "output_type": "stream",
       "stream": "stdout",
       "text": [
        "\n",
        "TimeFrame(start='2011-05-11 03:19:47-04:00', end='2011-05-11 03:20:08-04:00', empty=False)"
       ]
      },
      {
       "output_type": "stream",
       "stream": "stdout",
       "text": [
        "\n",
        "TimeFrame(start='2011-05-12 20:14:31-04:00', end='2011-05-12 20:14:34-04:00', empty=False)"
       ]
      },
      {
       "output_type": "stream",
       "stream": "stdout",
       "text": [
        "\n",
        "TimeFrame(start='2011-05-22 16:04:50-04:00', end='2011-05-22 16:04:54-04:00', empty=False)"
       ]
      },
      {
       "output_type": "stream",
       "stream": "stdout",
       "text": [
        "\n",
        "TimeFrame(start='2011-05-22 23:41:39-04:00', end='2011-05-22 23:42:01-04:00', empty=False)"
       ]
      },
      {
       "output_type": "stream",
       "stream": "stdout",
       "text": [
        "\n",
        "TimeFrame(start='2011-05-23 10:31:34-04:00', end='2011-05-23 10:31:38-04:00', empty=False)\n",
        "TimeFrame(start='2011-04-18 09:23:00-04:00', end='2011-04-18 09:24:00-04:00', empty=False)"
       ]
      },
      {
       "output_type": "stream",
       "stream": "stdout",
       "text": [
        "\n",
        "TimeFrame(start='2011-04-18 14:04:00-04:00', end='2011-04-18 14:05:00-04:00', empty=False)\n",
        "TimeFrame(start='2011-04-19 20:21:00-04:00', end='2011-04-19 20:22:00-04:00', empty=False)"
       ]
      },
      {
       "output_type": "stream",
       "stream": "stdout",
       "text": [
        "\n",
        "TimeFrame(start='2011-04-20 02:28:00-04:00', end='2011-04-20 02:29:00-04:00', empty=False)\n",
        "TimeFrame(start='2011-04-21 06:18:00-04:00', end='2011-04-21 06:19:00-04:00', empty=False)"
       ]
      },
      {
       "output_type": "stream",
       "stream": "stdout",
       "text": [
        "\n",
        "TimeFrame(start='2011-04-21 19:42:00-04:00', end='2011-04-21 19:43:00-04:00', empty=False)\n",
        "TimeFrame(start='2011-04-22 22:49:00-04:00', end='2011-04-22 22:50:00-04:00', empty=False)"
       ]
      },
      {
       "output_type": "stream",
       "stream": "stdout",
       "text": [
        "\n",
        "TimeFrame(start='2011-04-24 03:53:00-04:00', end='2011-04-24 03:54:00-04:00', empty=False)\n",
        "TimeFrame(start='2011-04-27 03:22:00-04:00', end='2011-04-27 03:23:00-04:00', empty=False)"
       ]
      },
      {
       "output_type": "stream",
       "stream": "stdout",
       "text": [
        "\n",
        "TimeFrame(start='2011-04-29 23:11:00-04:00', end='2011-04-29 23:12:00-04:00', empty=False)\n",
        "TimeFrame(start='2011-05-01 09:48:00-04:00', end='2011-05-01 09:49:00-04:00', empty=False)"
       ]
      },
      {
       "output_type": "stream",
       "stream": "stdout",
       "text": [
        "\n",
        "TimeFrame(start='2011-05-02 17:08:00-04:00', end='2011-05-02 17:09:00-04:00', empty=False)\n",
        "TimeFrame(start='2011-05-06 10:52:00-04:00', end='2011-05-06 10:53:00-04:00', empty=False)"
       ]
      },
      {
       "output_type": "stream",
       "stream": "stdout",
       "text": [
        "\n",
        "TimeFrame(start='2011-05-07 02:41:00-04:00', end='2011-05-07 02:42:00-04:00', empty=False)\n",
        "TimeFrame(start='2011-05-11 03:20:00-04:00', end='2011-05-11 03:21:00-04:00', empty=False)"
       ]
      },
      {
       "output_type": "stream",
       "stream": "stdout",
       "text": [
        "\n",
        "TimeFrame(start='2011-05-12 20:15:00-04:00', end='2011-05-12 20:16:00-04:00', empty=False)\n",
        "TimeFrame(start='2011-05-22 16:05:00-04:00', end='2011-05-22 16:06:00-04:00', empty=False)"
       ]
      },
      {
       "output_type": "stream",
       "stream": "stdout",
       "text": [
        "\n",
        "TimeFrame(start='2011-05-22 23:42:00-04:00', end='2011-05-22 23:43:00-04:00', empty=False)\n",
        "TimeFrame(start='2011-05-23 10:32:00-04:00', end='2011-05-23 10:33:00-04:00', empty=False)"
       ]
      },
      {
       "output_type": "stream",
       "stream": "stdout",
       "text": [
        "\n",
        "TimeFrame(start='2011-04-18 09:22:13-04:00', end='2011-04-18 09:22:16-04:00', empty=False)"
       ]
      },
      {
       "output_type": "stream",
       "stream": "stdout",
       "text": [
        "\n",
        "TimeFrame(start='2011-04-18 14:03:11-04:00', end='2011-04-18 14:03:30-04:00', empty=False)"
       ]
      },
      {
       "output_type": "stream",
       "stream": "stdout",
       "text": [
        "\n",
        "TimeFrame(start='2011-04-19 20:20:09-04:00', end='2011-04-19 20:20:18-04:00', empty=False)"
       ]
      },
      {
       "output_type": "stream",
       "stream": "stdout",
       "text": [
        "\n",
        "TimeFrame(start='2011-04-20 01:55:37-04:00', end='2011-04-20 01:55:40-04:00', empty=False)"
       ]
      },
      {
       "output_type": "stream",
       "stream": "stdout",
       "text": [
        "\n",
        "TimeFrame(start='2011-04-21 06:17:22-04:00', end='2011-04-21 06:17:40-04:00', empty=False)"
       ]
      },
      {
       "output_type": "stream",
       "stream": "stdout",
       "text": [
        "\n",
        "TimeFrame(start='2011-04-21 19:41:30-04:00', end='2011-04-21 19:41:39-04:00', empty=False)"
       ]
      },
      {
       "output_type": "stream",
       "stream": "stdout",
       "text": [
        "\n",
        "TimeFrame(start='2011-04-22 22:48:34-04:00', end='2011-04-22 22:48:43-04:00', empty=False)"
       ]
      },
      {
       "output_type": "stream",
       "stream": "stdout",
       "text": [
        "\n",
        "TimeFrame(start='2011-04-24 03:52:28-04:00', end='2011-04-24 03:52:54-04:00', empty=False)"
       ]
      },
      {
       "output_type": "stream",
       "stream": "stdout",
       "text": [
        "\n",
        "TimeFrame(start='2011-04-27 02:51:25-04:00', end='2011-04-27 02:51:28-04:00', empty=False)"
       ]
      },
      {
       "output_type": "stream",
       "stream": "stdout",
       "text": [
        "\n",
        "TimeFrame(start='2011-04-27 03:21:19-04:00', end='2011-04-27 03:21:23-04:00', empty=False)"
       ]
      },
      {
       "output_type": "stream",
       "stream": "stdout",
       "text": [
        "\n",
        "TimeFrame(start='2011-04-29 23:10:38-04:00', end='2011-04-29 23:10:57-04:00', empty=False)"
       ]
      },
      {
       "output_type": "stream",
       "stream": "stdout",
       "text": [
        "\n",
        "TimeFrame(start='2011-05-01 09:47:22-04:00', end='2011-05-01 09:47:25-04:00', empty=False)"
       ]
      },
      {
       "output_type": "stream",
       "stream": "stdout",
       "text": [
        "\n",
        "TimeFrame(start='2011-05-02 17:07:31-04:00', end='2011-05-02 17:07:34-04:00', empty=False)"
       ]
      },
      {
       "output_type": "stream",
       "stream": "stdout",
       "text": [
        "\n",
        "TimeFrame(start='2011-05-06 10:51:50-04:00', end='2011-05-06 10:52:31-04:00', empty=False)"
       ]
      },
      {
       "output_type": "stream",
       "stream": "stdout",
       "text": [
        "\n",
        "TimeFrame(start='2011-05-07 02:40:47-04:00', end='2011-05-07 02:40:51-04:00', empty=False)"
       ]
      },
      {
       "output_type": "stream",
       "stream": "stdout",
       "text": [
        "\n",
        "TimeFrame(start='2011-05-11 03:19:47-04:00', end='2011-05-11 03:20:08-04:00', empty=False)"
       ]
      },
      {
       "output_type": "stream",
       "stream": "stdout",
       "text": [
        "\n",
        "TimeFrame(start='2011-05-12 20:14:31-04:00', end='2011-05-12 20:14:34-04:00', empty=False)"
       ]
      },
      {
       "output_type": "stream",
       "stream": "stdout",
       "text": [
        "\n",
        "TimeFrame(start='2011-05-22 16:04:50-04:00', end='2011-05-22 16:04:54-04:00', empty=False)"
       ]
      },
      {
       "output_type": "stream",
       "stream": "stdout",
       "text": [
        "\n",
        "TimeFrame(start='2011-05-22 23:41:39-04:00', end='2011-05-22 23:42:01-04:00', empty=False)"
       ]
      },
      {
       "output_type": "stream",
       "stream": "stdout",
       "text": [
        "\n",
        "TimeFrame(start='2011-05-23 10:31:34-04:00', end='2011-05-23 10:31:38-04:00', empty=False)"
       ]
      },
      {
       "output_type": "stream",
       "stream": "stdout",
       "text": [
        "\n",
        "TimeFrame(start='2011-04-18 09:23:00-04:00', end='2011-04-18 09:24:00-04:00', empty=False)"
       ]
      },
      {
       "output_type": "stream",
       "stream": "stdout",
       "text": [
        "\n",
        "TimeFrame(start='2011-04-18 14:04:00-04:00', end='2011-04-18 14:05:00-04:00', empty=False)\n",
        "TimeFrame(start='2011-04-19 20:21:00-04:00', end='2011-04-19 20:22:00-04:00', empty=False)"
       ]
      },
      {
       "output_type": "stream",
       "stream": "stdout",
       "text": [
        "\n",
        "TimeFrame(start='2011-04-20 02:28:00-04:00', end='2011-04-20 02:29:00-04:00', empty=False)\n",
        "TimeFrame(start='2011-04-21 06:18:00-04:00', end='2011-04-21 06:19:00-04:00', empty=False)"
       ]
      },
      {
       "output_type": "stream",
       "stream": "stdout",
       "text": [
        "\n",
        "TimeFrame(start='2011-04-21 19:42:00-04:00', end='2011-04-21 19:43:00-04:00', empty=False)\n",
        "TimeFrame(start='2011-04-22 22:49:00-04:00', end='2011-04-22 22:50:00-04:00', empty=False)"
       ]
      },
      {
       "output_type": "stream",
       "stream": "stdout",
       "text": [
        "\n",
        "TimeFrame(start='2011-04-24 03:53:00-04:00', end='2011-04-24 03:54:00-04:00', empty=False)\n",
        "TimeFrame(start='2011-04-27 03:22:00-04:00', end='2011-04-27 03:23:00-04:00', empty=False)"
       ]
      },
      {
       "output_type": "stream",
       "stream": "stdout",
       "text": [
        "\n",
        "TimeFrame(start='2011-04-29 23:11:00-04:00', end='2011-04-29 23:12:00-04:00', empty=False)\n",
        "TimeFrame(start='2011-05-01 09:48:00-04:00', end='2011-05-01 09:49:00-04:00', empty=False)"
       ]
      },
      {
       "output_type": "stream",
       "stream": "stdout",
       "text": [
        "\n",
        "TimeFrame(start='2011-05-02 17:08:00-04:00', end='2011-05-02 17:09:00-04:00', empty=False)\n",
        "TimeFrame(start='2011-05-06 10:52:00-04:00', end='2011-05-06 10:53:00-04:00', empty=False)"
       ]
      },
      {
       "output_type": "stream",
       "stream": "stdout",
       "text": [
        "\n",
        "TimeFrame(start='2011-05-07 02:41:00-04:00', end='2011-05-07 02:42:00-04:00', empty=False)\n",
        "TimeFrame(start='2011-05-11 03:20:00-04:00', end='2011-05-11 03:21:00-04:00', empty=False)\n",
        "TimeFrame(start='2011-05-12 20:15:00-04:00', end='2011-05-12 20:16:00-04:00', empty=False)"
       ]
      },
      {
       "output_type": "stream",
       "stream": "stdout",
       "text": [
        "\n",
        "TimeFrame(start='2011-05-22 16:05:00-04:00', end='2011-05-22 16:06:00-04:00', empty=False)\n",
        "TimeFrame(start='2011-05-22 23:42:00-04:00', end='2011-05-22 23:43:00-04:00', empty=False)"
       ]
      },
      {
       "output_type": "stream",
       "stream": "stdout",
       "text": [
        "\n",
        "TimeFrame(start='2011-05-23 10:32:00-04:00', end='2011-05-23 10:33:00-04:00', empty=False)\n",
        "TimeFrame(start='2011-04-18 09:22:13-04:00', end='2011-04-18 09:22:16-04:00', empty=False)"
       ]
      },
      {
       "output_type": "stream",
       "stream": "stdout",
       "text": [
        "\n",
        "TimeFrame(start='2011-04-18 14:03:11-04:00', end='2011-04-18 14:03:30-04:00', empty=False)"
       ]
      },
      {
       "output_type": "stream",
       "stream": "stdout",
       "text": [
        "\n",
        "TimeFrame(start='2011-04-19 20:20:09-04:00', end='2011-04-19 20:20:18-04:00', empty=False)"
       ]
      },
      {
       "output_type": "stream",
       "stream": "stdout",
       "text": [
        "\n",
        "TimeFrame(start='2011-04-20 01:55:37-04:00', end='2011-04-20 01:55:40-04:00', empty=False)"
       ]
      },
      {
       "output_type": "stream",
       "stream": "stdout",
       "text": [
        "\n",
        "TimeFrame(start='2011-04-21 06:17:22-04:00', end='2011-04-21 06:17:40-04:00', empty=False)"
       ]
      },
      {
       "output_type": "stream",
       "stream": "stdout",
       "text": [
        "\n",
        "TimeFrame(start='2011-04-21 19:41:30-04:00', end='2011-04-21 19:41:39-04:00', empty=False)"
       ]
      },
      {
       "output_type": "stream",
       "stream": "stdout",
       "text": [
        "\n",
        "TimeFrame(start='2011-04-22 22:48:34-04:00', end='2011-04-22 22:48:43-04:00', empty=False)"
       ]
      },
      {
       "output_type": "stream",
       "stream": "stdout",
       "text": [
        "\n",
        "TimeFrame(start='2011-04-24 03:52:28-04:00', end='2011-04-24 03:52:54-04:00', empty=False)"
       ]
      },
      {
       "output_type": "stream",
       "stream": "stdout",
       "text": [
        "\n",
        "TimeFrame(start='2011-04-27 02:51:25-04:00', end='2011-04-27 02:51:28-04:00', empty=False)"
       ]
      },
      {
       "output_type": "stream",
       "stream": "stdout",
       "text": [
        "\n",
        "TimeFrame(start='2011-04-27 03:21:19-04:00', end='2011-04-27 03:21:23-04:00', empty=False)"
       ]
      },
      {
       "output_type": "stream",
       "stream": "stdout",
       "text": [
        "\n",
        "TimeFrame(start='2011-04-29 23:10:38-04:00', end='2011-04-29 23:10:57-04:00', empty=False)"
       ]
      },
      {
       "output_type": "stream",
       "stream": "stdout",
       "text": [
        "\n",
        "TimeFrame(start='2011-05-01 09:47:22-04:00', end='2011-05-01 09:47:25-04:00', empty=False)"
       ]
      },
      {
       "output_type": "stream",
       "stream": "stdout",
       "text": [
        "\n",
        "TimeFrame(start='2011-05-02 17:07:31-04:00', end='2011-05-02 17:07:34-04:00', empty=False)"
       ]
      },
      {
       "output_type": "stream",
       "stream": "stdout",
       "text": [
        "\n",
        "TimeFrame(start='2011-05-06 10:51:50-04:00', end='2011-05-06 10:52:31-04:00', empty=False)"
       ]
      },
      {
       "output_type": "stream",
       "stream": "stdout",
       "text": [
        "\n",
        "TimeFrame(start='2011-05-07 02:40:47-04:00', end='2011-05-07 02:40:51-04:00', empty=False)"
       ]
      },
      {
       "output_type": "stream",
       "stream": "stdout",
       "text": [
        "\n",
        "TimeFrame(start='2011-05-11 03:19:47-04:00', end='2011-05-11 03:20:08-04:00', empty=False)"
       ]
      },
      {
       "output_type": "stream",
       "stream": "stdout",
       "text": [
        "\n",
        "TimeFrame(start='2011-05-12 20:14:31-04:00', end='2011-05-12 20:14:34-04:00', empty=False)"
       ]
      },
      {
       "output_type": "stream",
       "stream": "stdout",
       "text": [
        "\n",
        "TimeFrame(start='2011-05-22 16:04:50-04:00', end='2011-05-22 16:04:54-04:00', empty=False)"
       ]
      },
      {
       "output_type": "stream",
       "stream": "stdout",
       "text": [
        "\n",
        "TimeFrame(start='2011-05-22 23:41:39-04:00', end='2011-05-22 23:42:01-04:00', empty=False)\n",
        "TimeFrame(start='2011-05-23 10:31:34-04:00', end='2011-05-23 10:31:38-04:00', empty=False)"
       ]
      },
      {
       "output_type": "stream",
       "stream": "stdout",
       "text": [
        "\n",
        "TimeFrame(start='2011-04-18 09:22:13-04:00', end='2011-04-18 09:22:16-04:00', empty=False)"
       ]
      },
      {
       "output_type": "stream",
       "stream": "stdout",
       "text": [
        "\n",
        "TimeFrame(start='2011-04-18 14:03:11-04:00', end='2011-04-18 14:03:30-04:00', empty=False)"
       ]
      },
      {
       "output_type": "stream",
       "stream": "stdout",
       "text": [
        "\n",
        "TimeFrame(start='2011-04-19 20:20:09-04:00', end='2011-04-19 20:20:18-04:00', empty=False)"
       ]
      },
      {
       "output_type": "stream",
       "stream": "stdout",
       "text": [
        "\n",
        "TimeFrame(start='2011-04-20 01:55:37-04:00', end='2011-04-20 01:55:40-04:00', empty=False)"
       ]
      },
      {
       "output_type": "stream",
       "stream": "stdout",
       "text": [
        "\n",
        "TimeFrame(start='2011-04-21 06:17:22-04:00', end='2011-04-21 06:17:40-04:00', empty=False)"
       ]
      },
      {
       "output_type": "stream",
       "stream": "stdout",
       "text": [
        "\n",
        "TimeFrame(start='2011-04-21 19:41:30-04:00', end='2011-04-21 19:41:39-04:00', empty=False)"
       ]
      },
      {
       "output_type": "stream",
       "stream": "stdout",
       "text": [
        "\n",
        "TimeFrame(start='2011-04-22 22:48:34-04:00', end='2011-04-22 22:48:43-04:00', empty=False)"
       ]
      },
      {
       "output_type": "stream",
       "stream": "stdout",
       "text": [
        "\n",
        "TimeFrame(start='2011-04-24 03:52:28-04:00', end='2011-04-24 03:52:54-04:00', empty=False)"
       ]
      },
      {
       "output_type": "stream",
       "stream": "stdout",
       "text": [
        "\n",
        "TimeFrame(start='2011-04-27 02:51:25-04:00', end='2011-04-27 02:51:28-04:00', empty=False)"
       ]
      },
      {
       "output_type": "stream",
       "stream": "stdout",
       "text": [
        "\n",
        "TimeFrame(start='2011-04-27 03:21:19-04:00', end='2011-04-27 03:21:23-04:00', empty=False)"
       ]
      },
      {
       "output_type": "stream",
       "stream": "stdout",
       "text": [
        "\n",
        "TimeFrame(start='2011-04-29 23:10:38-04:00', end='2011-04-29 23:10:57-04:00', empty=False)"
       ]
      },
      {
       "output_type": "stream",
       "stream": "stdout",
       "text": [
        "\n",
        "TimeFrame(start='2011-05-01 09:47:22-04:00', end='2011-05-01 09:47:25-04:00', empty=False)"
       ]
      },
      {
       "output_type": "stream",
       "stream": "stdout",
       "text": [
        "\n",
        "TimeFrame(start='2011-05-02 17:07:31-04:00', end='2011-05-02 17:07:34-04:00', empty=False)"
       ]
      },
      {
       "output_type": "stream",
       "stream": "stdout",
       "text": [
        "\n",
        "TimeFrame(start='2011-05-06 10:51:50-04:00', end='2011-05-06 10:52:31-04:00', empty=False)"
       ]
      },
      {
       "output_type": "stream",
       "stream": "stdout",
       "text": [
        "\n",
        "TimeFrame(start='2011-05-07 02:40:47-04:00', end='2011-05-07 02:40:51-04:00', empty=False)"
       ]
      },
      {
       "output_type": "stream",
       "stream": "stdout",
       "text": [
        "\n",
        "TimeFrame(start='2011-05-11 03:19:47-04:00', end='2011-05-11 03:20:08-04:00', empty=False)"
       ]
      },
      {
       "output_type": "stream",
       "stream": "stdout",
       "text": [
        "\n",
        "TimeFrame(start='2011-05-12 20:14:31-04:00', end='2011-05-12 20:14:34-04:00', empty=False)"
       ]
      },
      {
       "output_type": "stream",
       "stream": "stdout",
       "text": [
        "\n",
        "TimeFrame(start='2011-05-22 16:04:50-04:00', end='2011-05-22 16:04:54-04:00', empty=False)"
       ]
      },
      {
       "output_type": "stream",
       "stream": "stdout",
       "text": [
        "\n",
        "TimeFrame(start='2011-05-22 23:41:39-04:00', end='2011-05-22 23:42:01-04:00', empty=False)\n",
        "TimeFrame(start='2011-05-23 10:31:34-04:00', end='2011-05-23 10:31:38-04:00', empty=False)"
       ]
      },
      {
       "output_type": "stream",
       "stream": "stdout",
       "text": [
        "\n",
        "TimeFrame(start='2011-04-18 09:23:00-04:00', end='2011-04-18 09:24:00-04:00', empty=False)"
       ]
      },
      {
       "output_type": "stream",
       "stream": "stdout",
       "text": [
        "\n",
        "TimeFrame(start='2011-04-18 14:04:00-04:00', end='2011-04-18 14:05:00-04:00', empty=False)\n",
        "TimeFrame(start='2011-04-19 20:21:00-04:00', end='2011-04-19 20:22:00-04:00', empty=False)"
       ]
      },
      {
       "output_type": "stream",
       "stream": "stdout",
       "text": [
        "\n",
        "TimeFrame(start='2011-04-20 02:28:00-04:00', end='2011-04-20 02:29:00-04:00', empty=False)\n",
        "TimeFrame(start='2011-04-21 06:18:00-04:00', end='2011-04-21 06:19:00-04:00', empty=False)"
       ]
      },
      {
       "output_type": "stream",
       "stream": "stdout",
       "text": [
        "\n",
        "TimeFrame(start='2011-04-21 19:42:00-04:00', end='2011-04-21 19:43:00-04:00', empty=False)\n",
        "TimeFrame(start='2011-04-22 22:49:00-04:00', end='2011-04-22 22:50:00-04:00', empty=False)"
       ]
      },
      {
       "output_type": "stream",
       "stream": "stdout",
       "text": [
        "\n",
        "TimeFrame(start='2011-04-24 03:53:00-04:00', end='2011-04-24 03:54:00-04:00', empty=False)\n",
        "TimeFrame(start='2011-04-27 03:22:00-04:00', end='2011-04-27 03:23:00-04:00', empty=False)"
       ]
      },
      {
       "output_type": "stream",
       "stream": "stdout",
       "text": [
        "\n",
        "TimeFrame(start='2011-04-29 23:11:00-04:00', end='2011-04-29 23:12:00-04:00', empty=False)\n",
        "TimeFrame(start='2011-05-01 09:48:00-04:00', end='2011-05-01 09:49:00-04:00', empty=False)"
       ]
      },
      {
       "output_type": "stream",
       "stream": "stdout",
       "text": [
        "\n",
        "TimeFrame(start='2011-05-02 17:08:00-04:00', end='2011-05-02 17:09:00-04:00', empty=False)\n",
        "TimeFrame(start='2011-05-06 10:52:00-04:00', end='2011-05-06 10:53:00-04:00', empty=False)\n",
        "TimeFrame(start='2011-05-07 02:41:00-04:00', end='2011-05-07 02:42:00-04:00', empty=False)"
       ]
      },
      {
       "output_type": "stream",
       "stream": "stdout",
       "text": [
        "\n",
        "TimeFrame(start='2011-05-11 03:20:00-04:00', end='2011-05-11 03:21:00-04:00', empty=False)\n",
        "TimeFrame(start='2011-05-12 20:15:00-04:00', end='2011-05-12 20:16:00-04:00', empty=False)\n",
        "TimeFrame(start='2011-05-22 16:05:00-04:00', end='2011-05-22 16:06:00-04:00', empty=False)"
       ]
      },
      {
       "output_type": "stream",
       "stream": "stdout",
       "text": [
        "\n",
        "TimeFrame(start='2011-05-22 23:42:00-04:00', end='2011-05-22 23:43:00-04:00', empty=False)\n",
        "TimeFrame(start='2011-05-23 10:32:00-04:00', end='2011-05-23 10:33:00-04:00', empty=False)\n",
        "TimeFrame(start='2011-04-18 09:22:13-04:00', end='2011-04-18 09:22:16-04:00', empty=False)"
       ]
      },
      {
       "output_type": "stream",
       "stream": "stdout",
       "text": [
        "\n",
        "TimeFrame(start='2011-04-18 14:03:11-04:00', end='2011-04-18 14:03:30-04:00', empty=False)"
       ]
      },
      {
       "output_type": "stream",
       "stream": "stdout",
       "text": [
        "\n",
        "TimeFrame(start='2011-04-19 20:20:09-04:00', end='2011-04-19 20:20:18-04:00', empty=False)"
       ]
      },
      {
       "output_type": "stream",
       "stream": "stdout",
       "text": [
        "\n",
        "TimeFrame(start='2011-04-20 01:55:37-04:00', end='2011-04-20 01:55:40-04:00', empty=False)"
       ]
      },
      {
       "output_type": "stream",
       "stream": "stdout",
       "text": [
        "\n",
        "TimeFrame(start='2011-04-21 06:17:22-04:00', end='2011-04-21 06:17:40-04:00', empty=False)"
       ]
      },
      {
       "output_type": "stream",
       "stream": "stdout",
       "text": [
        "\n",
        "TimeFrame(start='2011-04-21 19:41:30-04:00', end='2011-04-21 19:41:39-04:00', empty=False)"
       ]
      },
      {
       "output_type": "stream",
       "stream": "stdout",
       "text": [
        "\n",
        "TimeFrame(start='2011-04-22 22:48:34-04:00', end='2011-04-22 22:48:43-04:00', empty=False)"
       ]
      },
      {
       "output_type": "stream",
       "stream": "stdout",
       "text": [
        "\n",
        "TimeFrame(start='2011-04-24 03:52:28-04:00', end='2011-04-24 03:52:54-04:00', empty=False)"
       ]
      },
      {
       "output_type": "stream",
       "stream": "stdout",
       "text": [
        "\n",
        "TimeFrame(start='2011-04-27 02:51:25-04:00', end='2011-04-27 02:51:28-04:00', empty=False)"
       ]
      },
      {
       "output_type": "stream",
       "stream": "stdout",
       "text": [
        "\n",
        "TimeFrame(start='2011-04-27 03:21:19-04:00', end='2011-04-27 03:21:23-04:00', empty=False)"
       ]
      },
      {
       "output_type": "stream",
       "stream": "stdout",
       "text": [
        "\n",
        "TimeFrame(start='2011-04-29 23:10:38-04:00', end='2011-04-29 23:10:57-04:00', empty=False)"
       ]
      },
      {
       "output_type": "stream",
       "stream": "stdout",
       "text": [
        "\n",
        "TimeFrame(start='2011-05-01 09:47:22-04:00', end='2011-05-01 09:47:25-04:00', empty=False)"
       ]
      },
      {
       "output_type": "stream",
       "stream": "stdout",
       "text": [
        "\n",
        "TimeFrame(start='2011-05-02 17:07:31-04:00', end='2011-05-02 17:07:34-04:00', empty=False)"
       ]
      },
      {
       "output_type": "stream",
       "stream": "stdout",
       "text": [
        "\n",
        "TimeFrame(start='2011-05-06 10:51:50-04:00', end='2011-05-06 10:52:31-04:00', empty=False)"
       ]
      },
      {
       "output_type": "stream",
       "stream": "stdout",
       "text": [
        "\n",
        "TimeFrame(start='2011-05-07 02:40:47-04:00', end='2011-05-07 02:40:51-04:00', empty=False)"
       ]
      },
      {
       "output_type": "stream",
       "stream": "stdout",
       "text": [
        "\n",
        "TimeFrame(start='2011-05-11 03:19:47-04:00', end='2011-05-11 03:20:08-04:00', empty=False)"
       ]
      },
      {
       "output_type": "stream",
       "stream": "stdout",
       "text": [
        "\n",
        "TimeFrame(start='2011-05-12 20:14:31-04:00', end='2011-05-12 20:14:34-04:00', empty=False)"
       ]
      },
      {
       "output_type": "stream",
       "stream": "stdout",
       "text": [
        "\n",
        "TimeFrame(start='2011-05-22 16:04:50-04:00', end='2011-05-22 16:04:54-04:00', empty=False)"
       ]
      },
      {
       "output_type": "stream",
       "stream": "stdout",
       "text": [
        "\n",
        "TimeFrame(start='2011-05-22 23:41:39-04:00', end='2011-05-22 23:42:01-04:00', empty=False)\n",
        "TimeFrame(start='2011-05-23 10:31:34-04:00', end='2011-05-23 10:31:38-04:00', empty=False)"
       ]
      },
      {
       "output_type": "stream",
       "stream": "stdout",
       "text": [
        "\n",
        "TimeFrame(start='2011-04-18 09:22:13-04:00', end='2011-04-18 09:22:16-04:00', empty=False)"
       ]
      },
      {
       "output_type": "stream",
       "stream": "stdout",
       "text": [
        "\n",
        "TimeFrame(start='2011-04-18 14:03:11-04:00', end='2011-04-18 14:03:30-04:00', empty=False)"
       ]
      },
      {
       "output_type": "stream",
       "stream": "stdout",
       "text": [
        "\n",
        "TimeFrame(start='2011-04-19 20:20:09-04:00', end='2011-04-19 20:20:18-04:00', empty=False)"
       ]
      },
      {
       "output_type": "stream",
       "stream": "stdout",
       "text": [
        "\n",
        "TimeFrame(start='2011-04-20 01:55:37-04:00', end='2011-04-20 01:55:40-04:00', empty=False)"
       ]
      },
      {
       "output_type": "stream",
       "stream": "stdout",
       "text": [
        "\n",
        "TimeFrame(start='2011-04-21 06:17:22-04:00', end='2011-04-21 06:17:40-04:00', empty=False)"
       ]
      },
      {
       "output_type": "stream",
       "stream": "stdout",
       "text": [
        "\n",
        "TimeFrame(start='2011-04-21 19:41:30-04:00', end='2011-04-21 19:41:39-04:00', empty=False)"
       ]
      },
      {
       "output_type": "stream",
       "stream": "stdout",
       "text": [
        "\n",
        "TimeFrame(start='2011-04-22 22:48:34-04:00', end='2011-04-22 22:48:43-04:00', empty=False)"
       ]
      },
      {
       "output_type": "stream",
       "stream": "stdout",
       "text": [
        "\n",
        "TimeFrame(start='2011-04-24 03:52:28-04:00', end='2011-04-24 03:52:54-04:00', empty=False)"
       ]
      },
      {
       "output_type": "stream",
       "stream": "stdout",
       "text": [
        "\n",
        "TimeFrame(start='2011-04-27 02:51:25-04:00', end='2011-04-27 02:51:28-04:00', empty=False)"
       ]
      },
      {
       "output_type": "stream",
       "stream": "stdout",
       "text": [
        "\n",
        "TimeFrame(start='2011-04-27 03:21:19-04:00', end='2011-04-27 03:21:23-04:00', empty=False)"
       ]
      },
      {
       "output_type": "stream",
       "stream": "stdout",
       "text": [
        "\n",
        "TimeFrame(start='2011-04-29 23:10:38-04:00', end='2011-04-29 23:10:57-04:00', empty=False)"
       ]
      },
      {
       "output_type": "stream",
       "stream": "stdout",
       "text": [
        "\n",
        "TimeFrame(start='2011-05-01 09:47:22-04:00', end='2011-05-01 09:47:25-04:00', empty=False)"
       ]
      },
      {
       "output_type": "stream",
       "stream": "stdout",
       "text": [
        "\n",
        "TimeFrame(start='2011-05-02 17:07:31-04:00', end='2011-05-02 17:07:34-04:00', empty=False)"
       ]
      },
      {
       "output_type": "stream",
       "stream": "stdout",
       "text": [
        "\n",
        "TimeFrame(start='2011-05-06 10:51:50-04:00', end='2011-05-06 10:52:31-04:00', empty=False)"
       ]
      },
      {
       "output_type": "stream",
       "stream": "stdout",
       "text": [
        "\n",
        "TimeFrame(start='2011-05-07 02:40:47-04:00', end='2011-05-07 02:40:51-04:00', empty=False)"
       ]
      },
      {
       "output_type": "stream",
       "stream": "stdout",
       "text": [
        "\n",
        "TimeFrame(start='2011-05-11 03:19:47-04:00', end='2011-05-11 03:20:08-04:00', empty=False)"
       ]
      },
      {
       "output_type": "stream",
       "stream": "stdout",
       "text": [
        "\n",
        "TimeFrame(start='2011-05-12 20:14:31-04:00', end='2011-05-12 20:14:34-04:00', empty=False)"
       ]
      },
      {
       "output_type": "stream",
       "stream": "stdout",
       "text": [
        "\n",
        "TimeFrame(start='2011-05-22 16:04:50-04:00', end='2011-05-22 16:04:54-04:00', empty=False)"
       ]
      },
      {
       "output_type": "stream",
       "stream": "stdout",
       "text": [
        "\n",
        "TimeFrame(start='2011-05-22 23:41:39-04:00', end='2011-05-22 23:42:01-04:00', empty=False)\n",
        "TimeFrame(start='2011-05-23 10:31:34-04:00', end='2011-05-23 10:31:38-04:00', empty=False)"
       ]
      },
      {
       "output_type": "stream",
       "stream": "stdout",
       "text": [
        "\n",
        "TimeFrame(start='2011-04-18 09:23:00-04:00', end='2011-04-18 09:24:00-04:00', empty=False)"
       ]
      },
      {
       "output_type": "stream",
       "stream": "stdout",
       "text": [
        "\n",
        "TimeFrame(start='2011-04-18 14:04:00-04:00', end='2011-04-18 14:05:00-04:00', empty=False)\n",
        "TimeFrame(start='2011-04-19 20:21:00-04:00', end='2011-04-19 20:22:00-04:00', empty=False)"
       ]
      },
      {
       "output_type": "stream",
       "stream": "stdout",
       "text": [
        "\n",
        "TimeFrame(start='2011-04-20 02:28:00-04:00', end='2011-04-20 02:29:00-04:00', empty=False)\n",
        "TimeFrame(start='2011-04-21 06:18:00-04:00', end='2011-04-21 06:19:00-04:00', empty=False)"
       ]
      },
      {
       "output_type": "stream",
       "stream": "stdout",
       "text": [
        "\n",
        "TimeFrame(start='2011-04-21 19:42:00-04:00', end='2011-04-21 19:43:00-04:00', empty=False)\n",
        "TimeFrame(start='2011-04-22 22:49:00-04:00', end='2011-04-22 22:50:00-04:00', empty=False)"
       ]
      },
      {
       "output_type": "stream",
       "stream": "stdout",
       "text": [
        "\n",
        "TimeFrame(start='2011-04-24 03:53:00-04:00', end='2011-04-24 03:54:00-04:00', empty=False)\n",
        "TimeFrame(start='2011-04-27 03:22:00-04:00', end='2011-04-27 03:23:00-04:00', empty=False)"
       ]
      },
      {
       "output_type": "stream",
       "stream": "stdout",
       "text": [
        "\n",
        "TimeFrame(start='2011-04-29 23:11:00-04:00', end='2011-04-29 23:12:00-04:00', empty=False)\n",
        "TimeFrame(start='2011-05-01 09:48:00-04:00', end='2011-05-01 09:49:00-04:00', empty=False)"
       ]
      },
      {
       "output_type": "stream",
       "stream": "stdout",
       "text": [
        "\n",
        "TimeFrame(start='2011-05-02 17:08:00-04:00', end='2011-05-02 17:09:00-04:00', empty=False)\n",
        "TimeFrame(start='2011-05-06 10:52:00-04:00', end='2011-05-06 10:53:00-04:00', empty=False)\n",
        "TimeFrame(start='2011-05-07 02:41:00-04:00', end='2011-05-07 02:42:00-04:00', empty=False)"
       ]
      },
      {
       "output_type": "stream",
       "stream": "stdout",
       "text": [
        "\n",
        "TimeFrame(start='2011-05-11 03:20:00-04:00', end='2011-05-11 03:21:00-04:00', empty=False)\n",
        "TimeFrame(start='2011-05-12 20:15:00-04:00', end='2011-05-12 20:16:00-04:00', empty=False)\n",
        "TimeFrame(start='2011-05-22 16:05:00-04:00', end='2011-05-22 16:06:00-04:00', empty=False)"
       ]
      },
      {
       "output_type": "stream",
       "stream": "stdout",
       "text": [
        "\n",
        "TimeFrame(start='2011-05-22 23:42:00-04:00', end='2011-05-22 23:43:00-04:00', empty=False)\n",
        "TimeFrame(start='2011-05-23 10:32:00-04:00', end='2011-05-23 10:33:00-04:00', empty=False)\n"
       ]
      }
     ],
     "prompt_number": 7
    },
    {
     "cell_type": "code",
     "collapsed": false,
     "input": [
      "errors"
     ],
     "language": "python",
     "metadata": {},
     "outputs": [
      {
       "metadata": {},
       "output_type": "pyout",
       "prompt_number": 8,
       "text": [
        "5            7.250376\n",
        "6            1.743792\n",
        "7            4.037591\n",
        "8            6.418041\n",
        "9            2.352815\n",
        "11           0.661055\n",
        "12          13.695720\n",
        "13           3.031163\n",
        "14           8.804081\n",
        "15           5.888153\n",
        "16           7.379035\n",
        "17           7.006063\n",
        "18           5.055786\n",
        "19           0.000033\n",
        "(3, 4)       2.689063\n",
        "(10, 20)     5.880746\n",
        "dtype: float64"
       ]
      }
     ],
     "prompt_number": 8
    },
    {
     "cell_type": "code",
     "collapsed": false,
     "input": [
      "fraction = metrics.fraction_energy_assigned_correctly(predictions_metergroup, ground_truth_metergroup)\n",
      "fraction"
     ],
     "language": "python",
     "metadata": {},
     "outputs": [
      {
       "output_type": "stream",
       "stream": "stdout",
       "text": [
        "TimeFrame(start='2011-04-18 09:22:00-04:00', end='2011-04-18 09:23:00-04:00', empty=False)\n",
        "TimeFrame(start='2011-04-18 09:22:00-04:00', end='2011-04-18 09:23:00-04:00', empty=False)\n",
        "TimeFrame(start='2011-04-18 09:22:00-04:00', end='2011-04-18 09:23:00-04:00', empty=False)"
       ]
      },
      {
       "output_type": "stream",
       "stream": "stdout",
       "text": [
        "\n",
        "TimeFrame(start='2011-04-18 09:22:00-04:00', end='2011-04-18 09:23:00-04:00', empty=False)\n",
        "TimeFrame(start='2011-04-18 09:22:00-04:00', end='2011-04-18 09:23:00-04:00', empty=False)"
       ]
      },
      {
       "output_type": "stream",
       "stream": "stdout",
       "text": [
        "\n",
        "TimeFrame(start='2011-04-18 09:22:00-04:00', end='2011-04-18 09:23:00-04:00', empty=False)\n",
        "TimeFrame(start='2011-04-18 09:22:00-04:00', end='2011-04-18 09:23:00-04:00', empty=False)"
       ]
      },
      {
       "output_type": "stream",
       "stream": "stdout",
       "text": [
        "\n",
        "TimeFrame(start='2011-04-18 09:22:00-04:00', end='2011-04-18 09:23:00-04:00', empty=False)\n",
        "TimeFrame(start='2011-04-18 09:22:00-04:00', end='2011-04-18 09:23:00-04:00', empty=False)"
       ]
      },
      {
       "output_type": "stream",
       "stream": "stdout",
       "text": [
        "\n",
        "TimeFrame(start='2011-04-18 09:22:00-04:00', end='2011-04-18 09:23:00-04:00', empty=False)\n",
        "TimeFrame(start='2011-04-18 09:22:00-04:00', end='2011-04-18 09:23:00-04:00', empty=False)"
       ]
      },
      {
       "output_type": "stream",
       "stream": "stdout",
       "text": [
        "\n",
        "TimeFrame(start='2011-04-18 09:22:00-04:00', end='2011-04-18 09:23:00-04:00', empty=False)\n",
        "TimeFrame(start='2011-04-18 09:22:00-04:00', end='2011-04-18 09:23:00-04:00', empty=False)\n",
        "TimeFrame(start='2011-04-18 09:22:00-04:00', end='2011-04-18 09:23:00-04:00', empty=False)"
       ]
      },
      {
       "output_type": "stream",
       "stream": "stdout",
       "text": [
        "\n",
        "TimeFrame(start='2011-04-18 09:22:00-04:00', end='2011-04-18 09:23:00-04:00', empty=False)\n",
        "TimeFrame(start='2011-04-18 09:22:00-04:00', end='2011-04-18 09:23:00-04:00', empty=False)\n",
        "TimeFrame(start='2011-04-18 09:22:13-04:00', end='2011-04-18 09:22:16-04:00', empty=False)"
       ]
      },
      {
       "output_type": "stream",
       "stream": "stdout",
       "text": [
        "\n",
        "TimeFrame(start='2011-04-18 09:22:13-04:00', end='2011-04-18 09:22:16-04:00', empty=False)"
       ]
      },
      {
       "output_type": "stream",
       "stream": "stdout",
       "text": [
        "\n",
        "TimeFrame(start='2011-04-18 09:22:13-04:00', end='2011-04-18 09:22:16-04:00', empty=False)"
       ]
      },
      {
       "output_type": "stream",
       "stream": "stdout",
       "text": [
        "\n",
        "TimeFrame(start='2011-04-18 09:22:13-04:00', end='2011-04-18 09:22:16-04:00', empty=False)"
       ]
      },
      {
       "output_type": "stream",
       "stream": "stdout",
       "text": [
        "\n",
        "TimeFrame(start='2011-04-18 09:22:13-04:00', end='2011-04-18 09:22:16-04:00', empty=False)"
       ]
      },
      {
       "output_type": "stream",
       "stream": "stdout",
       "text": [
        "\n",
        "TimeFrame(start='2011-04-18 09:22:13-04:00', end='2011-04-18 09:22:16-04:00', empty=False)"
       ]
      },
      {
       "output_type": "stream",
       "stream": "stdout",
       "text": [
        "\n",
        "TimeFrame(start='2011-04-18 09:22:13-04:00', end='2011-04-18 09:22:16-04:00', empty=False)"
       ]
      },
      {
       "output_type": "stream",
       "stream": "stdout",
       "text": [
        "\n",
        "TimeFrame(start='2011-04-18 09:22:13-04:00', end='2011-04-18 09:22:16-04:00', empty=False)"
       ]
      },
      {
       "output_type": "stream",
       "stream": "stdout",
       "text": [
        "\n",
        "TimeFrame(start='2011-04-18 09:22:13-04:00', end='2011-04-18 09:22:16-04:00', empty=False)"
       ]
      },
      {
       "output_type": "stream",
       "stream": "stdout",
       "text": [
        "\n",
        "TimeFrame(start='2011-04-18 09:22:13-04:00', end='2011-04-18 09:22:16-04:00', empty=False)"
       ]
      },
      {
       "output_type": "stream",
       "stream": "stdout",
       "text": [
        "\n",
        "TimeFrame(start='2011-04-18 09:22:13-04:00', end='2011-04-18 09:22:16-04:00', empty=False)"
       ]
      },
      {
       "output_type": "stream",
       "stream": "stdout",
       "text": [
        "\n",
        "TimeFrame(start='2011-04-18 09:22:13-04:00', end='2011-04-18 09:22:16-04:00', empty=False)"
       ]
      },
      {
       "output_type": "stream",
       "stream": "stdout",
       "text": [
        "\n",
        "TimeFrame(start='2011-04-18 09:22:13-04:00', end='2011-04-18 09:22:16-04:00', empty=False)"
       ]
      },
      {
       "output_type": "stream",
       "stream": "stdout",
       "text": [
        "\n",
        "TimeFrame(start='2011-04-18 09:22:13-04:00', end='2011-04-18 09:22:16-04:00', empty=False)"
       ]
      },
      {
       "output_type": "stream",
       "stream": "stdout",
       "text": [
        "\n",
        "TimeFrame(start='2011-04-18 09:22:13-04:00', end='2011-04-18 09:22:16-04:00', empty=False)"
       ]
      },
      {
       "output_type": "stream",
       "stream": "stdout",
       "text": [
        "\n",
        "TimeFrame(start='2011-04-18 09:22:13-04:00', end='2011-04-18 09:22:16-04:00', empty=False)"
       ]
      },
      {
       "output_type": "stream",
       "stream": "stdout",
       "text": [
        "\n",
        "TimeFrame(start='2011-04-18 09:22:13-04:00', end='2011-04-18 09:22:16-04:00', empty=False)"
       ]
      },
      {
       "output_type": "stream",
       "stream": "stdout",
       "text": [
        "\n",
        "TimeFrame(start='2011-04-18 09:22:13-04:00', end='2011-04-18 09:22:16-04:00', empty=False)"
       ]
      },
      {
       "output_type": "stream",
       "stream": "stdout",
       "text": [
        "\n"
       ]
      },
      {
       "metadata": {},
       "output_type": "pyout",
       "prompt_number": 9,
       "text": [
        "0.74121929523700858"
       ]
      }
     ],
     "prompt_number": 9
    },
    {
     "cell_type": "code",
     "collapsed": false,
     "input": [
      "mne = metrics.mean_normalized_error_power(predictions_metergroup, ground_truth_metergroup)\n",
      "mne"
     ],
     "language": "python",
     "metadata": {},
     "outputs": [
      {
       "metadata": {},
       "output_type": "pyout",
       "prompt_number": 3,
       "text": [
        "5             0.962096\n",
        "6             1.619474\n",
        "7             0.447724\n",
        "8             0.695128\n",
        "9             0.741031\n",
        "11            1.571353\n",
        "12            6.226984\n",
        "13           55.373225\n",
        "14          176.195009\n",
        "15            4.049207\n",
        "16            9.995547\n",
        "17            2.096691\n",
        "18            2.040126\n",
        "19            1.000000\n",
        "(3, 4)        2.105052\n",
        "(10, 20)      0.584508\n",
        "dtype: float64"
       ]
      }
     ],
     "prompt_number": 3
    },
    {
     "cell_type": "code",
     "collapsed": false,
     "input": [
      "rms_error = metrics.rms_error_power(predictions_metergroup, ground_truth_metergroup)\n",
      "rms_error"
     ],
     "language": "python",
     "metadata": {},
     "outputs": [
      {
       "metadata": {},
       "output_type": "pyout",
       "prompt_number": 4,
       "text": [
        "5            98.328120\n",
        "6           176.584842\n",
        "7            13.935285\n",
        "8            26.067940\n",
        "9            50.690155\n",
        "11          190.312771\n",
        "12          146.574397\n",
        "13            9.188827\n",
        "14          136.211012\n",
        "15          149.817818\n",
        "16          174.649488\n",
        "17           49.406151\n",
        "18           37.284800\n",
        "19            0.007764\n",
        "(3, 4)      227.366786\n",
        "(10, 20)    176.503204\n",
        "dtype: float64"
       ]
      }
     ],
     "prompt_number": 4
    },
    {
     "cell_type": "code",
     "collapsed": false,
     "input": [
      "from nilmtk import metrics\n",
      "f1 = metrics.f1_score(predictions_metergroup, ground_truth_metergroup)\n",
      "f1"
     ],
     "language": "python",
     "metadata": {},
     "outputs": [
      {
       "output_type": "stream",
       "stream": "stderr",
       "text": [
        "/usr/local/lib/python2.7/dist-packages/sklearn/metrics/metrics.py:1249: UserWarning: The sum of true positives and false positives are equal to zero for some labels. Precision is ill defined for those labels [1]. The precision and recall are equal to zero for some labels. fbeta_score is ill defined for those labels [1]. \n",
        "  average=average)\n",
        "/usr/local/lib/python2.7/dist-packages/sklearn/metrics/metrics.py:1249: UserWarning: The sum of true positives and false positives are equal to zero for some labels. Precision is ill defined for those labels [0]. The precision and recall are equal to zero for some labels. fbeta_score is ill defined for those labels [0]. \n",
        "  average=average)\n"
       ]
      },
      {
       "output_type": "stream",
       "stream": "stderr",
       "text": [
        "/usr/local/lib/python2.7/dist-packages/sklearn/metrics/metrics.py:1249: UserWarning: The precision and recall are equal to zero for some labels. fbeta_score is ill defined for those labels [0]. \n",
        "  average=average)\n",
        "/usr/local/lib/python2.7/dist-packages/sklearn/metrics/metrics.py:1249: UserWarning: The precision and recall are equal to zero for some labels. fbeta_score is ill defined for those labels [1]. \n",
        "  average=average)\n"
       ]
      },
      {
       "output_type": "stream",
       "stream": "stderr",
       "text": [
        "/usr/local/lib/python2.7/dist-packages/sklearn/metrics/metrics.py:1249: UserWarning: The sum of true positives and false negatives are equal to zero for some labels. Recall is ill defined for those labels [1]. The precision and recall are equal to zero for some labels. fbeta_score is ill defined for those labels [1]. \n",
        "  average=average)\n"
       ]
      },
      {
       "metadata": {},
       "output_type": "pyout",
       "prompt_number": 5,
       "text": [
        "5           0.616173\n",
        "6           0.081353\n",
        "7           0.723777\n",
        "8           0.647695\n",
        "9           0.643429\n",
        "11          0.185846\n",
        "12          0.061215\n",
        "13          0.001644\n",
        "14          0.000000\n",
        "15          0.124658\n",
        "16          0.029418\n",
        "17          0.269020\n",
        "18          0.276048\n",
        "19          0.000000\n",
        "(3, 4)      0.059182\n",
        "(10, 20)    0.284728\n",
        "dtype: float64"
       ]
      }
     ],
     "prompt_number": 5
    },
    {
     "cell_type": "code",
     "collapsed": false,
     "input": [],
     "language": "python",
     "metadata": {},
     "outputs": []
    }
   ],
   "metadata": {}
  }
 ]
}