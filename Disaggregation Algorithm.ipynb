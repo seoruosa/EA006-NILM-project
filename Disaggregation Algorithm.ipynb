{
 "cells": [
  {
   "cell_type": "code",
   "execution_count": 23,
   "metadata": {
    "collapsed": false
   },
   "outputs": [
    {
     "name": "stdout",
     "output_type": "stream",
     "text": [
      "Loading data for meter ElecMeterID(instance=2, building=1, dataset='REDD')     \n",
      "Done loading data all meters for this chunk.\n",
      "15/16 MeterGroup(meters=\n",
      "  ElecMeter(instance=3, building=1, dataset='REDD', appliances=[Appliance(type='electric oven', instance=1)])\n",
      "  ElecMeter(instance=4, building=1, dataset='REDD', appliances=[Appliance(type='electric oven', instance=1)])\n",
      "16/16 MeterGroup(meters=\n",
      "  ElecMeter(instance=10, building=1, dataset='REDD', appliances=[Appliance(type='washer dryer', instance=1)])\n",
      "  ElecMeter(instance=20, building=1, dataset='REDD', appliances=[Appliance(type='washer dryer', instance=1)])\n",
      "Calculating total_energy for ElecMeterID(instance=20, building=1, dataset='REDD') ...   "
     ]
    }
   ],
   "source": [
    "from sklearn.tree import DecisionTreeRegressor\n",
    "import nilmtk\n",
    "from nilmtk import DataSet, TimeFrame\n",
    "import math\n",
    "\n",
    "\n",
    "train = DataSet('/nilmtk/data/REDD/redd.h5') \n",
    "test = DataSet('/nilmtk/data/REDD/redd.h5') \n",
    "building_number = 1\n",
    "\n",
    "mains = train.buildings[building_number].elec.mains()\n",
    "df_all = mains.power_series_all_data() #df_all has a bunch of NaNs\n",
    "df_all_noNan = df_all.dropna()\n",
    "a = df_all_noNan.keys()\n",
    "middleTime = a[int(math.floor(a.size/2))]\n",
    "middleTimeStr = \"%d-%02d-%02d %02d:%02d:%02d\" % (middleTime.year, middleTime.month, middleTime.day, middleTime.hour, middleTime.minute, middleTime.second)\n",
    "\n",
    "train.set_window(end=middleTimeStr)\n",
    "test.set_window(start=middleTimeStr)\n",
    "\n",
    "train_elec = train.buildings[building_number].elec\n",
    "test_elec = test.buildings[building_number].elec\n",
    "\n",
    "top_train_elec = train_elec.submeters().select_top_k(k=5)"
   ]
  },
  {
   "cell_type": "code",
   "execution_count": 2,
   "metadata": {
    "collapsed": false
   },
   "outputs": [
    {
     "name": "stdout",
     "output_type": "stream",
     "text": [
      "Training model for submeter 'ElecMeter(instance=5, building=1, dataset='REDD', appliances=[Appliance(type='fridge', instance=1)])'\n",
      "Training model for submeter 'ElecMeter(instance=11, building=1, dataset='REDD', appliances=[Appliance(type='microwave', instance=1)])'\n",
      "Training model for submeter 'ElecMeter(instance=8, building=1, dataset='REDD', appliances=[Appliance(type='sockets', instance=2)])'\n",
      "Training model for submeter 'ElecMeter(instance=9, building=1, dataset='REDD', appliances=[Appliance(type='light', instance=1)])'\n",
      "Training model for submeter 'ElecMeter(instance=6, building=1, dataset='REDD', appliances=[Appliance(type='dish washer', instance=1)])'\n",
      "Done training!\n"
     ]
    }
   ],
   "source": [
    "from nilmtk.disaggregate import CombinatorialOptimisation\n",
    "co = CombinatorialOptimisation() #mk change this later  to default\n",
    "co.train(top_train_elec, sample_period=60, resample=True)"
   ]
  },
  {
   "cell_type": "code",
   "execution_count": 89,
   "metadata": {
    "collapsed": false
   },
   "outputs": [
    {
     "name": "stdout",
     "output_type": "stream",
     "text": [
      "Loading data for meter ElecMeterID(instance=2, building=1, dataset='REDD')     \n",
      "Done loading data all meters for this chunk.\n"
     ]
    },
    {
     "ename": "TypeError",
     "evalue": "'list' object is not callable",
     "output_type": "error",
     "traceback": [
      "\u001b[1;31m---------------------------------------------------------------------------\u001b[0m",
      "\u001b[1;31mTypeError\u001b[0m                                 Traceback (most recent call last)",
      "\u001b[1;32m<ipython-input-89-52bdf684e897>\u001b[0m in \u001b[0;36m<module>\u001b[1;34m()\u001b[0m\n\u001b[0;32m     22\u001b[0m     \u001b[1;31m#print(\"{} -- {}\".format(x_train.shape,y_train.shape))\u001b[0m\u001b[1;33m\u001b[0m\u001b[1;33m\u001b[0m\u001b[0m\n\u001b[0;32m     23\u001b[0m     \u001b[1;31m#print(x_train.base)\u001b[0m\u001b[1;33m\u001b[0m\u001b[1;33m\u001b[0m\u001b[0m\n\u001b[1;32m---> 24\u001b[1;33m     \u001b[1;32mprint\u001b[0m\u001b[1;33m(\u001b[0m\u001b[0mtype\u001b[0m\u001b[1;33m(\u001b[0m\u001b[0mmeter\u001b[0m\u001b[1;33m.\u001b[0m\u001b[0mappliances\u001b[0m\u001b[1;33m(\u001b[0m\u001b[1;33m)\u001b[0m\u001b[1;33m)\u001b[0m\u001b[1;33m)\u001b[0m\u001b[1;33m\u001b[0m\u001b[0m\n\u001b[0m\u001b[0;32m     25\u001b[0m \u001b[1;33m\u001b[0m\u001b[0m\n\u001b[0;32m     26\u001b[0m     \u001b[1;31m#for split in min_samples_split:\u001b[0m\u001b[1;33m\u001b[0m\u001b[1;33m\u001b[0m\u001b[0m\n",
      "\u001b[1;31mTypeError\u001b[0m: 'list' object is not callable"
     ]
    }
   ],
   "source": [
    "#from nilmtk.disaggregate import DecisionTree\n",
    "import numpy as np\n",
    "from sklearn.tree import DecisionTreeRegressor\n",
    "\n",
    "#dt = DecisionTree()\n",
    "#dt.train(top_train_elec)\n",
    "metergroup = top_train_elec\n",
    "min_samples_split=np.arange(2, 400, 10)\n",
    "pred = {}\n",
    "\n",
    "mains_power_series = train_elec.mains().power_series(sample_period=60, resample=True)\n",
    "mains_chunk = next(mains_power_series)\n",
    "\n",
    "for i, meter in enumerate(metergroup.submeters().meters):\n",
    "    print(\"Training model for submeter '{}'\".format(meter))\n",
    "    \n",
    "    #power_series = meter.power_series(sample_period=60, resample=True) #**load_kwargs\n",
    "    #chunk = next(power_series)\n",
    "    #list_clfs = []\n",
    "    #losses = []\n",
    "    #x_train = mains_chunk.values\n",
    "    #y_train = chunk.values[:13546]\n",
    "    #print(\"{} -- {}\".format(x_train.shape,y_train.shape))\n",
    "    #print(x_train.base)\n",
    "    \n",
    "    \n",
    "    #for split in min_samples_split:\n",
    "        #clf = DecisionTreeRegressor(min_samples_split = split)\n",
    "        #clf.fit(x_train, y_train, check_input=False)"
   ]
  },
  {
   "cell_type": "code",
   "execution_count": 106,
   "metadata": {
    "collapsed": false
   },
   "outputs": [
    {
     "name": "stdout",
     "output_type": "stream",
     "text": [
      "Loading data for meter ElecMeterID(instance=4, building=1, dataset='REDD')     \n",
      "Done loading data all meters for this chunk.\n",
      "Loading data for meter ElecMeterID(instance=20, building=1, dataset='REDD')     \n",
      "Done loading data all meters for this chunk.\n",
      "DatetimeIndex(['2011-04-18 09:22:09-04:00', '2011-04-18 09:22:10-04:00',\n",
      "               '2011-04-18 09:22:11-04:00', '2011-04-18 09:22:12-04:00',\n",
      "               '2011-04-18 09:22:13-04:00', '2011-04-18 09:22:14-04:00',\n",
      "               '2011-04-18 09:22:15-04:00', '2011-04-18 09:22:16-04:00',\n",
      "               '2011-04-18 09:22:17-04:00', '2011-04-18 09:22:18-04:00', \n",
      "               ...\n",
      "               '2011-04-27 19:08:05-04:00', '2011-04-27 19:08:06-04:00',\n",
      "               '2011-04-27 19:08:07-04:00', '2011-04-27 19:08:08-04:00',\n",
      "               '2011-04-27 19:08:09-04:00', '2011-04-27 19:08:10-04:00',\n",
      "               '2011-04-27 19:08:11-04:00', '2011-04-27 19:08:12-04:00',\n",
      "               '2011-04-27 19:08:13-04:00', '2011-04-27 19:08:14-04:00'],\n",
      "              dtype='datetime64[ns]', length=812766, freq=None, tz='US/Eastern')\n",
      "DatetimeIndex(['2011-04-18 09:22:12-04:00', '2011-04-18 09:22:15-04:00',\n",
      "               '2011-04-18 09:22:18-04:00', '2011-04-18 09:22:21-04:00',\n",
      "               '2011-04-18 09:22:24-04:00', '2011-04-18 09:22:27-04:00',\n",
      "               '2011-04-18 09:22:30-04:00', '2011-04-18 09:22:33-04:00',\n",
      "               '2011-04-18 09:22:36-04:00', '2011-04-18 09:22:39-04:00', \n",
      "               ...\n",
      "               '2011-04-27 19:07:45-04:00', '2011-04-27 19:07:48-04:00',\n",
      "               '2011-04-27 19:07:51-04:00', '2011-04-27 19:07:54-04:00',\n",
      "               '2011-04-27 19:07:57-04:00', '2011-04-27 19:08:00-04:00',\n",
      "               '2011-04-27 19:08:03-04:00', '2011-04-27 19:08:06-04:00',\n",
      "               '2011-04-27 19:08:09-04:00', '2011-04-27 19:08:12-04:00'],\n",
      "              dtype='datetime64[ns]', length=270921, freq=None, tz='US/Eastern')\n"
     ]
    }
   ],
   "source": [
    "#print(train_elec.mains().dataframe_of_meters().shape) #meters #available_ac_types('power') #instance() #nested_metergroups #.appliances\n",
    "metergroup = train.buildings[building_number].elec\n",
    "#print(type(train_elec.mains().dataframe_of_meters()))\n",
    "#print(type(metergroup.submeters().dataframe_of_meters()))\n",
    "#print(metergroup.submeters().dataframe_of_meters().shape)\n",
    "\n",
    "main = train_elec.mains().dataframe_of_meters()\n",
    "meters = train.buildings[building_number].elec.submeters().dataframe_of_meters()\n",
    "print(main.index)\n",
    "print(meters.index)\n",
    "#joinMainMeters = meters.merge(main)\n",
    "\n",
    "#print(\"mains {} -- meters {} -- merged {}\".format(main.shape, meters.shape, joinMainMeters.shape))\n",
    "#choose data from mains and meters, that have data in both dataframes"
   ]
  }
 ],
 "metadata": {
  "kernelspec": {
   "display_name": "Python 2",
   "language": "python",
   "name": "python2"
  },
  "language_info": {
   "codemirror_mode": {
    "name": "ipython",
    "version": 2
   },
   "file_extension": ".py",
   "mimetype": "text/x-python",
   "name": "python",
   "nbconvert_exporter": "python",
   "pygments_lexer": "ipython2",
   "version": "2.7.11"
  }
 },
 "nbformat": 4,
 "nbformat_minor": 0
}
