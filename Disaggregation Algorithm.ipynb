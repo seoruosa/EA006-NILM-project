{
 "cells": [
  {
   "cell_type": "code",
   "execution_count": 3,
   "metadata": {
    "collapsed": false
   },
   "outputs": [
    {
     "name": "stderr",
     "output_type": "stream",
     "text": [
      "/opt/conda/lib/python2.7/site-packages/matplotlib/font_manager.py:273: UserWarning: Matplotlib is building the font cache using fc-list. This may take a moment.\n",
      "  warnings.warn('Matplotlib is building the font cache using fc-list. This may take a moment.')\n"
     ]
    },
    {
     "name": "stdout",
     "output_type": "stream",
     "text": [
      "Loading data for meter ElecMeterID(instance=2, building=1, dataset='REDD')     \n",
      "Done loading data all meters for this chunk.\n",
      "15/16 MeterGroup(meters=\n",
      "  ElecMeter(instance=3, building=1, dataset='REDD', appliances=[Appliance(type='electric oven', instance=1)])\n",
      "  ElecMeter(instance=4, building=1, dataset='REDD', appliances=[Appliance(type='electric oven', instance=1)])\n",
      "16/16 MeterGroup(meters=\n",
      "  ElecMeter(instance=10, building=1, dataset='REDD', appliances=[Appliance(type='washer dryer', instance=1)])\n",
      "  ElecMeter(instance=20, building=1, dataset='REDD', appliances=[Appliance(type='washer dryer', instance=1)])\n",
      "Calculating total_energy for ElecMeterID(instance=20, building=1, dataset='REDD') ...   "
     ]
    }
   ],
   "source": [
    "from sklearn.tree import DecisionTreeRegressor\n",
    "import nilmtk\n",
    "from nilmtk import DataSet, TimeFrame\n",
    "import math\n",
    "\n",
    "\n",
    "train = DataSet('/nilmtk/data/REDD/redd.h5') \n",
    "test = DataSet('/nilmtk/data/REDD/redd.h5') \n",
    "building_number = 1\n",
    "\n",
    "mains = train.buildings[building_number].elec.mains()\n",
    "df_all = mains.power_series_all_data() #df_all has a bunch of NaNs\n",
    "df_all_noNan = df_all.dropna()\n",
    "a = df_all_noNan.keys()\n",
    "middleTime = a[int(math.floor(a.size/2))]\n",
    "middleTimeStr = \"%d-%02d-%02d %02d:%02d:%02d\" % (middleTime.year, middleTime.month, middleTime.day, middleTime.hour, middleTime.minute, middleTime.second)\n",
    "\n",
    "train.set_window(end=middleTimeStr)\n",
    "test.set_window(start=middleTimeStr)\n",
    "\n",
    "train_elec = train.buildings[building_number].elec\n",
    "test_elec = test.buildings[building_number].elec\n",
    "\n",
    "top_train_elec = train_elec.submeters().select_top_k(k=5)"
   ]
  },
  {
   "cell_type": "code",
   "execution_count": 2,
   "metadata": {
    "collapsed": false
   },
   "outputs": [
    {
     "name": "stdout",
     "output_type": "stream",
     "text": [
      "Training model for submeter 'ElecMeter(instance=5, building=1, dataset='REDD', appliances=[Appliance(type='fridge', instance=1)])'\n",
      "Training model for submeter 'ElecMeter(instance=11, building=1, dataset='REDD', appliances=[Appliance(type='microwave', instance=1)])'\n",
      "Training model for submeter 'ElecMeter(instance=8, building=1, dataset='REDD', appliances=[Appliance(type='sockets', instance=2)])'\n",
      "Training model for submeter 'ElecMeter(instance=9, building=1, dataset='REDD', appliances=[Appliance(type='light', instance=1)])'\n",
      "Training model for submeter 'ElecMeter(instance=6, building=1, dataset='REDD', appliances=[Appliance(type='dish washer', instance=1)])'\n",
      "Done training!\n"
     ]
    }
   ],
   "source": [
    "from nilmtk.disaggregate import CombinatorialOptimisation\n",
    "co = CombinatorialOptimisation() #mk change this later  to default\n",
    "co.train(top_train_elec, sample_period=60, resample=True)"
   ]
  },
  {
   "cell_type": "code",
   "execution_count": 19,
   "metadata": {
    "collapsed": false
   },
   "outputs": [
    {
     "name": "stdout",
     "output_type": "stream",
     "text": [
      "Loading data for meter ElecMeterID(instance=2, building=1, dataset='REDD')     \n",
      "Done loading data all meters for this chunk.\n",
      "Training model for submeter 'ElecMeter(instance=5, building=1, dataset='REDD', appliances=[Appliance(type='fridge', instance=1)])'\n",
      "<class 'nilmtk.elecmeter.ElecMeter'>\n",
      "Training model for submeter 'ElecMeter(instance=11, building=1, dataset='REDD', appliances=[Appliance(type='microwave', instance=1)])'\n",
      "<class 'nilmtk.elecmeter.ElecMeter'>\n",
      "Training model for submeter 'ElecMeter(instance=8, building=1, dataset='REDD', appliances=[Appliance(type='sockets', instance=2)])'\n",
      "<class 'nilmtk.elecmeter.ElecMeter'>\n",
      "Training model for submeter 'ElecMeter(instance=9, building=1, dataset='REDD', appliances=[Appliance(type='light', instance=1)])'\n",
      "<class 'nilmtk.elecmeter.ElecMeter'>\n",
      "Training model for submeter 'ElecMeter(instance=6, building=1, dataset='REDD', appliances=[Appliance(type='dish washer', instance=1)])'\n",
      "<class 'nilmtk.elecmeter.ElecMeter'>\n"
     ]
    }
   ],
   "source": [
    "#from nilmtk.disaggregate import DecisionTree\n",
    "import numpy as np\n",
    "from sklearn.tree import DecisionTreeRegressor\n",
    "\n",
    "#dt = DecisionTree()\n",
    "#dt.train(top_train_elec)\n",
    "metergroup = top_train_elec\n",
    "min_samples_split=np.arange(2, 400, 10)\n",
    "pred = {}\n",
    "\n",
    "mains_power_series = train_elec.mains().power_series(sample_period=60, resample=True)\n",
    "mains_chunk = next(mains_power_series)\n",
    "\n",
    "for i, meter in enumerate(metergroup.submeters().meters):\n",
    "    print(\"Training model for submeter '{}'\".format(meter))\n",
    "    print(type(meter))\n",
    "    #power_series = meter.power_series(sample_period=60, resample=True) #**load_kwargs\n",
    "    #chunk = next(power_series)\n",
    "    #list_clfs = []\n",
    "    #losses = []\n",
    "    #x_train = mains_chunk.values\n",
    "    #y_train = chunk.values[:13546]\n",
    "    #print(\"{} -- {}\".format(x_train.shape,y_train.shape))\n",
    "    #print(x_train.base)\n",
    "    \n",
    "    \n",
    "    #for split in min_samples_split:\n",
    "        #clf = DecisionTreeRegressor(min_samples_split = split)\n",
    "        #clf.fit(x_train, y_train, check_input=False)"
   ]
  },
  {
   "cell_type": "code",
   "execution_count": 23,
   "metadata": {
    "collapsed": false
   },
   "outputs": [
    {
     "name": "stdout",
     "output_type": "stream",
     "text": [
      "Loading data for meter ElecMeterID(instance=4, building=1, dataset='REDD')     \n",
      "Done loading data all meters for this chunk.\n",
      "Loading data for meter ElecMeterID(instance=20, building=1, dataset='REDD')     \n",
      "Done loading data all meters for this chunk.\n",
      "(52236, 2)\n",
      "(52235, 16)\n",
      "<class 'pandas.core.frame.DataFrame'>\n",
      "(26316, 18)\n"
     ]
    }
   ],
   "source": [
    "#print(train_elec.mains().dataframe_of_meters().shape) #meters #available_ac_types('power') #instance() #nested_metergroups #.appliances\n",
    "train = DataSet('/nilmtk/data/REDD/redd.h5') \n",
    "\n",
    "train_elec = train.buildings[building_number].elec\n",
    "\n",
    "metergroup = train.buildings[building_number].elec\n",
    "#print(type(train_elec.mains().dataframe_of_meters()))\n",
    "#print(type(metergroup.submeters().dataframe_of_meters()))\n",
    "#print(metergroup.submeters().dataframe_of_meters().shape)\n",
    "\n",
    "main = train_elec.mains().dataframe_of_meters(sample_period=60, resample=True)\n",
    "meters = train.buildings[building_number].elec.submeters().dataframe_of_meters(sample_period=60, resample=True)\n",
    "print(main.shape)\n",
    "print(meters.shape)\n",
    "print(type(main))\n",
    "#print(main.index)\n",
    "#print(meters.index)\n",
    "#joinMainMeters = meters.merge(main)\n",
    "import pandas as pd\n",
    "joinMainMeters = pd.concat([main, meters], axis=1, join='inner')\n",
    "print(joinMainMeters.dropna().shape)\n",
    "#print(joinMainMeters.dropna().head)\n",
    "\n",
    "#print(\"mains {} -- meters {} -- merged {}\".format(main.shape, meters.shape, joinMainMeters.shape))\n",
    "#choose data from mains and meters, that have data in both dataframes"
   ]
  },
  {
   "cell_type": "code",
   "execution_count": 85,
   "metadata": {
    "collapsed": false
   },
   "outputs": [
    {
     "name": "stdout",
     "output_type": "stream",
     "text": [
      "['mains_1', 'mains_2']\n",
      "['mains_1', 'mains_2', '5_Fridge']\n",
      "['mains_1', 'mains_2', '6_Dish-washer']\n",
      "['mains_1', 'mains_2', '7_Sockets']\n",
      "['mains_1', 'mains_2', '8_Sockets']\n",
      "['mains_1', 'mains_2', '9_Light']\n",
      "['mains_1', 'mains_2', '11_Microwave']\n",
      "['mains_1', 'mains_2', '12_Unknown']\n",
      "['mains_1', 'mains_2', '13_Electric-space-heater']\n",
      "['mains_1', 'mains_2', '14_Electric-stove']\n",
      "['mains_1', 'mains_2', '15_Sockets']\n",
      "['mains_1', 'mains_2', '16_Sockets']\n",
      "['mains_1', 'mains_2', '17_Light']\n",
      "['mains_1', 'mains_2', '18_Light']\n",
      "['mains_1', 'mains_2', '19_Unknown']\n",
      "Loading data for meter ElecMeterID(instance=4, building=1, dataset='REDD')     \n",
      "Done loading data all meters for this chunk.\n",
      "['mains_1', 'mains_2', '3_4_Electric-oven']\n",
      "Loading data for meter ElecMeterID(instance=20, building=1, dataset='REDD')     \n",
      "Done loading data all meters for this chunk.\n",
      "['mains_1', 'mains_2', '10_20_Washer-dryer']\n",
      "House 15 data contain 10 days from 2 to 6.\n",
      "['2011-04-18', '2011-04-19', '2011-04-20', '2011-04-21', '2011-04-22', '2011-04-23', '2011-04-24', '2011-04-25', '2011-04-26', '2011-04-27', '2011-04-28', '2011-04-30', '2011-05-01', '2011-05-02', '2011-05-03', '2011-05-06', '2011-05-07', '2011-05-11', '2011-05-12', '2011-05-13', '2011-05-22', '2011-05-23', '2011-05-24']\n",
      "('df_train.shape: ', (13805, 3))\n",
      "('df_val.shape: ', (6883, 3))\n",
      "('df_test.shape: ', (5578, 3))\n",
      "((13805, 2), (13805, 1), (6883, 2), (6883, 1), (5578, 2), (5578, 1))\n",
      "('Trainning time: ', 18.744226932525635)\n"
     ]
    }
   ],
   "source": [
    "import pandas as pd\n",
    "import time\n",
    "\n",
    "train = DataSet('/nilmtk/data/REDD/redd.h5') \n",
    "\n",
    "train_elec = train.buildings[building_number].elec\n",
    "\n",
    "metergroup = train.buildings[building_number].elec\n",
    "\n",
    "main = train_elec.mains().dataframe_of_meters(sample_period=60, resample=True).dropna()\n",
    "\n",
    "colMainName = []\n",
    "for i in range(1,main.shape[1]+1):\n",
    "    colMainName.append('mains_{}'.format(i))\n",
    "print(colMainName)\n",
    "for i, meter in enumerate(metergroup.submeters().meters):\n",
    "    if isinstance(meter.instance(), tuple):\n",
    "        instance = '_'.join(str(e) for e in meter.instance())\n",
    "    else:\n",
    "        instance = meter.instance()\n",
    "    applianceType = meter.label(pretty=True)\n",
    "    colMeterName = \"{}_{}\".format( instance, applianceType.replace(' ','-'))\n",
    "    df = meter.power_series_all_data(sample_period=60, resample=True).dropna() #dataframe_of_meters(sample_period=60, resample=True).dropna()\n",
    " \n",
    "    joinMainMeters = pd.concat([main, df], axis=1, join='inner')\n",
    "    colsName = colMainName + [colMeterName]\n",
    "    print(colsName)\n",
    "    joinMainMeters.columns = colsName\n",
    " \n",
    "    \n",
    "#print(joinMainMeters.head)\n",
    "\n",
    "dates = [str(time)[:10] for time in joinMainMeters.index.values]\n",
    "dates = sorted(list(set(dates)))\n",
    "print('House {0} data contain {1} days from {2} to {3}.'.format(i,len(dates[i]),dates[i][0], dates[i][-1]))\n",
    "print(dates)\n",
    "\n",
    "# Separate house 1 data into train, validation and test data\n",
    "df1_train = joinMainMeters.ix[:dates[10]]\n",
    "df1_val = joinMainMeters.ix[dates[11]:dates[16]]\n",
    "df1_test = joinMainMeters.ix[dates[17]:]\n",
    "print('df_train.shape: ', df1_train.shape)\n",
    "print('df_val.shape: ', df1_val.shape)\n",
    "print('df_test.shape: ', df1_test.shape)\n",
    "\n",
    "# Using decision tree regression, here we use validation data to turn the min_samples_split parameter\n",
    "def mse_loss(y_predict, y):\n",
    "    return np.mean(np.square(y_predict - y)) \n",
    "def mae_loss(y_predict, y):\n",
    "    return np.mean(np.abs(y_predict - y)) \n",
    "\n",
    "min_samples_split=np.arange(2, 400, 10)\n",
    "from sklearn.tree import DecisionTreeRegressor\n",
    "def tree_reg(X_train, y_train, X_val, y_val, min_samples_split):\n",
    "    import time\n",
    "    clfs = []\n",
    "    losses = []\n",
    "    start = time.time()\n",
    "    for split in min_samples_split:\n",
    "        clf = DecisionTreeRegressor(min_samples_split = split)\n",
    "        clf.fit(X_train, y_train)\n",
    "        y_predict_val = clf.predict(X_val)\n",
    "        clfs.append(clf)\n",
    "        losses.append( mse_loss(y_predict_val, y_val) )\n",
    "    print('Trainning time: ', time.time() - start)\n",
    "    return clfs, losses\n",
    "\n",
    "# Using mains_1, mains_2 to predict refrigerator\n",
    "X_train1 = df1_train.iloc[:,:main.shape[1]].values\n",
    "y_train1 = df1_train.iloc[:,main.shape[1]:].values\n",
    "X_val1 = df1_val.iloc[:,:main.shape[1]].values\n",
    "y_val1 = df1_val.iloc[:,main.shape[1]:].values\n",
    "X_test1 = df1_test.iloc[:,:main.shape[1]].values\n",
    "y_test1 = df1_test.iloc[:,main.shape[1]:].values\n",
    "print(X_train1.shape, y_train1.shape, X_val1.shape, y_val1.shape, X_test1.shape, y_test1.shape)\n",
    "\n",
    "tree_clfs_1, tree_losses_1 = tree_reg(X_train1, y_train1, X_val1, y_val1, min_samples_split)\n",
    "\n"
   ]
  },
  {
   "cell_type": "code",
   "execution_count": 79,
   "metadata": {
    "collapsed": false
   },
   "outputs": [
    {
     "name": "stdout",
     "output_type": "stream",
     "text": [
      "4.88758087158e-05\n"
     ]
    }
   ],
   "source": [
    "import time\n",
    "\n",
    "a = time.time()\n",
    "\n",
    "print(time.time()-a)"
   ]
  }
 ],
 "metadata": {
  "kernelspec": {
   "display_name": "Python 2",
   "language": "python",
   "name": "python2"
  },
  "language_info": {
   "codemirror_mode": {
    "name": "ipython",
    "version": 2
   },
   "file_extension": ".py",
   "mimetype": "text/x-python",
   "name": "python",
   "nbconvert_exporter": "python",
   "pygments_lexer": "ipython2",
   "version": "2.7.11"
  }
 },
 "nbformat": 4,
 "nbformat_minor": 0
}
