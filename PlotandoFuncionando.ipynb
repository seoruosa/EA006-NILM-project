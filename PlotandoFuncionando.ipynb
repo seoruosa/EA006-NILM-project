{
 "cells": [
  {
   "cell_type": "code",
   "execution_count": 1,
   "metadata": {
    "collapsed": false,
    "scrolled": true
   },
   "outputs": [
    {
     "name": "stderr",
     "output_type": "stream",
     "text": [
      "/opt/conda/lib/python2.7/site-packages/matplotlib/font_manager.py:273: UserWarning: Matplotlib is building the font cache using fc-list. This may take a moment.\n",
      "  warnings.warn('Matplotlib is building the font cache using fc-list. This may take a moment.')\n",
      "/opt/conda/lib/python2.7/site-packages/matplotlib/__init__.py:1350: UserWarning:  This call to matplotlib.use() has no effect\n",
      "because the backend has already been chosen;\n",
      "matplotlib.use() must be called *before* pylab, matplotlib.pyplot,\n",
      "or matplotlib.backends is imported for the first time.\n",
      "\n",
      "  warnings.warn(_use_error_msg)\n"
     ]
    }
   ],
   "source": [
    "import glob\n",
    "import os\n",
    "import collections\n",
    "import datetime\n",
    "import re\n",
    "\n",
    "import matplotlib\n",
    "%matplotlib inline\n",
    "matplotlib.rcParams['figure.figsize'] = (10.0, 5.0)\n",
    "matplotlib.rcParams.update({'font.size': 8})\n",
    "matplotlib.use('pgf')\n",
    "import matplotlib.pyplot as plt\n",
    "import matplotlib.lines as mlines\n",
    "import matplotlib.mlab\n",
    "\n",
    "import numpy as np\n",
    "import scipy\n",
    "import scipy.signal\n",
    "import h5py\n",
    "\n",
    "LOCAL_PATH_PREFIX = 'summary-2017-04-30-medal-1.hdf5' #'/nilmtk/data/clear-2017-04-30T23-56-33.338918T+0200-0055951.hdf5'"
   ]
  },
  {
   "cell_type": "code",
   "execution_count": 55,
   "metadata": {
    "collapsed": false
   },
   "outputs": [
    {
     "name": "stdout",
     "output_type": "stream",
     "text": [
      "_i_table\n",
      "table\n"
     ]
    }
   ],
   "source": [
    "LOCAL_PATH_PREFIX = 'iawe.h5' #'/nilmtk/data/clear-2017-04-30T23-56-33.338918T+0200-0055951.hdf5'\n",
    "fileList = glob.glob(LOCAL_PATH_PREFIX)\n",
    "\n",
    "for file in fileList:\n",
    "    with h5py.File(file, 'r', driver='core') as f:\n",
    "        #for e in f:\n",
    "            #print e\n",
    "        for e in f['building1']['elec']['cache']['meter1']['total_energy']:\n",
    "            print e\n",
    "            #for attrs in f[e].attrs:\n",
    "                #print(\"%s  --  %s  --  %s\" %(e, attrs, f[e].attrs[attrs]))\n",
    "                \n",
    "            #print \"%s  --  %s  --  %s -- %s\"%(e,f[e][0],len(f[e]),f[e].attrs)\n",
    "        #for e in f.attrs:\n",
    "            #print(\"%s -- %s \"%(e,f.attrs[e]))   \n",
    "        #print int(f.attrs['frequency'] / 50 * 2)"
   ]
  },
  {
   "cell_type": "code",
   "execution_count": 11,
   "metadata": {
    "collapsed": false
   },
   "outputs": [
    {
     "ename": "IOError",
     "evalue": "Unable to open file (Unable to open file)",
     "output_type": "error",
     "traceback": [
      "\u001b[1;31m---------------------------------------------------------------------------\u001b[0m",
      "\u001b[1;31mIOError\u001b[0m                                   Traceback (most recent call last)",
      "\u001b[1;32m<ipython-input-11-b31d21a02299>\u001b[0m in \u001b[0;36m<module>\u001b[1;34m()\u001b[0m\n\u001b[0;32m     58\u001b[0m \u001b[0mfig\u001b[0m\u001b[1;33m,\u001b[0m \u001b[0max\u001b[0m \u001b[1;33m=\u001b[0m \u001b[0mplt\u001b[0m\u001b[1;33m.\u001b[0m\u001b[0msubplots\u001b[0m\u001b[1;33m(\u001b[0m\u001b[1;36m3\u001b[0m\u001b[1;33m,\u001b[0m \u001b[0msharex\u001b[0m\u001b[1;33m=\u001b[0m\u001b[0mTrue\u001b[0m\u001b[1;33m)\u001b[0m\u001b[1;33m\u001b[0m\u001b[0m\n\u001b[0;32m     59\u001b[0m \u001b[1;33m\u001b[0m\u001b[0m\n\u001b[1;32m---> 60\u001b[1;33m \u001b[1;32mwith\u001b[0m \u001b[0mh5py\u001b[0m\u001b[1;33m.\u001b[0m\u001b[0mFile\u001b[0m\u001b[1;33m(\u001b[0m\u001b[0mclear_hdf5_file\u001b[0m\u001b[1;33m,\u001b[0m \u001b[1;34m'r'\u001b[0m\u001b[1;33m,\u001b[0m \u001b[0mdriver\u001b[0m\u001b[1;33m=\u001b[0m\u001b[1;34m'core'\u001b[0m\u001b[1;33m)\u001b[0m \u001b[1;32mas\u001b[0m \u001b[0mf\u001b[0m\u001b[1;33m:\u001b[0m\u001b[1;33m\u001b[0m\u001b[0m\n\u001b[0m\u001b[0;32m     61\u001b[0m     \u001b[0mdelay_after_midnight\u001b[0m \u001b[1;33m=\u001b[0m \u001b[0mf\u001b[0m\u001b[1;33m.\u001b[0m\u001b[0mattrs\u001b[0m\u001b[1;33m[\u001b[0m\u001b[1;34m'delay_after_midnight'\u001b[0m\u001b[1;33m]\u001b[0m\u001b[1;33m\u001b[0m\u001b[0m\n\u001b[0;32m     62\u001b[0m     \u001b[0mclear_powers\u001b[0m \u001b[1;33m=\u001b[0m \u001b[1;33m[\u001b[0m\u001b[0mf\u001b[0m\u001b[1;33m[\u001b[0m\u001b[0mn\u001b[0m\u001b[1;33m]\u001b[0m\u001b[1;33m[\u001b[0m\u001b[1;33m:\u001b[0m\u001b[1;33m]\u001b[0m \u001b[1;32mfor\u001b[0m \u001b[0mn\u001b[0m \u001b[1;32min\u001b[0m \u001b[0mlist\u001b[0m\u001b[1;33m(\u001b[0m\u001b[0mf\u001b[0m\u001b[1;33m)\u001b[0m \u001b[1;32mif\u001b[0m \u001b[1;34m'apparent_power'\u001b[0m \u001b[1;32min\u001b[0m \u001b[0mn\u001b[0m\u001b[1;33m]\u001b[0m\u001b[1;33m\u001b[0m\u001b[0m\n",
      "\u001b[1;32m/opt/conda/lib/python2.7/site-packages/h5py/_hl/files.py\u001b[0m in \u001b[0;36m__init__\u001b[1;34m(self, name, mode, driver, libver, userblock_size, swmr, **kwds)\u001b[0m\n\u001b[0;32m    258\u001b[0m \u001b[1;33m\u001b[0m\u001b[0m\n\u001b[0;32m    259\u001b[0m                 \u001b[0mfapl\u001b[0m \u001b[1;33m=\u001b[0m \u001b[0mmake_fapl\u001b[0m\u001b[1;33m(\u001b[0m\u001b[0mdriver\u001b[0m\u001b[1;33m,\u001b[0m \u001b[0mlibver\u001b[0m\u001b[1;33m,\u001b[0m \u001b[1;33m**\u001b[0m\u001b[0mkwds\u001b[0m\u001b[1;33m)\u001b[0m\u001b[1;33m\u001b[0m\u001b[0m\n\u001b[1;32m--> 260\u001b[1;33m                 \u001b[0mfid\u001b[0m \u001b[1;33m=\u001b[0m \u001b[0mmake_fid\u001b[0m\u001b[1;33m(\u001b[0m\u001b[0mname\u001b[0m\u001b[1;33m,\u001b[0m \u001b[0mmode\u001b[0m\u001b[1;33m,\u001b[0m \u001b[0muserblock_size\u001b[0m\u001b[1;33m,\u001b[0m \u001b[0mfapl\u001b[0m\u001b[1;33m,\u001b[0m \u001b[0mswmr\u001b[0m\u001b[1;33m=\u001b[0m\u001b[0mswmr\u001b[0m\u001b[1;33m)\u001b[0m\u001b[1;33m\u001b[0m\u001b[0m\n\u001b[0m\u001b[0;32m    261\u001b[0m \u001b[1;33m\u001b[0m\u001b[0m\n\u001b[0;32m    262\u001b[0m                 \u001b[1;32mif\u001b[0m \u001b[0mswmr_support\u001b[0m\u001b[1;33m:\u001b[0m\u001b[1;33m\u001b[0m\u001b[0m\n",
      "\u001b[1;32m/opt/conda/lib/python2.7/site-packages/h5py/_hl/files.py\u001b[0m in \u001b[0;36mmake_fid\u001b[1;34m(name, mode, userblock_size, fapl, fcpl, swmr)\u001b[0m\n\u001b[0;32m     87\u001b[0m         \u001b[1;32mif\u001b[0m \u001b[0mswmr\u001b[0m \u001b[1;32mand\u001b[0m \u001b[0mswmr_support\u001b[0m\u001b[1;33m:\u001b[0m\u001b[1;33m\u001b[0m\u001b[0m\n\u001b[0;32m     88\u001b[0m             \u001b[0mflags\u001b[0m \u001b[1;33m|=\u001b[0m \u001b[0mh5f\u001b[0m\u001b[1;33m.\u001b[0m\u001b[0mACC_SWMR_READ\u001b[0m\u001b[1;33m\u001b[0m\u001b[0m\n\u001b[1;32m---> 89\u001b[1;33m         \u001b[0mfid\u001b[0m \u001b[1;33m=\u001b[0m \u001b[0mh5f\u001b[0m\u001b[1;33m.\u001b[0m\u001b[0mopen\u001b[0m\u001b[1;33m(\u001b[0m\u001b[0mname\u001b[0m\u001b[1;33m,\u001b[0m \u001b[0mflags\u001b[0m\u001b[1;33m,\u001b[0m \u001b[0mfapl\u001b[0m\u001b[1;33m=\u001b[0m\u001b[0mfapl\u001b[0m\u001b[1;33m)\u001b[0m\u001b[1;33m\u001b[0m\u001b[0m\n\u001b[0m\u001b[0;32m     90\u001b[0m     \u001b[1;32melif\u001b[0m \u001b[0mmode\u001b[0m \u001b[1;33m==\u001b[0m \u001b[1;34m'r+'\u001b[0m\u001b[1;33m:\u001b[0m\u001b[1;33m\u001b[0m\u001b[0m\n\u001b[0;32m     91\u001b[0m         \u001b[0mfid\u001b[0m \u001b[1;33m=\u001b[0m \u001b[0mh5f\u001b[0m\u001b[1;33m.\u001b[0m\u001b[0mopen\u001b[0m\u001b[1;33m(\u001b[0m\u001b[0mname\u001b[0m\u001b[1;33m,\u001b[0m \u001b[0mh5f\u001b[0m\u001b[1;33m.\u001b[0m\u001b[0mACC_RDWR\u001b[0m\u001b[1;33m,\u001b[0m \u001b[0mfapl\u001b[0m\u001b[1;33m=\u001b[0m\u001b[0mfapl\u001b[0m\u001b[1;33m)\u001b[0m\u001b[1;33m\u001b[0m\u001b[0m\n",
      "\u001b[1;32mh5py/_objects.pyx\u001b[0m in \u001b[0;36mh5py._objects.with_phil.wrapper (/home/ilan/minonda/conda-bld/work/h5py/_objects.c:2579)\u001b[1;34m()\u001b[0m\n",
      "\u001b[1;32mh5py/_objects.pyx\u001b[0m in \u001b[0;36mh5py._objects.with_phil.wrapper (/home/ilan/minonda/conda-bld/work/h5py/_objects.c:2538)\u001b[1;34m()\u001b[0m\n",
      "\u001b[1;32mh5py/h5f.pyx\u001b[0m in \u001b[0;36mh5py.h5f.open (/home/ilan/minonda/conda-bld/work/h5py/h5f.c:1816)\u001b[1;34m()\u001b[0m\n",
      "\u001b[1;31mIOError\u001b[0m: Unable to open file (Unable to open file)"
     ]
    },
    {
     "data": {
      "image/png": "[encoded data removed]",
      "text/plain": [
       "<matplotlib.figure.Figure at 0x7fb2eafb2190>"
      ]
     },
     "metadata": {},
     "output_type": "display_data"
    },
    {
     "data": {
      "text/plain": [
       "<matplotlib.figure.Figure at 0x7fb2eb1f19d0>"
      ]
     },
     "metadata": {},
     "output_type": "display_data"
    },
    {
     "data": {
      "image/png": "[encoded data removed]",
      "text/plain": [
       "<matplotlib.figure.Figure at 0x7fb2eb1f1990>"
      ]
     },
     "metadata": {},
     "output_type": "display_data"
    }
   ],
   "source": [
    "LOCAL_PATH_PREFIX = '/nilmtk/data/summary-2017-04-30-medal-1.hdf5' #'clear-2017-04-30T23*.hdf5'\n",
    "fileList = glob.glob(LOCAL_PATH_PREFIX)\n",
    "\n",
    "for file in fileList:\n",
    "    with h5py.File(file, 'r', driver='core') as f:\n",
    "        fig, ax = plt.subplots(3)\n",
    "        for i in range(3):\n",
    "            voltage_name = 'real_power' + str(i + 1) #'voltage' + str(i + 1)\n",
    "            current_name = 'apparent_power' + str(i + 1) #'current' + str(i + 1)\n",
    "            start = 61870\n",
    "            stop = start + int(f.attrs['frequency'] / 50 * 2)\n",
    "\n",
    "            ax[i].plot(f[voltage_name][start:stop], #* f[voltage_name].attrs['calibration_factor'],\n",
    "                       'blue',\n",
    "                       linewidth=0.75)\n",
    "            ax[i].set_ylim(-400, 400)\n",
    "            ax[i].set_yticks([-325, 0, 325])\n",
    "            if i == 1:\n",
    "                ax[i].set_ylabel('Voltage [V]')\n",
    "\n",
    "            ax2 = ax[i].twinx()\n",
    "            ax2.plot(f[current_name][start:stop] * f[current_name].attrs['calibration_factor'],\n",
    "                     'red',\n",
    "                     linewidth=0.75)\n",
    "            ax2.set_ylim(-15, 15)\n",
    "            ax2.set_xlim(0, stop - start)\n",
    "            ax2.set_xticks(np.arange(0, f.attrs['frequency'] / 50 * 2, f.attrs['frequency'] / 50 / 2))\n",
    "\n",
    "            if i == 1:\n",
    "                ax2.set_ylabel('Current [A]')\n",
    "\n",
    "        fig.legend(handles=[mlines.Line2D([], [], color='blue'), mlines.Line2D([], [], color='red')],\n",
    "                   labels=['V', 'I'],\n",
    "                   frameon=False,\n",
    "                   bbox_to_anchor=(0.925, 0.93))\n",
    "        plt.setp(ax[0].get_xticklabels(), visible=False)\n",
    "        plt.setp(ax[1].get_xticklabels(), visible=False)\n",
    "        ax[2].set_xticklabels(np.arange(0, 40, 5))\n",
    "        ax[2].set_xlabel('Time [ms]')\n",
    "\n",
    "        fig.set_size_inches(4.0, 3.0)\n",
    "    # %%\n",
    "year, month, day = 2017, 3, 2\n",
    "max_power = 1300\n",
    "smoothing = 30\n",
    "facecolors = ['#aaaaaaaa', '#ee4035', '#f37736', '#fdf498', '#7bc043', '#0392cf']\n",
    "clear_medal_mapping = {\n",
    "    1: [1, 2, 3, 7, 12],\n",
    "    2: [6, 10, 11, 13, 14],\n",
    "    3: [4, 5, 8, 9, 15]\n",
    "}\n",
    "\n",
    "\n",
    "clear_hdf5_file = os.path.join(LOCAL_PATH_PREFIX, 'BLOND-50/{:04d}-{:02d}-{:02d}/clear/summary-{:04d}-{:02d}-{:02d}-clear.hdf5'.format(year, month, day, year, month, day))\n",
    "medal_hdf5_files = glob.glob(os.path.join(LOCAL_PATH_PREFIX, 'BLOND-50/{:04d}-{:02d}-{:02d}/medal-*/summary-{:04d}-{:02d}-{:02d}-medal-*.hdf5'.format(year, month, day, year, month, day)))\n",
    "\n",
    "plt.figure()\n",
    "fig, ax = plt.subplots(3, sharex=True)\n",
    "\n",
    "with h5py.File(clear_hdf5_file, 'r', driver='core') as f:\n",
    "    delay_after_midnight = f.attrs['delay_after_midnight']\n",
    "    clear_powers = [f[n][:] for n in list(f) if 'apparent_power' in n]\n",
    "    clear_powers = [np.pad(power, (smoothing - divmod(len(power), smoothing)[1], 0), 'constant', constant_values=0) for power in clear_powers]\n",
    "    clear_powers = [np.median(power.reshape(-1, smoothing), axis=1) for power in clear_powers]\n",
    "\n",
    "time_scale = np.arange(delay_after_midnight, delay_after_midnight + len(clear_powers[0]) * smoothing, smoothing) / (60 * 60)\n",
    "for j, clear_power in enumerate(clear_powers):\n",
    "    ax[j].plot(time_scale, clear_power, linewidth=0.8, color='black')\n",
    "    ax[j].set_ylim(0, max_power)\n",
    "    ax[j].set_ylabel('Power L{} [W]'.format(j + 1))\n",
    "    ax[j].set_yticks(range(0, 1500, 250))\n",
    "\n",
    "\n",
    "medals = []\n",
    "for medal_file in sorted(medal_hdf5_files):\n",
    "    with h5py.File(medal_file, 'r', driver='core') as f:\n",
    "        powers = [f[n][:] for n in list(f) if 'apparent_power' in n]\n",
    "        delay_after_midnight = f.attrs['delay_after_midnight']\n",
    "    power = np.vstack(powers)\n",
    "    power = np.sum(power, axis=0)\n",
    "    power -= np.min(power)\n",
    "    power = np.insert(power, 0, np.zeros(delay_after_midnight))\n",
    "\n",
    "    sum_power = np.sum(power)\n",
    "    medal_id = int(re.match('.+/medal-(?P<id>.+)/.+', medal_file).groupdict()['id'])\n",
    "    for clear, values in clear_medal_mapping.items():\n",
    "        if medal_id in values:\n",
    "            clear_id = clear\n",
    "            break\n",
    "\n",
    "    medals.append((sum_power, clear_id, medal_id, power))\n",
    "\n",
    "max_length = np.max([len(power) for _, _, _, power in medals])\n",
    "\n",
    "baseloads = [380, 80, 150]\n",
    "for clear_id in range(1, 4):\n",
    "    powers = [np.ones(max_length) * baseloads[clear_id - 1]]\n",
    "    powers += [power for _, cid, _, power in sorted(medals) if clear_id == cid]\n",
    "    powers = [np.append(power, np.zeros(max_length - len(power))) for power in powers]\n",
    "    powers = [np.pad(power, (smoothing - divmod(len(power), smoothing)[1], 0), 'constant', constant_values=0) for power in powers]\n",
    "    powers = [np.median(power.reshape(-1, smoothing), axis=1) for power in powers]\n",
    "\n",
    "    time_scale = np.arange(0, len(powers[0]) * smoothing, smoothing) / (60 * 60)\n",
    "    ax[clear_id - 1].stackplot(time_scale, powers, colors=facecolors, labels=[medal_id for _, _, medal_id, _ in sorted(medals)])\n",
    "\n",
    "    rects = [matplotlib.patches.Rectangle((0, 0), 1, 1, facecolor=facecolors[i + 1]) for i in range(len(powers[1:]))]\n",
    "    labels = ['MEDAL-{}'.format(medal_id) for _, cid, medal_id, _ in sorted(medals) if clear_id == cid]\n",
    "    ids = [medal_id for _, cid, medal_id, _ in sorted(medals) if clear_id == cid]\n",
    "    h = sorted(zip(ids, rects, labels))\n",
    "    ax[clear_id - 1].legend(handles=[r for i, r, l in h],\n",
    "                            labels=[l for i, r, l in h],\n",
    "                            loc='upper right',\n",
    "                            frameon=False,\n",
    "                            bbox_to_anchor=(1.17, 1.0))\n",
    "\n",
    "ax[0].set_title(\"Apparent Power - {:04d}-{:02d}-{:02d}\".format(year, month, day))\n",
    "\n",
    "plt.xticks(list(range(0, 26, 1)), ['{}:00'.format(j) for j in range(0, 26, 1)], rotation='vertical')\n",
    "ax[-1].set_xlim(5.5, 20.5)\n",
    "ax[-1].set_xlabel('Time of the day')\n",
    "\n",
    "fig.set_size_inches(8.0, 5.5)\n",
    "fig.savefig('daily-consumption.pdf', bbox_inches='tight')\n"
   ]
  }
 ],
 "metadata": {
  "kernelspec": {
   "display_name": "Python 2",
   "language": "python",
   "name": "python2"
  },
  "language_info": {
   "codemirror_mode": {
    "name": "ipython",
    "version": 2
   },
   "file_extension": ".py",
   "mimetype": "text/x-python",
   "name": "python",
   "nbconvert_exporter": "python",
   "pygments_lexer": "ipython2",
   "version": "2.7.11"
  }
 },
 "nbformat": 4,
 "nbformat_minor": 0
}
