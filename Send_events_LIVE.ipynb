{
 "cells": [
  {
   "cell_type": "code",
   "execution_count": 9,
   "metadata": {
    "collapsed": true
   },
   "outputs": [],
   "source": [
    "import requests\n",
    "import urllib"
   ]
  },
  {
   "cell_type": "code",
   "execution_count": 12,
   "metadata": {
    "collapsed": false
   },
   "outputs": [
    {
     "name": "stdout",
     "output_type": "stream",
     "text": [
      "OK\n"
     ]
    }
   ],
   "source": [
    "host = 'http://live.intelie.com/services/plugin-restinput/testeThiago/get?'\n",
    "user = 'thiago.giachetto@intelie.com.br'\n",
    "password = '0-jVSFc@'\n",
    "\n",
    "msg = {\"__type\": \"__extensions\", \"test\":\"Olar!!\"}\n",
    "\n",
    "headers = { 'postman-token': '0c38e2e3-815d-45a3-7c53-47030d8fd893',\n",
    "           'cache-control': 'no-cache'}\n",
    "\n",
    "\n",
    "u = requests.get(host+urllib.urlencode(msg), auth=(user, password))\n",
    "print(u.reason)\n",
    "#print(urllib.urlencode(msg))"
   ]
  }
 ],
 "metadata": {
  "kernelspec": {
   "display_name": "Python 2",
   "language": "python",
   "name": "python2"
  },
  "language_info": {
   "codemirror_mode": {
    "name": "ipython",
    "version": 2
   },
   "file_extension": ".py",
   "mimetype": "text/x-python",
   "name": "python",
   "nbconvert_exporter": "python",
   "pygments_lexer": "ipython2",
   "version": "2.7.11"
  }
 },
 "nbformat": 4,
 "nbformat_minor": 0
}
