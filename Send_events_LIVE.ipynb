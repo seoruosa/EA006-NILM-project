{
 "cells": [
  {
   "cell_type": "code",
   "execution_count": 13,
   "metadata": {
    "collapsed": true
   },
   "outputs": [],
   "source": [
    "import requests\n",
    "import urllib\n",
    "import config"
   ]
  },
  {
   "cell_type": "code",
   "execution_count": 14,
   "metadata": {
    "collapsed": false
   },
   "outputs": [
    {
     "name": "stdout",
     "output_type": "stream",
     "text": [
      "OK\n"
     ]
    }
   ],
   "source": [
    "host = 'http://live.intelie.com/services/plugin-restinput/testeThiago/get?'\n",
    "\n",
    "msg = {\"__type\": \"__teste\", \"test\":\"Olar!!\"}\n",
    "\n",
    "#u = requests.get(host+urllib.urlencode(msg), auth=(user, password))\n",
    "\n",
    "#print(u.reason)\n",
    "#print(urllib.urlencode(msg))"
   ]
  },
  {
   "cell_type": "code",
   "execution_count": 41,
   "metadata": {
    "collapsed": false
   },
   "outputs": [],
   "source": [
    "from nilmtk import DataSet, TimeFrame\n",
    "import nilmtk\n",
    "from nilmtk.utils import print_dict\n",
    "import pandas as pd"
   ]
  },
  {
   "cell_type": "code",
   "execution_count": 69,
   "metadata": {
    "collapsed": false
   },
   "outputs": [],
   "source": [
    "ds = DataSet('/nilmtk/data/REDD/redd.h5')\n",
    "building = 1\n",
    "#elec = ds.buildings[building].elec\n",
    "\n",
    "# List all appliances of nilmtk\n",
    "appliance_types = set()\n",
    "for appliance in nilmtk.global_meter_group.appliances:\n",
    "    appliance_types.add(appliance.type['type'])\n",
    "# Count quantity of appliances at dataset\n",
    "out = {}\n",
    "for building_num, building in ds.buildings.iteritems():\n",
    "    out[building_num] = {}\n",
    "    for appliance in list(appliance_types):\n",
    "        try:\n",
    "            elec = building.elec\n",
    "            elec_appliance = elec.select_using_appliances(type=appliance)\n",
    "            count = len(elec_appliance.meters)\n",
    "        except:\n",
    "            count=0\n",
    "        out[building_num][appliance] = count\n",
    "appliance_data_df = pd.DataFrame(out)\n",
    "appliance_data_df\n",
    "\n",
    "#df = next(elec['fridge'].load(sample_period=60))\n",
    "#count = 1\n",
    "\n",
    "#for line in df.itertuples():\n",
    "    #event = {'timestamp':line[0].value/1000000, 'power':line[1]}\n",
    "    #print(event)\n",
    "#    count += 1\n",
    "#    if count>10:\n",
    "#        break\n"
   ]
  },
  {
   "cell_type": "code",
   "execution_count": 79,
   "metadata": {
    "collapsed": false
   },
   "outputs": [
    {
     "name": "stdout",
     "output_type": "stream",
     "text": [
      "MeterGroup(meters=\n",
      "  ElecMeter(instance=11, building=1, dataset='REDD', appliances=[Appliance(type='microwave', instance=1)])\n",
      ")\n",
      "MeterGroup(meters=\n",
      "  MeterGroup(meters=\n",
      "    ElecMeter(instance=3, building=1, dataset='REDD', appliances=[Appliance(type='electric oven', instance=1)])\n",
      "    ElecMeter(instance=4, building=1, dataset='REDD', appliances=[Appliance(type='electric oven', instance=1)])\n",
      "  )\n",
      ")\n",
      "MeterGroup(meters=\n",
      "  ElecMeter(instance=13, building=1, dataset='REDD', appliances=[Appliance(type='electric space heater', instance=1)])\n",
      ")\n",
      "MeterGroup(meters=\n",
      "  ElecMeter(instance=14, building=1, dataset='REDD', appliances=[Appliance(type='electric stove', instance=1)])\n",
      ")\n",
      "MeterGroup(meters=\n",
      "  ElecMeter(instance=12, building=1, dataset='REDD', appliances=[Appliance(type='unknown', instance=1)])\n",
      "  ElecMeter(instance=19, building=1, dataset='REDD', appliances=[Appliance(type='unknown', instance=2)])\n",
      ")\n",
      "MeterGroup(meters=\n",
      "  ElecMeter(instance=5, building=1, dataset='REDD', appliances=[Appliance(type='fridge', instance=1)])\n",
      ")\n",
      "MeterGroup(meters=\n",
      "  ElecMeter(instance=5, building=1, dataset='REDD', appliances=[Appliance(type='fridge', instance=1)])\n",
      ")\n",
      "MeterGroup(meters=\n",
      "  ElecMeter(instance=5, building=1, dataset='REDD', appliances=[Appliance(type='fridge', instance=1)])\n",
      ")\n",
      "MeterGroup(meters=\n",
      "  ElecMeter(instance=5, building=1, dataset='REDD', appliances=[Appliance(type='fridge', instance=1)])\n",
      ")\n",
      "MeterGroup(meters=\n",
      "  ElecMeter(instance=9, building=1, dataset='REDD', appliances=[Appliance(type='light', instance=1)])\n",
      "  ElecMeter(instance=17, building=1, dataset='REDD', appliances=[Appliance(type='light', instance=2)])\n",
      "  ElecMeter(instance=18, building=1, dataset='REDD', appliances=[Appliance(type='light', instance=3)])\n",
      ")\n",
      "MeterGroup(meters=\n",
      "  ElecMeter(instance=9, building=1, dataset='REDD', appliances=[Appliance(type='light', instance=1)])\n",
      "  ElecMeter(instance=17, building=1, dataset='REDD', appliances=[Appliance(type='light', instance=2)])\n",
      "  ElecMeter(instance=18, building=1, dataset='REDD', appliances=[Appliance(type='light', instance=3)])\n",
      ")\n",
      "MeterGroup(meters=\n",
      "  ElecMeter(instance=9, building=1, dataset='REDD', appliances=[Appliance(type='light', instance=1)])\n",
      "  ElecMeter(instance=17, building=1, dataset='REDD', appliances=[Appliance(type='light', instance=2)])\n",
      "  ElecMeter(instance=18, building=1, dataset='REDD', appliances=[Appliance(type='light', instance=3)])\n",
      ")\n",
      "MeterGroup(meters=\n",
      "  ElecMeter(instance=6, building=1, dataset='REDD', appliances=[Appliance(type='dish washer', instance=1)])\n",
      ")\n",
      "MeterGroup(meters=\n",
      "  ElecMeter(instance=6, building=1, dataset='REDD', appliances=[Appliance(type='dish washer', instance=1)])\n",
      ")\n",
      "MeterGroup(meters=\n",
      "  ElecMeter(instance=7, building=1, dataset='REDD', appliances=[Appliance(type='sockets', instance=1)])\n",
      "  ElecMeter(instance=8, building=1, dataset='REDD', appliances=[Appliance(type='sockets', instance=2)])\n",
      "  ElecMeter(instance=15, building=1, dataset='REDD', appliances=[Appliance(type='sockets', instance=3)])\n",
      "  ElecMeter(instance=16, building=1, dataset='REDD', appliances=[Appliance(type='sockets', instance=4)])\n",
      ")\n",
      "MeterGroup(meters=\n",
      "  MeterGroup(meters=\n",
      "    ElecMeter(instance=10, building=1, dataset='REDD', appliances=[Appliance(type='washer dryer', instance=1)])\n",
      "    ElecMeter(instance=20, building=1, dataset='REDD', appliances=[Appliance(type='washer dryer', instance=1)])\n",
      "  )\n",
      ")\n",
      "MeterGroup(meters=\n",
      "  ElecMeter(instance=11, building=1, dataset='REDD', appliances=[Appliance(type='microwave', instance=1)])\n",
      ")\n"
     ]
    }
   ],
   "source": [
    "ds = DataSet('/nilmtk/data/REDD/redd.h5')\n",
    "building = 1\n",
    "#elec = ds.buildings[building].elec\n",
    "\n",
    "# List all appliances of nilmtk\n",
    "appliance_types = set()\n",
    "for appliance in nilmtk.global_meter_group.appliances:\n",
    "    appliance_types.add(appliance.type['type'])\n",
    "# Count quantity of appliances at dataset\n",
    "out = {}\n",
    "for appliance in list(appliance_types):\n",
    "    try:\n",
    "        elec = ds.buildings[1].elec\n",
    "        elec_appliance = elec.select_using_appliances(type=appliance)\n",
    "    except:\n",
    "        pass\n",
    "    print(elec_appliance)\n",
    "    #print(type(elec['fridge']))\n",
    "    #df = next(elec['fridge'].load(sample_period=60))\n",
    "#count = 1\n",
    "\n",
    "#for line in df.itertuples():\n",
    "    #event = {'timestamp':line[0].value/1000000, 'power':line[1]}\n",
    "    #print(event)\n",
    "#    count += 1\n",
    "#    if count>10:\n",
    "#        break"
   ]
  }
 ],
 "metadata": {
  "kernelspec": {
   "display_name": "Python 2",
   "language": "python",
   "name": "python2"
  },
  "language_info": {
   "codemirror_mode": {
    "name": "ipython",
    "version": 2
   },
   "file_extension": ".py",
   "mimetype": "text/x-python",
   "name": "python",
   "nbconvert_exporter": "python",
   "pygments_lexer": "ipython2",
   "version": "2.7.11"
  }
 },
 "nbformat": 4,
 "nbformat_minor": 0
}
