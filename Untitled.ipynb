{
 "cells": [
  {
   "cell_type": "code",
   "execution_count": 82,
   "metadata": {
    "collapsed": true
   },
   "outputs": [],
   "source": [
    "from nilmtk import DataSet, TimeFrame\n",
    "import nilmtk\n",
    "from nilmtk.utils import print_dict\n",
    "\n",
    "ds = DataSet('/nilmtk/data/REDD/redd.h5')\n",
    "building = 1"
   ]
  },
  {
   "cell_type": "code",
   "execution_count": 130,
   "metadata": {
    "collapsed": false
   },
   "outputs": [
    {
     "name": "stdout",
     "output_type": "stream",
     "text": [
      "TimeFrame(start='2011-04-18 09:22:09-04:00', end='2011-05-24 15:57:02-04:00', empty=False)\n"
     ]
    },
    {
     "data": {
      "text/html": [
       "<div>\n",
       "<table border=\"1\" class=\"dataframe\">\n",
       "  <thead>\n",
       "    <tr>\n",
       "      <th>physical_quantity</th>\n",
       "      <th>power</th>\n",
       "    </tr>\n",
       "    <tr>\n",
       "      <th>type</th>\n",
       "      <th>active</th>\n",
       "    </tr>\n",
       "  </thead>\n",
       "  <tbody>\n",
       "    <tr>\n",
       "      <th>2011-04-18 09:22:00-04:00</th>\n",
       "      <td>6.0000</td>\n",
       "    </tr>\n",
       "    <tr>\n",
       "      <th>2011-04-18 09:23:00-04:00</th>\n",
       "      <td>6.0000</td>\n",
       "    </tr>\n",
       "    <tr>\n",
       "      <th>2011-04-18 09:24:00-04:00</th>\n",
       "      <td>6.0000</td>\n",
       "    </tr>\n",
       "    <tr>\n",
       "      <th>2011-04-18 09:25:00-04:00</th>\n",
       "      <td>5.9375</td>\n",
       "    </tr>\n",
       "    <tr>\n",
       "      <th>2011-04-18 09:26:00-04:00</th>\n",
       "      <td>5.9375</td>\n",
       "    </tr>\n",
       "  </tbody>\n",
       "</table>\n",
       "</div>"
      ],
      "text/plain": [
       "physical_quantity           power\n",
       "type                       active\n",
       "2011-04-18 09:22:00-04:00  6.0000\n",
       "2011-04-18 09:23:00-04:00  6.0000\n",
       "2011-04-18 09:24:00-04:00  6.0000\n",
       "2011-04-18 09:25:00-04:00  5.9375\n",
       "2011-04-18 09:26:00-04:00  5.9375"
      ]
     },
     "execution_count": 130,
     "metadata": {},
     "output_type": "execute_result"
    }
   ],
   "source": [
    "print ds.buildings[building].elec.get_timeframe()\n",
    "#ds.buildings[building].elec.meters[1].available_columns() #power apparent\n",
    "#ds.buildings[building].elec.meters[1].dataset() #'REDD'\n",
    "#ds.buildings[building].elec.meters[1].sample_period() #1\n",
    "#nilmtk.datastore.datastore.join_key('')\n",
    "#ds.buildings[building].elec.meters[1].load()\n",
    "elec = ds.buildings[building].elec\n",
    "#print(elec)\n",
    "#for i in ds.buildings[building].elec.meters:\n",
    "#    if len(i.appliances):\n",
    "#        print(i.appliances)\n",
    "df = next(ds.buildings[building].elec['fridge'].load(sample_period=60))\n",
    "df.head()"
   ]
  }
 ],
 "metadata": {
  "kernelspec": {
   "display_name": "Python 2",
   "language": "python",
   "name": "python2"
  },
  "language_info": {
   "codemirror_mode": {
    "name": "ipython",
    "version": 2
   },
   "file_extension": ".py",
   "mimetype": "text/x-python",
   "name": "python",
   "nbconvert_exporter": "python",
   "pygments_lexer": "ipython2",
   "version": "2.7.11"
  }
 },
 "nbformat": 4,
 "nbformat_minor": 0
}
