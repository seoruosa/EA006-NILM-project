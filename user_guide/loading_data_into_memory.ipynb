{
 "cells": [
  {
   "cell_type": "markdown",
   "metadata": {},
   "source": [
    "# Loading data into memory"
   ]
  },
  {
   "cell_type": "markdown",
   "metadata": {
    "collapsed": true
   },
   "source": [
    "Loading API is central to a lot of nilmtk operations and provides a great deal of flexibility. Let's look at ways in which we can load data from a NILMTK DataStore into memory. To see the full range of possible queries, we'll use the [iAWE data set](http://iawe.github.io) (whose HDF5 file can be downloaded [here](https://copy.com/C2sIt1UfDx1mfPlC)).\n",
    "\n",
    "The `load` function returns a *generator* of DataFrames loaded from the DataStore based on the conditions specified. If no conditions are specified, then all data from all the columns is loaded.  (If you have not come across Python generators, it might be worth reading [this quick guide to Python generators](http://stackoverflow.com/a/1756156/732596).)"
   ]
  },
  {
   "cell_type": "code",
   "execution_count": 11,
   "metadata": {
    "collapsed": false
   },
   "outputs": [
    {
     "data": {
      "text/plain": [
       "MeterGroup(meters=\n",
       "  ElecMeter(instance=2, building=1, dataset='UK-DALE', appliances=[Appliance(type='boiler', instance=1)])\n",
       "  ElecMeter(instance=3, building=1, dataset='UK-DALE', appliances=[Appliance(type='solar thermal pumping station', instance=1)])\n",
       "  ElecMeter(instance=4, building=1, dataset='UK-DALE', appliances=[Appliance(type='laptop computer', instance=1), Appliance(type='laptop computer', instance=3)])\n",
       "  ElecMeter(instance=5, building=1, dataset='UK-DALE', appliances=[Appliance(type='washer dryer', instance=1)])\n",
       "  ElecMeter(instance=6, building=1, dataset='UK-DALE', appliances=[Appliance(type='dish washer', instance=1)])\n",
       "  ElecMeter(instance=7, building=1, dataset='UK-DALE', appliances=[Appliance(type='television', instance=1)])\n",
       "  ElecMeter(instance=8, building=1, dataset='UK-DALE', appliances=[Appliance(type='light', instance=1), Appliance(type='light', instance=2)])\n",
       "  ElecMeter(instance=9, building=1, dataset='UK-DALE', appliances=[Appliance(type='HTPC', instance=1)])\n",
       "  ElecMeter(instance=10, building=1, dataset='UK-DALE', appliances=[Appliance(type='kettle', instance=1), Appliance(type='food processor', instance=1), Appliance(type='toasted sandwich maker', instance=1)])\n",
       "  ElecMeter(instance=11, building=1, dataset='UK-DALE', appliances=[Appliance(type='toaster', instance=1), Appliance(type='kitchen aid', instance=1), Appliance(type='food processor', instance=2)])\n",
       "  ElecMeter(instance=12, building=1, dataset='UK-DALE', appliances=[Appliance(type='fridge freezer', instance=1)])\n",
       "  ElecMeter(instance=13, building=1, dataset='UK-DALE', appliances=[Appliance(type='microwave', instance=1)])\n",
       "  ElecMeter(instance=14, building=1, dataset='UK-DALE', appliances=[Appliance(type='computer monitor', instance=1)])\n",
       "  ElecMeter(instance=15, building=1, dataset='UK-DALE', appliances=[Appliance(type='audio system', instance=1)])\n",
       "  ElecMeter(instance=16, building=1, dataset='UK-DALE', appliances=[Appliance(type='breadmaker', instance=1)])\n",
       "  ElecMeter(instance=17, building=1, dataset='UK-DALE', appliances=[Appliance(type='audio amplifier', instance=1)])\n",
       "  ElecMeter(instance=18, building=1, dataset='UK-DALE', appliances=[Appliance(type='broadband router', instance=1)])\n",
       "  ElecMeter(instance=19, building=1, dataset='UK-DALE', appliances=[Appliance(type='light', instance=3)])\n",
       "  ElecMeter(instance=20, building=1, dataset='UK-DALE', appliances=[Appliance(type='soldering iron', instance=1)])\n",
       "  ElecMeter(instance=21, building=1, dataset='UK-DALE', appliances=[Appliance(type='ethernet switch', instance=1), Appliance(type='USB hub', instance=1)])\n",
       "  ElecMeter(instance=22, building=1, dataset='UK-DALE', appliances=[Appliance(type='vacuum cleaner', instance=1)])\n",
       "  ElecMeter(instance=23, building=1, dataset='UK-DALE', appliances=[Appliance(type='light', instance=4)])\n",
       "  ElecMeter(instance=24, building=1, dataset='UK-DALE', appliances=[Appliance(type='light', instance=5)])\n",
       "  ElecMeter(instance=25, building=1, dataset='UK-DALE', appliances=[Appliance(type='light', instance=16)])\n",
       "  ElecMeter(instance=26, building=1, dataset='UK-DALE', appliances=[Appliance(type='light', instance=6)])\n",
       "  ElecMeter(instance=27, building=1, dataset='UK-DALE', appliances=[Appliance(type='tablet computer charger', instance=1)])\n",
       "  ElecMeter(instance=28, building=1, dataset='UK-DALE', appliances=[Appliance(type='active subwoofer', instance=1)])\n",
       "  ElecMeter(instance=29, building=1, dataset='UK-DALE', appliances=[Appliance(type='light', instance=7)])\n",
       "  ElecMeter(instance=30, building=1, dataset='UK-DALE', appliances=[Appliance(type='radio', instance=1)])\n",
       "  ElecMeter(instance=31, building=1, dataset='UK-DALE', appliances=[Appliance(type='light', instance=8)])\n",
       "  ElecMeter(instance=32, building=1, dataset='UK-DALE', appliances=[Appliance(type='wireless phone charger', instance=1), Appliance(type='audio system', instance=2)])\n",
       "  ElecMeter(instance=33, building=1, dataset='UK-DALE', appliances=[Appliance(type='light', instance=9)])\n",
       "  ElecMeter(instance=34, building=1, dataset='UK-DALE', appliances=[Appliance(type='mobile phone charger', instance=1)])\n",
       "  ElecMeter(instance=35, building=1, dataset='UK-DALE', appliances=[Appliance(type='light', instance=10)])\n",
       "  ElecMeter(instance=36, building=1, dataset='UK-DALE', appliances=[Appliance(type='coffee maker', instance=1)])\n",
       "  ElecMeter(instance=37, building=1, dataset='UK-DALE', appliances=[Appliance(type='radio', instance=2)])\n",
       "  ElecMeter(instance=38, building=1, dataset='UK-DALE', appliances=[Appliance(type='mobile phone charger', instance=2), Appliance(type='baby monitor', instance=2), Appliance(type='radio', instance=3)])\n",
       "  ElecMeter(instance=39, building=1, dataset='UK-DALE', appliances=[Appliance(type='hair dryer', instance=1)])\n",
       "  ElecMeter(instance=40, building=1, dataset='UK-DALE', appliances=[Appliance(type='hair straighteners', instance=1)])\n",
       "  ElecMeter(instance=41, building=1, dataset='UK-DALE', appliances=[Appliance(type='clothes iron', instance=1)])\n",
       "  ElecMeter(instance=42, building=1, dataset='UK-DALE', appliances=[Appliance(type='oven', instance=1)])\n",
       "  ElecMeter(instance=43, building=1, dataset='UK-DALE', appliances=[Appliance(type='computer', instance=1), Appliance(type='external hard disk', instance=1)])\n",
       "  ElecMeter(instance=44, building=1, dataset='UK-DALE', appliances=[Appliance(type='light', instance=11)])\n",
       "  ElecMeter(instance=45, building=1, dataset='UK-DALE', appliances=[Appliance(type='light', instance=12)])\n",
       "  ElecMeter(instance=46, building=1, dataset='UK-DALE', appliances=[Appliance(type='baby monitor', instance=1)])\n",
       "  ElecMeter(instance=47, building=1, dataset='UK-DALE', appliances=[Appliance(type='charger', instance=1)])\n",
       "  ElecMeter(instance=48, building=1, dataset='UK-DALE', appliances=[Appliance(type='light', instance=13)])\n",
       "  ElecMeter(instance=49, building=1, dataset='UK-DALE', appliances=[Appliance(type='light', instance=14)])\n",
       "  ElecMeter(instance=50, building=1, dataset='UK-DALE', appliances=[Appliance(type='light', instance=15)])\n",
       "  ElecMeter(instance=51, building=1, dataset='UK-DALE', appliances=[Appliance(type='desktop computer', instance=1)])\n",
       "  ElecMeter(instance=52, building=1, dataset='UK-DALE', appliances=[Appliance(type='fan', instance=1)])\n",
       "  ElecMeter(instance=53, building=1, dataset='UK-DALE', appliances=[Appliance(type='printer', instance=1)])\n",
       "  ElecMeter(instance=54, building=1, dataset='UK-DALE', site_meter, appliances=[Appliance(type='immersion heater', instance=1), Appliance(type='water pump', instance=1), Appliance(type='security alarm', instance=1), Appliance(type='fan', instance=2), Appliance(type='drill', instance=1), Appliance(type='laptop computer', instance=2)])\n",
       ")"
      ]
     },
     "execution_count": 11,
     "metadata": {},
     "output_type": "execute_result"
    }
   ],
   "source": [
    "from nilmtk import DataSet\n",
    "\n",
    "iawe = DataSet('/nilmtk/data/ukdale.h5') #('/nilmtk/data/iawe.h5')\n",
    "elec = iawe.buildings[1].elec\n",
    "elec"
   ]
  },
  {
   "cell_type": "markdown",
   "metadata": {},
   "source": [
    "Let us see what measurements we have for the fridge:"
   ]
  },
  {
   "cell_type": "code",
   "execution_count": 14,
   "metadata": {
    "collapsed": false
   },
   "outputs": [
    {
     "data": {
      "text/plain": [
       "[('power', 'active')]"
      ]
     },
     "execution_count": 14,
     "metadata": {},
     "output_type": "execute_result"
    }
   ],
   "source": [
    "fridge = elec['fan']\n",
    "fridge.available_columns()"
   ]
  },
  {
   "cell_type": "markdown",
   "metadata": {},
   "source": [
    "## Loading data"
   ]
  },
  {
   "cell_type": "markdown",
   "metadata": {},
   "source": [
    "### Load all columns (default)"
   ]
  },
  {
   "cell_type": "code",
   "execution_count": 15,
   "metadata": {
    "collapsed": false
   },
   "outputs": [
    {
     "data": {
      "text/html": [
       "<div>\n",
       "<table border=\"1\" class=\"dataframe\">\n",
       "  <thead>\n",
       "    <tr>\n",
       "      <th>physical_quantity</th>\n",
       "      <th>power</th>\n",
       "    </tr>\n",
       "    <tr>\n",
       "      <th>type</th>\n",
       "      <th>active</th>\n",
       "    </tr>\n",
       "  </thead>\n",
       "  <tbody>\n",
       "    <tr>\n",
       "      <th>2013-06-19 15:26:41+01:00</th>\n",
       "      <td>0</td>\n",
       "    </tr>\n",
       "    <tr>\n",
       "      <th>2013-06-19 15:26:45+01:00</th>\n",
       "      <td>6</td>\n",
       "    </tr>\n",
       "    <tr>\n",
       "      <th>2013-06-19 15:26:51+01:00</th>\n",
       "      <td>0</td>\n",
       "    </tr>\n",
       "    <tr>\n",
       "      <th>2013-06-19 15:26:58+01:00</th>\n",
       "      <td>0</td>\n",
       "    </tr>\n",
       "    <tr>\n",
       "      <th>2013-06-19 15:27:04+01:00</th>\n",
       "      <td>26</td>\n",
       "    </tr>\n",
       "  </tbody>\n",
       "</table>\n",
       "</div>"
      ],
      "text/plain": [
       "physical_quantity          power\n",
       "type                      active\n",
       "2013-06-19 15:26:41+01:00      0\n",
       "2013-06-19 15:26:45+01:00      6\n",
       "2013-06-19 15:26:51+01:00      0\n",
       "2013-06-19 15:26:58+01:00      0\n",
       "2013-06-19 15:27:04+01:00     26"
      ]
     },
     "execution_count": 15,
     "metadata": {},
     "output_type": "execute_result"
    }
   ],
   "source": [
    "df = next(fridge.load())\n",
    "df.head()"
   ]
  },
  {
   "cell_type": "markdown",
   "metadata": {},
   "source": [
    "### Load a single column of power data\n",
    "\n",
    "Use `fridge.power_series()` which returns a generator of 1-dimensional `pandas.Series` objects, each containing power data using the most 'sensible' AC type:"
   ]
  },
  {
   "cell_type": "code",
   "execution_count": 16,
   "metadata": {
    "collapsed": false
   },
   "outputs": [
    {
     "data": {
      "text/plain": [
       "2013-06-19 15:26:41+01:00     0\n",
       "2013-06-19 15:26:45+01:00     6\n",
       "2013-06-19 15:26:51+01:00     0\n",
       "2013-06-19 15:26:58+01:00     0\n",
       "2013-06-19 15:27:04+01:00    26\n",
       "Name: (power, active), dtype: float32"
      ]
     },
     "execution_count": 16,
     "metadata": {},
     "output_type": "execute_result"
    }
   ],
   "source": [
    "series = next(fridge.power_series())\n",
    "series.head()"
   ]
  },
  {
   "cell_type": "markdown",
   "metadata": {},
   "source": [
    "or, to get reactive power:"
   ]
  },
  {
   "cell_type": "code",
   "execution_count": 17,
   "metadata": {
    "collapsed": false
   },
   "outputs": [
    {
     "ename": "MeasurementError",
     "evalue": "AC type 'reactive' not available. Available columns = [('power', 'active')]. ",
     "output_type": "error",
     "traceback": [
      "\u001b[1;31m---------------------------------------------------------------------------\u001b[0m",
      "\u001b[1;31mMeasurementError\u001b[0m                          Traceback (most recent call last)",
      "\u001b[1;32m<ipython-input-17-7ece449e3472>\u001b[0m in \u001b[0;36m<module>\u001b[1;34m()\u001b[0m\n\u001b[1;32m----> 1\u001b[1;33m \u001b[0mseries\u001b[0m \u001b[1;33m=\u001b[0m \u001b[0mnext\u001b[0m\u001b[1;33m(\u001b[0m\u001b[0mfridge\u001b[0m\u001b[1;33m.\u001b[0m\u001b[0mpower_series\u001b[0m\u001b[1;33m(\u001b[0m\u001b[0mac_type\u001b[0m\u001b[1;33m=\u001b[0m\u001b[1;34m'reactive'\u001b[0m\u001b[1;33m)\u001b[0m\u001b[1;33m)\u001b[0m\u001b[1;33m\u001b[0m\u001b[0m\n\u001b[0m\u001b[0;32m      2\u001b[0m \u001b[0mseries\u001b[0m\u001b[1;33m.\u001b[0m\u001b[0mhead\u001b[0m\u001b[1;33m(\u001b[0m\u001b[1;33m)\u001b[0m\u001b[1;33m\u001b[0m\u001b[0m\n",
      "\u001b[1;32m/nilmtk/nilmtk/electric.py\u001b[0m in \u001b[0;36mload_series\u001b[1;34m(self, **kwargs)\u001b[0m\n\u001b[0;32m    626\u001b[0m         \u001b[1;31m# Pull data through preprocessing pipeline\u001b[0m\u001b[1;33m\u001b[0m\u001b[1;33m\u001b[0m\u001b[0m\n\u001b[0;32m    627\u001b[0m         \u001b[0mphysical_quantity\u001b[0m \u001b[1;33m=\u001b[0m \u001b[0mkwargs\u001b[0m\u001b[1;33m[\u001b[0m\u001b[1;34m'physical_quantity'\u001b[0m\u001b[1;33m]\u001b[0m\u001b[1;33m\u001b[0m\u001b[0m\n\u001b[1;32m--> 628\u001b[1;33m         \u001b[0mgenerator\u001b[0m \u001b[1;33m=\u001b[0m \u001b[0mself\u001b[0m\u001b[1;33m.\u001b[0m\u001b[0mload\u001b[0m\u001b[1;33m(\u001b[0m\u001b[1;33m**\u001b[0m\u001b[0mkwargs\u001b[0m\u001b[1;33m)\u001b[0m\u001b[1;33m\u001b[0m\u001b[0m\n\u001b[0m\u001b[0;32m    629\u001b[0m         \u001b[1;32mfor\u001b[0m \u001b[0mchunk\u001b[0m \u001b[1;32min\u001b[0m \u001b[0mgenerator\u001b[0m\u001b[1;33m:\u001b[0m\u001b[1;33m\u001b[0m\u001b[0m\n\u001b[0;32m    630\u001b[0m             \u001b[1;32mif\u001b[0m \u001b[0mchunk\u001b[0m\u001b[1;33m.\u001b[0m\u001b[0mempty\u001b[0m\u001b[1;33m:\u001b[0m\u001b[1;33m\u001b[0m\u001b[0m\n",
      "\u001b[1;32m/nilmtk/nilmtk/elecmeter.py\u001b[0m in \u001b[0;36mload\u001b[1;34m(self, **kwargs)\u001b[0m\n\u001b[0;32m    447\u001b[0m         \u001b[1;31m# Get source node\u001b[0m\u001b[1;33m\u001b[0m\u001b[1;33m\u001b[0m\u001b[0m\n\u001b[0;32m    448\u001b[0m         \u001b[0mpreprocessing\u001b[0m \u001b[1;33m=\u001b[0m \u001b[0mkwargs\u001b[0m\u001b[1;33m.\u001b[0m\u001b[0mpop\u001b[0m\u001b[1;33m(\u001b[0m\u001b[1;34m'preprocessing'\u001b[0m\u001b[1;33m,\u001b[0m \u001b[1;33m[\u001b[0m\u001b[1;33m]\u001b[0m\u001b[1;33m)\u001b[0m\u001b[1;33m\u001b[0m\u001b[0m\n\u001b[1;32m--> 449\u001b[1;33m         \u001b[0mlast_node\u001b[0m \u001b[1;33m=\u001b[0m \u001b[0mself\u001b[0m\u001b[1;33m.\u001b[0m\u001b[0mget_source_node\u001b[0m\u001b[1;33m(\u001b[0m\u001b[1;33m**\u001b[0m\u001b[0mkwargs\u001b[0m\u001b[1;33m)\u001b[0m\u001b[1;33m\u001b[0m\u001b[0m\n\u001b[0m\u001b[0;32m    450\u001b[0m         \u001b[0mgenerator\u001b[0m \u001b[1;33m=\u001b[0m \u001b[0mlast_node\u001b[0m\u001b[1;33m.\u001b[0m\u001b[0mgenerator\u001b[0m\u001b[1;33m\u001b[0m\u001b[0m\n\u001b[0;32m    451\u001b[0m \u001b[1;33m\u001b[0m\u001b[0m\n",
      "\u001b[1;32m/nilmtk/nilmtk/elecmeter.py\u001b[0m in \u001b[0;36mget_source_node\u001b[1;34m(self, **loader_kwargs)\u001b[0m\n\u001b[0;32m    572\u001b[0m                 \"Cannot get source node if meter.store is None!\")\n\u001b[0;32m    573\u001b[0m \u001b[1;33m\u001b[0m\u001b[0m\n\u001b[1;32m--> 574\u001b[1;33m         \u001b[0mloader_kwargs\u001b[0m \u001b[1;33m=\u001b[0m \u001b[0mself\u001b[0m\u001b[1;33m.\u001b[0m\u001b[0m_convert_physical_quantity_and_ac_type_to_cols\u001b[0m\u001b[1;33m(\u001b[0m\u001b[1;33m**\u001b[0m\u001b[0mloader_kwargs\u001b[0m\u001b[1;33m)\u001b[0m\u001b[1;33m\u001b[0m\u001b[0m\n\u001b[0m\u001b[0;32m    575\u001b[0m         \u001b[0mgenerator\u001b[0m \u001b[1;33m=\u001b[0m \u001b[0mself\u001b[0m\u001b[1;33m.\u001b[0m\u001b[0mstore\u001b[0m\u001b[1;33m.\u001b[0m\u001b[0mload\u001b[0m\u001b[1;33m(\u001b[0m\u001b[0mkey\u001b[0m\u001b[1;33m=\u001b[0m\u001b[0mself\u001b[0m\u001b[1;33m.\u001b[0m\u001b[0mkey\u001b[0m\u001b[1;33m,\u001b[0m \u001b[1;33m**\u001b[0m\u001b[0mloader_kwargs\u001b[0m\u001b[1;33m)\u001b[0m\u001b[1;33m\u001b[0m\u001b[0m\n\u001b[0;32m    576\u001b[0m         \u001b[0mself\u001b[0m\u001b[1;33m.\u001b[0m\u001b[0mmetadata\u001b[0m\u001b[1;33m[\u001b[0m\u001b[1;34m'device'\u001b[0m\u001b[1;33m]\u001b[0m \u001b[1;33m=\u001b[0m \u001b[0mself\u001b[0m\u001b[1;33m.\u001b[0m\u001b[0mdevice\u001b[0m\u001b[1;33m\u001b[0m\u001b[0m\n",
      "\u001b[1;32m/nilmtk/nilmtk/elecmeter.py\u001b[0m in \u001b[0;36m_convert_physical_quantity_and_ac_type_to_cols\u001b[1;34m(self, physical_quantity, ac_type, cols, **kwargs)\u001b[0m\n\u001b[0;32m    556\u001b[0m         \u001b[1;32mif\u001b[0m \u001b[0mmsg\u001b[0m\u001b[1;33m:\u001b[0m\u001b[1;33m\u001b[0m\u001b[0m\n\u001b[0;32m    557\u001b[0m             \u001b[0mmsg\u001b[0m \u001b[1;33m+=\u001b[0m \u001b[1;34m\"Available columns = {}. \"\u001b[0m\u001b[1;33m.\u001b[0m\u001b[0mformat\u001b[0m\u001b[1;33m(\u001b[0m\u001b[0mself\u001b[0m\u001b[1;33m.\u001b[0m\u001b[0mavailable_columns\u001b[0m\u001b[1;33m(\u001b[0m\u001b[1;33m)\u001b[0m\u001b[1;33m)\u001b[0m\u001b[1;33m\u001b[0m\u001b[0m\n\u001b[1;32m--> 558\u001b[1;33m             \u001b[1;32mraise\u001b[0m \u001b[0mMeasurementError\u001b[0m\u001b[1;33m(\u001b[0m\u001b[0mmsg\u001b[0m\u001b[1;33m)\u001b[0m\u001b[1;33m\u001b[0m\u001b[0m\n\u001b[0m\u001b[0;32m    559\u001b[0m \u001b[1;33m\u001b[0m\u001b[0m\n\u001b[0;32m    560\u001b[0m         \u001b[0mkwargs\u001b[0m\u001b[1;33m[\u001b[0m\u001b[1;34m'cols'\u001b[0m\u001b[1;33m]\u001b[0m \u001b[1;33m=\u001b[0m \u001b[0mcols\u001b[0m\u001b[1;33m\u001b[0m\u001b[0m\n",
      "\u001b[1;31mMeasurementError\u001b[0m: AC type 'reactive' not available. Available columns = [('power', 'active')]. "
     ]
    }
   ],
   "source": [
    "series = next(fridge.power_series(ac_type='reactive'))\n",
    "series.head()"
   ]
  },
  {
   "cell_type": "markdown",
   "metadata": {},
   "source": [
    "### Specify physical_quantity or AC type"
   ]
  },
  {
   "cell_type": "code",
   "execution_count": 7,
   "metadata": {
    "collapsed": false
   },
   "outputs": [
    {
     "data": {
      "text/html": [
       "<div>\n",
       "<table border=\"1\" class=\"dataframe\">\n",
       "  <thead>\n",
       "    <tr>\n",
       "      <th>physical_quantity</th>\n",
       "      <th>power</th>\n",
       "    </tr>\n",
       "    <tr>\n",
       "      <th>type</th>\n",
       "      <th>reactive</th>\n",
       "    </tr>\n",
       "  </thead>\n",
       "  <tbody>\n",
       "    <tr>\n",
       "      <th>2013-06-07 05:30:00+05:30</th>\n",
       "      <td>2.483</td>\n",
       "    </tr>\n",
       "    <tr>\n",
       "      <th>2013-06-07 05:30:01+05:30</th>\n",
       "      <td>2.547</td>\n",
       "    </tr>\n",
       "    <tr>\n",
       "      <th>2013-06-07 05:30:02+05:30</th>\n",
       "      <td>2.480</td>\n",
       "    </tr>\n",
       "    <tr>\n",
       "      <th>2013-06-07 05:30:03+05:30</th>\n",
       "      <td>2.444</td>\n",
       "    </tr>\n",
       "    <tr>\n",
       "      <th>2013-06-07 05:30:04+05:30</th>\n",
       "      <td>2.510</td>\n",
       "    </tr>\n",
       "  </tbody>\n",
       "</table>\n",
       "</div>"
      ],
      "text/plain": [
       "physical_quantity            power\n",
       "type                      reactive\n",
       "2013-06-07 05:30:00+05:30    2.483\n",
       "2013-06-07 05:30:01+05:30    2.547\n",
       "2013-06-07 05:30:02+05:30    2.480\n",
       "2013-06-07 05:30:03+05:30    2.444\n",
       "2013-06-07 05:30:04+05:30    2.510"
      ]
     },
     "execution_count": 7,
     "metadata": {},
     "output_type": "execute_result"
    }
   ],
   "source": [
    "df = next(fridge.load(physical_quantity='power', ac_type='reactive'))\n",
    "df.head()"
   ]
  },
  {
   "cell_type": "markdown",
   "metadata": {},
   "source": [
    "To load voltage data:"
   ]
  },
  {
   "cell_type": "code",
   "execution_count": 8,
   "metadata": {
    "collapsed": false
   },
   "outputs": [
    {
     "data": {
      "text/html": [
       "<div>\n",
       "<table border=\"1\" class=\"dataframe\">\n",
       "  <thead>\n",
       "    <tr>\n",
       "      <th>physical_quantity</th>\n",
       "      <th>voltage</th>\n",
       "    </tr>\n",
       "    <tr>\n",
       "      <th>type</th>\n",
       "      <th></th>\n",
       "    </tr>\n",
       "  </thead>\n",
       "  <tbody>\n",
       "    <tr>\n",
       "      <th>2013-06-07 05:30:00+05:30</th>\n",
       "      <td>235.070007</td>\n",
       "    </tr>\n",
       "    <tr>\n",
       "      <th>2013-06-07 05:30:01+05:30</th>\n",
       "      <td>235.020004</td>\n",
       "    </tr>\n",
       "    <tr>\n",
       "      <th>2013-06-07 05:30:02+05:30</th>\n",
       "      <td>234.979996</td>\n",
       "    </tr>\n",
       "    <tr>\n",
       "      <th>2013-06-07 05:30:03+05:30</th>\n",
       "      <td>235.000000</td>\n",
       "    </tr>\n",
       "    <tr>\n",
       "      <th>2013-06-07 05:30:04+05:30</th>\n",
       "      <td>234.949997</td>\n",
       "    </tr>\n",
       "  </tbody>\n",
       "</table>\n",
       "</div>"
      ],
      "text/plain": [
       "physical_quantity             voltage\n",
       "type                                 \n",
       "2013-06-07 05:30:00+05:30  235.070007\n",
       "2013-06-07 05:30:01+05:30  235.020004\n",
       "2013-06-07 05:30:02+05:30  234.979996\n",
       "2013-06-07 05:30:03+05:30  235.000000\n",
       "2013-06-07 05:30:04+05:30  234.949997"
      ]
     },
     "execution_count": 8,
     "metadata": {},
     "output_type": "execute_result"
    }
   ],
   "source": [
    "df = next(fridge.load(physical_quantity='voltage'))\n",
    "df.head()"
   ]
  },
  {
   "cell_type": "code",
   "execution_count": 9,
   "metadata": {
    "collapsed": false
   },
   "outputs": [
    {
     "data": {
      "text/html": [
       "<div>\n",
       "<table border=\"1\" class=\"dataframe\">\n",
       "  <thead>\n",
       "    <tr>\n",
       "      <th>physical_quantity</th>\n",
       "      <th colspan=\"3\" halign=\"left\">power</th>\n",
       "    </tr>\n",
       "    <tr>\n",
       "      <th>type</th>\n",
       "      <th>apparent</th>\n",
       "      <th>active</th>\n",
       "      <th>reactive</th>\n",
       "    </tr>\n",
       "  </thead>\n",
       "  <tbody>\n",
       "    <tr>\n",
       "      <th>2013-06-07 05:30:00+05:30</th>\n",
       "      <td>2.486</td>\n",
       "      <td>0.111</td>\n",
       "      <td>2.483</td>\n",
       "    </tr>\n",
       "    <tr>\n",
       "      <th>2013-06-07 05:30:01+05:30</th>\n",
       "      <td>2.555</td>\n",
       "      <td>0.200</td>\n",
       "      <td>2.547</td>\n",
       "    </tr>\n",
       "    <tr>\n",
       "      <th>2013-06-07 05:30:02+05:30</th>\n",
       "      <td>2.485</td>\n",
       "      <td>0.152</td>\n",
       "      <td>2.480</td>\n",
       "    </tr>\n",
       "    <tr>\n",
       "      <th>2013-06-07 05:30:03+05:30</th>\n",
       "      <td>2.449</td>\n",
       "      <td>0.159</td>\n",
       "      <td>2.444</td>\n",
       "    </tr>\n",
       "    <tr>\n",
       "      <th>2013-06-07 05:30:04+05:30</th>\n",
       "      <td>2.519</td>\n",
       "      <td>0.215</td>\n",
       "      <td>2.510</td>\n",
       "    </tr>\n",
       "  </tbody>\n",
       "</table>\n",
       "</div>"
      ],
      "text/plain": [
       "physical_quantity            power                \n",
       "type                      apparent active reactive\n",
       "2013-06-07 05:30:00+05:30    2.486  0.111    2.483\n",
       "2013-06-07 05:30:01+05:30    2.555  0.200    2.547\n",
       "2013-06-07 05:30:02+05:30    2.485  0.152    2.480\n",
       "2013-06-07 05:30:03+05:30    2.449  0.159    2.444\n",
       "2013-06-07 05:30:04+05:30    2.519  0.215    2.510"
      ]
     },
     "execution_count": 9,
     "metadata": {},
     "output_type": "execute_result"
    }
   ],
   "source": [
    "df = next(fridge.load(physical_quantity = 'power'))\n",
    "df.head()"
   ]
  },
  {
   "cell_type": "markdown",
   "metadata": {},
   "source": [
    "### Loading by specifying AC type"
   ]
  },
  {
   "cell_type": "code",
   "execution_count": 18,
   "metadata": {
    "collapsed": false
   },
   "outputs": [
    {
     "data": {
      "text/html": [
       "<div>\n",
       "<table border=\"1\" class=\"dataframe\">\n",
       "  <thead>\n",
       "    <tr>\n",
       "      <th>physical_quantity</th>\n",
       "      <th>power</th>\n",
       "    </tr>\n",
       "    <tr>\n",
       "      <th>type</th>\n",
       "      <th>active</th>\n",
       "    </tr>\n",
       "  </thead>\n",
       "  <tbody>\n",
       "    <tr>\n",
       "      <th>2013-06-19 15:26:41+01:00</th>\n",
       "      <td>0</td>\n",
       "    </tr>\n",
       "    <tr>\n",
       "      <th>2013-06-19 15:26:45+01:00</th>\n",
       "      <td>6</td>\n",
       "    </tr>\n",
       "    <tr>\n",
       "      <th>2013-06-19 15:26:51+01:00</th>\n",
       "      <td>0</td>\n",
       "    </tr>\n",
       "    <tr>\n",
       "      <th>2013-06-19 15:26:58+01:00</th>\n",
       "      <td>0</td>\n",
       "    </tr>\n",
       "    <tr>\n",
       "      <th>2013-06-19 15:27:04+01:00</th>\n",
       "      <td>26</td>\n",
       "    </tr>\n",
       "  </tbody>\n",
       "</table>\n",
       "</div>"
      ],
      "text/plain": [
       "physical_quantity          power\n",
       "type                      active\n",
       "2013-06-19 15:26:41+01:00      0\n",
       "2013-06-19 15:26:45+01:00      6\n",
       "2013-06-19 15:26:51+01:00      0\n",
       "2013-06-19 15:26:58+01:00      0\n",
       "2013-06-19 15:27:04+01:00     26"
      ]
     },
     "execution_count": 18,
     "metadata": {},
     "output_type": "execute_result"
    }
   ],
   "source": [
    "df = next(fridge.load(ac_type='active'))\n",
    "df.head()"
   ]
  },
  {
   "cell_type": "markdown",
   "metadata": {},
   "source": [
    "### Loading by resampling to a specified period"
   ]
  },
  {
   "cell_type": "code",
   "execution_count": 19,
   "metadata": {
    "collapsed": false
   },
   "outputs": [
    {
     "data": {
      "text/html": [
       "<div>\n",
       "<table border=\"1\" class=\"dataframe\">\n",
       "  <thead>\n",
       "    <tr>\n",
       "      <th>physical_quantity</th>\n",
       "      <th>power</th>\n",
       "    </tr>\n",
       "    <tr>\n",
       "      <th>type</th>\n",
       "      <th>active</th>\n",
       "    </tr>\n",
       "  </thead>\n",
       "  <tbody>\n",
       "    <tr>\n",
       "      <th>2013-06-19 15:26:00+01:00</th>\n",
       "      <td>1.500000</td>\n",
       "    </tr>\n",
       "    <tr>\n",
       "      <th>2013-06-19 15:27:00+01:00</th>\n",
       "      <td>25.000000</td>\n",
       "    </tr>\n",
       "    <tr>\n",
       "      <th>2013-06-19 15:28:00+01:00</th>\n",
       "      <td>24.222221</td>\n",
       "    </tr>\n",
       "    <tr>\n",
       "      <th>2013-06-19 15:29:00+01:00</th>\n",
       "      <td>24.111111</td>\n",
       "    </tr>\n",
       "    <tr>\n",
       "      <th>2013-06-19 15:30:00+01:00</th>\n",
       "      <td>24.000000</td>\n",
       "    </tr>\n",
       "  </tbody>\n",
       "</table>\n",
       "</div>"
      ],
      "text/plain": [
       "physical_quantity              power\n",
       "type                          active\n",
       "2013-06-19 15:26:00+01:00   1.500000\n",
       "2013-06-19 15:27:00+01:00  25.000000\n",
       "2013-06-19 15:28:00+01:00  24.222221\n",
       "2013-06-19 15:29:00+01:00  24.111111\n",
       "2013-06-19 15:30:00+01:00  24.000000"
      ]
     },
     "execution_count": 19,
     "metadata": {},
     "output_type": "execute_result"
    }
   ],
   "source": [
    "# resample to minutely (i.e. with a sample period of 60 secs)\n",
    "df = next(fridge.load(ac_type='active', sample_period=60))\n",
    "df.head()"
   ]
  },
  {
   "cell_type": "code",
   "execution_count": null,
   "metadata": {
    "collapsed": true
   },
   "outputs": [],
   "source": []
  }
 ],
 "metadata": {
  "kernelspec": {
   "display_name": "Python 2",
   "language": "python",
   "name": "python2"
  },
  "language_info": {
   "codemirror_mode": {
    "name": "ipython",
    "version": 2
   },
   "file_extension": ".py",
   "mimetype": "text/x-python",
   "name": "python",
   "nbconvert_exporter": "python",
   "pygments_lexer": "ipython2",
   "version": "2.7.11"
  }
 },
 "nbformat": 4,
 "nbformat_minor": 1
}
