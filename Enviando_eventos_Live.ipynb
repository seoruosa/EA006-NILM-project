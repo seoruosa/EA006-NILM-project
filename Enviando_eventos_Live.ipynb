{
 "cells": [
  {
   "cell_type": "code",
   "execution_count": 82,
   "metadata": {
    "collapsed": true
   },
   "outputs": [],
   "source": [
    "from nilmtk import DataSet, TimeFrame\n",
    "import nilmtk\n",
    "from nilmtk.utils import print_dict\n",
    "\n",
    "ds = DataSet('/nilmtk/data/REDD/redd.h5')\n",
    "building = 1"
   ]
  },
  {
   "cell_type": "code",
   "execution_count": 157,
   "metadata": {
    "collapsed": false
   },
   "outputs": [
    {
     "name": "stdout",
     "output_type": "stream",
     "text": [
      "TimeFrame(start='2011-04-18 09:22:09-04:00', end='2011-05-24 15:57:02-04:00', empty=False)\n",
      "{'timestamp': Timestamp('2011-04-18 09:22:00-0400', tz='US/Eastern', offset='60S'), 'power': 6.0}\n",
      "{'timestamp': Timestamp('2011-04-18 09:23:00-0400', tz='US/Eastern', offset='60S'), 'power': 6.0}\n",
      "{'timestamp': Timestamp('2011-04-18 09:24:00-0400', tz='US/Eastern', offset='60S'), 'power': 6.0}\n",
      "{'timestamp': Timestamp('2011-04-18 09:25:00-0400', tz='US/Eastern', offset='60S'), 'power': 5.9375}\n",
      "{'timestamp': Timestamp('2011-04-18 09:26:00-0400', tz='US/Eastern', offset='60S'), 'power': 5.9375}\n",
      "{'timestamp': Timestamp('2011-04-18 09:27:00-0400', tz='US/Eastern', offset='60S'), 'power': 6.0}\n",
      "{'timestamp': Timestamp('2011-04-18 09:28:00-0400', tz='US/Eastern', offset='60S'), 'power': 6.0}\n",
      "{'timestamp': Timestamp('2011-04-18 09:29:00-0400', tz='US/Eastern', offset='60S'), 'power': 6.0}\n",
      "{'timestamp': Timestamp('2011-04-18 09:30:00-0400', tz='US/Eastern', offset='60S'), 'power': 6.0}\n",
      "{'timestamp': Timestamp('2011-04-18 09:31:00-0400', tz='US/Eastern', offset='60S'), 'power': 6.0}\n",
      "{'timestamp': Timestamp('2011-04-18 09:32:00-0400', tz='US/Eastern', offset='60S'), 'power': 6.0}\n",
      "{'timestamp': Timestamp('2011-04-18 09:33:00-0400', tz='US/Eastern', offset='60S'), 'power': 6.0}\n",
      "{'timestamp': Timestamp('2011-04-18 09:34:00-0400', tz='US/Eastern', offset='60S'), 'power': 6.0}\n",
      "{'timestamp': Timestamp('2011-04-18 09:35:00-0400', tz='US/Eastern', offset='60S'), 'power': 6.0}\n",
      "{'timestamp': Timestamp('2011-04-18 09:36:00-0400', tz='US/Eastern', offset='60S'), 'power': 6.0}\n",
      "{'timestamp': Timestamp('2011-04-18 09:37:00-0400', tz='US/Eastern', offset='60S'), 'power': 6.0}\n",
      "{'timestamp': Timestamp('2011-04-18 09:38:00-0400', tz='US/Eastern', offset='60S'), 'power': 6.0}\n",
      "{'timestamp': Timestamp('2011-04-18 09:39:00-0400', tz='US/Eastern', offset='60S'), 'power': 5.9333334}\n",
      "{'timestamp': Timestamp('2011-04-18 09:40:00-0400', tz='US/Eastern', offset='60S'), 'power': 5.8000002}\n",
      "{'timestamp': Timestamp('2011-04-18 09:41:00-0400', tz='US/Eastern', offset='60S'), 'power': 5.9333334}\n",
      "{'timestamp': Timestamp('2011-04-18 09:42:00-0400', tz='US/Eastern', offset='60S'), 'power': 5.9333334}\n",
      "\n",
      "\n",
      "\n",
      "physical_quantity           power\n",
      "type                       active\n",
      "2011-04-18 09:22:00-04:00  6.0000\n",
      "2011-04-18 09:23:00-04:00  6.0000\n",
      "2011-04-18 09:24:00-04:00  6.0000\n",
      "2011-04-18 09:25:00-04:00  5.9375\n",
      "2011-04-18 09:26:00-04:00  5.9375\n"
     ]
    }
   ],
   "source": [
    "print ds.buildings[building].elec.get_timeframe()\n",
    "#ds.buildings[building].elec.meters[1].available_columns() #power apparent\n",
    "#ds.buildings[building].elec.meters[1].dataset() #'REDD'\n",
    "#ds.buildings[building].elec.meters[1].sample_period() #1\n",
    "#nilmtk.datastore.datastore.join_key('')\n",
    "#ds.buildings[building].elec.meters[1].load()\n",
    "elec = ds.buildings[building].elec\n",
    "#print(elec)\n",
    "#for i in ds.buildings[building].elec.meters:\n",
    "#    if len(i.appliances):\n",
    "#        print(i.appliances)\n",
    "df = next(ds.buildings[building].elec['fridge'].load(sample_period=60))\n",
    "count = 0\n",
    "for i in df.itertuples():\n",
    "    event = {'timestamp':i[0], 'power':i[1]}\n",
    "#    print i[0].value/1000000, i[1]\n",
    "    print event\n",
    "    count += 1\n",
    "    if count>20:\n",
    "        break\n",
    "print \"\\n\\n\"\n",
    "print df.head()"
   ]
  }
 ],
 "metadata": {
  "kernelspec": {
   "display_name": "Python 2",
   "language": "python",
   "name": "python2"
  },
  "language_info": {
   "codemirror_mode": {
    "name": "ipython",
    "version": 2
   },
   "file_extension": ".py",
   "mimetype": "text/x-python",
   "name": "python",
   "nbconvert_exporter": "python",
   "pygments_lexer": "ipython2",
   "version": "2.7.11"
  }
 },
 "nbformat": 4,
 "nbformat_minor": 0
}
