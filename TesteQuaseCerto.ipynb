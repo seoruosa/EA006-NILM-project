{
 "cells": [
  {
   "cell_type": "code",
   "execution_count": 1,
   "metadata": {
    "collapsed": false
   },
   "outputs": [],
   "source": [
    "from __future__ import print_function, division\n",
    "import pandas as pd\n",
    "import numpy as np\n",
    "from copy import deepcopy\n",
    "from os.path import join, isdir, isfile, dirname, abspath\n",
    "from os import listdir, getcwd\n",
    "import re\n",
    "from sys import stdout, getfilesystemencoding\n",
    "from nilmtk.datastore import Key\n",
    "from nilmtk.timeframe import TimeFrame\n",
    "from nilmtk.measurement import LEVEL_NAMES\n",
    "from nilm_metadata import convert_yaml_to_hdf5\n",
    "from inspect import currentframe, getfile, getsourcefile\n",
    "from copy import copy"
   ]
  },
  {
   "cell_type": "code",
   "execution_count": 2,
   "metadata": {
    "collapsed": true
   },
   "outputs": [],
   "source": [
    "import matplotlib.pyplot as plt"
   ]
  },
  {
   "cell_type": "code",
   "execution_count": 3,
   "metadata": {
    "collapsed": true
   },
   "outputs": [],
   "source": [
    "from nilmtk import DataSet, TimeFrame\n",
    "from nilmtk.disaggregate import CombinatorialOptimisation"
   ]
  },
  {
   "cell_type": "code",
   "execution_count": 33,
   "metadata": {
    "collapsed": false
   },
   "outputs": [],
   "source": [
    "train = DataSet(\"iawe.h5\")"
   ]
  },
  {
   "cell_type": "code",
   "execution_count": 34,
   "metadata": {
    "collapsed": false
   },
   "outputs": [
    {
     "name": "stdout",
     "output_type": "stream",
     "text": [
      "MeterGroup(meters=\n",
      "  ElecMeter(instance=1, building=1, dataset='iAWE', site_meter, appliances=[])\n",
      "  ElecMeter(instance=2, building=1, dataset='iAWE', site_meter, appliances=[])\n",
      "  ElecMeter(instance=3, building=1, dataset='iAWE', appliances=[Appliance(type='fridge', instance=1)])\n",
      "  ElecMeter(instance=4, building=1, dataset='iAWE', appliances=[Appliance(type='air conditioner', instance=1)])\n",
      "  ElecMeter(instance=5, building=1, dataset='iAWE', appliances=[Appliance(type='air conditioner', instance=2)])\n",
      "  ElecMeter(instance=6, building=1, dataset='iAWE', appliances=[Appliance(type='washing machine', instance=1)])\n",
      "  ElecMeter(instance=7, building=1, dataset='iAWE', appliances=[Appliance(type='computer', instance=1)])\n",
      "  ElecMeter(instance=8, building=1, dataset='iAWE', appliances=[Appliance(type='clothes iron', instance=1)])\n",
      "  ElecMeter(instance=9, building=1, dataset='iAWE', appliances=[Appliance(type='unknown', instance=1)])\n",
      "  ElecMeter(instance=10, building=1, dataset='iAWE', appliances=[Appliance(type='television', instance=1)])\n",
      "  ElecMeter(instance=11, building=1, dataset='iAWE', appliances=[Appliance(type='wet appliance', instance=1)])\n",
      "  ElecMeter(instance=12, building=1, dataset='iAWE', appliances=[Appliance(type='motor', instance=1)])\n",
      ")\n"
     ]
    }
   ],
   "source": [
    "test = copy(train)\n",
    "print(train.buildings[1].elec)"
   ]
  },
  {
   "cell_type": "code",
   "execution_count": 35,
   "metadata": {
    "collapsed": false
   },
   "outputs": [],
   "source": [
    "elec = train.buildings[1].elec"
   ]
  },
  {
   "cell_type": "code",
   "execution_count": 36,
   "metadata": {
    "collapsed": true
   },
   "outputs": [],
   "source": [
    "building_2 = train.buildings[1]"
   ]
  },
  {
   "cell_type": "code",
   "execution_count": 37,
   "metadata": {
    "collapsed": false
   },
   "outputs": [
    {
     "name": "stdout",
     "output_type": "stream",
     "text": [
      "MeterGroup(meters=\n",
      "  ElecMeter(instance=1, building=1, dataset='iAWE', site_meter, appliances=[])\n",
      "  ElecMeter(instance=2, building=1, dataset='iAWE', site_meter, appliances=[])\n",
      "  ElecMeter(instance=3, building=1, dataset='iAWE', appliances=[Appliance(type='fridge', instance=1)])\n",
      "  ElecMeter(instance=4, building=1, dataset='iAWE', appliances=[Appliance(type='air conditioner', instance=1)])\n",
      "  ElecMeter(instance=5, building=1, dataset='iAWE', appliances=[Appliance(type='air conditioner', instance=2)])\n",
      "  ElecMeter(instance=6, building=1, dataset='iAWE', appliances=[Appliance(type='washing machine', instance=1)])\n",
      "  ElecMeter(instance=7, building=1, dataset='iAWE', appliances=[Appliance(type='computer', instance=1)])\n",
      "  ElecMeter(instance=8, building=1, dataset='iAWE', appliances=[Appliance(type='clothes iron', instance=1)])\n",
      "  ElecMeter(instance=9, building=1, dataset='iAWE', appliances=[Appliance(type='unknown', instance=1)])\n",
      "  ElecMeter(instance=10, building=1, dataset='iAWE', appliances=[Appliance(type='television', instance=1)])\n",
      "  ElecMeter(instance=11, building=1, dataset='iAWE', appliances=[Appliance(type='wet appliance', instance=1)])\n",
      "  ElecMeter(instance=12, building=1, dataset='iAWE', appliances=[Appliance(type='motor', instance=1)])\n",
      ")\n"
     ]
    }
   ],
   "source": [
    "print(elec)"
   ]
  },
  {
   "cell_type": "code",
   "execution_count": 20,
   "metadata": {
    "collapsed": false
   },
   "outputs": [
    {
     "name": "stdout",
     "output_type": "stream",
     "text": [
      "3/3 ElecMeter(instance=3, building=1, dataset=None, appliances=[])"
     ]
    }
   ],
   "source": [
    "top_k = elec.select_top_k(k=6)"
   ]
  },
  {
   "cell_type": "code",
   "execution_count": 21,
   "metadata": {
    "collapsed": false
   },
   "outputs": [
    {
     "name": "stderr",
     "output_type": "stream",
     "text": [
      "/opt/conda/lib/python2.7/site-packages/IPython/core/formatters.py:92: DeprecationWarning: DisplayFormatter._ipython_display_formatter_default is deprecated: use @default decorator instead.\n",
      "  def _ipython_display_formatter_default(self):\n",
      "/opt/conda/lib/python2.7/site-packages/IPython/core/formatters.py:98: DeprecationWarning: DisplayFormatter._formatters_default is deprecated: use @default decorator instead.\n",
      "  def _formatters_default(self):\n",
      "/opt/conda/lib/python2.7/site-packages/IPython/core/formatters.py:677: DeprecationWarning: PlainTextFormatter._deferred_printers_default is deprecated: use @default decorator instead.\n",
      "  def _deferred_printers_default(self):\n",
      "/opt/conda/lib/python2.7/site-packages/IPython/core/formatters.py:669: DeprecationWarning: PlainTextFormatter._singleton_printers_default is deprecated: use @default decorator instead.\n",
      "  def _singleton_printers_default(self):\n",
      "/opt/conda/lib/python2.7/site-packages/IPython/core/formatters.py:672: DeprecationWarning: PlainTextFormatter._type_printers_default is deprecated: use @default decorator instead.\n",
      "  def _type_printers_default(self):\n",
      "/opt/conda/lib/python2.7/site-packages/IPython/core/formatters.py:669: DeprecationWarning: PlainTextFormatter._singleton_printers_default is deprecated: use @default decorator instead.\n",
      "  def _singleton_printers_default(self):\n",
      "/opt/conda/lib/python2.7/site-packages/IPython/core/formatters.py:672: DeprecationWarning: PlainTextFormatter._type_printers_default is deprecated: use @default decorator instead.\n",
      "  def _type_printers_default(self):\n",
      "/opt/conda/lib/python2.7/site-packages/IPython/core/formatters.py:677: DeprecationWarning: PlainTextFormatter._deferred_printers_default is deprecated: use @default decorator instead.\n",
      "  def _deferred_printers_default(self):\n"
     ]
    },
    {
     "data": {
      "text/plain": [
       "MeterGroup(meters=\n",
       "  ElecMeter(instance=3, building=1, dataset=None, appliances=[])\n",
       "  ElecMeter(instance=1, building=1, dataset=None, site_meter, appliances=[])\n",
       "  ElecMeter(instance=2, building=1, dataset=None, appliances=[])\n",
       ")"
      ]
     },
     "execution_count": 21,
     "metadata": {},
     "output_type": "execute_result"
    }
   ],
   "source": [
    "top_k"
   ]
  },
  {
   "cell_type": "code",
   "execution_count": 22,
   "metadata": {
    "collapsed": false
   },
   "outputs": [
    {
     "name": "stdout",
     "output_type": "stream",
     "text": [
      "3/3 ElecMeter(instance=3, building=1, dataset=None, appliances=[])"
     ]
    },
    {
     "data": {
      "text/html": [
       "<div>\n",
       "<table border=\"1\" class=\"dataframe\">\n",
       "  <thead>\n",
       "    <tr style=\"text-align: right;\">\n",
       "      <th></th>\n",
       "      <th>active</th>\n",
       "      <th>apparent</th>\n",
       "      <th>reactive</th>\n",
       "    </tr>\n",
       "  </thead>\n",
       "  <tbody>\n",
       "    <tr>\n",
       "      <th>(1, 1, None)</th>\n",
       "      <td>0.023556</td>\n",
       "      <td>0.025911</td>\n",
       "      <td>0.0212</td>\n",
       "    </tr>\n",
       "    <tr>\n",
       "      <th>(2, 1, None)</th>\n",
       "      <td>0.023556</td>\n",
       "      <td>0.025911</td>\n",
       "      <td>0.0212</td>\n",
       "    </tr>\n",
       "    <tr>\n",
       "      <th>(3, 1, None)</th>\n",
       "      <td>0.023556</td>\n",
       "      <td>0.025911</td>\n",
       "      <td>0.0212</td>\n",
       "    </tr>\n",
       "  </tbody>\n",
       "</table>\n",
       "</div>"
      ],
      "text/plain": [
       "                active  apparent  reactive\n",
       "(1, 1, None)  0.023556  0.025911    0.0212\n",
       "(2, 1, None)  0.023556  0.025911    0.0212\n",
       "(3, 1, None)  0.023556  0.025911    0.0212"
      ]
     },
     "execution_count": 22,
     "metadata": {},
     "output_type": "execute_result"
    }
   ],
   "source": [
    "elec.energy_per_meter().T"
   ]
  },
  {
   "cell_type": "code",
   "execution_count": 23,
   "metadata": {
    "collapsed": false
   },
   "outputs": [],
   "source": [
    "split_point = elec.train_test_split(0.5)"
   ]
  },
  {
   "cell_type": "code",
   "execution_count": 24,
   "metadata": {
    "collapsed": false
   },
   "outputs": [
    {
     "name": "stdout",
     "output_type": "stream",
     "text": [
      "2010-01-01 00:03:40\n"
     ]
    }
   ],
   "source": [
    "print(split_point)"
   ]
  },
  {
   "cell_type": "code",
   "execution_count": 25,
   "metadata": {
    "collapsed": false
   },
   "outputs": [
    {
     "name": "stderr",
     "output_type": "stream",
     "text": [
      "/nilmtk/nilmtk/metergroup.py:901: UserWarning: As a quick implementation we only get Good Sections from the first meter in the meter group.  We should really return the intersection of the good sections for all meters.  This will be fixed...\n",
      "  warn(\"As a quick implementation we only get Good Sections from\"\n"
     ]
    },
    {
     "data": {
      "text/plain": [
       "[TimeFrame(start='2010-01-01 00:00:00', end='2010-01-01 00:00:30', empty=False),\n",
       " TimeFrame(start='2010-01-01 00:03:20', end='2010-01-01 00:04:30', empty=False)]"
      ]
     },
     "execution_count": 25,
     "metadata": {},
     "output_type": "execute_result"
    }
   ],
   "source": [
    "elec.good_sections()"
   ]
  },
  {
   "cell_type": "code",
   "execution_count": 26,
   "metadata": {
    "collapsed": false
   },
   "outputs": [],
   "source": [
    "train.store.window = TimeFrame(start=None, end = split_point)\n",
    "test.store.window = TimeFrame(start=split_point, end=None)"
   ]
  },
  {
   "cell_type": "code",
   "execution_count": 27,
   "metadata": {
    "collapsed": true
   },
   "outputs": [],
   "source": [
    "from nilmtk import DataSet, TimeFrame\n",
    "from nilmtk.disaggregate import CombinatorialOptimisation"
   ]
  },
  {
   "cell_type": "code",
   "execution_count": 28,
   "metadata": {
    "collapsed": true
   },
   "outputs": [],
   "source": [
    "co = CombinatorialOptimisation()"
   ]
  },
  {
   "cell_type": "code",
   "execution_count": 29,
   "metadata": {
    "collapsed": false
   },
   "outputs": [
    {
     "name": "stdout",
     "output_type": "stream",
     "text": [
      "Training model for submeter 'ElecMeter(instance=3, building=1, dataset=None, appliances=[])'\n",
      "Training model for submeter 'ElecMeter(instance=2, building=1, dataset=None, appliances=[])'\n",
      "Done training!\n"
     ]
    }
   ],
   "source": [
    "co.train(top_k)"
   ]
  },
  {
   "cell_type": "code",
   "execution_count": 30,
   "metadata": {
    "collapsed": false
   },
   "outputs": [
    {
     "data": {
      "text/plain": [
       "[{'states': array([0], dtype=int32),\n",
       "  'training_metadata': ElecMeter(instance=3, building=1, dataset=None, appliances=[])},\n",
       " {'states': array([0], dtype=int32),\n",
       "  'training_metadata': ElecMeter(instance=2, building=1, dataset=None, appliances=[])}]"
      ]
     },
     "execution_count": 30,
     "metadata": {},
     "output_type": "execute_result"
    }
   ],
   "source": [
    "co.model"
   ]
  },
  {
   "cell_type": "code",
   "execution_count": 31,
   "metadata": {
    "collapsed": false
   },
   "outputs": [],
   "source": [
    "from nilmtk import HDFDataStore"
   ]
  },
  {
   "cell_type": "code",
   "execution_count": null,
   "metadata": {
    "collapsed": true
   },
   "outputs": [],
   "source": []
  },
  {
   "cell_type": "code",
   "execution_count": 32,
   "metadata": {
    "collapsed": false
   },
   "outputs": [
    {
     "ename": "ValueError",
     "evalue": "The file 'output3.h5' is already opened.  Please close it before reopening in write mode.",
     "output_type": "error",
     "traceback": [
      "\u001b[1;31m---------------------------------------------------------------------------\u001b[0m",
      "\u001b[1;31mValueError\u001b[0m                                Traceback (most recent call last)",
      "\u001b[1;32m<ipython-input-32-d9b43c830984>\u001b[0m in \u001b[0;36m<module>\u001b[1;34m()\u001b[0m\n\u001b[1;32m----> 1\u001b[1;33m \u001b[0moutput\u001b[0m \u001b[1;33m=\u001b[0m \u001b[0mHDFDataStore\u001b[0m\u001b[1;33m(\u001b[0m\u001b[1;34m'output3.h5'\u001b[0m\u001b[1;33m,\u001b[0m \u001b[1;34m'w'\u001b[0m\u001b[1;33m)\u001b[0m\u001b[1;33m\u001b[0m\u001b[0m\n\u001b[0m",
      "\u001b[1;32m/nilmtk/nilmtk/docinherit.pyc\u001b[0m in \u001b[0;36mf\u001b[1;34m(*args, **kwargs)\u001b[0m\n\u001b[0;32m     44\u001b[0m         \u001b[1;33m@\u001b[0m\u001b[0mwraps\u001b[0m\u001b[1;33m(\u001b[0m\u001b[0mself\u001b[0m\u001b[1;33m.\u001b[0m\u001b[0mmthd\u001b[0m\u001b[1;33m,\u001b[0m \u001b[0massigned\u001b[0m\u001b[1;33m=\u001b[0m\u001b[1;33m(\u001b[0m\u001b[1;34m'__name__'\u001b[0m\u001b[1;33m,\u001b[0m\u001b[1;34m'__module__'\u001b[0m\u001b[1;33m)\u001b[0m\u001b[1;33m)\u001b[0m\u001b[1;33m\u001b[0m\u001b[0m\n\u001b[0;32m     45\u001b[0m         \u001b[1;32mdef\u001b[0m \u001b[0mf\u001b[0m\u001b[1;33m(\u001b[0m\u001b[1;33m*\u001b[0m\u001b[0margs\u001b[0m\u001b[1;33m,\u001b[0m \u001b[1;33m**\u001b[0m\u001b[0mkwargs\u001b[0m\u001b[1;33m)\u001b[0m\u001b[1;33m:\u001b[0m\u001b[1;33m\u001b[0m\u001b[0m\n\u001b[1;32m---> 46\u001b[1;33m             \u001b[1;32mreturn\u001b[0m \u001b[0mself\u001b[0m\u001b[1;33m.\u001b[0m\u001b[0mmthd\u001b[0m\u001b[1;33m(\u001b[0m\u001b[0mobj\u001b[0m\u001b[1;33m,\u001b[0m \u001b[1;33m*\u001b[0m\u001b[0margs\u001b[0m\u001b[1;33m,\u001b[0m \u001b[1;33m**\u001b[0m\u001b[0mkwargs\u001b[0m\u001b[1;33m)\u001b[0m\u001b[1;33m\u001b[0m\u001b[0m\n\u001b[0m\u001b[0;32m     47\u001b[0m \u001b[1;33m\u001b[0m\u001b[0m\n\u001b[0;32m     48\u001b[0m         \u001b[1;32mreturn\u001b[0m \u001b[0mself\u001b[0m\u001b[1;33m.\u001b[0m\u001b[0muse_parent_doc\u001b[0m\u001b[1;33m(\u001b[0m\u001b[0mf\u001b[0m\u001b[1;33m,\u001b[0m \u001b[0moverridden\u001b[0m\u001b[1;33m)\u001b[0m\u001b[1;33m\u001b[0m\u001b[0m\n",
      "\u001b[1;32m/nilmtk/nilmtk/datastore/hdfdatastore.pyc\u001b[0m in \u001b[0;36m__init__\u001b[1;34m(self, filename, mode)\u001b[0m\n\u001b[0;32m     28\u001b[0m         \u001b[1;32mif\u001b[0m \u001b[0mmode\u001b[0m \u001b[1;33m==\u001b[0m \u001b[1;34m'a'\u001b[0m \u001b[1;32mand\u001b[0m \u001b[1;32mnot\u001b[0m \u001b[0misfile\u001b[0m\u001b[1;33m(\u001b[0m\u001b[0mfilename\u001b[0m\u001b[1;33m)\u001b[0m\u001b[1;33m:\u001b[0m\u001b[1;33m\u001b[0m\u001b[0m\n\u001b[0;32m     29\u001b[0m             \u001b[1;32mraise\u001b[0m \u001b[0mIOError\u001b[0m\u001b[1;33m(\u001b[0m\u001b[1;34m\"No such file as \"\u001b[0m \u001b[1;33m+\u001b[0m \u001b[0mfilename\u001b[0m\u001b[1;33m)\u001b[0m\u001b[1;33m\u001b[0m\u001b[0m\n\u001b[1;32m---> 30\u001b[1;33m         \u001b[0mself\u001b[0m\u001b[1;33m.\u001b[0m\u001b[0mstore\u001b[0m \u001b[1;33m=\u001b[0m \u001b[0mpd\u001b[0m\u001b[1;33m.\u001b[0m\u001b[0mHDFStore\u001b[0m\u001b[1;33m(\u001b[0m\u001b[0mfilename\u001b[0m\u001b[1;33m,\u001b[0m \u001b[0mmode\u001b[0m\u001b[1;33m,\u001b[0m \u001b[0mcomplevel\u001b[0m\u001b[1;33m=\u001b[0m\u001b[1;36m9\u001b[0m\u001b[1;33m,\u001b[0m \u001b[0mcomplib\u001b[0m\u001b[1;33m=\u001b[0m\u001b[1;34m'blosc'\u001b[0m\u001b[1;33m)\u001b[0m\u001b[1;33m\u001b[0m\u001b[0m\n\u001b[0m\u001b[0;32m     31\u001b[0m         \u001b[0msuper\u001b[0m\u001b[1;33m(\u001b[0m\u001b[0mHDFDataStore\u001b[0m\u001b[1;33m,\u001b[0m \u001b[0mself\u001b[0m\u001b[1;33m)\u001b[0m\u001b[1;33m.\u001b[0m\u001b[0m__init__\u001b[0m\u001b[1;33m(\u001b[0m\u001b[1;33m)\u001b[0m\u001b[1;33m\u001b[0m\u001b[0m\n\u001b[0;32m     32\u001b[0m \u001b[1;33m\u001b[0m\u001b[0m\n",
      "\u001b[1;32m/opt/conda/lib/python2.7/site-packages/pandas/io/pytables.pyc\u001b[0m in \u001b[0;36m__init__\u001b[1;34m(self, path, mode, complevel, complib, fletcher32, **kwargs)\u001b[0m\n\u001b[0;32m    403\u001b[0m         \u001b[0mself\u001b[0m\u001b[1;33m.\u001b[0m\u001b[0m_fletcher32\u001b[0m \u001b[1;33m=\u001b[0m \u001b[0mfletcher32\u001b[0m\u001b[1;33m\u001b[0m\u001b[0m\n\u001b[0;32m    404\u001b[0m         \u001b[0mself\u001b[0m\u001b[1;33m.\u001b[0m\u001b[0m_filters\u001b[0m \u001b[1;33m=\u001b[0m \u001b[0mNone\u001b[0m\u001b[1;33m\u001b[0m\u001b[0m\n\u001b[1;32m--> 405\u001b[1;33m         \u001b[0mself\u001b[0m\u001b[1;33m.\u001b[0m\u001b[0mopen\u001b[0m\u001b[1;33m(\u001b[0m\u001b[0mmode\u001b[0m\u001b[1;33m=\u001b[0m\u001b[0mmode\u001b[0m\u001b[1;33m,\u001b[0m \u001b[1;33m**\u001b[0m\u001b[0mkwargs\u001b[0m\u001b[1;33m)\u001b[0m\u001b[1;33m\u001b[0m\u001b[0m\n\u001b[0m\u001b[0;32m    406\u001b[0m \u001b[1;33m\u001b[0m\u001b[0m\n\u001b[0;32m    407\u001b[0m     \u001b[1;33m@\u001b[0m\u001b[0mproperty\u001b[0m\u001b[1;33m\u001b[0m\u001b[0m\n",
      "\u001b[1;32m/opt/conda/lib/python2.7/site-packages/pandas/io/pytables.pyc\u001b[0m in \u001b[0;36mopen\u001b[1;34m(self, mode, **kwargs)\u001b[0m\n\u001b[0;32m    560\u001b[0m                                                                                     hdf_version=tables.get_hdf5_version()))\n\u001b[0;32m    561\u001b[0m \u001b[1;33m\u001b[0m\u001b[0m\n\u001b[1;32m--> 562\u001b[1;33m             \u001b[1;32mraise\u001b[0m \u001b[0me\u001b[0m\u001b[1;33m\u001b[0m\u001b[0m\n\u001b[0m\u001b[0;32m    563\u001b[0m \u001b[1;33m\u001b[0m\u001b[0m\n\u001b[0;32m    564\u001b[0m         \u001b[1;32mexcept\u001b[0m \u001b[1;33m(\u001b[0m\u001b[0mException\u001b[0m\u001b[1;33m)\u001b[0m \u001b[1;32mas\u001b[0m \u001b[0me\u001b[0m\u001b[1;33m:\u001b[0m\u001b[1;33m\u001b[0m\u001b[0m\n",
      "\u001b[1;31mValueError\u001b[0m: The file 'output3.h5' is already opened.  Please close it before reopening in write mode."
     ]
    }
   ],
   "source": [
    "output = HDFDataStore('output3.h5', 'w')"
   ]
  },
  {
   "cell_type": "code",
   "execution_count": 40,
   "metadata": {
    "collapsed": false
   },
   "outputs": [
    {
     "name": "stdout",
     "output_type": "stream",
     "text": [
      "Loading data for meter ElecMeterID(instance=2, building=1, dataset='iAWE')     \n",
      "Done loading data all meters for this chunk.\n",
      "Including vampire_power = 283.382781982 watts to model...\n",
      "Estimating power demand for 'ElecMeter(instance=3, building=1, dataset='iAWE', appliances=[Appliance(type='fridge', instance=1)])'\n",
      "Estimating power demand for 'ElecMeter(instance=4, building=1, dataset='iAWE', appliances=[Appliance(type='air conditioner', instance=1)])'\n",
      "Estimating power demand for 'ElecMeter(instance=7, building=1, dataset='iAWE', appliances=[Appliance(type='computer', instance=1)])'\n",
      "Estimating power demand for 'ElecMeter(instance=5, building=1, dataset='iAWE', appliances=[Appliance(type='air conditioner', instance=2)])'\n",
      "Loading data for meter ElecMeterID(instance=2, building=1, dataset='iAWE')     \n",
      "Done loading data all meters for this chunk.\n",
      "Including vampire_power = 89.2108001709 watts to model...\n",
      "Estimating power demand for 'ElecMeter(instance=3, building=1, dataset='iAWE', appliances=[Appliance(type='fridge', instance=1)])'\n",
      "Estimating power demand for 'ElecMeter(instance=4, building=1, dataset='iAWE', appliances=[Appliance(type='air conditioner', instance=1)])'\n",
      "Estimating power demand for 'ElecMeter(instance=7, building=1, dataset='iAWE', appliances=[Appliance(type='computer', instance=1)])'\n",
      "Estimating power demand for 'ElecMeter(instance=5, building=1, dataset='iAWE', appliances=[Appliance(type='air conditioner', instance=2)])'\n",
      "Loading data for meter ElecMeterID(instance=2, building=1, dataset='iAWE')     \n",
      "Done loading data all meters for this chunk.\n",
      "Loading data for meter ElecMeterID(instance=2, building=1, dataset='iAWE')     \n",
      "Done loading data all meters for this chunk.\n",
      "Including vampire_power = 128.835769653 watts to model...\n",
      "Estimating power demand for 'ElecMeter(instance=3, building=1, dataset='iAWE', appliances=[Appliance(type='fridge', instance=1)])'\n",
      "Estimating power demand for 'ElecMeter(instance=4, building=1, dataset='iAWE', appliances=[Appliance(type='air conditioner', instance=1)])'\n",
      "Estimating power demand for 'ElecMeter(instance=7, building=1, dataset='iAWE', appliances=[Appliance(type='computer', instance=1)])'\n",
      "Estimating power demand for 'ElecMeter(instance=5, building=1, dataset='iAWE', appliances=[Appliance(type='air conditioner', instance=2)])'\n",
      "Loading data for meter ElecMeterID(instance=2, building=1, dataset='iAWE')     \n",
      "Done loading data all meters for this chunk.\n",
      "Including vampire_power = 513.179138184 watts to model...\n",
      "Estimating power demand for 'ElecMeter(instance=3, building=1, dataset='iAWE', appliances=[Appliance(type='fridge', instance=1)])'\n",
      "Estimating power demand for 'ElecMeter(instance=4, building=1, dataset='iAWE', appliances=[Appliance(type='air conditioner', instance=1)])'\n",
      "Estimating power demand for 'ElecMeter(instance=7, building=1, dataset='iAWE', appliances=[Appliance(type='computer', instance=1)])'\n",
      "Estimating power demand for 'ElecMeter(instance=5, building=1, dataset='iAWE', appliances=[Appliance(type='air conditioner', instance=2)])'\n",
      "Loading data for meter ElecMeterID(instance=2, building=1, dataset='iAWE')     \n",
      "Done loading data all meters for this chunk.\n",
      "Including vampire_power = 192.41065979 watts to model...\n",
      "Estimating power demand for 'ElecMeter(instance=3, building=1, dataset='iAWE', appliances=[Appliance(type='fridge', instance=1)])'\n",
      "Estimating power demand for 'ElecMeter(instance=4, building=1, dataset='iAWE', appliances=[Appliance(type='air conditioner', instance=1)])'\n",
      "Estimating power demand for 'ElecMeter(instance=7, building=1, dataset='iAWE', appliances=[Appliance(type='computer', instance=1)])'\n",
      "Estimating power demand for 'ElecMeter(instance=5, building=1, dataset='iAWE', appliances=[Appliance(type='air conditioner', instance=2)])'\n",
      "Loading data for meter ElecMeterID(instance=2, building=1, dataset='iAWE')     \n",
      "Done loading data all meters for this chunk.\n",
      "Including vampire_power = 177.188751221 watts to model...\n",
      "Estimating power demand for 'ElecMeter(instance=3, building=1, dataset='iAWE', appliances=[Appliance(type='fridge', instance=1)])'\n",
      "Estimating power demand for 'ElecMeter(instance=4, building=1, dataset='iAWE', appliances=[Appliance(type='air conditioner', instance=1)])'\n",
      "Estimating power demand for 'ElecMeter(instance=7, building=1, dataset='iAWE', appliances=[Appliance(type='computer', instance=1)])'\n",
      "Estimating power demand for 'ElecMeter(instance=5, building=1, dataset='iAWE', appliances=[Appliance(type='air conditioner', instance=2)])'\n",
      "Loading data for meter ElecMeterID(instance=2, building=1, dataset='iAWE')     \n",
      "Done loading data all meters for this chunk.\n",
      "Including vampire_power = 100.866088867 watts to model...\n",
      "Estimating power demand for 'ElecMeter(instance=3, building=1, dataset='iAWE', appliances=[Appliance(type='fridge', instance=1)])'\n",
      "Estimating power demand for 'ElecMeter(instance=4, building=1, dataset='iAWE', appliances=[Appliance(type='air conditioner', instance=1)])'\n",
      "Estimating power demand for 'ElecMeter(instance=7, building=1, dataset='iAWE', appliances=[Appliance(type='computer', instance=1)])'\n",
      "Estimating power demand for 'ElecMeter(instance=5, building=1, dataset='iAWE', appliances=[Appliance(type='air conditioner', instance=2)])'\n",
      "Loading data for meter ElecMeterID(instance=2, building=1, dataset='iAWE')     \n",
      "Done loading data all meters for this chunk.\n",
      "Including vampire_power = 175.318725586 watts to model...\n",
      "Estimating power demand for 'ElecMeter(instance=3, building=1, dataset='iAWE', appliances=[Appliance(type='fridge', instance=1)])'\n",
      "Estimating power demand for 'ElecMeter(instance=4, building=1, dataset='iAWE', appliances=[Appliance(type='air conditioner', instance=1)])'\n",
      "Estimating power demand for 'ElecMeter(instance=7, building=1, dataset='iAWE', appliances=[Appliance(type='computer', instance=1)])'\n",
      "Estimating power demand for 'ElecMeter(instance=5, building=1, dataset='iAWE', appliances=[Appliance(type='air conditioner', instance=2)])'\n",
      "Loading data for meter ElecMeterID(instance=2, building=1, dataset='iAWE')     \n",
      "Done loading data all meters for this chunk.\n",
      "Loading data for meter ElecMeterID(instance=2, building=1, dataset='iAWE')     \n",
      "Done loading data all meters for this chunk.\n",
      "Including vampire_power = 524.297668457 watts to model...\n",
      "Estimating power demand for 'ElecMeter(instance=3, building=1, dataset='iAWE', appliances=[Appliance(type='fridge', instance=1)])'\n",
      "Estimating power demand for 'ElecMeter(instance=4, building=1, dataset='iAWE', appliances=[Appliance(type='air conditioner', instance=1)])'\n",
      "Estimating power demand for 'ElecMeter(instance=7, building=1, dataset='iAWE', appliances=[Appliance(type='computer', instance=1)])'\n",
      "Estimating power demand for 'ElecMeter(instance=5, building=1, dataset='iAWE', appliances=[Appliance(type='air conditioner', instance=2)])'\n",
      "Loading data for meter ElecMeterID(instance=2, building=1, dataset='iAWE')     \n",
      "Done loading data all meters for this chunk.\n",
      "Including vampire_power = 92.0657730103 watts to model...\n",
      "Estimating power demand for 'ElecMeter(instance=3, building=1, dataset='iAWE', appliances=[Appliance(type='fridge', instance=1)])'\n",
      "Estimating power demand for 'ElecMeter(instance=4, building=1, dataset='iAWE', appliances=[Appliance(type='air conditioner', instance=1)])'\n",
      "Estimating power demand for 'ElecMeter(instance=7, building=1, dataset='iAWE', appliances=[Appliance(type='computer', instance=1)])'\n",
      "Estimating power demand for 'ElecMeter(instance=5, building=1, dataset='iAWE', appliances=[Appliance(type='air conditioner', instance=2)])'\n",
      "Loading data for meter ElecMeterID(instance=2, building=1, dataset='iAWE')     \n",
      "Done loading data all meters for this chunk.\n",
      "Loading data for meter ElecMeterID(instance=2, building=1, dataset='iAWE')     \n",
      "Done loading data all meters for this chunk.\n",
      "Including vampire_power = 101.033821106 watts to model...\n",
      "Estimating power demand for 'ElecMeter(instance=3, building=1, dataset='iAWE', appliances=[Appliance(type='fridge', instance=1)])'\n",
      "Estimating power demand for 'ElecMeter(instance=4, building=1, dataset='iAWE', appliances=[Appliance(type='air conditioner', instance=1)])'\n",
      "Estimating power demand for 'ElecMeter(instance=7, building=1, dataset='iAWE', appliances=[Appliance(type='computer', instance=1)])'\n",
      "Estimating power demand for 'ElecMeter(instance=5, building=1, dataset='iAWE', appliances=[Appliance(type='air conditioner', instance=2)])'\n",
      "Loading data for meter ElecMeterID(instance=2, building=1, dataset='iAWE')     \n",
      "Done loading data all meters for this chunk.\n",
      "Loading data for meter ElecMeterID(instance=2, building=1, dataset='iAWE')     \n",
      "Done loading data all meters for this chunk.\n",
      "Loading data for meter ElecMeterID(instance=2, building=1, dataset='iAWE')     \n",
      "Done loading data all meters for this chunk.\n",
      "Including vampire_power = 134.592147827 watts to model...\n",
      "Estimating power demand for 'ElecMeter(instance=3, building=1, dataset='iAWE', appliances=[Appliance(type='fridge', instance=1)])'\n",
      "Estimating power demand for 'ElecMeter(instance=4, building=1, dataset='iAWE', appliances=[Appliance(type='air conditioner', instance=1)])'\n",
      "Estimating power demand for 'ElecMeter(instance=7, building=1, dataset='iAWE', appliances=[Appliance(type='computer', instance=1)])'\n",
      "Estimating power demand for 'ElecMeter(instance=5, building=1, dataset='iAWE', appliances=[Appliance(type='air conditioner', instance=2)])'\n",
      "Loading data for meter ElecMeterID(instance=2, building=1, dataset='iAWE')     \n",
      "Done loading data all meters for this chunk.\n",
      "Including vampire_power = 92.52784729 watts to model...\n",
      "Estimating power demand for 'ElecMeter(instance=3, building=1, dataset='iAWE', appliances=[Appliance(type='fridge', instance=1)])'\n",
      "Estimating power demand for 'ElecMeter(instance=4, building=1, dataset='iAWE', appliances=[Appliance(type='air conditioner', instance=1)])'\n",
      "Estimating power demand for 'ElecMeter(instance=7, building=1, dataset='iAWE', appliances=[Appliance(type='computer', instance=1)])'\n",
      "Estimating power demand for 'ElecMeter(instance=5, building=1, dataset='iAWE', appliances=[Appliance(type='air conditioner', instance=2)])'\n",
      "Loading data for meter ElecMeterID(instance=2, building=1, dataset='iAWE')     \n",
      "Done loading data all meters for this chunk.\n",
      "Including vampire_power = 144.420379639 watts to model...\n",
      "Estimating power demand for 'ElecMeter(instance=3, building=1, dataset='iAWE', appliances=[Appliance(type='fridge', instance=1)])'\n",
      "Estimating power demand for 'ElecMeter(instance=4, building=1, dataset='iAWE', appliances=[Appliance(type='air conditioner', instance=1)])'\n",
      "Estimating power demand for 'ElecMeter(instance=7, building=1, dataset='iAWE', appliances=[Appliance(type='computer', instance=1)])'\n",
      "Estimating power demand for 'ElecMeter(instance=5, building=1, dataset='iAWE', appliances=[Appliance(type='air conditioner', instance=2)])'\n",
      "Loading data for meter ElecMeterID(instance=2, building=1, dataset='iAWE')     \n",
      "Done loading data all meters for this chunk.\n",
      "Including vampire_power = 196.091079712 watts to model...\n",
      "Estimating power demand for 'ElecMeter(instance=3, building=1, dataset='iAWE', appliances=[Appliance(type='fridge', instance=1)])'\n",
      "Estimating power demand for 'ElecMeter(instance=4, building=1, dataset='iAWE', appliances=[Appliance(type='air conditioner', instance=1)])'\n",
      "Estimating power demand for 'ElecMeter(instance=7, building=1, dataset='iAWE', appliances=[Appliance(type='computer', instance=1)])'\n",
      "Estimating power demand for 'ElecMeter(instance=5, building=1, dataset='iAWE', appliances=[Appliance(type='air conditioner', instance=2)])'\n",
      "Loading data for meter ElecMeterID(instance=2, building=1, dataset='iAWE')     \n",
      "Done loading data all meters for this chunk.\n",
      "Including vampire_power = 146.712081909 watts to model...\n",
      "Estimating power demand for 'ElecMeter(instance=3, building=1, dataset='iAWE', appliances=[Appliance(type='fridge', instance=1)])'\n",
      "Estimating power demand for 'ElecMeter(instance=4, building=1, dataset='iAWE', appliances=[Appliance(type='air conditioner', instance=1)])'\n",
      "Estimating power demand for 'ElecMeter(instance=7, building=1, dataset='iAWE', appliances=[Appliance(type='computer', instance=1)])'\n",
      "Estimating power demand for 'ElecMeter(instance=5, building=1, dataset='iAWE', appliances=[Appliance(type='air conditioner', instance=2)])'\n",
      "Loading data for meter ElecMeterID(instance=2, building=1, dataset='iAWE')     \n",
      "Done loading data all meters for this chunk.\n",
      "Including vampire_power = 226.474975586 watts to model...\n",
      "Estimating power demand for 'ElecMeter(instance=3, building=1, dataset='iAWE', appliances=[Appliance(type='fridge', instance=1)])'\n",
      "Estimating power demand for 'ElecMeter(instance=4, building=1, dataset='iAWE', appliances=[Appliance(type='air conditioner', instance=1)])'\n",
      "Estimating power demand for 'ElecMeter(instance=7, building=1, dataset='iAWE', appliances=[Appliance(type='computer', instance=1)])'\n",
      "Estimating power demand for 'ElecMeter(instance=5, building=1, dataset='iAWE', appliances=[Appliance(type='air conditioner', instance=2)])'\n",
      "Loading data for meter ElecMeterID(instance=2, building=1, dataset='iAWE')     \n",
      "Done loading data all meters for this chunk.\n",
      "Loading data for meter ElecMeterID(instance=2, building=1, dataset='iAWE')     \n",
      "Done loading data all meters for this chunk.\n",
      "Loading data for meter ElecMeterID(instance=2, building=1, dataset='iAWE')     \n",
      "Done loading data all meters for this chunk.\n",
      "Loading data for meter ElecMeterID(instance=2, building=1, dataset='iAWE')     \n",
      "Done loading data all meters for this chunk.\n",
      "Including vampire_power = 190.332229614 watts to model...\n",
      "Estimating power demand for 'ElecMeter(instance=3, building=1, dataset='iAWE', appliances=[Appliance(type='fridge', instance=1)])'\n",
      "Estimating power demand for 'ElecMeter(instance=4, building=1, dataset='iAWE', appliances=[Appliance(type='air conditioner', instance=1)])'\n",
      "Estimating power demand for 'ElecMeter(instance=7, building=1, dataset='iAWE', appliances=[Appliance(type='computer', instance=1)])'\n",
      "Estimating power demand for 'ElecMeter(instance=5, building=1, dataset='iAWE', appliances=[Appliance(type='air conditioner', instance=2)])'\n",
      "Loading data for meter ElecMeterID(instance=2, building=1, dataset='iAWE')     \n",
      "Done loading data all meters for this chunk.\n",
      "Including vampire_power = 131.888397217 watts to model...\n",
      "Estimating power demand for 'ElecMeter(instance=3, building=1, dataset='iAWE', appliances=[Appliance(type='fridge', instance=1)])'\n",
      "Estimating power demand for 'ElecMeter(instance=4, building=1, dataset='iAWE', appliances=[Appliance(type='air conditioner', instance=1)])'\n",
      "Estimating power demand for 'ElecMeter(instance=7, building=1, dataset='iAWE', appliances=[Appliance(type='computer', instance=1)])'\n",
      "Estimating power demand for 'ElecMeter(instance=5, building=1, dataset='iAWE', appliances=[Appliance(type='air conditioner', instance=2)])'\n",
      "Loading data for meter ElecMeterID(instance=2, building=1, dataset='iAWE')     \n",
      "Done loading data all meters for this chunk.\n",
      "Loading data for meter ElecMeterID(instance=2, building=1, dataset='iAWE')     \n",
      "Done loading data all meters for this chunk.\n",
      "Including vampire_power = 175.588180542 watts to model...\n",
      "Estimating power demand for 'ElecMeter(instance=3, building=1, dataset='iAWE', appliances=[Appliance(type='fridge', instance=1)])'\n",
      "Estimating power demand for 'ElecMeter(instance=4, building=1, dataset='iAWE', appliances=[Appliance(type='air conditioner', instance=1)])'\n",
      "Estimating power demand for 'ElecMeter(instance=7, building=1, dataset='iAWE', appliances=[Appliance(type='computer', instance=1)])'\n",
      "Estimating power demand for 'ElecMeter(instance=5, building=1, dataset='iAWE', appliances=[Appliance(type='air conditioner', instance=2)])'\n",
      "Loading data for meter ElecMeterID(instance=2, building=1, dataset='iAWE')     \n",
      "Done loading data all meters for this chunk.\n",
      "Loading data for meter ElecMeterID(instance=2, building=1, dataset='iAWE')     \n",
      "Done loading data all meters for this chunk.\n",
      "Loading data for meter ElecMeterID(instance=2, building=1, dataset='iAWE')     \n",
      "Done loading data all meters for this chunk.\n",
      "Including vampire_power = 136.064804077 watts to model...\n",
      "Estimating power demand for 'ElecMeter(instance=3, building=1, dataset='iAWE', appliances=[Appliance(type='fridge', instance=1)])'\n",
      "Estimating power demand for 'ElecMeter(instance=4, building=1, dataset='iAWE', appliances=[Appliance(type='air conditioner', instance=1)])'\n",
      "Estimating power demand for 'ElecMeter(instance=7, building=1, dataset='iAWE', appliances=[Appliance(type='computer', instance=1)])'\n",
      "Estimating power demand for 'ElecMeter(instance=5, building=1, dataset='iAWE', appliances=[Appliance(type='air conditioner', instance=2)])'\n",
      "Loading data for meter ElecMeterID(instance=2, building=1, dataset='iAWE')     \n",
      "Done loading data all meters for this chunk.\n",
      "Including vampire_power = 303.771911621 watts to model...\n",
      "Estimating power demand for 'ElecMeter(instance=3, building=1, dataset='iAWE', appliances=[Appliance(type='fridge', instance=1)])'\n",
      "Estimating power demand for 'ElecMeter(instance=4, building=1, dataset='iAWE', appliances=[Appliance(type='air conditioner', instance=1)])'\n",
      "Estimating power demand for 'ElecMeter(instance=7, building=1, dataset='iAWE', appliances=[Appliance(type='computer', instance=1)])'\n",
      "Estimating power demand for 'ElecMeter(instance=5, building=1, dataset='iAWE', appliances=[Appliance(type='air conditioner', instance=2)])'\n",
      "Loading data for meter ElecMeterID(instance=2, building=1, dataset='iAWE')     \n",
      "Done loading data all meters for this chunk.\n",
      "Including vampire_power = 139.530975342 watts to model...\n",
      "Estimating power demand for 'ElecMeter(instance=3, building=1, dataset='iAWE', appliances=[Appliance(type='fridge', instance=1)])'\n",
      "Estimating power demand for 'ElecMeter(instance=4, building=1, dataset='iAWE', appliances=[Appliance(type='air conditioner', instance=1)])'\n",
      "Estimating power demand for 'ElecMeter(instance=7, building=1, dataset='iAWE', appliances=[Appliance(type='computer', instance=1)])'\n",
      "Estimating power demand for 'ElecMeter(instance=5, building=1, dataset='iAWE', appliances=[Appliance(type='air conditioner', instance=2)])'\n",
      "Loading data for meter ElecMeterID(instance=2, building=1, dataset='iAWE')     \n",
      "Done loading data all meters for this chunk.\n",
      "Including vampire_power = 650.687316895 watts to model...\n",
      "Estimating power demand for 'ElecMeter(instance=3, building=1, dataset='iAWE', appliances=[Appliance(type='fridge', instance=1)])'\n",
      "Estimating power demand for 'ElecMeter(instance=4, building=1, dataset='iAWE', appliances=[Appliance(type='air conditioner', instance=1)])'\n",
      "Estimating power demand for 'ElecMeter(instance=7, building=1, dataset='iAWE', appliances=[Appliance(type='computer', instance=1)])'\n",
      "Estimating power demand for 'ElecMeter(instance=5, building=1, dataset='iAWE', appliances=[Appliance(type='air conditioner', instance=2)])'\n",
      "Loading data for meter ElecMeterID(instance=2, building=1, dataset='iAWE')     \n",
      "Done loading data all meters for this chunk.\n",
      "Including vampire_power = 118.342536926 watts to model...\n",
      "Estimating power demand for 'ElecMeter(instance=3, building=1, dataset='iAWE', appliances=[Appliance(type='fridge', instance=1)])'\n",
      "Estimating power demand for 'ElecMeter(instance=4, building=1, dataset='iAWE', appliances=[Appliance(type='air conditioner', instance=1)])'\n",
      "Estimating power demand for 'ElecMeter(instance=7, building=1, dataset='iAWE', appliances=[Appliance(type='computer', instance=1)])'\n",
      "Estimating power demand for 'ElecMeter(instance=5, building=1, dataset='iAWE', appliances=[Appliance(type='air conditioner', instance=2)])'\n",
      "Loading data for meter ElecMeterID(instance=2, building=1, dataset='iAWE')     \n",
      "Done loading data all meters for this chunk.\n",
      "Including vampire_power = 336.647460938 watts to model...\n",
      "Estimating power demand for 'ElecMeter(instance=3, building=1, dataset='iAWE', appliances=[Appliance(type='fridge', instance=1)])'\n",
      "Estimating power demand for 'ElecMeter(instance=4, building=1, dataset='iAWE', appliances=[Appliance(type='air conditioner', instance=1)])'\n",
      "Estimating power demand for 'ElecMeter(instance=7, building=1, dataset='iAWE', appliances=[Appliance(type='computer', instance=1)])'\n",
      "Estimating power demand for 'ElecMeter(instance=5, building=1, dataset='iAWE', appliances=[Appliance(type='air conditioner', instance=2)])'\n",
      "Loading data for meter ElecMeterID(instance=2, building=1, dataset='iAWE')     \n",
      "Done loading data all meters for this chunk.\n",
      "Including vampire_power = 280.981628418 watts to model...\n",
      "Estimating power demand for 'ElecMeter(instance=3, building=1, dataset='iAWE', appliances=[Appliance(type='fridge', instance=1)])'\n",
      "Estimating power demand for 'ElecMeter(instance=4, building=1, dataset='iAWE', appliances=[Appliance(type='air conditioner', instance=1)])'\n",
      "Estimating power demand for 'ElecMeter(instance=7, building=1, dataset='iAWE', appliances=[Appliance(type='computer', instance=1)])'\n",
      "Estimating power demand for 'ElecMeter(instance=5, building=1, dataset='iAWE', appliances=[Appliance(type='air conditioner', instance=2)])'\n",
      "Loading data for meter ElecMeterID(instance=2, building=1, dataset='iAWE')     \n",
      "Done loading data all meters for this chunk.\n",
      "Loading data for meter ElecMeterID(instance=2, building=1, dataset='iAWE')     \n",
      "Done loading data all meters for this chunk.\n",
      "Including vampire_power = 137.934997559 watts to model...\n",
      "Estimating power demand for 'ElecMeter(instance=3, building=1, dataset='iAWE', appliances=[Appliance(type='fridge', instance=1)])'\n",
      "Estimating power demand for 'ElecMeter(instance=4, building=1, dataset='iAWE', appliances=[Appliance(type='air conditioner', instance=1)])'\n",
      "Estimating power demand for 'ElecMeter(instance=7, building=1, dataset='iAWE', appliances=[Appliance(type='computer', instance=1)])'\n",
      "Estimating power demand for 'ElecMeter(instance=5, building=1, dataset='iAWE', appliances=[Appliance(type='air conditioner', instance=2)])'\n",
      "Loading data for meter ElecMeterID(instance=2, building=1, dataset='iAWE')     \n",
      "Done loading data all meters for this chunk.\n",
      "Loading data for meter ElecMeterID(instance=2, building=1, dataset='iAWE')     \n",
      "Done loading data all meters for this chunk.\n",
      "Loading data for meter ElecMeterID(instance=2, building=1, dataset='iAWE')     \n",
      "Done loading data all meters for this chunk.\n",
      "Including vampire_power = 275.165466309 watts to model...\n",
      "Estimating power demand for 'ElecMeter(instance=3, building=1, dataset='iAWE', appliances=[Appliance(type='fridge', instance=1)])'\n",
      "Estimating power demand for 'ElecMeter(instance=4, building=1, dataset='iAWE', appliances=[Appliance(type='air conditioner', instance=1)])'\n",
      "Estimating power demand for 'ElecMeter(instance=7, building=1, dataset='iAWE', appliances=[Appliance(type='computer', instance=1)])'\n",
      "Estimating power demand for 'ElecMeter(instance=5, building=1, dataset='iAWE', appliances=[Appliance(type='air conditioner', instance=2)])'\n",
      "Loading data for meter ElecMeterID(instance=2, building=1, dataset='iAWE')     \n",
      "Done loading data all meters for this chunk.\n",
      "Loading data for meter ElecMeterID(instance=2, building=1, dataset='iAWE')     \n",
      "Done loading data all meters for this chunk.\n",
      "Including vampire_power = 223.811309814 watts to model...\n",
      "Estimating power demand for 'ElecMeter(instance=3, building=1, dataset='iAWE', appliances=[Appliance(type='fridge', instance=1)])'\n",
      "Estimating power demand for 'ElecMeter(instance=4, building=1, dataset='iAWE', appliances=[Appliance(type='air conditioner', instance=1)])'\n",
      "Estimating power demand for 'ElecMeter(instance=7, building=1, dataset='iAWE', appliances=[Appliance(type='computer', instance=1)])'\n",
      "Estimating power demand for 'ElecMeter(instance=5, building=1, dataset='iAWE', appliances=[Appliance(type='air conditioner', instance=2)])'\n",
      "Loading data for meter ElecMeterID(instance=2, building=1, dataset='iAWE')     \n",
      "Done loading data all meters for this chunk.\n",
      "Loading data for meter ElecMeterID(instance=2, building=1, dataset='iAWE')     \n",
      "Done loading data all meters for this chunk.\n",
      "Including vampire_power = 143.303817749 watts to model...\n",
      "Estimating power demand for 'ElecMeter(instance=3, building=1, dataset='iAWE', appliances=[Appliance(type='fridge', instance=1)])'\n",
      "Estimating power demand for 'ElecMeter(instance=4, building=1, dataset='iAWE', appliances=[Appliance(type='air conditioner', instance=1)])'\n",
      "Estimating power demand for 'ElecMeter(instance=7, building=1, dataset='iAWE', appliances=[Appliance(type='computer', instance=1)])'\n",
      "Estimating power demand for 'ElecMeter(instance=5, building=1, dataset='iAWE', appliances=[Appliance(type='air conditioner', instance=2)])'\n",
      "Loading data for meter ElecMeterID(instance=2, building=1, dataset='iAWE')     \n",
      "Done loading data all meters for this chunk.\n",
      "Loading data for meter ElecMeterID(instance=2, building=1, dataset='iAWE')     \n",
      "Done loading data all meters for this chunk.\n",
      "Including vampire_power = 346.137512207 watts to model...\n",
      "Estimating power demand for 'ElecMeter(instance=3, building=1, dataset='iAWE', appliances=[Appliance(type='fridge', instance=1)])'\n",
      "Estimating power demand for 'ElecMeter(instance=4, building=1, dataset='iAWE', appliances=[Appliance(type='air conditioner', instance=1)])'\n",
      "Estimating power demand for 'ElecMeter(instance=7, building=1, dataset='iAWE', appliances=[Appliance(type='computer', instance=1)])'\n",
      "Estimating power demand for 'ElecMeter(instance=5, building=1, dataset='iAWE', appliances=[Appliance(type='air conditioner', instance=2)])'\n",
      "Loading data for meter ElecMeterID(instance=2, building=1, dataset='iAWE')     \n",
      "Done loading data all meters for this chunk.\n",
      "Including vampire_power = 184.931304932 watts to model...\n",
      "Estimating power demand for 'ElecMeter(instance=3, building=1, dataset='iAWE', appliances=[Appliance(type='fridge', instance=1)])'\n",
      "Estimating power demand for 'ElecMeter(instance=4, building=1, dataset='iAWE', appliances=[Appliance(type='air conditioner', instance=1)])'\n",
      "Estimating power demand for 'ElecMeter(instance=7, building=1, dataset='iAWE', appliances=[Appliance(type='computer', instance=1)])'\n",
      "Estimating power demand for 'ElecMeter(instance=5, building=1, dataset='iAWE', appliances=[Appliance(type='air conditioner', instance=2)])'\n",
      "Loading data for meter ElecMeterID(instance=2, building=1, dataset='iAWE')     \n",
      "Done loading data all meters for this chunk.\n",
      "Loading data for meter ElecMeterID(instance=2, building=1, dataset='iAWE')     \n",
      "Done loading data all meters for this chunk.\n",
      "Including vampire_power = 220.821517944 watts to model...\n",
      "Estimating power demand for 'ElecMeter(instance=3, building=1, dataset='iAWE', appliances=[Appliance(type='fridge', instance=1)])'\n",
      "Estimating power demand for 'ElecMeter(instance=4, building=1, dataset='iAWE', appliances=[Appliance(type='air conditioner', instance=1)])'\n",
      "Estimating power demand for 'ElecMeter(instance=7, building=1, dataset='iAWE', appliances=[Appliance(type='computer', instance=1)])'\n",
      "Estimating power demand for 'ElecMeter(instance=5, building=1, dataset='iAWE', appliances=[Appliance(type='air conditioner', instance=2)])'\n",
      "Loading data for meter ElecMeterID(instance=2, building=1, dataset='iAWE')     \n",
      "Done loading data all meters for this chunk.\n",
      "Including vampire_power = 201.378417969 watts to model...\n",
      "Estimating power demand for 'ElecMeter(instance=3, building=1, dataset='iAWE', appliances=[Appliance(type='fridge', instance=1)])'\n",
      "Estimating power demand for 'ElecMeter(instance=4, building=1, dataset='iAWE', appliances=[Appliance(type='air conditioner', instance=1)])'\n",
      "Estimating power demand for 'ElecMeter(instance=7, building=1, dataset='iAWE', appliances=[Appliance(type='computer', instance=1)])'\n",
      "Estimating power demand for 'ElecMeter(instance=5, building=1, dataset='iAWE', appliances=[Appliance(type='air conditioner', instance=2)])'\n",
      "Loading data for meter ElecMeterID(instance=2, building=1, dataset='iAWE')     \n",
      "Done loading data all meters for this chunk.\n",
      "Including vampire_power = 160.390853882 watts to model...\n",
      "Estimating power demand for 'ElecMeter(instance=3, building=1, dataset='iAWE', appliances=[Appliance(type='fridge', instance=1)])'\n",
      "Estimating power demand for 'ElecMeter(instance=4, building=1, dataset='iAWE', appliances=[Appliance(type='air conditioner', instance=1)])'\n",
      "Estimating power demand for 'ElecMeter(instance=7, building=1, dataset='iAWE', appliances=[Appliance(type='computer', instance=1)])'\n",
      "Estimating power demand for 'ElecMeter(instance=5, building=1, dataset='iAWE', appliances=[Appliance(type='air conditioner', instance=2)])'\n",
      "Loading data for meter ElecMeterID(instance=2, building=1, dataset='iAWE')     \n",
      "Done loading data all meters for this chunk.\n",
      "Including vampire_power = 112.957763672 watts to model...\n",
      "Estimating power demand for 'ElecMeter(instance=3, building=1, dataset='iAWE', appliances=[Appliance(type='fridge', instance=1)])'\n",
      "Estimating power demand for 'ElecMeter(instance=4, building=1, dataset='iAWE', appliances=[Appliance(type='air conditioner', instance=1)])'\n",
      "Estimating power demand for 'ElecMeter(instance=7, building=1, dataset='iAWE', appliances=[Appliance(type='computer', instance=1)])'\n",
      "Estimating power demand for 'ElecMeter(instance=5, building=1, dataset='iAWE', appliances=[Appliance(type='air conditioner', instance=2)])'\n",
      "Loading data for meter ElecMeterID(instance=2, building=1, dataset='iAWE')     \n",
      "Done loading data all meters for this chunk.\n",
      "Loading data for meter ElecMeterID(instance=2, building=1, dataset='iAWE')     \n",
      "Done loading data all meters for this chunk.\n",
      "Including vampire_power = 344.353790283 watts to model...\n",
      "Estimating power demand for 'ElecMeter(instance=3, building=1, dataset='iAWE', appliances=[Appliance(type='fridge', instance=1)])'\n",
      "Estimating power demand for 'ElecMeter(instance=4, building=1, dataset='iAWE', appliances=[Appliance(type='air conditioner', instance=1)])'\n",
      "Estimating power demand for 'ElecMeter(instance=7, building=1, dataset='iAWE', appliances=[Appliance(type='computer', instance=1)])'\n",
      "Estimating power demand for 'ElecMeter(instance=5, building=1, dataset='iAWE', appliances=[Appliance(type='air conditioner', instance=2)])'\n",
      "Loading data for meter ElecMeterID(instance=2, building=1, dataset='iAWE')     \n",
      "Done loading data all meters for this chunk.\n",
      "Including vampire_power = 110.405975342 watts to model...\n",
      "Estimating power demand for 'ElecMeter(instance=3, building=1, dataset='iAWE', appliances=[Appliance(type='fridge', instance=1)])'\n",
      "Estimating power demand for 'ElecMeter(instance=4, building=1, dataset='iAWE', appliances=[Appliance(type='air conditioner', instance=1)])'\n",
      "Estimating power demand for 'ElecMeter(instance=7, building=1, dataset='iAWE', appliances=[Appliance(type='computer', instance=1)])'\n",
      "Estimating power demand for 'ElecMeter(instance=5, building=1, dataset='iAWE', appliances=[Appliance(type='air conditioner', instance=2)])'\n",
      "Loading data for meter ElecMeterID(instance=2, building=1, dataset='iAWE')     \n",
      "Done loading data all meters for this chunk.\n",
      "Including vampire_power = 111.918106079 watts to model...\n",
      "Estimating power demand for 'ElecMeter(instance=3, building=1, dataset='iAWE', appliances=[Appliance(type='fridge', instance=1)])'\n",
      "Estimating power demand for 'ElecMeter(instance=4, building=1, dataset='iAWE', appliances=[Appliance(type='air conditioner', instance=1)])'\n",
      "Estimating power demand for 'ElecMeter(instance=7, building=1, dataset='iAWE', appliances=[Appliance(type='computer', instance=1)])'\n",
      "Estimating power demand for 'ElecMeter(instance=5, building=1, dataset='iAWE', appliances=[Appliance(type='air conditioner', instance=2)])'\n",
      "Loading data for meter ElecMeterID(instance=2, building=1, dataset='iAWE')     \n",
      "Done loading data all meters for this chunk.\n",
      "Loading data for meter ElecMeterID(instance=2, building=1, dataset='iAWE')     \n",
      "Done loading data all meters for this chunk.\n",
      "Loading data for meter ElecMeterID(instance=2, building=1, dataset='iAWE')     \n",
      "Done loading data all meters for this chunk.\n",
      "Including vampire_power = 112.527862549 watts to model...\n",
      "Estimating power demand for 'ElecMeter(instance=3, building=1, dataset='iAWE', appliances=[Appliance(type='fridge', instance=1)])'\n",
      "Estimating power demand for 'ElecMeter(instance=4, building=1, dataset='iAWE', appliances=[Appliance(type='air conditioner', instance=1)])'\n",
      "Estimating power demand for 'ElecMeter(instance=7, building=1, dataset='iAWE', appliances=[Appliance(type='computer', instance=1)])'\n",
      "Estimating power demand for 'ElecMeter(instance=5, building=1, dataset='iAWE', appliances=[Appliance(type='air conditioner', instance=2)])'\n",
      "Loading data for meter ElecMeterID(instance=2, building=1, dataset='iAWE')     \n",
      "Done loading data all meters for this chunk.\n",
      "Including vampire_power = 327.442016602 watts to model...\n",
      "Estimating power demand for 'ElecMeter(instance=3, building=1, dataset='iAWE', appliances=[Appliance(type='fridge', instance=1)])'\n",
      "Estimating power demand for 'ElecMeter(instance=4, building=1, dataset='iAWE', appliances=[Appliance(type='air conditioner', instance=1)])'\n",
      "Estimating power demand for 'ElecMeter(instance=7, building=1, dataset='iAWE', appliances=[Appliance(type='computer', instance=1)])'\n",
      "Estimating power demand for 'ElecMeter(instance=5, building=1, dataset='iAWE', appliances=[Appliance(type='air conditioner', instance=2)])'\n",
      "Loading data for meter ElecMeterID(instance=2, building=1, dataset='iAWE')     \n",
      "Done loading data all meters for this chunk.\n",
      "Including vampire_power = 112.058082581 watts to model...\n",
      "Estimating power demand for 'ElecMeter(instance=3, building=1, dataset='iAWE', appliances=[Appliance(type='fridge', instance=1)])'\n",
      "Estimating power demand for 'ElecMeter(instance=4, building=1, dataset='iAWE', appliances=[Appliance(type='air conditioner', instance=1)])'\n",
      "Estimating power demand for 'ElecMeter(instance=7, building=1, dataset='iAWE', appliances=[Appliance(type='computer', instance=1)])'\n",
      "Estimating power demand for 'ElecMeter(instance=5, building=1, dataset='iAWE', appliances=[Appliance(type='air conditioner', instance=2)])'\n",
      "Loading data for meter ElecMeterID(instance=2, building=1, dataset='iAWE')     \n",
      "Done loading data all meters for this chunk.\n",
      "Including vampire_power = 104.31010437 watts to model...\n",
      "Estimating power demand for 'ElecMeter(instance=3, building=1, dataset='iAWE', appliances=[Appliance(type='fridge', instance=1)])'\n",
      "Estimating power demand for 'ElecMeter(instance=4, building=1, dataset='iAWE', appliances=[Appliance(type='air conditioner', instance=1)])'\n",
      "Estimating power demand for 'ElecMeter(instance=7, building=1, dataset='iAWE', appliances=[Appliance(type='computer', instance=1)])'\n",
      "Estimating power demand for 'ElecMeter(instance=5, building=1, dataset='iAWE', appliances=[Appliance(type='air conditioner', instance=2)])'\n",
      "Loading data for meter ElecMeterID(instance=2, building=1, dataset='iAWE')     \n",
      "Done loading data all meters for this chunk.\n",
      "Including vampire_power = 103.947402954 watts to model...\n",
      "Estimating power demand for 'ElecMeter(instance=3, building=1, dataset='iAWE', appliances=[Appliance(type='fridge', instance=1)])'\n",
      "Estimating power demand for 'ElecMeter(instance=4, building=1, dataset='iAWE', appliances=[Appliance(type='air conditioner', instance=1)])'\n",
      "Estimating power demand for 'ElecMeter(instance=7, building=1, dataset='iAWE', appliances=[Appliance(type='computer', instance=1)])'\n",
      "Estimating power demand for 'ElecMeter(instance=5, building=1, dataset='iAWE', appliances=[Appliance(type='air conditioner', instance=2)])'\n",
      "Loading data for meter ElecMeterID(instance=2, building=1, dataset='iAWE')     \n",
      "Done loading data all meters for this chunk.\n",
      "Loading data for meter ElecMeterID(instance=2, building=1, dataset='iAWE')     \n",
      "Done loading data all meters for this chunk.\n",
      "Including vampire_power = 121.272262573 watts to model...\n",
      "Estimating power demand for 'ElecMeter(instance=3, building=1, dataset='iAWE', appliances=[Appliance(type='fridge', instance=1)])'\n",
      "Estimating power demand for 'ElecMeter(instance=4, building=1, dataset='iAWE', appliances=[Appliance(type='air conditioner', instance=1)])'\n",
      "Estimating power demand for 'ElecMeter(instance=7, building=1, dataset='iAWE', appliances=[Appliance(type='computer', instance=1)])'\n",
      "Estimating power demand for 'ElecMeter(instance=5, building=1, dataset='iAWE', appliances=[Appliance(type='air conditioner', instance=2)])'\n",
      "Loading data for meter ElecMeterID(instance=2, building=1, dataset='iAWE')     \n",
      "Done loading data all meters for this chunk.\n",
      "Including vampire_power = 112.367477417 watts to model...\n",
      "Estimating power demand for 'ElecMeter(instance=3, building=1, dataset='iAWE', appliances=[Appliance(type='fridge', instance=1)])'\n",
      "Estimating power demand for 'ElecMeter(instance=4, building=1, dataset='iAWE', appliances=[Appliance(type='air conditioner', instance=1)])'\n",
      "Estimating power demand for 'ElecMeter(instance=7, building=1, dataset='iAWE', appliances=[Appliance(type='computer', instance=1)])'\n",
      "Estimating power demand for 'ElecMeter(instance=5, building=1, dataset='iAWE', appliances=[Appliance(type='air conditioner', instance=2)])'\n",
      "Loading data for meter ElecMeterID(instance=2, building=1, dataset='iAWE')     \n",
      "Done loading data all meters for this chunk.\n",
      "Including vampire_power = 153.28578186 watts to model...\n",
      "Estimating power demand for 'ElecMeter(instance=3, building=1, dataset='iAWE', appliances=[Appliance(type='fridge', instance=1)])'\n",
      "Estimating power demand for 'ElecMeter(instance=4, building=1, dataset='iAWE', appliances=[Appliance(type='air conditioner', instance=1)])'\n",
      "Estimating power demand for 'ElecMeter(instance=7, building=1, dataset='iAWE', appliances=[Appliance(type='computer', instance=1)])'\n",
      "Estimating power demand for 'ElecMeter(instance=5, building=1, dataset='iAWE', appliances=[Appliance(type='air conditioner', instance=2)])'\n",
      "Loading data for meter ElecMeterID(instance=2, building=1, dataset='iAWE')     \n",
      "Done loading data all meters for this chunk.\n",
      "Including vampire_power = 322.839630127 watts to model...\n",
      "Estimating power demand for 'ElecMeter(instance=3, building=1, dataset='iAWE', appliances=[Appliance(type='fridge', instance=1)])'\n",
      "Estimating power demand for 'ElecMeter(instance=4, building=1, dataset='iAWE', appliances=[Appliance(type='air conditioner', instance=1)])'\n",
      "Estimating power demand for 'ElecMeter(instance=7, building=1, dataset='iAWE', appliances=[Appliance(type='computer', instance=1)])'\n",
      "Estimating power demand for 'ElecMeter(instance=5, building=1, dataset='iAWE', appliances=[Appliance(type='air conditioner', instance=2)])'\n",
      "Loading data for meter ElecMeterID(instance=2, building=1, dataset='iAWE')     \n",
      "Done loading data all meters for this chunk.\n",
      "Loading data for meter ElecMeterID(instance=2, building=1, dataset='iAWE')     \n",
      "Done loading data all meters for this chunk.\n",
      "Including vampire_power = 190.726196289 watts to model...\n",
      "Estimating power demand for 'ElecMeter(instance=3, building=1, dataset='iAWE', appliances=[Appliance(type='fridge', instance=1)])'\n",
      "Estimating power demand for 'ElecMeter(instance=4, building=1, dataset='iAWE', appliances=[Appliance(type='air conditioner', instance=1)])'\n",
      "Estimating power demand for 'ElecMeter(instance=7, building=1, dataset='iAWE', appliances=[Appliance(type='computer', instance=1)])'\n",
      "Estimating power demand for 'ElecMeter(instance=5, building=1, dataset='iAWE', appliances=[Appliance(type='air conditioner', instance=2)])'\n",
      "Loading data for meter ElecMeterID(instance=2, building=1, dataset='iAWE')     \n",
      "Done loading data all meters for this chunk.\n",
      "Including vampire_power = 114.471725464 watts to model...\n",
      "Estimating power demand for 'ElecMeter(instance=3, building=1, dataset='iAWE', appliances=[Appliance(type='fridge', instance=1)])'\n",
      "Estimating power demand for 'ElecMeter(instance=4, building=1, dataset='iAWE', appliances=[Appliance(type='air conditioner', instance=1)])'\n",
      "Estimating power demand for 'ElecMeter(instance=7, building=1, dataset='iAWE', appliances=[Appliance(type='computer', instance=1)])'\n",
      "Estimating power demand for 'ElecMeter(instance=5, building=1, dataset='iAWE', appliances=[Appliance(type='air conditioner', instance=2)])'\n",
      "Loading data for meter ElecMeterID(instance=2, building=1, dataset='iAWE')     \n",
      "Done loading data all meters for this chunk.\n",
      "Including vampire_power = 381.97177124 watts to model...\n",
      "Estimating power demand for 'ElecMeter(instance=3, building=1, dataset='iAWE', appliances=[Appliance(type='fridge', instance=1)])'\n",
      "Estimating power demand for 'ElecMeter(instance=4, building=1, dataset='iAWE', appliances=[Appliance(type='air conditioner', instance=1)])'\n",
      "Estimating power demand for 'ElecMeter(instance=7, building=1, dataset='iAWE', appliances=[Appliance(type='computer', instance=1)])'\n",
      "Estimating power demand for 'ElecMeter(instance=5, building=1, dataset='iAWE', appliances=[Appliance(type='air conditioner', instance=2)])'\n",
      "Loading data for meter ElecMeterID(instance=2, building=1, dataset='iAWE')     \n",
      "Done loading data all meters for this chunk.\n",
      "Including vampire_power = 202.371826172 watts to model...\n",
      "Estimating power demand for 'ElecMeter(instance=3, building=1, dataset='iAWE', appliances=[Appliance(type='fridge', instance=1)])'\n",
      "Estimating power demand for 'ElecMeter(instance=4, building=1, dataset='iAWE', appliances=[Appliance(type='air conditioner', instance=1)])'\n",
      "Estimating power demand for 'ElecMeter(instance=7, building=1, dataset='iAWE', appliances=[Appliance(type='computer', instance=1)])'\n",
      "Estimating power demand for 'ElecMeter(instance=5, building=1, dataset='iAWE', appliances=[Appliance(type='air conditioner', instance=2)])'\n",
      "Loading data for meter ElecMeterID(instance=2, building=1, dataset='iAWE')     \n",
      "Done loading data all meters for this chunk.\n",
      "Including vampire_power = 235.32371521 watts to model...\n",
      "Estimating power demand for 'ElecMeter(instance=3, building=1, dataset='iAWE', appliances=[Appliance(type='fridge', instance=1)])'\n",
      "Estimating power demand for 'ElecMeter(instance=4, building=1, dataset='iAWE', appliances=[Appliance(type='air conditioner', instance=1)])'\n",
      "Estimating power demand for 'ElecMeter(instance=7, building=1, dataset='iAWE', appliances=[Appliance(type='computer', instance=1)])'\n",
      "Estimating power demand for 'ElecMeter(instance=5, building=1, dataset='iAWE', appliances=[Appliance(type='air conditioner', instance=2)])'\n",
      "Loading data for meter ElecMeterID(instance=2, building=1, dataset='iAWE') "
     ]
    },
    {
     "ename": "ValueError",
     "evalue": "I/O operation on closed file",
     "output_type": "error",
     "traceback": [
      "\u001b[1;31m---------------------------------------------------------------------------\u001b[0m",
      "\u001b[1;31mValueError\u001b[0m                                Traceback (most recent call last)",
      "\u001b[1;32m<ipython-input-40-c3e77051f785>\u001b[0m in \u001b[0;36m<module>\u001b[1;34m()\u001b[0m\n\u001b[0;32m      1\u001b[0m \u001b[0mtest_mains\u001b[0m \u001b[1;33m=\u001b[0m \u001b[0mtest\u001b[0m\u001b[1;33m.\u001b[0m\u001b[0mbuildings\u001b[0m\u001b[1;33m[\u001b[0m\u001b[1;36m1\u001b[0m\u001b[1;33m]\u001b[0m\u001b[1;33m.\u001b[0m\u001b[0melec\u001b[0m\u001b[1;33m.\u001b[0m\u001b[0mmains\u001b[0m\u001b[1;33m(\u001b[0m\u001b[1;33m)\u001b[0m\u001b[1;33m\u001b[0m\u001b[0m\n\u001b[1;32m----> 2\u001b[1;33m \u001b[0mco\u001b[0m\u001b[1;33m.\u001b[0m\u001b[0mdisaggregate\u001b[0m\u001b[1;33m(\u001b[0m\u001b[0mtest_mains\u001b[0m\u001b[1;33m,\u001b[0m \u001b[0moutput\u001b[0m\u001b[1;33m)\u001b[0m\u001b[1;33m\u001b[0m\u001b[0m\n\u001b[0m",
      "\u001b[1;32m/nilmtk/nilmtk/disaggregate/combinatorial_optimisation.pyc\u001b[0m in \u001b[0;36mdisaggregate\u001b[1;34m(self, mains, output_datastore, vampire_power, **load_kwargs)\u001b[0m\n\u001b[0;32m    153\u001b[0m         \u001b[0mdata_is_available\u001b[0m \u001b[1;33m=\u001b[0m \u001b[0mFalse\u001b[0m\u001b[1;33m\u001b[0m\u001b[0m\n\u001b[0;32m    154\u001b[0m \u001b[1;33m\u001b[0m\u001b[0m\n\u001b[1;32m--> 155\u001b[1;33m         \u001b[1;32mfor\u001b[0m \u001b[0mchunk\u001b[0m \u001b[1;32min\u001b[0m \u001b[0mmains\u001b[0m\u001b[1;33m.\u001b[0m\u001b[0mpower_series\u001b[0m\u001b[1;33m(\u001b[0m\u001b[1;33m**\u001b[0m\u001b[0mload_kwargs\u001b[0m\u001b[1;33m)\u001b[0m\u001b[1;33m:\u001b[0m\u001b[1;33m\u001b[0m\u001b[0m\n\u001b[0m\u001b[0;32m    156\u001b[0m             \u001b[1;31m# Check that chunk is sensible size\u001b[0m\u001b[1;33m\u001b[0m\u001b[1;33m\u001b[0m\u001b[0m\n\u001b[0;32m    157\u001b[0m             \u001b[1;32mif\u001b[0m \u001b[0mlen\u001b[0m\u001b[1;33m(\u001b[0m\u001b[0mchunk\u001b[0m\u001b[1;33m)\u001b[0m \u001b[1;33m<\u001b[0m \u001b[0mself\u001b[0m\u001b[1;33m.\u001b[0m\u001b[0mMIN_CHUNK_LENGTH\u001b[0m\u001b[1;33m:\u001b[0m\u001b[1;33m\u001b[0m\u001b[0m\n",
      "\u001b[1;32m/nilmtk/nilmtk/electric.pyc\u001b[0m in \u001b[0;36mload_series\u001b[1;34m(self, **kwargs)\u001b[0m\n\u001b[0;32m    627\u001b[0m         \u001b[0mphysical_quantity\u001b[0m \u001b[1;33m=\u001b[0m \u001b[0mkwargs\u001b[0m\u001b[1;33m[\u001b[0m\u001b[1;34m'physical_quantity'\u001b[0m\u001b[1;33m]\u001b[0m\u001b[1;33m\u001b[0m\u001b[0m\n\u001b[0;32m    628\u001b[0m         \u001b[0mgenerator\u001b[0m \u001b[1;33m=\u001b[0m \u001b[0mself\u001b[0m\u001b[1;33m.\u001b[0m\u001b[0mload\u001b[0m\u001b[1;33m(\u001b[0m\u001b[1;33m**\u001b[0m\u001b[0mkwargs\u001b[0m\u001b[1;33m)\u001b[0m\u001b[1;33m\u001b[0m\u001b[0m\n\u001b[1;32m--> 629\u001b[1;33m         \u001b[1;32mfor\u001b[0m \u001b[0mchunk\u001b[0m \u001b[1;32min\u001b[0m \u001b[0mgenerator\u001b[0m\u001b[1;33m:\u001b[0m\u001b[1;33m\u001b[0m\u001b[0m\n\u001b[0m\u001b[0;32m    630\u001b[0m             \u001b[1;32mif\u001b[0m \u001b[0mchunk\u001b[0m\u001b[1;33m.\u001b[0m\u001b[0mempty\u001b[0m\u001b[1;33m:\u001b[0m\u001b[1;33m\u001b[0m\u001b[0m\n\u001b[0;32m    631\u001b[0m                 \u001b[1;32myield\u001b[0m \u001b[0mchunk\u001b[0m\u001b[1;33m\u001b[0m\u001b[0m\n",
      "\u001b[1;32m/nilmtk/nilmtk/metergroup.pyc\u001b[0m in \u001b[0;36mload\u001b[1;34m(self, **kwargs)\u001b[0m\n\u001b[0;32m    683\u001b[0m                 closed='left', freq=freq)\n\u001b[0;32m    684\u001b[0m             chunk = combine_chunks_from_generators(\n\u001b[1;32m--> 685\u001b[1;33m                 index, columns, self.meters, kwargs)\n\u001b[0m\u001b[0;32m    686\u001b[0m             \u001b[1;32myield\u001b[0m \u001b[0mchunk\u001b[0m\u001b[1;33m\u001b[0m\u001b[0m\n\u001b[0;32m    687\u001b[0m \u001b[1;33m\u001b[0m\u001b[0m\n",
      "\u001b[1;32m/nilmtk/nilmtk/metergroup.pyc\u001b[0m in \u001b[0;36mcombine_chunks_from_generators\u001b[1;34m(index, columns, meters, kwargs)\u001b[0m\n\u001b[0;32m   1731\u001b[0m     \u001b[1;31m# Go through each generator to try sum values together\u001b[0m\u001b[1;33m\u001b[0m\u001b[1;33m\u001b[0m\u001b[0m\n\u001b[0;32m   1732\u001b[0m     \u001b[1;32mfor\u001b[0m \u001b[0mmeter\u001b[0m \u001b[1;32min\u001b[0m \u001b[0mmeters\u001b[0m\u001b[1;33m:\u001b[0m\u001b[1;33m\u001b[0m\u001b[0m\n\u001b[1;32m-> 1733\u001b[1;33m         \u001b[0mprint_on_line\u001b[0m\u001b[1;33m(\u001b[0m\u001b[1;34m\"\\rLoading data for meter\"\u001b[0m\u001b[1;33m,\u001b[0m \u001b[0mmeter\u001b[0m\u001b[1;33m.\u001b[0m\u001b[0midentifier\u001b[0m\u001b[1;33m,\u001b[0m \u001b[1;34m\"    \"\u001b[0m\u001b[1;33m)\u001b[0m\u001b[1;33m\u001b[0m\u001b[0m\n\u001b[0m\u001b[0;32m   1734\u001b[0m         \u001b[0mkwargs_copy\u001b[0m \u001b[1;33m=\u001b[0m \u001b[0mdeepcopy\u001b[0m\u001b[1;33m(\u001b[0m\u001b[0mkwargs\u001b[0m\u001b[1;33m)\u001b[0m\u001b[1;33m\u001b[0m\u001b[0m\n\u001b[0;32m   1735\u001b[0m         \u001b[0mgenerator\u001b[0m \u001b[1;33m=\u001b[0m \u001b[0mmeter\u001b[0m\u001b[1;33m.\u001b[0m\u001b[0mload\u001b[0m\u001b[1;33m(\u001b[0m\u001b[1;33m**\u001b[0m\u001b[0mkwargs_copy\u001b[0m\u001b[1;33m)\u001b[0m\u001b[1;33m\u001b[0m\u001b[0m\n",
      "\u001b[1;32m/nilmtk/nilmtk/utils.pyc\u001b[0m in \u001b[0;36mprint_on_line\u001b[1;34m(*strings)\u001b[0m\n\u001b[0;32m    334\u001b[0m \u001b[1;33m\u001b[0m\u001b[0m\n\u001b[0;32m    335\u001b[0m \u001b[1;32mdef\u001b[0m \u001b[0mprint_on_line\u001b[0m\u001b[1;33m(\u001b[0m\u001b[1;33m*\u001b[0m\u001b[0mstrings\u001b[0m\u001b[1;33m)\u001b[0m\u001b[1;33m:\u001b[0m\u001b[1;33m\u001b[0m\u001b[0m\n\u001b[1;32m--> 336\u001b[1;33m     \u001b[1;32mprint\u001b[0m\u001b[1;33m(\u001b[0m\u001b[1;33m*\u001b[0m\u001b[0mstrings\u001b[0m\u001b[1;33m,\u001b[0m \u001b[0mend\u001b[0m\u001b[1;33m=\u001b[0m\u001b[1;34m\"\"\u001b[0m\u001b[1;33m)\u001b[0m\u001b[1;33m\u001b[0m\u001b[0m\n\u001b[0m\u001b[0;32m    337\u001b[0m     \u001b[0mstdout\u001b[0m\u001b[1;33m.\u001b[0m\u001b[0mflush\u001b[0m\u001b[1;33m(\u001b[0m\u001b[1;33m)\u001b[0m\u001b[1;33m\u001b[0m\u001b[0m\n\u001b[0;32m    338\u001b[0m \u001b[1;33m\u001b[0m\u001b[0m\n",
      "\u001b[1;32m/opt/conda/lib/python2.7/site-packages/ipykernel/iostream.pyc\u001b[0m in \u001b[0;36mwrite\u001b[1;34m(self, string)\u001b[0m\n\u001b[0;32m    315\u001b[0m \u001b[1;33m\u001b[0m\u001b[0m\n\u001b[0;32m    316\u001b[0m             \u001b[0mis_child\u001b[0m \u001b[1;33m=\u001b[0m \u001b[1;33m(\u001b[0m\u001b[1;32mnot\u001b[0m \u001b[0mself\u001b[0m\u001b[1;33m.\u001b[0m\u001b[0m_is_master_process\u001b[0m\u001b[1;33m(\u001b[0m\u001b[1;33m)\u001b[0m\u001b[1;33m)\u001b[0m\u001b[1;33m\u001b[0m\u001b[0m\n\u001b[1;32m--> 317\u001b[1;33m             \u001b[0mself\u001b[0m\u001b[1;33m.\u001b[0m\u001b[0m_buffer\u001b[0m\u001b[1;33m.\u001b[0m\u001b[0mwrite\u001b[0m\u001b[1;33m(\u001b[0m\u001b[0mstring\u001b[0m\u001b[1;33m)\u001b[0m\u001b[1;33m\u001b[0m\u001b[0m\n\u001b[0m\u001b[0;32m    318\u001b[0m             \u001b[1;32mif\u001b[0m \u001b[0mis_child\u001b[0m\u001b[1;33m:\u001b[0m\u001b[1;33m\u001b[0m\u001b[0m\n\u001b[0;32m    319\u001b[0m                 \u001b[1;31m# newlines imply flush in subprocesses\u001b[0m\u001b[1;33m\u001b[0m\u001b[1;33m\u001b[0m\u001b[0m\n",
      "\u001b[1;31mValueError\u001b[0m: I/O operation on closed file"
     ]
    }
   ],
   "source": [
    "test_mains = test.buildings[1].elec.mains()\n",
    "co.disaggregate(test_mains, output)"
   ]
  },
  {
   "cell_type": "code",
   "execution_count": 41,
   "metadata": {
    "collapsed": false
   },
   "outputs": [
    {
     "data": {
      "text/plain": [
       "['/building1/elec/meter1',\n",
       " '/building1/elec/meter3',\n",
       " '/building1/elec/meter4',\n",
       " '/building1/elec/meter5',\n",
       " '/building1/elec/meter7']"
      ]
     },
     "execution_count": 41,
     "metadata": {},
     "output_type": "execute_result"
    }
   ],
   "source": [
    "output.store.keys()"
   ]
  },
  {
   "cell_type": "code",
   "execution_count": 42,
   "metadata": {
    "collapsed": true
   },
   "outputs": [],
   "source": [
    "get_ipython().magic(u'matplotlib inline')"
   ]
  },
  {
   "cell_type": "code",
   "execution_count": 60,
   "metadata": {
    "collapsed": false
   },
   "outputs": [
    {
     "data": {
      "text/plain": [
       "<matplotlib.legend.Legend at 0x7f3d3011de50>"
      ]
     },
     "execution_count": 60,
     "metadata": {},
     "output_type": "execute_result"
    },
    {
     "data": {
      "image/png": "[encoded data removed]",
      "text/plain": [
       "<matplotlib.figure.Figure at 0x7f3d3005a1d0>"
      ]
     },
     "metadata": {},
     "output_type": "display_data"
    }
   ],
   "source": [
    "fig, ax = plt.subplots(nrows=2, sharex=True)\n",
    "output.store['/building1/elec/meter1'][:'Jul 4 2013'].plot(label='Predicted', ax=ax[0])\n",
    "train.buildings[1].elec['fridge'].power_series_all_data()[:'Jul 4 2013'].plot(ax=ax[1])\n",
    "plt.legend()\n"
   ]
  },
  {
   "cell_type": "code",
   "execution_count": 61,
   "metadata": {
    "collapsed": false
   },
   "outputs": [
    {
     "ename": "KeyError",
     "evalue": "'No object named fridge in the file'",
     "output_type": "error",
     "traceback": [
      "\u001b[1;31m---------------------------------------------------------------------------\u001b[0m",
      "\u001b[1;31mKeyError\u001b[0m                                  Traceback (most recent call last)",
      "\u001b[1;32m<ipython-input-61-2aad1e896a87>\u001b[0m in \u001b[0;36m<module>\u001b[1;34m()\u001b[0m\n\u001b[1;32m----> 1\u001b[1;33m \u001b[0moutput\u001b[0m\u001b[1;33m.\u001b[0m\u001b[0mstore\u001b[0m\u001b[1;33m[\u001b[0m\u001b[1;34m'fridge'\u001b[0m\u001b[1;33m]\u001b[0m\u001b[1;33m\u001b[0m\u001b[0m\n\u001b[0m",
      "\u001b[1;32m/opt/conda/lib/python2.7/site-packages/pandas/io/pytables.pyc\u001b[0m in \u001b[0;36m__getitem__\u001b[1;34m(self, key)\u001b[0m\n\u001b[0;32m    416\u001b[0m \u001b[1;33m\u001b[0m\u001b[0m\n\u001b[0;32m    417\u001b[0m     \u001b[1;32mdef\u001b[0m \u001b[0m__getitem__\u001b[0m\u001b[1;33m(\u001b[0m\u001b[0mself\u001b[0m\u001b[1;33m,\u001b[0m \u001b[0mkey\u001b[0m\u001b[1;33m)\u001b[0m\u001b[1;33m:\u001b[0m\u001b[1;33m\u001b[0m\u001b[0m\n\u001b[1;32m--> 418\u001b[1;33m         \u001b[1;32mreturn\u001b[0m \u001b[0mself\u001b[0m\u001b[1;33m.\u001b[0m\u001b[0mget\u001b[0m\u001b[1;33m(\u001b[0m\u001b[0mkey\u001b[0m\u001b[1;33m)\u001b[0m\u001b[1;33m\u001b[0m\u001b[0m\n\u001b[0m\u001b[0;32m    419\u001b[0m \u001b[1;33m\u001b[0m\u001b[0m\n\u001b[0;32m    420\u001b[0m     \u001b[1;32mdef\u001b[0m \u001b[0m__setitem__\u001b[0m\u001b[1;33m(\u001b[0m\u001b[0mself\u001b[0m\u001b[1;33m,\u001b[0m \u001b[0mkey\u001b[0m\u001b[1;33m,\u001b[0m \u001b[0mvalue\u001b[0m\u001b[1;33m)\u001b[0m\u001b[1;33m:\u001b[0m\u001b[1;33m\u001b[0m\u001b[0m\n",
      "\u001b[1;32m/opt/conda/lib/python2.7/site-packages/pandas/io/pytables.pyc\u001b[0m in \u001b[0;36mget\u001b[1;34m(self, key)\u001b[0m\n\u001b[0;32m    625\u001b[0m         \u001b[0mgroup\u001b[0m \u001b[1;33m=\u001b[0m \u001b[0mself\u001b[0m\u001b[1;33m.\u001b[0m\u001b[0mget_node\u001b[0m\u001b[1;33m(\u001b[0m\u001b[0mkey\u001b[0m\u001b[1;33m)\u001b[0m\u001b[1;33m\u001b[0m\u001b[0m\n\u001b[0;32m    626\u001b[0m         \u001b[1;32mif\u001b[0m \u001b[0mgroup\u001b[0m \u001b[1;32mis\u001b[0m \u001b[0mNone\u001b[0m\u001b[1;33m:\u001b[0m\u001b[1;33m\u001b[0m\u001b[0m\n\u001b[1;32m--> 627\u001b[1;33m             \u001b[1;32mraise\u001b[0m \u001b[0mKeyError\u001b[0m\u001b[1;33m(\u001b[0m\u001b[1;34m'No object named %s in the file'\u001b[0m \u001b[1;33m%\u001b[0m \u001b[0mkey\u001b[0m\u001b[1;33m)\u001b[0m\u001b[1;33m\u001b[0m\u001b[0m\n\u001b[0m\u001b[0;32m    628\u001b[0m         \u001b[1;32mreturn\u001b[0m \u001b[0mself\u001b[0m\u001b[1;33m.\u001b[0m\u001b[0m_read_group\u001b[0m\u001b[1;33m(\u001b[0m\u001b[0mgroup\u001b[0m\u001b[1;33m)\u001b[0m\u001b[1;33m\u001b[0m\u001b[0m\n\u001b[0;32m    629\u001b[0m \u001b[1;33m\u001b[0m\u001b[0m\n",
      "\u001b[1;31mKeyError\u001b[0m: 'No object named fridge in the file'"
     ]
    }
   ],
   "source": [
    "output.store['fridge']"
   ]
  },
  {
   "cell_type": "code",
   "execution_count": 62,
   "metadata": {
    "collapsed": false
   },
   "outputs": [
    {
     "name": "stdout",
     "output_type": "stream",
     "text": [
      "<class 'pandas.io.pytables.HDFStore'>\n",
      "File path: output3.h5\n",
      "/building1/elec/meter1            frame_table  (typ->appendable,nrows->53342,ncols->1,indexers->[index])\n",
      "/building1/elec/meter3            frame_table  (typ->appendable,nrows->53342,ncols->1,indexers->[index])\n",
      "/building1/elec/meter4            frame_table  (typ->appendable,nrows->53342,ncols->1,indexers->[index])\n",
      "/building1/elec/meter5            frame_table  (typ->appendable,nrows->53342,ncols->1,indexers->[index])\n",
      "/building1/elec/meter7            frame_table  (typ->appendable,nrows->53342,ncols->1,indexers->[index])\n"
     ]
    }
   ],
   "source": [
    "print(output.store)"
   ]
  },
  {
   "cell_type": "code",
   "execution_count": null,
   "metadata": {
    "collapsed": true
   },
   "outputs": [],
   "source": []
  }
 ],
 "metadata": {
  "kernelspec": {
   "display_name": "Python 2",
   "language": "python",
   "name": "python2"
  },
  "language_info": {
   "codemirror_mode": {
    "name": "ipython",
    "version": 2
   },
   "file_extension": ".py",
   "mimetype": "text/x-python",
   "name": "python",
   "nbconvert_exporter": "python",
   "pygments_lexer": "ipython2",
   "version": "2.7.11"
  }
 },
 "nbformat": 4,
 "nbformat_minor": 0
}
